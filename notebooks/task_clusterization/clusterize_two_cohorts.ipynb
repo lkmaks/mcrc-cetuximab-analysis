{
 "cells": [
  {
   "metadata": {
    "ExecuteTime": {
     "end_time": "2025-05-12T08:21:42.736047Z",
     "start_time": "2025-05-12T08:21:42.728956Z"
    }
   },
   "cell_type": "code",
   "source": [
    "import os\n",
    "\n",
    "import pandas as pd\n",
    "from scipy import stats\n",
    "import matplotlib.pyplot as plt\n",
    "import seaborn as sns\n",
    "import numpy as np\n",
    "import gseapy as gp\n",
    "from notebooks.tasks58.plots import plot_correlations, all_negative, all_positive\n",
    "from notebooks.tasks58.scaling import median_scaling\n",
    "\n",
    "import os\n",
    "\n",
    "while os.getcwd()[-len('mcrc-cetuximab-analysis'):] != 'mcrc-cetuximab-analysis':\n",
    "    os.chdir('..')\n",
    "os.getcwd() "
   ],
   "id": "f35ee9eef8d03a63",
   "outputs": [
    {
     "data": {
      "text/plain": [
       "'/home/max/mcrc-cetuximab-analysis'"
      ]
     },
     "execution_count": 22,
     "metadata": {},
     "output_type": "execute_result"
    }
   ],
   "execution_count": 22
  },
  {
   "metadata": {
    "ExecuteTime": {
     "end_time": "2025-05-12T08:21:42.849572Z",
     "start_time": "2025-05-12T08:21:42.841890Z"
    }
   },
   "cell_type": "code",
   "source": [
    "def parse_bg_signatures():\n",
    "    file = open('raw/bg_gene_signatures.gmt', 'r')\n",
    "    res = dict()\n",
    "    for line in file.readlines():\n",
    "        lst = line.split('\\t')\n",
    "        res['SIGNATURE_' + lst[0]] = lst[2:]\n",
    "    return res\n",
    "\n",
    "def compute_ssgsea_on_signatures(log_tpm, signatures):\n",
    "    ssgsea_results = gp.ssgsea(data=log_tpm.T,\n",
    "                           gene_sets=signatures,\n",
    "                           outdir=None,\n",
    "                           sample_norm_method='rank',\n",
    "                           permutation_num=0,\n",
    "                           no_plot=True,\n",
    "                           min_size=0)\n",
    "\n",
    "    ssgsea_df = ssgsea_results.res2d.rename(columns={'Name': 'sample_id'})\n",
    "    \n",
    "    log_tpm_with_signatures = log_tpm.copy()\n",
    "    \n",
    "    for signature in signatures:\n",
    "        add = ssgsea_df.loc[ssgsea_df['Term'] == signature, ['sample_id', 'ES']]\n",
    "        log_tpm_with_signatures = log_tpm_with_signatures.merge(add, left_index=True,\n",
    "                                                                          right_on='sample_id').rename(\n",
    "            columns={'ES': signature}).set_index('sample_id').astype({signature: np.float64})\n",
    "    \n",
    "    # Scale separetely\n",
    "    for i, signature in enumerate(signatures):\n",
    "        log_tpm_with_signatures[signature + '_med'] = median_scaling(log_tpm_with_signatures[signature])\n",
    "\n",
    "    return log_tpm_with_signatures\n"
   ],
   "id": "e4937be08043c438",
   "outputs": [],
   "execution_count": 23
  },
  {
   "metadata": {
    "jupyter": {
     "is_executing": true
    },
    "ExecuteTime": {
     "start_time": "2025-05-12T08:21:42.986184Z"
    }
   },
   "cell_type": "code",
   "source": [
    "signatures = parse_bg_signatures()\n",
    "\n",
    "log_tpm_1 = pd.read_csv('data/log_tpms_from_fpkm_hgnc_filtered_by_ann.csv', index_col=0)\n",
    "ann_1 = pd.read_csv('data/ann.csv', index_col=0)\n",
    "df_1 = compute_ssgsea_on_signatures(log_tpm_1, signatures)\n",
    "\n",
    "log_tpm_2 = pd.read_csv('raw/exprs_PRJNA805525.csv', index_col=0)\n",
    "ann_2 = pd.read_csv('raw/ann_PRJNA805525.csv', index_col=0)\n",
    "df_2 = compute_ssgsea_on_signatures(log_tpm_2, signatures)"
   ],
   "id": "ee44d8b41078953a",
   "outputs": [],
   "execution_count": null
  },
  {
   "metadata": {
    "ExecuteTime": {
     "end_time": "2025-05-12T07:59:15.310535Z",
     "start_time": "2025-05-12T07:59:15.285529Z"
    }
   },
   "cell_type": "code",
   "source": [
    "df_all = pd.concat([df_1[[col for col in df_1.columns if col.endswith('_med')]],\n",
    "                    df_2[[col for col in df_2.columns if col.endswith('_med')]]])\n",
    "df_all.index"
   ],
   "id": "343f9cefe1d85c0d",
   "outputs": [
    {
     "data": {
      "text/plain": [
       "Index(['18R654_0015', '18R670_0002', '18R674_0006', '18R678_0010',\n",
       "       '18R683_0015', '18R699_0007', '18R429_0009', '18R298_0010',\n",
       "       '18R647_0008', '18R295_0003',\n",
       "       ...\n",
       "       'GSM5890091', 'GSM5890104', 'GSM5890115', 'GSM5890157', 'GSM5890183',\n",
       "       'GSM5890186', 'GSM5890205', 'GSM5890210', 'GSM5890228', 'GSM5890257'],\n",
       "      dtype='object', length=199)"
      ]
     },
     "execution_count": 21,
     "metadata": {},
     "output_type": "execute_result"
    }
   ],
   "execution_count": 21
  },
  {
   "metadata": {},
   "cell_type": "code",
   "outputs": [],
   "execution_count": null,
   "source": "",
   "id": "4f6a22ed48ba3797"
  }
 ],
 "metadata": {
  "kernelspec": {
   "display_name": "Python 3",
   "language": "python",
   "name": "python3"
  },
  "language_info": {
   "codemirror_mode": {
    "name": "ipython",
    "version": 2
   },
   "file_extension": ".py",
   "mimetype": "text/x-python",
   "name": "python",
   "nbconvert_exporter": "python",
   "pygments_lexer": "ipython2",
   "version": "2.7.6"
  }
 },
 "nbformat": 4,
 "nbformat_minor": 5
}
