{
 "cells": [
  {
   "cell_type": "code",
   "id": "initial_id",
   "metadata": {
    "ExecuteTime": {
     "end_time": "2025-05-03T15:41:51.700803Z",
     "start_time": "2025-05-03T15:41:51.544603Z"
    }
   },
   "source": [
    "import os\n",
    "import GEOparse as Geo\n",
    "os.chdir('../../')\n",
    "os.getcwd()"
   ],
   "outputs": [
    {
     "data": {
      "text/plain": [
       "'/home/max/mcrc-cetuximab-analysis'"
      ]
     },
     "execution_count": 1,
     "metadata": {},
     "output_type": "execute_result"
    }
   ],
   "execution_count": 1
  },
  {
   "cell_type": "code",
   "id": "9022226f34d5053d",
   "metadata": {
    "ExecuteTime": {
     "end_time": "2025-05-03T15:41:52.584607Z",
     "start_time": "2025-05-03T15:41:51.890759Z"
    }
   },
   "source": [
    "import pandas as pd\n",
    "\n",
    "def decouple(s):\n",
    "    ls = list(s.split(\"', '\"))\n",
    "    if len(ls) == 3:\n",
    "        ls[0] = ls[0][2:]\n",
    "        ls[2] = ls[2][:-2]\n",
    "    elif len(ls) == 2:\n",
    "        ls[0] = ls[0][2:]\n",
    "        ls[1] = ls[1][:-2]\n",
    "    dc = {s.split(': ')[0]: s.split(': ')[1] for s in ls}\n",
    "    return dc\n",
    "\n",
    "def extend_id(id):\n",
    "    fp, sp = id.split('_')\n",
    "    while len(sp) < 4:\n",
    "        sp = '0' + sp\n",
    "    return fp + '_' + sp\n",
    "\n",
    "def pad_zeros(s, n):\n",
    "    while len(s) < n:\n",
    "        s = '0' + s\n",
    "    return s\n",
    "\n",
    "gse = Geo.get_GEO(filepath=\"raw/GSE183984_family.soft\", silent=True)\n",
    "print('Platform: ', gse.gpls)\n",
    "for key in gse.gsms:\n",
    "    ann = pd.DataFrame(columns=gse.gsms[key].metadata.keys())\n",
    "    break\n",
    "\n",
    "for key in gse.gsms:\n",
    "    ann = pd.concat([ann, pd.DataFrame([gse.gsms[key].metadata], index=[key], dtype=str)])\n",
    "\n",
    "print('Annotation size after collecting it from .SOFT: ', len(ann))\n",
    "\n",
    "new_ann = pd.DataFrame(columns=['sample_id', 'tissue', 'time point', 'treatment response', 'patient_id', 'gsm_id', 'sample_title']).set_index('gsm_id')\n",
    "for i in range(len(ann)):\n",
    "    new_row = decouple(str(ann.iloc[i]['characteristics_ch1']))\n",
    "    # print(new_row)\n",
    "    title = str(ann.iloc[i]['title'])\n",
    "    new_row['sample_id'] = extend_id(title[title.find('[', 1) + 1 : title.find(']')])\n",
    "    new_row['sample_title'] = title[2:title.find(' ')]\n",
    "    new_row['patient_id'] = (lambda s: pad_zeros(''.join(filter(lambda x: x.isdigit(), s)), 4))(new_row['sample_title'])\n",
    "    new_ann = pd.concat([new_ann, pd.DataFrame([new_row], index=[ann.index[i]])])\n",
    "\n",
    "ann = new_ann\n",
    "print('Annotation size after creating new columns: ', len(ann))\n",
    "\n",
    "ann = ann.loc[ann['patient_id'] != '0005']\n",
    "print('Annotation size after deleting patient 0005: ', len(ann))\n",
    "\n",
    "ann = ann.loc[~ann[\"tissue\"].str.contains(\"metastases\", case=False, na=False)]\n",
    "print('Annotation size after deleting metastatic samples: ', len(ann))\n",
    "\n",
    "# setting NaN to pre because it is known from another column (treatment response)\n",
    "ann.loc[ann['time point'].isna(), 'time point'] = 'pre-treatment'\n",
    "\n",
    "def convert_treatment_response(s):\n",
    "    if 'non-PD' in s:\n",
    "        return 'non-PD'\n",
    "    elif 'PD' in s:\n",
    "        return 'PD'\n",
    "    elif s == 'pre-Tx':\n",
    "        return 'unknown'\n",
    "    else:\n",
    "        raise Exception('unexpected treatment response in annotation row')\n",
    "\n",
    "ann['treatment response'] = ann['treatment response'].apply(convert_treatment_response) \n",
    "\n",
    "treatment_response_for_patient = dict()\n",
    "\n",
    "for i in range(len(ann)):\n",
    "    row = ann.iloc[i]\n",
    "    patient_id = row['patient_id']\n",
    "    response = row['treatment response']\n",
    "    time_point = row['time point']\n",
    "    \n",
    "    if time_point == 'pre-treatment' and response != 'unknown':\n",
    "        raise Exception('known response in pre-treatment')\n",
    "    \n",
    "    if time_point == 'post-treatment' and response == 'unknown':\n",
    "        raise Exception('unknown response in post-treatment')\n",
    "    \n",
    "    if response != 'unknown':\n",
    "        if patient_id in treatment_response_for_patient and response != treatment_response_for_patient[patient_id]:\n",
    "            raise Exception('contradictive post-treatment response for patient')\n",
    "        \n",
    "        treatment_response_for_patient[patient_id] = response\n",
    "\n",
    "for i in range(len(ann)):\n",
    "    row = ann.iloc[i]\n",
    "    patient_id = row['patient_id']\n",
    "    response = row['treatment response']\n",
    "    \n",
    "    if response == 'unknown' and patient_id in treatment_response_for_patient:\n",
    "        ann.loc[ann.index[i],'treatment response'] = treatment_response_for_patient[patient_id]\n",
    "\n",
    "ann"
   ],
   "outputs": [
    {
     "name": "stdout",
     "output_type": "stream",
     "text": [
      "Platform:  {'GPL16791': <d: GPL16791>}\n",
      "Annotation size after collecting it from .SOFT:  113\n",
      "Annotation size after creating new columns:  113\n",
      "Annotation size after deleting patient 0005:  109\n",
      "Annotation size after deleting metastatic samples:  81\n"
     ]
    },
    {
     "data": {
      "text/plain": [
       "              sample_id                      tissue      time point  \\\n",
       "GSM5575333  18R649_0010  primary tumor (colorectum)  post-treatment   \n",
       "GSM5575334  18R654_0015  primary tumor (colorectum)   pre-treatment   \n",
       "GSM5575336  18R669_0001  primary tumor (colorectum)  post-treatment   \n",
       "GSM5575337  18R670_0002  primary tumor (colorectum)   pre-treatment   \n",
       "GSM5575339  18R674_0006  primary tumor (colorectum)   pre-treatment   \n",
       "...                 ...                         ...             ...   \n",
       "GSM5575441  18R454_0027  primary tumor (colorectum)   pre-treatment   \n",
       "GSM5575442  18R477_0019  primary tumor (colorectum)   pre-treatment   \n",
       "GSM5575443  18R507_0004  primary tumor (colorectum)   pre-treatment   \n",
       "GSM5575444  18R428_0008  primary tumor (colorectum)   pre-treatment   \n",
       "GSM5575445  18R705_0013  primary tumor (colorectum)   pre-treatment   \n",
       "\n",
       "           treatment response patient_id    sample_title  \n",
       "GSM5575333             non-PD       0001      POST-R-001  \n",
       "GSM5575334             non-PD       0001  PAIR-R-001-pre  \n",
       "GSM5575336             non-PD       0002      POST-R-002  \n",
       "GSM5575337             non-PD       0002      PAIR-R-002  \n",
       "GSM5575339            unknown       0003      PAIR-R-003  \n",
       "...                       ...        ...             ...  \n",
       "GSM5575441            unknown       0051       PRE-R-051  \n",
       "GSM5575442            unknown       0052       PRE-R-052  \n",
       "GSM5575443             non-PD       0010          PRE-10  \n",
       "GSM5575444            unknown       0054       PRE-R-054  \n",
       "GSM5575445            unknown       0055       PRE-R-055  \n",
       "\n",
       "[81 rows x 6 columns]"
      ],
      "text/html": [
       "<div>\n",
       "<style scoped>\n",
       "    .dataframe tbody tr th:only-of-type {\n",
       "        vertical-align: middle;\n",
       "    }\n",
       "\n",
       "    .dataframe tbody tr th {\n",
       "        vertical-align: top;\n",
       "    }\n",
       "\n",
       "    .dataframe thead th {\n",
       "        text-align: right;\n",
       "    }\n",
       "</style>\n",
       "<table border=\"1\" class=\"dataframe\">\n",
       "  <thead>\n",
       "    <tr style=\"text-align: right;\">\n",
       "      <th></th>\n",
       "      <th>sample_id</th>\n",
       "      <th>tissue</th>\n",
       "      <th>time point</th>\n",
       "      <th>treatment response</th>\n",
       "      <th>patient_id</th>\n",
       "      <th>sample_title</th>\n",
       "    </tr>\n",
       "  </thead>\n",
       "  <tbody>\n",
       "    <tr>\n",
       "      <th>GSM5575333</th>\n",
       "      <td>18R649_0010</td>\n",
       "      <td>primary tumor (colorectum)</td>\n",
       "      <td>post-treatment</td>\n",
       "      <td>non-PD</td>\n",
       "      <td>0001</td>\n",
       "      <td>POST-R-001</td>\n",
       "    </tr>\n",
       "    <tr>\n",
       "      <th>GSM5575334</th>\n",
       "      <td>18R654_0015</td>\n",
       "      <td>primary tumor (colorectum)</td>\n",
       "      <td>pre-treatment</td>\n",
       "      <td>non-PD</td>\n",
       "      <td>0001</td>\n",
       "      <td>PAIR-R-001-pre</td>\n",
       "    </tr>\n",
       "    <tr>\n",
       "      <th>GSM5575336</th>\n",
       "      <td>18R669_0001</td>\n",
       "      <td>primary tumor (colorectum)</td>\n",
       "      <td>post-treatment</td>\n",
       "      <td>non-PD</td>\n",
       "      <td>0002</td>\n",
       "      <td>POST-R-002</td>\n",
       "    </tr>\n",
       "    <tr>\n",
       "      <th>GSM5575337</th>\n",
       "      <td>18R670_0002</td>\n",
       "      <td>primary tumor (colorectum)</td>\n",
       "      <td>pre-treatment</td>\n",
       "      <td>non-PD</td>\n",
       "      <td>0002</td>\n",
       "      <td>PAIR-R-002</td>\n",
       "    </tr>\n",
       "    <tr>\n",
       "      <th>GSM5575339</th>\n",
       "      <td>18R674_0006</td>\n",
       "      <td>primary tumor (colorectum)</td>\n",
       "      <td>pre-treatment</td>\n",
       "      <td>unknown</td>\n",
       "      <td>0003</td>\n",
       "      <td>PAIR-R-003</td>\n",
       "    </tr>\n",
       "    <tr>\n",
       "      <th>...</th>\n",
       "      <td>...</td>\n",
       "      <td>...</td>\n",
       "      <td>...</td>\n",
       "      <td>...</td>\n",
       "      <td>...</td>\n",
       "      <td>...</td>\n",
       "    </tr>\n",
       "    <tr>\n",
       "      <th>GSM5575441</th>\n",
       "      <td>18R454_0027</td>\n",
       "      <td>primary tumor (colorectum)</td>\n",
       "      <td>pre-treatment</td>\n",
       "      <td>unknown</td>\n",
       "      <td>0051</td>\n",
       "      <td>PRE-R-051</td>\n",
       "    </tr>\n",
       "    <tr>\n",
       "      <th>GSM5575442</th>\n",
       "      <td>18R477_0019</td>\n",
       "      <td>primary tumor (colorectum)</td>\n",
       "      <td>pre-treatment</td>\n",
       "      <td>unknown</td>\n",
       "      <td>0052</td>\n",
       "      <td>PRE-R-052</td>\n",
       "    </tr>\n",
       "    <tr>\n",
       "      <th>GSM5575443</th>\n",
       "      <td>18R507_0004</td>\n",
       "      <td>primary tumor (colorectum)</td>\n",
       "      <td>pre-treatment</td>\n",
       "      <td>non-PD</td>\n",
       "      <td>0010</td>\n",
       "      <td>PRE-10</td>\n",
       "    </tr>\n",
       "    <tr>\n",
       "      <th>GSM5575444</th>\n",
       "      <td>18R428_0008</td>\n",
       "      <td>primary tumor (colorectum)</td>\n",
       "      <td>pre-treatment</td>\n",
       "      <td>unknown</td>\n",
       "      <td>0054</td>\n",
       "      <td>PRE-R-054</td>\n",
       "    </tr>\n",
       "    <tr>\n",
       "      <th>GSM5575445</th>\n",
       "      <td>18R705_0013</td>\n",
       "      <td>primary tumor (colorectum)</td>\n",
       "      <td>pre-treatment</td>\n",
       "      <td>unknown</td>\n",
       "      <td>0055</td>\n",
       "      <td>PRE-R-055</td>\n",
       "    </tr>\n",
       "  </tbody>\n",
       "</table>\n",
       "<p>81 rows × 6 columns</p>\n",
       "</div>"
      ]
     },
     "execution_count": 2,
     "metadata": {},
     "output_type": "execute_result"
    }
   ],
   "execution_count": 2
  },
  {
   "metadata": {
    "ExecuteTime": {
     "end_time": "2025-05-03T15:41:52.646340Z",
     "start_time": "2025-05-03T15:41:52.638297Z"
    }
   },
   "cell_type": "code",
   "source": "ann['tissue'].value_counts()",
   "id": "430ce6af-0b28-4b3d-b563-c68afa156056",
   "outputs": [
    {
     "data": {
      "text/plain": [
       "tissue\n",
       "primary tumor (colorectum)    81\n",
       "Name: count, dtype: int64"
      ]
     },
     "execution_count": 3,
     "metadata": {},
     "output_type": "execute_result"
    }
   ],
   "execution_count": 3
  },
  {
   "cell_type": "code",
   "id": "02dafb53-4e85-4cac-aa37-740da19e4609",
   "metadata": {
    "ExecuteTime": {
     "end_time": "2025-05-03T15:41:52.696030Z",
     "start_time": "2025-05-03T15:41:52.687662Z"
    }
   },
   "source": [
    "ann['time point'].value_counts()"
   ],
   "outputs": [
    {
     "data": {
      "text/plain": [
       "time point\n",
       "pre-treatment     68\n",
       "post-treatment    13\n",
       "Name: count, dtype: int64"
      ]
     },
     "execution_count": 4,
     "metadata": {},
     "output_type": "execute_result"
    }
   ],
   "execution_count": 4
  },
  {
   "cell_type": "code",
   "id": "2a989014-3c99-43bf-ad9f-4d83065a9b81",
   "metadata": {
    "ExecuteTime": {
     "end_time": "2025-05-03T15:41:52.794023Z",
     "start_time": "2025-05-03T15:41:52.785444Z"
    }
   },
   "source": [
    "ann['treatment response'].value_counts()"
   ],
   "outputs": [
    {
     "data": {
      "text/plain": [
       "treatment response\n",
       "unknown    43\n",
       "non-PD     27\n",
       "PD         11\n",
       "Name: count, dtype: int64"
      ]
     },
     "execution_count": 5,
     "metadata": {},
     "output_type": "execute_result"
    }
   ],
   "execution_count": 5
  },
  {
   "cell_type": "code",
   "id": "e8f36d69-733d-45c1-924c-f1218af74753",
   "metadata": {
    "ExecuteTime": {
     "end_time": "2025-05-03T15:41:53.096890Z",
     "start_time": "2025-05-03T15:41:53.087147Z"
    }
   },
   "source": [
    "ann['patient_id'].value_counts().sort_index()"
   ],
   "outputs": [
    {
     "data": {
      "text/plain": [
       "patient_id\n",
       "0001    3\n",
       "0002    3\n",
       "0003    1\n",
       "0004    3\n",
       "0006    3\n",
       "0007    1\n",
       "0008    3\n",
       "0009    1\n",
       "0010    3\n",
       "0011    2\n",
       "0012    3\n",
       "0013    3\n",
       "0014    3\n",
       "0015    4\n",
       "0016    2\n",
       "0017    1\n",
       "0018    1\n",
       "0019    1\n",
       "0020    2\n",
       "0021    3\n",
       "0022    1\n",
       "0023    1\n",
       "0024    1\n",
       "0026    1\n",
       "0027    1\n",
       "0028    2\n",
       "0029    2\n",
       "0030    1\n",
       "0031    1\n",
       "0032    2\n",
       "0033    1\n",
       "0034    1\n",
       "0035    1\n",
       "0036    1\n",
       "0037    1\n",
       "0038    1\n",
       "0040    1\n",
       "0041    1\n",
       "0042    1\n",
       "0043    1\n",
       "0044    1\n",
       "0045    1\n",
       "0046    1\n",
       "0047    1\n",
       "0048    1\n",
       "0049    1\n",
       "0050    1\n",
       "0051    1\n",
       "0052    1\n",
       "0054    1\n",
       "0055    1\n",
       "0061    1\n",
       "Name: count, dtype: int64"
      ]
     },
     "execution_count": 6,
     "metadata": {},
     "output_type": "execute_result"
    }
   ],
   "execution_count": 6
  },
  {
   "metadata": {
    "ExecuteTime": {
     "end_time": "2025-05-03T15:41:53.262254Z",
     "start_time": "2025-05-03T15:41:53.255357Z"
    }
   },
   "cell_type": "code",
   "source": "ann.to_csv('data/ann_maxim.csv')",
   "id": "43800b0778add8c6",
   "outputs": [],
   "execution_count": 7
  }
 ],
 "metadata": {
  "kernelspec": {
   "display_name": "Python 3 (ipykernel)",
   "language": "python",
   "name": "python3"
  },
  "language_info": {
   "codemirror_mode": {
    "name": "ipython",
    "version": 3
   },
   "file_extension": ".py",
   "mimetype": "text/x-python",
   "name": "python",
   "nbconvert_exporter": "python",
   "pygments_lexer": "ipython3",
   "version": "3.12.0"
  }
 },
 "nbformat": 4,
 "nbformat_minor": 5
}
