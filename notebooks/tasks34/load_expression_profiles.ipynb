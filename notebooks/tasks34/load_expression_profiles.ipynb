{
 "cells": [
  {
   "cell_type": "markdown",
   "id": "b163afe1",
   "metadata": {},
   "source": [
    "# Save Individual Expression Profile Plots"
   ]
  },
  {
   "cell_type": "markdown",
   "id": "d80cdb6a",
   "metadata": {},
   "source": [
    "# 📦 Imports and setup"
   ]
  },
  {
   "cell_type": "code",
   "execution_count": 1,
   "id": "7255e2b6",
   "metadata": {
    "ExecuteTime": {
     "end_time": "2025-05-05T18:38:51.715442Z",
     "start_time": "2025-05-05T18:38:51.708460Z"
    }
   },
   "outputs": [
    {
     "data": {
      "text/plain": [
       "'d:\\\\Work\\\\Non PT\\\\Data Science\\\\BG\\\\mcrc-cetuximab-analysis'"
      ]
     },
     "execution_count": 1,
     "metadata": {},
     "output_type": "execute_result"
    }
   ],
   "source": [
    "import pandas as pd\n",
    "import matplotlib.pyplot as plt\n",
    "import seaborn as sns\n",
    "import os\n",
    "\n",
    "\n",
    "os.chdir('../../')\n",
    "os.getcwd()"
   ]
  },
  {
   "cell_type": "code",
   "execution_count": 2,
   "id": "ad446b67",
   "metadata": {
    "ExecuteTime": {
     "end_time": "2025-05-05T18:38:52.742756Z",
     "start_time": "2025-05-05T18:38:51.778816Z"
    }
   },
   "outputs": [],
   "source": [
    "os.makedirs(\"figures/profiles\", exist_ok=True)"
   ]
  },
  {
   "cell_type": "markdown",
   "id": "6342b931",
   "metadata": {},
   "source": [
    "# 📥 Load expression and annotation data"
   ]
  },
  {
   "cell_type": "code",
   "execution_count": 3,
   "id": "068781ec",
   "metadata": {
    "ExecuteTime": {
     "end_time": "2025-05-05T18:37:53.540816Z",
     "start_time": "2025-05-05T18:37:51.378184Z"
    }
   },
   "outputs": [],
   "source": [
    "# Load files\n",
    "expression_df = pd.read_csv(\"data/log_tpms_from_fpkm_hgnc_unfiltered.csv\", index_col='sample_id')\n",
    "\n",
    "expression_df_numeric = expression_df.select_dtypes(include=[float, int])"
   ]
  },
  {
   "cell_type": "markdown",
   "id": "dd1fe9c5",
   "metadata": {},
   "source": [
    "# 🖼️ Plot and save expression profiles (sample-wise)"
   ]
  },
  {
   "cell_type": "code",
   "execution_count": 4,
   "id": "b7f82573",
   "metadata": {
    "ExecuteTime": {
     "end_time": "2025-05-05T18:38:50.923738Z",
     "start_time": "2025-05-05T18:37:53.629094Z"
    }
   },
   "outputs": [
    {
     "name": "stdout",
     "output_type": "stream",
     "text": [
      "Created: 18R649_0010_expression_profile.png\n",
      "Created: 18R654_0015_expression_profile.png\n",
      "Created: 18R669_0001_expression_profile.png\n",
      "Created: 18R670_0002_expression_profile.png\n",
      "Created: 18R674_0006_expression_profile.png\n",
      "Created: 18R678_0010_expression_profile.png\n",
      "Created: 18R683_0015_expression_profile.png\n",
      "Created: 18R694_0002_expression_profile.png\n",
      "Created: 18R699_0007_expression_profile.png\n",
      "Created: 18R700_0008_expression_profile.png\n",
      "Created: 18R429_0009_expression_profile.png\n",
      "Created: 18R298_0010_expression_profile.png\n",
      "Created: 18R647_0008_expression_profile.png\n",
      "Created: 18R648_0009_expression_profile.png\n",
      "Created: 18R294_0001_expression_profile.png\n",
      "Created: 18R295_0003_expression_profile.png\n",
      "Created: 18R296_0008_expression_profile.png\n",
      "Created: 18R178_0022_expression_profile.png\n",
      "Created: 18R177_0021_expression_profile.png\n",
      "Created: 18R299_0025_expression_profile.png\n",
      "Created: 18R300_0027_expression_profile.png\n",
      "Created: 18R659_0020_expression_profile.png\n",
      "Created: 18R661_0021_expression_profile.png\n",
      "Created: 18R301_0002_expression_profile.png\n",
      "Created: 18R302_0004_expression_profile.png\n",
      "Created: 18R663_0027_expression_profile.png\n",
      "Created: 18R664_0001_expression_profile.png\n",
      "Created: 18R307_0013_expression_profile.png\n",
      "Created: 18R319_0014_expression_profile.png\n",
      "Created: 18R685_0018_expression_profile.png\n",
      "Created: 18R642_0003_expression_profile.png\n",
      "Created: 18R645_0006_expression_profile.png\n",
      "Created: 18R653_0014_expression_profile.png\n",
      "Created: 18R432_0012_expression_profile.png\n",
      "Created: 18R434_0014_expression_profile.png\n",
      "Created: 18R460_0001_expression_profile.png\n",
      "Created: 18R695_0003_expression_profile.png\n",
      "Created: 18R473_0014_expression_profile.png\n",
      "Created: 18R443_0022_expression_profile.png\n",
      "Created: 18R436_0016_expression_profile.png\n",
      "Created: 18R421_0001_expression_profile.png\n",
      "Created: 18R463_0004_expression_profile.png\n",
      "Created: 18R472_0013_expression_profile.png\n",
      "Created: 18R426_0006_expression_profile.png\n",
      "Created: 18R427_0007_expression_profile.png\n",
      "Created: 18R508_0011_expression_profile.png\n",
      "Created: 18R433_0013_expression_profile.png\n",
      "Created: 18R435_0015_expression_profile.png\n",
      "Created: 18R437_0018_expression_profile.png\n",
      "Created: 18R449_0023_expression_profile.png\n",
      "Created: 18R438_0019_expression_profile.png\n",
      "Created: 18R440_0020_expression_profile.png\n",
      "Created: 18R456_0002_expression_profile.png\n",
      "Created: 18R457_0023_expression_profile.png\n",
      "Created: 18R458_0025_expression_profile.png\n",
      "Created: 18R459_0027_expression_profile.png\n",
      "Created: 18R461_0002_expression_profile.png\n",
      "Created: 18R462_0003_expression_profile.png\n",
      "Created: 18R464_0005_expression_profile.png\n",
      "Created: 18R468_0009_expression_profile.png\n",
      "Created: 18R469_0010_expression_profile.png\n",
      "Created: 18R470_0011_expression_profile.png\n",
      "Created: 18R471_0012_expression_profile.png\n",
      "Created: 18R474_0015_expression_profile.png\n",
      "Created: 18R475_0016_expression_profile.png\n",
      "Created: 18R476_0018_expression_profile.png\n",
      "Created: 18R640_0001_expression_profile.png\n",
      "Created: 18R701_0009_expression_profile.png\n",
      "Created: 18R478_0020_expression_profile.png\n",
      "Created: 18R479_0021_expression_profile.png\n",
      "Created: 18R480_0022_expression_profile.png\n",
      "Created: 18R702_0010_expression_profile.png\n",
      "Created: 18R656_0018_expression_profile.png\n",
      "Created: 18R657_0019_expression_profile.png\n",
      "Created: 18R673_0005_expression_profile.png\n",
      "Created: 18R465_0006_expression_profile.png\n",
      "Created: 18R454_0027_expression_profile.png\n",
      "Created: 18R477_0019_expression_profile.png\n",
      "Created: 18R507_0004_expression_profile.png\n",
      "Created: 18R428_0008_expression_profile.png\n",
      "Created: 18R705_0013_expression_profile.png\n",
      "\n",
      "Successfully created 81 expression profile plots in figures/profiles\n"
     ]
    }
   ],
   "source": [
    "# Set plot style\n",
    "sns.set_theme(style=\"whitegrid\")\n",
    "plt.rcParams['figure.dpi'] = 150\n",
    "\n",
    "# Create individual distribution plots for each sample\n",
    "for sample_id in expression_df_numeric.index:\n",
    "    plt.figure(figsize=(8, 5))\n",
    "    \n",
    "    # Get expression values for this sample\n",
    "    sample_data = expression_df_numeric.loc[sample_id]\n",
    "    \n",
    "    # Create plot\n",
    "    ax = sns.histplot(sample_data, kde=True, bins=50, color='skyblue')\n",
    "    \n",
    "    # Customize plot\n",
    "    ax.set_title(f'Gene Expression Distribution\\n{sample_id}', pad=20)\n",
    "    ax.set_xlabel('log2(TPM + 1)')\n",
    "    ax.set_ylabel('Frequency')\n",
    "    \n",
    "    # Save with sample_id as filename\n",
    "    filename = f\"{sample_id}_expression_profile.png\".replace(\" \", \"_\")\n",
    "    plt.savefig(os.path.join(\"figures/profiles\", filename), bbox_inches='tight')\n",
    "    plt.close()\n",
    "    \n",
    "    print(f\"Created: {filename}\")\n",
    "\n",
    "print(f\"\\nSuccessfully created {len(expression_df_numeric)} expression profile plots in figures/profiles\")"
   ]
  },
  {
   "cell_type": "code",
   "execution_count": 5,
   "id": "8cc30cb3",
   "metadata": {
    "ExecuteTime": {
     "end_time": "2025-05-05T18:38:54.707702Z",
     "start_time": "2025-05-05T18:38:54.695337Z"
    }
   },
   "outputs": [
    {
     "name": "stdout",
     "output_type": "stream",
     "text": [
      "Max value: 14.078826929759492\n",
      "Pre-log distribution:\n",
      "count    19388.000000\n",
      "mean         3.445954\n",
      "std          2.414595\n",
      "min          0.000000\n",
      "25%          1.317675\n",
      "50%          3.381633\n",
      "75%          5.259863\n",
      "max         13.610198\n",
      "Name: 18R294_0001, dtype: float64\n"
     ]
    }
   ],
   "source": [
    "# Check max value in this sample\n",
    "print(f\"Max value: {expression_df_numeric.loc['18R695_0003'].max()}\")\n",
    "# Verify log-transformation\n",
    "print(f\"Pre-log distribution:\\n{expression_df_numeric.loc['18R294_0001'].describe()}\")"
   ]
  },
  {
   "cell_type": "code",
   "execution_count": 6,
   "id": "5e9a24ad",
   "metadata": {
    "ExecuteTime": {
     "end_time": "2025-05-05T18:39:23.121708Z",
     "start_time": "2025-05-05T18:39:22.494445Z"
    }
   },
   "outputs": [
    {
     "data": {
      "text/plain": [
       "(0.0, 100.0)"
      ]
     },
     "execution_count": 6,
     "metadata": {},
     "output_type": "execute_result"
    },
    {
     "data": {
      "image/png": "[encoded data removed]",
      "text/plain": [
       "<Figure size 960x720 with 1 Axes>"
      ]
     },
     "metadata": {},
     "output_type": "display_data"
    }
   ],
   "source": [
    "sns.kdeplot(data=expression_df_numeric.loc[['18R459_0027']].T)\n",
    "plt.xlim(0, 100)"
   ]
  },
  {
   "cell_type": "code",
   "execution_count": null,
   "id": "b068c7e27cc2f22e",
   "metadata": {
    "ExecuteTime": {
     "end_time": "2025-05-05T18:38:51.638908Z",
     "start_time": "2025-05-05T18:38:51.635717Z"
    }
   },
   "outputs": [],
   "source": []
  }
 ],
 "metadata": {
  "kernelspec": {
   "display_name": ".venv",
   "language": "python",
   "name": "python3"
  },
  "language_info": {
   "codemirror_mode": {
    "name": "ipython",
    "version": 3
   },
   "file_extension": ".py",
   "mimetype": "text/x-python",
   "name": "python",
   "nbconvert_exporter": "python",
   "pygments_lexer": "ipython3",
   "version": "3.12.0"
  }
 },
 "nbformat": 4,
 "nbformat_minor": 5
}
