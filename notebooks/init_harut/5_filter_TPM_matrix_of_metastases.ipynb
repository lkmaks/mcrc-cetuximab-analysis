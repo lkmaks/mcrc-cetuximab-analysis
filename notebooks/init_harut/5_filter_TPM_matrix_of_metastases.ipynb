{
 "cells": [
  {
   "cell_type": "markdown",
   "id": "ac5b110e",
   "metadata": {},
   "source": [
    "# Load annotation and counts"
   ]
  },
  {
   "metadata": {
    "ExecuteTime": {
     "end_time": "2025-05-01T16:10:42.988869Z",
     "start_time": "2025-05-01T16:10:42.974404Z"
    }
   },
   "cell_type": "code",
   "source": [
    "import os\n",
    "os.chdir('../../')\n",
    "os.getcwd()"
   ],
   "id": "bbf7d9f3b29a1d4d",
   "outputs": [
    {
     "data": {
      "text/plain": [
       "'/home/max/mcrc-cetuximab-analysis'"
      ]
     },
     "execution_count": 2,
     "metadata": {},
     "output_type": "execute_result"
    }
   ],
   "execution_count": 2
  },
  {
   "cell_type": "code",
   "id": "419ee815",
   "metadata": {
    "ExecuteTime": {
     "end_time": "2025-05-01T16:12:12.675392Z",
     "start_time": "2025-05-01T16:12:09.200241Z"
    }
   },
   "source": [
    "import pandas as pd\n",
    "\n",
    "# Load annotation\n",
    "ann = pd.read_csv(\"data/annotation_no_metastases.csv\")\n",
    "\n",
    "# Load raw counts\n",
    "tpm = pd.read_csv(\"data/log2_tpm_hgnc_matrix_unfiltered_metastases.csv\")\n",
    "\n",
    "ann[\"some_id\"] = ann[\"some_id\"].astype(str).str.strip()\n",
    "tpm.columns = tpm.columns.str.strip()\n",
    "\n",
    "# Ensure only sample columns that are present in tpm\n",
    "sample_ids = [col for col in ann[\"some_id\"] if col in tpm.columns]\n",
    "\n",
    "# Filter tpm to 85 samples\n",
    "filtered_counts = tpm[[\"gene\"] + sample_ids]\n",
    "\n",
    "# Save filtered matrix (optional)\n",
    "filtered_counts.to_csv(\"data/log2_tpm_hgnc_matrix_filtered_metastases.csv\", index=False)\n",
    "\n",
    "print(f\"Filtered count matrix shape: {filtered_counts.shape}\")\n"
   ],
   "outputs": [
    {
     "name": "stdout",
     "output_type": "stream",
     "text": [
      "Filtered count matrix shape: (19457, 85)\n"
     ]
    }
   ],
   "execution_count": 5
  },
  {
   "metadata": {},
   "cell_type": "code",
   "outputs": [],
   "execution_count": null,
   "source": "",
   "id": "f9485bdbc1c7cdaa"
  }
 ],
 "metadata": {
  "kernelspec": {
   "display_name": ".venv",
   "language": "python",
   "name": "python3"
  },
  "language_info": {
   "codemirror_mode": {
    "name": "ipython",
    "version": 3
   },
   "file_extension": ".py",
   "mimetype": "text/x-python",
   "name": "python",
   "nbconvert_exporter": "python",
   "pygments_lexer": "ipython3",
   "version": "3.12.0"
  }
 },
 "nbformat": 4,
 "nbformat_minor": 5
}
