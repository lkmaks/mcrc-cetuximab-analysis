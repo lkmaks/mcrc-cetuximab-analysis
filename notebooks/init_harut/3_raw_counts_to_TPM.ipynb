{
 "cells": [
  {
   "metadata": {
    "ExecuteTime": {
     "end_time": "2025-05-01T16:17:16.870038Z",
     "start_time": "2025-05-01T16:17:16.857764Z"
    }
   },
   "cell_type": "code",
   "source": [
    "import os\n",
    "os.chdir('../../')\n",
    "os.getcwd()"
   ],
   "id": "e19802f67545d6ea",
   "outputs": [
    {
     "data": {
      "text/plain": [
       "'/home/max/mcrc-cetuximab-analysis'"
      ]
     },
     "execution_count": 1,
     "metadata": {},
     "output_type": "execute_result"
    }
   ],
   "execution_count": 1
  },
  {
   "cell_type": "code",
   "id": "f6c21a68",
   "metadata": {
    "ExecuteTime": {
     "end_time": "2025-05-01T16:18:02.217888Z",
     "start_time": "2025-05-01T16:17:16.980615Z"
    }
   },
   "source": [
    "import pandas as pd\n",
    "from mygene import MyGeneInfo\n",
    "\n",
    "# Step 1: Load filtered protein-coding raw counts\n",
    "df = pd.read_csv(\"data/raw_counts_protein_coding.csv\")\n",
    "print(f\"Loaded matrix shape: {df.shape}\")\n",
    "\n",
    "# Step 2: Aggregate duplicate gene IDs by summing across rows\n",
    "if df[\"name\"].duplicated().any():\n",
    "    print(f\"Found {df['name'].duplicated().sum()} duplicated Ensembl IDs. Aggregating by summing counts.\")\n",
    "    df = df.groupby(\"name\", as_index=False).sum()\n",
    "\n",
    "# Step 3: Query MyGene for gene lengths\n",
    "mg = MyGeneInfo()\n",
    "ensembl_ids = df[\"name\"].tolist()\n",
    "\n",
    "results = mg.querymany(\n",
    "    ensembl_ids,\n",
    "    scopes=\"ensembl.gene\",\n",
    "    fields=\"genomic_pos\",\n",
    "    species=\"human\",\n",
    "    as_dataframe=False  # Important: returns dicts with nested structure\n",
    ")\n",
    "\n",
    "# Step 4: Extract lengths manually\n",
    "def extract_length(hit):\n",
    "    try:\n",
    "        pos = hit.get(\"genomic_pos\")\n",
    "        if isinstance(pos, list):  # multiple mappings\n",
    "            pos = pos[0]\n",
    "        return abs(pos[\"end\"] - pos[\"start\"]) + 1\n",
    "    except Exception as e:\n",
    "        return None\n",
    "\n",
    "# Step 5: Build and clean gene length DataFrame\n",
    "lengths = pd.DataFrame({\n",
    "    \"name\": [hit[\"query\"] for hit in results],\n",
    "    \"length\": [extract_length(hit) for hit in results]\n",
    "}).dropna()\n",
    "\n",
    "# Step 6: Merge with counts matrix\n",
    "df_with_lengths = pd.merge(df, lengths, on=\"name\", how=\"inner\")\n",
    "print(f\"Matrix after merging gene lengths: {df_with_lengths.shape}\")\n"
   ],
   "outputs": [
    {
     "name": "stderr",
     "output_type": "stream",
     "text": [
      "Input sequence provided is already in string format. No operation performed\n",
      "Input sequence provided is already in string format. No operation performed\n"
     ]
    },
    {
     "name": "stdout",
     "output_type": "stream",
     "text": [
      "Loaded matrix shape: (19407, 114)\n",
      "Found 4 duplicated Ensembl IDs. Aggregating by summing counts.\n"
     ]
    },
    {
     "name": "stderr",
     "output_type": "stream",
     "text": [
      "5 input query terms found dup hits:\t[('ENSG00000188660', 2), ('ENSG00000215156', 2), ('ENSG00000243620', 2), ('ENSG00000268674', 3), ('E\n"
     ]
    },
    {
     "name": "stdout",
     "output_type": "stream",
     "text": [
      "Matrix after merging gene lengths: (19409, 115)\n"
     ]
    }
   ],
   "execution_count": 2
  },
  {
   "cell_type": "markdown",
   "id": "c4828618",
   "metadata": {},
   "source": [
    "## TPM Calculation Function"
   ]
  },
  {
   "cell_type": "code",
   "id": "ca186867",
   "metadata": {
    "ExecuteTime": {
     "end_time": "2025-05-01T16:18:02.499557Z",
     "start_time": "2025-05-01T16:18:02.491770Z"
    }
   },
   "source": [
    "def counts_to_tpm(df, length_col=\"length\"):\n",
    "    # Drop 'name' and 'length' to get pure count matrix\n",
    "    counts = df.drop(columns=[\"name\", length_col])\n",
    "    lengths_kb = df[length_col] / 1000  # Convert to kilobases\n",
    "    rpk = counts.div(lengths_kb, axis=0)\n",
    "    per_million = rpk.sum(axis=0) / 1e6\n",
    "    tpm = rpk.div(per_million, axis=1)\n",
    "    tpm.insert(0, \"name\", df[\"name\"])\n",
    "    return tpm"
   ],
   "outputs": [],
   "execution_count": 3
  },
  {
   "cell_type": "markdown",
   "id": "3d4ed2e2",
   "metadata": {},
   "source": [
    "## Apply and Save"
   ]
  },
  {
   "cell_type": "code",
   "id": "1bc3d3dd",
   "metadata": {
    "ExecuteTime": {
     "end_time": "2025-05-01T16:18:06.827767Z",
     "start_time": "2025-05-01T16:18:02.571360Z"
    }
   },
   "source": [
    "\n",
    "import numpy as np\n",
    "\n",
    "\n",
    "tpm_matrix = counts_to_tpm(df_with_lengths)\n",
    "\n",
    "# Separate gene column and expression matrix\n",
    "gene_column = tpm_matrix[\"name\"]\n",
    "tpm_values = tpm_matrix.drop(columns=[\"name\"])\n",
    "\n",
    "# Apply log2(TPM + 1)\n",
    "log2_tpm = np.log2(tpm_values + 1)\n",
    "\n",
    "# Reattach gene column\n",
    "log2_tpm.insert(0, \"name\", gene_column)\n",
    "\n",
    "# Save to CSV\n",
    "log2_tpm.to_csv(\"data/log2_tpm_matrix_unfiltered_metastases_ENS.csv\", index=False)\n",
    "print(f\"log2 TPM matrix saved. Shape: {log2_tpm.shape}\")\n"
   ],
   "outputs": [
    {
     "name": "stdout",
     "output_type": "stream",
     "text": [
      "log2 TPM matrix saved. Shape: (19409, 114)\n"
     ]
    }
   ],
   "execution_count": 4
  }
 ],
 "metadata": {
  "kernelspec": {
   "display_name": ".venv",
   "language": "python",
   "name": "python3"
  },
  "language_info": {
   "codemirror_mode": {
    "name": "ipython",
    "version": 3
   },
   "file_extension": ".py",
   "mimetype": "text/x-python",
   "name": "python",
   "nbconvert_exporter": "python",
   "pygments_lexer": "ipython3",
   "version": "3.12.0"
  }
 },
 "nbformat": 4,
 "nbformat_minor": 5
}
