{
 "cells": [
  {
   "cell_type": "markdown",
   "id": "b391c7af",
   "metadata": {},
   "source": [
    "## Filtering out all samples marked as metastases from annotation"
   ]
  },
  {
   "metadata": {
    "ExecuteTime": {
     "end_time": "2025-05-02T09:23:17.823078Z",
     "start_time": "2025-05-02T09:23:17.811429Z"
    }
   },
   "cell_type": "code",
   "source": [
    "import os\n",
    "os.chdir('../../')\n",
    "os.getcwd()"
   ],
   "id": "c75329ab94742051",
   "outputs": [
    {
     "data": {
      "text/plain": [
       "'/home/max/mcrc-cetuximab-analysis'"
      ]
     },
     "execution_count": 1,
     "metadata": {},
     "output_type": "execute_result"
    }
   ],
   "execution_count": 1
  },
  {
   "cell_type": "code",
   "id": "e6485899",
   "metadata": {
    "ExecuteTime": {
     "end_time": "2025-05-02T09:29:24.579825Z",
     "start_time": "2025-05-02T09:29:24.566582Z"
    }
   },
   "source": [
    "import pandas as pd\n",
    "\n",
    "# Load the annotation CSV\n",
    "df = pd.read_csv(\"data/useful_ann.csv\")\n",
    "\n",
    "# Check unique tissue types (optional)\n",
    "# print(df[\"characteristics_ch1\"].unique())\n",
    "\n",
    "# Filter out any row where 'characteristics_ch1' contains 'metastasis' (case-insensitive)\n",
    "filtered_df = df[~df[\"tissue\"].str.contains(\"metastases\", case=False, na=False)]\n",
    "\n",
    "# Save the filtered DataFrame\n",
    "filtered_df.to_csv(\"data/useful_ann_no_metastases_maxim.csv\", index=False)\n",
    "\n",
    "# Optional: check how many samples remain\n",
    "print(f\"Filtered annotation saved. Remaining samples: {len(filtered_df)}\")"
   ],
   "outputs": [
    {
     "name": "stdout",
     "output_type": "stream",
     "text": [
      "Filtered annotation saved. Remaining samples: 85\n"
     ]
    }
   ],
   "execution_count": 4
  }
 ],
 "metadata": {
  "kernelspec": {
   "display_name": ".venv",
   "language": "python",
   "name": "python3"
  },
  "language_info": {
   "codemirror_mode": {
    "name": "ipython",
    "version": 3
   },
   "file_extension": ".py",
   "mimetype": "text/x-python",
   "name": "python",
   "nbconvert_exporter": "python",
   "pygments_lexer": "ipython3",
   "version": "3.12.0"
  }
 },
 "nbformat": 4,
 "nbformat_minor": 5
}
