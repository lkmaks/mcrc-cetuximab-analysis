{
 "cells": [
  {
   "cell_type": "code",
   "id": "initial_id",
   "metadata": {
    "ExecuteTime": {
     "end_time": "2025-05-05T18:13:35.762116Z",
     "start_time": "2025-05-05T18:13:35.755662Z"
    }
   },
   "source": [
    "import os\n",
    "import GEOparse as Geo\n",
    "os.chdir('../../')\n",
    "os.getcwd()"
   ],
   "outputs": [
    {
     "data": {
      "text/plain": [
       "'/home'"
      ]
     },
     "execution_count": 13,
     "metadata": {},
     "output_type": "execute_result"
    }
   ],
   "execution_count": 13
  },
  {
   "cell_type": "code",
   "id": "9022226f34d5053d",
   "metadata": {
    "ExecuteTime": {
     "end_time": "2025-05-05T18:13:37.105823Z",
     "start_time": "2025-05-05T18:13:35.815099Z"
    }
   },
   "source": [
    "import pandas as pd\n",
    "\n",
    "def decouple(s):\n",
    "    ls = list(s.split(\"', '\"))\n",
    "    if len(ls) == 3:\n",
    "        ls[0] = ls[0][2:]\n",
    "        ls[2] = ls[2][:-2]\n",
    "    elif len(ls) == 2:\n",
    "        ls[0] = ls[0][2:]\n",
    "        ls[1] = ls[1][:-2]\n",
    "    dc = {s.split(': ')[0]: s.split(': ')[1] for s in ls}\n",
    "    return dc\n",
    "\n",
    "def extend_id(id):\n",
    "    fp, sp = id.split('_')\n",
    "    while len(sp) < 4:\n",
    "        sp = '0' + sp\n",
    "    return fp + '_' + sp\n",
    "\n",
    "def pad_zeros(s, n):\n",
    "    while len(s) < n:\n",
    "        s = '0' + s\n",
    "    return s\n",
    "\n",
    "gse = Geo.get_GEO(filepath=\"raw/GSE183984_family.soft\", silent=True)\n",
    "print('Platform: ', gse.gpls)\n",
    "for key in gse.gsms:\n",
    "    ann = pd.DataFrame(columns=gse.gsms[key].metadata.keys())\n",
    "    break\n",
    "\n",
    "for key in gse.gsms:\n",
    "    ann = pd.concat([ann, pd.DataFrame([gse.gsms[key].metadata], index=[key], dtype=str)])\n",
    "\n",
    "print('Annotation size after collecting it from .SOFT: ', len(ann))\n",
    "\n",
    "new_ann = pd.DataFrame(columns=['sample_id', 'tissue', 'time point', 'treatment response', 'patient_id', 'gsm_id', 'sample_title']).set_index('gsm_id')\n",
    "for i in range(len(ann)):\n",
    "    new_row = decouple(str(ann.iloc[i]['characteristics_ch1']))\n",
    "    # print(new_row)\n",
    "    title = str(ann.iloc[i]['title'])\n",
    "    new_row['sample_id'] = extend_id(title[title.find('[', 1) + 1 : title.find(']')])\n",
    "    new_row['sample_title'] = title[2:title.find(' ')]\n",
    "    new_row['patient_id'] = (lambda s: pad_zeros(''.join(filter(lambda x: x.isdigit(), s)), 4))(new_row['sample_title'])\n",
    "    new_ann = pd.concat([new_ann, pd.DataFrame([new_row], index=[ann.index[i]])])\n",
    "\n",
    "ann = new_ann\n",
    "ann['gsm_id'] = ann.index\n",
    "ann = ann.set_index('sample_id')\n",
    "\n",
    "print('Annotation size after creating new columns: ', len(ann))\n",
    "\n",
    "print('Patient 5 indexes: ', ann.loc[ann['patient_id'] == '0005'].index)\n",
    "ann = ann.loc[ann['patient_id'] != '0005']\n",
    "print('Annotation size after deleting patient 0005: ', len(ann))\n",
    "\n",
    "ann = ann.drop(['18R294_0001'])\n",
    "# this is from patient 0005\n",
    "# ann = ann.drop(['18R697_0005',])\n",
    "print('Annotation size after deleting 18R697_0005, 18R294_0001: ', len(ann))\n",
    "\n",
    "ann = ann.loc[~ann[\"tissue\"].str.contains(\"metastases\", case=False, na=False)]\n",
    "print('Annotation size after deleting metastatic samples: ', len(ann))\n",
    "\n",
    "# setting NaN to pre because it is known from another column (treatment response)\n",
    "ann.loc[ann['time point'].isna(), 'time point'] = 'pre-treatment'\n",
    "\n",
    "def convert_treatment_response(s):\n",
    "    if 'non-PD' in s:\n",
    "        return 'non-PD'\n",
    "    elif 'PD' in s:\n",
    "        return 'PD'\n",
    "    elif s == 'pre-Tx':\n",
    "        return 'unknown'\n",
    "    else:\n",
    "        raise Exception('unexpected treatment response in annotation row')\n",
    "\n",
    "ann['treatment response'] = ann['treatment response'].apply(convert_treatment_response) \n",
    "\n",
    "treatment_response_for_patient = dict()\n",
    "\n",
    "for i in range(len(ann)):\n",
    "    row = ann.iloc[i]\n",
    "    patient_id = row['patient_id']\n",
    "    response = row['treatment response']\n",
    "    time_point = row['time point']\n",
    "    \n",
    "    if time_point == 'pre-treatment' and response != 'unknown':\n",
    "        raise Exception('known response in pre-treatment')\n",
    "    \n",
    "    if time_point == 'post-treatment' and response == 'unknown':\n",
    "        raise Exception('unknown response in post-treatment')\n",
    "    \n",
    "    if response != 'unknown':\n",
    "        if patient_id in treatment_response_for_patient and response != treatment_response_for_patient[patient_id]:\n",
    "            raise Exception('contradictive post-treatment response for patient')\n",
    "        \n",
    "        treatment_response_for_patient[patient_id] = response\n",
    "\n",
    "for i in range(len(ann)):\n",
    "    row = ann.iloc[i]\n",
    "    patient_id = row['patient_id']\n",
    "    response = row['treatment response']\n",
    "    \n",
    "    if response == 'unknown' and patient_id in treatment_response_for_patient:\n",
    "        ann.loc[ann.index[i],'treatment response'] = treatment_response_for_patient[patient_id]\n"
   ],
   "outputs": [
    {
     "ename": "FileNotFoundError",
     "evalue": "[Errno 2] No such file or directory: 'raw/GSE183984_family.soft'",
     "output_type": "error",
     "traceback": [
      "\u001B[31m---------------------------------------------------------------------------\u001B[39m",
      "\u001B[31mFileNotFoundError\u001B[39m                         Traceback (most recent call last)",
      "\u001B[36mCell\u001B[39m\u001B[36m \u001B[39m\u001B[32mIn[14]\u001B[39m\u001B[32m, line 25\u001B[39m\n\u001B[32m     22\u001B[39m         s = \u001B[33m'\u001B[39m\u001B[33m0\u001B[39m\u001B[33m'\u001B[39m + s\n\u001B[32m     23\u001B[39m     \u001B[38;5;28;01mreturn\u001B[39;00m s\n\u001B[32m---> \u001B[39m\u001B[32m25\u001B[39m gse = \u001B[43mGeo\u001B[49m\u001B[43m.\u001B[49m\u001B[43mget_GEO\u001B[49m\u001B[43m(\u001B[49m\u001B[43mfilepath\u001B[49m\u001B[43m=\u001B[49m\u001B[33;43m\"\u001B[39;49m\u001B[33;43mraw/GSE183984_family.soft\u001B[39;49m\u001B[33;43m\"\u001B[39;49m\u001B[43m,\u001B[49m\u001B[43m \u001B[49m\u001B[43msilent\u001B[49m\u001B[43m=\u001B[49m\u001B[38;5;28;43;01mTrue\u001B[39;49;00m\u001B[43m)\u001B[49m\n\u001B[32m     26\u001B[39m \u001B[38;5;28mprint\u001B[39m(\u001B[33m'\u001B[39m\u001B[33mPlatform: \u001B[39m\u001B[33m'\u001B[39m, gse.gpls)\n\u001B[32m     27\u001B[39m \u001B[38;5;28;01mfor\u001B[39;00m key \u001B[38;5;129;01min\u001B[39;00m gse.gsms:\n",
      "\u001B[36mFile \u001B[39m\u001B[32m~/mcrc-cetuximab-analysis/.venv/lib/python3.12/site-packages/GEOparse/GEOparse.py:113\u001B[39m, in \u001B[36mget_GEO\u001B[39m\u001B[34m(geo, filepath, destdir, how, annotate_gpl, geotype, include_data, silent, aspera, partial, open_kwargs)\u001B[39m\n\u001B[32m    111\u001B[39m     \u001B[38;5;28;01mreturn\u001B[39;00m parse_GSM(filepath, open_kwargs=open_kwargs)\n\u001B[32m    112\u001B[39m \u001B[38;5;28;01melif\u001B[39;00m geotype.upper() == \u001B[33m\"\u001B[39m\u001B[33mGSE\u001B[39m\u001B[33m\"\u001B[39m:\n\u001B[32m--> \u001B[39m\u001B[32m113\u001B[39m     \u001B[38;5;28;01mreturn\u001B[39;00m \u001B[43mparse_GSE\u001B[49m\u001B[43m(\u001B[49m\u001B[43mfilepath\u001B[49m\u001B[43m,\u001B[49m\u001B[43m \u001B[49m\u001B[43mopen_kwargs\u001B[49m\u001B[43m=\u001B[49m\u001B[43mopen_kwargs\u001B[49m\u001B[43m)\u001B[49m\n\u001B[32m    114\u001B[39m \u001B[38;5;28;01melif\u001B[39;00m geotype.upper() == \u001B[33m\"\u001B[39m\u001B[33mGPL\u001B[39m\u001B[33m\"\u001B[39m:\n\u001B[32m    115\u001B[39m     \u001B[38;5;28;01mreturn\u001B[39;00m parse_GPL(filepath, partial=partial, open_kwargs=open_kwargs)\n",
      "\u001B[36mFile \u001B[39m\u001B[32m~/mcrc-cetuximab-analysis/.venv/lib/python3.12/site-packages/GEOparse/GEOparse.py:586\u001B[39m, in \u001B[36mparse_GSE\u001B[39m\u001B[34m(filepath, open_kwargs)\u001B[39m\n\u001B[32m    584\u001B[39m metadata = {}\n\u001B[32m    585\u001B[39m gse_name = \u001B[38;5;28;01mNone\u001B[39;00m\n\u001B[32m--> \u001B[39m\u001B[32m586\u001B[39m \u001B[43m\u001B[49m\u001B[38;5;28;43;01mwith\u001B[39;49;00m\u001B[43m \u001B[49m\u001B[43mutils\u001B[49m\u001B[43m.\u001B[49m\u001B[43msmart_open\u001B[49m\u001B[43m(\u001B[49m\u001B[43mfilepath\u001B[49m\u001B[43m,\u001B[49m\u001B[43m \u001B[49m\u001B[43m*\u001B[49m\u001B[43m*\u001B[49m\u001B[43mopen_kwargs\u001B[49m\u001B[43m)\u001B[49m\u001B[43m \u001B[49m\u001B[38;5;28;43;01mas\u001B[39;49;00m\u001B[43m \u001B[49m\u001B[43msoft\u001B[49m\u001B[43m:\u001B[49m\n\u001B[32m    587\u001B[39m \u001B[43m    \u001B[49m\u001B[43mgroupper\u001B[49m\u001B[43m \u001B[49m\u001B[43m=\u001B[49m\u001B[43m \u001B[49m\u001B[43mgroupby\u001B[49m\u001B[43m(\u001B[49m\u001B[43msoft\u001B[49m\u001B[43m,\u001B[49m\u001B[43m \u001B[49m\u001B[38;5;28;43;01mlambda\u001B[39;49;00m\u001B[43m \u001B[49m\u001B[43mx\u001B[49m\u001B[43m:\u001B[49m\u001B[43m \u001B[49m\u001B[43mx\u001B[49m\u001B[43m.\u001B[49m\u001B[43mstartswith\u001B[49m\u001B[43m(\u001B[49m\u001B[33;43m\"\u001B[39;49m\u001B[33;43m^\u001B[39;49m\u001B[33;43m\"\u001B[39;49m\u001B[43m)\u001B[49m\u001B[43m)\u001B[49m\n\u001B[32m    588\u001B[39m \u001B[43m    \u001B[49m\u001B[38;5;28;43;01mfor\u001B[39;49;00m\u001B[43m \u001B[49m\u001B[43mis_new_entry\u001B[49m\u001B[43m,\u001B[49m\u001B[43m \u001B[49m\u001B[43mgroup\u001B[49m\u001B[43m \u001B[49m\u001B[38;5;129;43;01min\u001B[39;49;00m\u001B[43m \u001B[49m\u001B[43mgroupper\u001B[49m\u001B[43m:\u001B[49m\n",
      "\u001B[36mFile \u001B[39m\u001B[32m~/.pyenv/versions/3.12.0/lib/python3.12/contextlib.py:137\u001B[39m, in \u001B[36m_GeneratorContextManager.__enter__\u001B[39m\u001B[34m(self)\u001B[39m\n\u001B[32m    135\u001B[39m \u001B[38;5;28;01mdel\u001B[39;00m \u001B[38;5;28mself\u001B[39m.args, \u001B[38;5;28mself\u001B[39m.kwds, \u001B[38;5;28mself\u001B[39m.func\n\u001B[32m    136\u001B[39m \u001B[38;5;28;01mtry\u001B[39;00m:\n\u001B[32m--> \u001B[39m\u001B[32m137\u001B[39m     \u001B[38;5;28;01mreturn\u001B[39;00m \u001B[38;5;28;43mnext\u001B[39;49m\u001B[43m(\u001B[49m\u001B[38;5;28;43mself\u001B[39;49m\u001B[43m.\u001B[49m\u001B[43mgen\u001B[49m\u001B[43m)\u001B[49m\n\u001B[32m    138\u001B[39m \u001B[38;5;28;01mexcept\u001B[39;00m \u001B[38;5;167;01mStopIteration\u001B[39;00m:\n\u001B[32m    139\u001B[39m     \u001B[38;5;28;01mraise\u001B[39;00m \u001B[38;5;167;01mRuntimeError\u001B[39;00m(\u001B[33m\"\u001B[39m\u001B[33mgenerator didn\u001B[39m\u001B[33m'\u001B[39m\u001B[33mt yield\u001B[39m\u001B[33m\"\u001B[39m) \u001B[38;5;28;01mfrom\u001B[39;00m\u001B[38;5;250m \u001B[39m\u001B[38;5;28;01mNone\u001B[39;00m\n",
      "\u001B[36mFile \u001B[39m\u001B[32m~/mcrc-cetuximab-analysis/.venv/lib/python3.12/site-packages/GEOparse/utils.py:110\u001B[39m, in \u001B[36msmart_open\u001B[39m\u001B[34m(filepath, **open_kwargs)\u001B[39m\n\u001B[32m    108\u001B[39m     fh = fopen(filepath, **open_kwargs)\n\u001B[32m    109\u001B[39m \u001B[38;5;28;01melse\u001B[39;00m:\n\u001B[32m--> \u001B[39m\u001B[32m110\u001B[39m     fh = \u001B[43mfopen\u001B[49m\u001B[43m(\u001B[49m\u001B[43mfilepath\u001B[49m\u001B[43m,\u001B[49m\u001B[43m \u001B[49m\u001B[43m*\u001B[49m\u001B[43m*\u001B[49m\u001B[43mopen_kwargs\u001B[49m\u001B[43m)\u001B[49m\n\u001B[32m    111\u001B[39m \u001B[38;5;28;01mtry\u001B[39;00m:\n\u001B[32m    112\u001B[39m     \u001B[38;5;28;01myield\u001B[39;00m fh\n",
      "\u001B[31mFileNotFoundError\u001B[39m: [Errno 2] No such file or directory: 'raw/GSE183984_family.soft'"
     ]
    }
   ],
   "execution_count": 14
  },
  {
   "metadata": {
    "ExecuteTime": {
     "end_time": "2025-05-05T18:13:37.116897454Z",
     "start_time": "2025-05-05T18:12:39.108911Z"
    }
   },
   "cell_type": "code",
   "source": "ann.index",
   "id": "7a132a200a470228",
   "outputs": [
    {
     "data": {
      "text/plain": [
       "Index(['18R649_0010', '18R654_0015', '18R669_0001', '18R670_0002',\n",
       "       '18R674_0006', '18R678_0010', '18R683_0015', '18R694_0002',\n",
       "       '18R699_0007', '18R700_0008', '18R429_0009', '18R298_0010',\n",
       "       '18R647_0008', '18R648_0009', '18R295_0003', '18R296_0008',\n",
       "       '18R178_0022', '18R177_0021', '18R299_0025', '18R300_0027',\n",
       "       '18R659_0020', '18R661_0021', '18R301_0002', '18R302_0004',\n",
       "       '18R663_0027', '18R664_0001', '18R307_0013', '18R319_0014',\n",
       "       '18R685_0018', '18R642_0003', '18R645_0006', '18R653_0014',\n",
       "       '18R432_0012', '18R434_0014', '18R460_0001', '18R695_0003',\n",
       "       '18R473_0014', '18R443_0022', '18R436_0016', '18R421_0001',\n",
       "       '18R463_0004', '18R472_0013', '18R426_0006', '18R427_0007',\n",
       "       '18R508_0011', '18R433_0013', '18R435_0015', '18R437_0018',\n",
       "       '18R449_0023', '18R438_0019', '18R440_0020', '18R456_0002',\n",
       "       '18R457_0023', '18R458_0025', '18R459_0027', '18R461_0002',\n",
       "       '18R462_0003', '18R464_0005', '18R468_0009', '18R469_0010',\n",
       "       '18R470_0011', '18R471_0012', '18R474_0015', '18R475_0016',\n",
       "       '18R476_0018', '18R640_0001', '18R701_0009', '18R478_0020',\n",
       "       '18R479_0021', '18R480_0022', '18R702_0010', '18R656_0018',\n",
       "       '18R657_0019', '18R673_0005', '18R465_0006', '18R454_0027',\n",
       "       '18R477_0019', '18R507_0004', '18R428_0008', '18R705_0013'],\n",
       "      dtype='object', name='sample_id')"
      ]
     },
     "execution_count": 3,
     "metadata": {},
     "output_type": "execute_result"
    }
   ],
   "execution_count": 3
  },
  {
   "metadata": {
    "ExecuteTime": {
     "end_time": "2025-05-05T18:13:37.117513267Z",
     "start_time": "2025-05-05T18:12:39.176829Z"
    }
   },
   "cell_type": "code",
   "source": "ann['tissue'].value_counts()",
   "id": "430ce6af-0b28-4b3d-b563-c68afa156056",
   "outputs": [
    {
     "data": {
      "text/plain": [
       "tissue\n",
       "primary tumor (colorectum)    80\n",
       "Name: count, dtype: int64"
      ]
     },
     "execution_count": 4,
     "metadata": {},
     "output_type": "execute_result"
    }
   ],
   "execution_count": 4
  },
  {
   "metadata": {
    "ExecuteTime": {
     "end_time": "2025-05-05T18:13:37.117833221Z",
     "start_time": "2025-05-05T18:12:39.336333Z"
    }
   },
   "cell_type": "code",
   "source": "ann['time point'].value_counts()",
   "id": "02dafb53-4e85-4cac-aa37-740da19e4609",
   "outputs": [
    {
     "data": {
      "text/plain": [
       "time point\n",
       "pre-treatment     67\n",
       "post-treatment    13\n",
       "Name: count, dtype: int64"
      ]
     },
     "execution_count": 5,
     "metadata": {},
     "output_type": "execute_result"
    }
   ],
   "execution_count": 5
  },
  {
   "metadata": {
    "ExecuteTime": {
     "end_time": "2025-05-05T18:13:37.118789244Z",
     "start_time": "2025-05-05T18:12:39.399256Z"
    }
   },
   "cell_type": "code",
   "source": "ann['treatment response'].value_counts()",
   "id": "2a989014-3c99-43bf-ad9f-4d83065a9b81",
   "outputs": [
    {
     "data": {
      "text/plain": [
       "treatment response\n",
       "unknown    42\n",
       "non-PD     27\n",
       "PD         11\n",
       "Name: count, dtype: int64"
      ]
     },
     "execution_count": 6,
     "metadata": {},
     "output_type": "execute_result"
    }
   ],
   "execution_count": 6
  },
  {
   "metadata": {
    "ExecuteTime": {
     "end_time": "2025-05-05T18:13:37.119122678Z",
     "start_time": "2025-05-05T18:12:39.639579Z"
    }
   },
   "cell_type": "code",
   "source": "ann['patient_id'].value_counts().sort_index()",
   "id": "e8f36d69-733d-45c1-924c-f1218af74753",
   "outputs": [
    {
     "data": {
      "text/plain": [
       "patient_id\n",
       "0001    3\n",
       "0002    3\n",
       "0003    1\n",
       "0004    3\n",
       "0006    3\n",
       "0007    1\n",
       "0008    3\n",
       "0009    1\n",
       "0010    3\n",
       "0011    2\n",
       "0012    3\n",
       "0013    3\n",
       "0014    3\n",
       "0015    4\n",
       "0016    2\n",
       "0017    1\n",
       "0018    1\n",
       "0019    1\n",
       "0020    2\n",
       "0021    3\n",
       "0022    1\n",
       "0023    1\n",
       "0024    1\n",
       "0026    1\n",
       "0027    1\n",
       "0028    1\n",
       "0029    2\n",
       "0030    1\n",
       "0031    1\n",
       "0032    2\n",
       "0033    1\n",
       "0034    1\n",
       "0035    1\n",
       "0036    1\n",
       "0037    1\n",
       "0038    1\n",
       "0040    1\n",
       "0041    1\n",
       "0042    1\n",
       "0043    1\n",
       "0044    1\n",
       "0045    1\n",
       "0046    1\n",
       "0047    1\n",
       "0048    1\n",
       "0049    1\n",
       "0050    1\n",
       "0051    1\n",
       "0052    1\n",
       "0054    1\n",
       "0055    1\n",
       "0061    1\n",
       "Name: count, dtype: int64"
      ]
     },
     "execution_count": 7,
     "metadata": {},
     "output_type": "execute_result"
    }
   ],
   "execution_count": 7
  },
  {
   "metadata": {
    "ExecuteTime": {
     "end_time": "2025-05-05T18:13:37.119518273Z",
     "start_time": "2025-05-05T18:12:40.011377Z"
    }
   },
   "cell_type": "code",
   "source": "ann[ann['time point'] == 'post-treatment']['treatment response'].value_counts()",
   "id": "6a23df2fc1ed1d28",
   "outputs": [
    {
     "data": {
      "text/plain": [
       "treatment response\n",
       "non-PD    9\n",
       "PD        4\n",
       "Name: count, dtype: int64"
      ]
     },
     "execution_count": 8,
     "metadata": {},
     "output_type": "execute_result"
    }
   ],
   "execution_count": 8
  },
  {
   "metadata": {
    "ExecuteTime": {
     "end_time": "2025-05-05T18:13:37.119938175Z",
     "start_time": "2025-05-05T18:12:40.190141Z"
    }
   },
   "cell_type": "code",
   "source": "ann[ann['time point'] == 'pre-treatment']['treatment response'].value_counts()",
   "id": "c61ecc687477b54a",
   "outputs": [
    {
     "data": {
      "text/plain": [
       "treatment response\n",
       "unknown    42\n",
       "non-PD     18\n",
       "PD          7\n",
       "Name: count, dtype: int64"
      ]
     },
     "execution_count": 9,
     "metadata": {},
     "output_type": "execute_result"
    }
   ],
   "execution_count": 9
  },
  {
   "metadata": {
    "ExecuteTime": {
     "end_time": "2025-05-05T18:13:37.120251983Z",
     "start_time": "2025-05-05T18:12:40.568674Z"
    }
   },
   "cell_type": "code",
   "source": "ann.to_csv('data/ann.csv', index=True)",
   "id": "43800b0778add8c6",
   "outputs": [],
   "execution_count": 10
  }
 ],
 "metadata": {
  "kernelspec": {
   "display_name": "Python 3 (ipykernel)",
   "language": "python",
   "name": "python3"
  },
  "language_info": {
   "codemirror_mode": {
    "name": "ipython",
    "version": 3
   },
   "file_extension": ".py",
   "mimetype": "text/x-python",
   "name": "python",
   "nbconvert_exporter": "python",
   "pygments_lexer": "ipython3",
   "version": "3.12.0"
  }
 },
 "nbformat": 4,
 "nbformat_minor": 5
}
