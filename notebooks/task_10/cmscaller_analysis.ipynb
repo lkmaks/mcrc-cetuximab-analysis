{
 "cells": [
  {
   "cell_type": "code",
   "execution_count": 1,
   "id": "04b41d12",
   "metadata": {
    "vscode": {
     "languageId": "r"
    }
   },
   "outputs": [
    {
     "name": "stderr",
     "output_type": "stream",
     "text": [
      "Loading required package: BiocGenerics\n",
      "\n",
      "Loading required package: generics\n",
      "\n",
      "\n",
      "Attaching package: 'generics'\n",
      "\n",
      "\n",
      "The following objects are masked from 'package:base':\n",
      "\n",
      "    as.difftime, as.factor, as.ordered, intersect, is.element, setdiff,\n",
      "    setequal, union\n",
      "\n",
      "\n",
      "\n",
      "Attaching package: 'BiocGenerics'\n",
      "\n",
      "\n",
      "The following objects are masked from 'package:stats':\n",
      "\n",
      "    IQR, mad, sd, var, xtabs\n",
      "\n",
      "\n",
      "The following objects are masked from 'package:base':\n",
      "\n",
      "    anyDuplicated, aperm, append, as.data.frame, basename, cbind,\n",
      "    colnames, dirname, do.call, duplicated, eval, evalq, Filter, Find,\n",
      "    get, grep, grepl, is.unsorted, lapply, Map, mapply, match, mget,\n",
      "    order, paste, pmax, pmax.int, pmin, pmin.int, Position, rank,\n",
      "    rbind, Reduce, rownames, sapply, saveRDS, table, tapply, unique,\n",
      "    unsplit, which.max, which.min\n",
      "\n",
      "\n",
      "Welcome to Bioconductor\n",
      "\n",
      "    Vignettes contain introductory material; view with\n",
      "    'browseVignettes()'. To cite Bioconductor, see\n",
      "    'citation(\"Biobase\")', and for packages 'citation(\"pkgname\")'.\n",
      "\n",
      "\n",
      "CMScaller v0.9.2; GENCODE v26/GRCh38.p10 (Brainarray v22)\n",
      "\n",
      "\n",
      "Attaching package: 'purrr'\n",
      "\n",
      "\n",
      "The following object is masked from 'package:data.table':\n",
      "\n",
      "    transpose\n",
      "\n",
      "\n",
      "\n",
      "Attaching package: 'dplyr'\n",
      "\n",
      "\n",
      "The following objects are masked from 'package:data.table':\n",
      "\n",
      "    between, first, last\n",
      "\n",
      "\n",
      "The following object is masked from 'package:Biobase':\n",
      "\n",
      "    combine\n",
      "\n",
      "\n",
      "The following objects are masked from 'package:BiocGenerics':\n",
      "\n",
      "    combine, intersect, setdiff, setequal, union\n",
      "\n",
      "\n",
      "The following object is masked from 'package:generics':\n",
      "\n",
      "    explain\n",
      "\n",
      "\n",
      "The following objects are masked from 'package:stats':\n",
      "\n",
      "    filter, lag\n",
      "\n",
      "\n",
      "The following objects are masked from 'package:base':\n",
      "\n",
      "    intersect, setdiff, setequal, union\n",
      "\n",
      "\n"
     ]
    }
   ],
   "source": [
    "# Load required packages\n",
    "library(Biobase)\n",
    "library(CMScaller)\n",
    "library(data.table)\n",
    "library(purrr)\n",
    "library(dplyr)\n",
    "library(forcats)"
   ]
  },
  {
   "cell_type": "code",
   "execution_count": 2,
   "id": "71d5ad31",
   "metadata": {
    "vscode": {
     "languageId": "r"
    }
   },
   "outputs": [],
   "source": [
    "# Load annotation data\n",
    "ann <- read.table(\"../../data/ann.csv\", sep = \",\", header = TRUE, row.names = 1)\n",
    "\n",
    "# Load expression data (using data.table for efficiency)\n",
    "log_tmps <- fread(\"../../data/log_tpms_from_fpkm_hgnc_filtered_by_ann.csv\")\n",
    "\n",
    "# Prepare expression matrix\n",
    "sample_ids <- log_tmps$sample_id\n",
    "expr_df <- as.data.frame(log_tmps[, -1, with = FALSE])\n",
    "rownames(expr_df) <- sample_ids"
   ]
  },
  {
   "cell_type": "code",
   "execution_count": 3,
   "id": "9d8d8b3d",
   "metadata": {
    "vscode": {
     "languageId": "r"
    }
   },
   "outputs": [],
   "source": [
    "# Convert to matrix and transpose (genes as rows, samples as columns)\n",
    "expr_mat <- t(as.matrix(expr_df))\n",
    "rownames(expr_mat) <- colnames(log_tmps)[-1]  # Gene names as row names\n",
    "colnames(expr_mat) <- sample_ids             # Sample IDs as column names\n",
    "storage.mode(expr_mat) <- \"numeric\"          # Ensure numeric data type\n",
    "\n",
    "# Verify annotation matches expression data\n",
    "if(!all(rownames(ann) == colnames(expr_mat))) {\n",
    "  stop(\"Annotation and expression sample IDs don't match!\")\n",
    "}\n",
    "\n",
    "# Create ExpressionSet object\n",
    "phen_data <- new(\"AnnotatedDataFrame\", data = ann)\n",
    "expr_dat <- ExpressionSet(assayData = expr_mat, phenoData = phen_data)\n",
    "\n",
    "# Extract expression matrix\n",
    "counts <- exprs(expr_dat)"
   ]
  },
  {
   "cell_type": "code",
   "execution_count": 4,
   "id": "69431703",
   "metadata": {
    "vscode": {
     "languageId": "r"
    }
   },
   "outputs": [
    {
     "name": "stderr",
     "output_type": "stream",
     "text": [
      "1029/19388 rownames [NA.number] (no valid translation)\n",
      "\n",
      "0/19388 rownames [id.number] (translation gives duplicates)\n",
      "\n",
      "performing log2-transform and quantile normalization...\n",
      "\n",
      "cosine correlation distance\n",
      "\n",
      "17/530 templates features not in emat, discarded\n",
      "\n",
      "80 samples; 4 classes; 79-227 features/class\n",
      "\n",
      "serial processing; 1000 permutation(s)...\n",
      "\n",
      "predicted samples/class (FDR<0.05)\n",
      "\n"
     ]
    },
    {
     "name": "stdout",
     "output_type": "stream",
     "text": [
      "\n",
      "CMS1 CMS2 CMS3 CMS4 <NA> \n",
      "   7   16    9   26   22 \n"
     ]
    },
    {
     "name": "stderr",
     "output_type": "stream",
     "text": [
      "22/80 samples set to NA\n",
      "\n"
     ]
    },
    {
     "data": {
      "text/html": [
       "<table class=\"dataframe\">\n",
       "<caption>A data.frame: 6 × 7</caption>\n",
       "<thead>\n",
       "\t<tr><th></th><th scope=col>prediction</th><th scope=col>d.CMS1</th><th scope=col>d.CMS2</th><th scope=col>d.CMS3</th><th scope=col>d.CMS4</th><th scope=col>p.value</th><th scope=col>FDR</th></tr>\n",
       "\t<tr><th></th><th scope=col>&lt;fct&gt;</th><th scope=col>&lt;dbl&gt;</th><th scope=col>&lt;dbl&gt;</th><th scope=col>&lt;dbl&gt;</th><th scope=col>&lt;dbl&gt;</th><th scope=col>&lt;dbl&gt;</th><th scope=col>&lt;dbl&gt;</th></tr>\n",
       "</thead>\n",
       "<tbody>\n",
       "\t<tr><th scope=row>18R649_0010</th><td>CMS4</td><td>0.6941103</td><td>0.7634178</td><td>0.6233271</td><td>0.5566742</td><td>0.0010000</td><td>0.001632653</td></tr>\n",
       "\t<tr><th scope=row>18R654_0015</th><td>NA  </td><td>0.7491865</td><td>0.6901596</td><td>0.7061519</td><td>0.8717155</td><td>0.7232767</td><td>0.781920782</td></tr>\n",
       "\t<tr><th scope=row>18R669_0001</th><td>CMS3</td><td>0.6904723</td><td>0.7295721</td><td>0.6214577</td><td>0.8010410</td><td>0.0010000</td><td>0.001632653</td></tr>\n",
       "\t<tr><th scope=row>18R670_0002</th><td>CMS4</td><td>0.6941481</td><td>0.6510916</td><td>0.7813200</td><td>0.6204606</td><td>0.0010000</td><td>0.001632653</td></tr>\n",
       "\t<tr><th scope=row>18R674_0006</th><td>CMS4</td><td>0.6931502</td><td>0.6934316</td><td>0.7219994</td><td>0.4059597</td><td>0.0010000</td><td>0.001632653</td></tr>\n",
       "\t<tr><th scope=row>18R678_0010</th><td>CMS4</td><td>0.7284895</td><td>0.7141267</td><td>0.7284297</td><td>0.6113539</td><td>0.0010000</td><td>0.001632653</td></tr>\n",
       "</tbody>\n",
       "</table>\n"
      ],
      "text/latex": [
       "A data.frame: 6 × 7\n",
       "\\begin{tabular}{r|lllllll}\n",
       "  & prediction & d.CMS1 & d.CMS2 & d.CMS3 & d.CMS4 & p.value & FDR\\\\\n",
       "  & <fct> & <dbl> & <dbl> & <dbl> & <dbl> & <dbl> & <dbl>\\\\\n",
       "\\hline\n",
       "\t18R649\\_0010 & CMS4 & 0.6941103 & 0.7634178 & 0.6233271 & 0.5566742 & 0.0010000 & 0.001632653\\\\\n",
       "\t18R654\\_0015 & NA   & 0.7491865 & 0.6901596 & 0.7061519 & 0.8717155 & 0.7232767 & 0.781920782\\\\\n",
       "\t18R669\\_0001 & CMS3 & 0.6904723 & 0.7295721 & 0.6214577 & 0.8010410 & 0.0010000 & 0.001632653\\\\\n",
       "\t18R670\\_0002 & CMS4 & 0.6941481 & 0.6510916 & 0.7813200 & 0.6204606 & 0.0010000 & 0.001632653\\\\\n",
       "\t18R674\\_0006 & CMS4 & 0.6931502 & 0.6934316 & 0.7219994 & 0.4059597 & 0.0010000 & 0.001632653\\\\\n",
       "\t18R678\\_0010 & CMS4 & 0.7284895 & 0.7141267 & 0.7284297 & 0.6113539 & 0.0010000 & 0.001632653\\\\\n",
       "\\end{tabular}\n"
      ],
      "text/markdown": [
       "\n",
       "A data.frame: 6 × 7\n",
       "\n",
       "| <!--/--> | prediction &lt;fct&gt; | d.CMS1 &lt;dbl&gt; | d.CMS2 &lt;dbl&gt; | d.CMS3 &lt;dbl&gt; | d.CMS4 &lt;dbl&gt; | p.value &lt;dbl&gt; | FDR &lt;dbl&gt; |\n",
       "|---|---|---|---|---|---|---|---|\n",
       "| 18R649_0010 | CMS4 | 0.6941103 | 0.7634178 | 0.6233271 | 0.5566742 | 0.0010000 | 0.001632653 |\n",
       "| 18R654_0015 | NA   | 0.7491865 | 0.6901596 | 0.7061519 | 0.8717155 | 0.7232767 | 0.781920782 |\n",
       "| 18R669_0001 | CMS3 | 0.6904723 | 0.7295721 | 0.6214577 | 0.8010410 | 0.0010000 | 0.001632653 |\n",
       "| 18R670_0002 | CMS4 | 0.6941481 | 0.6510916 | 0.7813200 | 0.6204606 | 0.0010000 | 0.001632653 |\n",
       "| 18R674_0006 | CMS4 | 0.6931502 | 0.6934316 | 0.7219994 | 0.4059597 | 0.0010000 | 0.001632653 |\n",
       "| 18R678_0010 | CMS4 | 0.7284895 | 0.7141267 | 0.7284297 | 0.6113539 | 0.0010000 | 0.001632653 |\n",
       "\n"
      ],
      "text/plain": [
       "            prediction d.CMS1    d.CMS2    d.CMS3    d.CMS4    p.value  \n",
       "18R649_0010 CMS4       0.6941103 0.7634178 0.6233271 0.5566742 0.0010000\n",
       "18R654_0015 NA         0.7491865 0.6901596 0.7061519 0.8717155 0.7232767\n",
       "18R669_0001 CMS3       0.6904723 0.7295721 0.6214577 0.8010410 0.0010000\n",
       "18R670_0002 CMS4       0.6941481 0.6510916 0.7813200 0.6204606 0.0010000\n",
       "18R674_0006 CMS4       0.6931502 0.6934316 0.7219994 0.4059597 0.0010000\n",
       "18R678_0010 CMS4       0.7284895 0.7141267 0.7284297 0.6113539 0.0010000\n",
       "            FDR        \n",
       "18R649_0010 0.001632653\n",
       "18R654_0015 0.781920782\n",
       "18R669_0001 0.001632653\n",
       "18R670_0002 0.001632653\n",
       "18R674_0006 0.001632653\n",
       "18R678_0010 0.001632653"
      ]
     },
     "metadata": {},
     "output_type": "display_data"
    },
    {
     "data": {
      "image/png": "[encoded data removed]",
      "text/plain": [
       "plot without title"
      ]
     },
     "metadata": {
      "image/png": {
       "height": 420,
       "width": 420
      }
     },
     "output_type": "display_data"
    }
   ],
   "source": [
    "# Run CMS classification with visualization\n",
    "par(mfrow = c(1, 2))  # Set up 1x2 plot layout\n",
    "cms_results <- CMScaller(\n",
    "  emat = counts,\n",
    "  RNAseq = TRUE,      # Specify RNA-seq data\n",
    "  FDR = 0.05,         # False discovery rate threshold\n",
    "  rowNames = \"symbol\" # Indicate row names are gene symbols\n",
    ")\n",
    "\n",
    "head(cms_results)"
   ]
  },
  {
   "cell_type": "code",
   "execution_count": 5,
   "id": "3bfc09af",
   "metadata": {
    "vscode": {
     "languageId": "r"
    }
   },
   "outputs": [
    {
     "data": {
      "text/html": [
       "<style>\n",
       ".list-inline {list-style: none; margin:0; padding: 0}\n",
       ".list-inline>li {display: inline-block}\n",
       ".list-inline>li:not(:last-child)::after {content: \"\\00b7\"; padding: 0 .5ex}\n",
       "</style>\n",
       "<ol class=list-inline><li>CMS4</li><li>&lt;NA&gt;</li><li>CMS3</li><li>CMS4</li><li>CMS4</li><li>CMS4</li><li>&lt;NA&gt;</li><li>CMS4</li><li>CMS3</li><li>CMS4</li><li>CMS4</li><li>CMS2</li><li>CMS1</li><li>CMS3</li><li>CMS4</li><li>&lt;NA&gt;</li><li>&lt;NA&gt;</li><li>CMS3</li><li>CMS3</li><li>CMS1</li><li>CMS4</li><li>&lt;NA&gt;</li><li>CMS2</li><li>&lt;NA&gt;</li><li>&lt;NA&gt;</li><li>CMS2</li><li>&lt;NA&gt;</li><li>CMS4</li><li>CMS4</li><li>CMS4</li><li>CMS1</li><li>CMS4</li><li>&lt;NA&gt;</li><li>&lt;NA&gt;</li><li>CMS2</li><li>CMS4</li><li>CMS3</li><li>&lt;NA&gt;</li><li>CMS2</li><li>CMS4</li><li>&lt;NA&gt;</li><li>CMS2</li><li>CMS2</li><li>&lt;NA&gt;</li><li>&lt;NA&gt;</li><li>&lt;NA&gt;</li><li>CMS4</li><li>&lt;NA&gt;</li><li>CMS4</li><li>CMS2</li><li>CMS4</li><li>CMS1</li><li>CMS1</li><li>CMS2</li><li>CMS2</li><li>CMS1</li><li>&lt;NA&gt;</li><li>CMS4</li><li>&lt;NA&gt;</li><li>CMS4</li><li>CMS4</li><li>&lt;NA&gt;</li><li>CMS2</li><li>CMS2</li><li>CMS2</li><li>CMS4</li><li>CMS4</li><li>&lt;NA&gt;</li><li>CMS3</li><li>CMS3</li><li>CMS4</li><li>&lt;NA&gt;</li><li>CMS2</li><li>CMS1</li><li>&lt;NA&gt;</li><li>CMS4</li><li>CMS2</li><li>CMS2</li><li>CMS4</li><li>CMS3</li></ol>\n",
       "\n",
       "<details>\n",
       "\t<summary style=display:list-item;cursor:pointer>\n",
       "\t\t<strong>Levels</strong>:\n",
       "\t</summary>\n",
       "\t<style>\n",
       "\t.list-inline {list-style: none; margin:0; padding: 0}\n",
       "\t.list-inline>li {display: inline-block}\n",
       "\t.list-inline>li:not(:last-child)::after {content: \"\\00b7\"; padding: 0 .5ex}\n",
       "\t</style>\n",
       "\t<ol class=list-inline><li>'CMS1'</li><li>'CMS2'</li><li>'CMS3'</li><li>'CMS4'</li></ol>\n",
       "</details>"
      ],
      "text/latex": [
       "\\begin{enumerate*}\n",
       "\\item CMS4\n",
       "\\item <NA>\n",
       "\\item CMS3\n",
       "\\item CMS4\n",
       "\\item CMS4\n",
       "\\item CMS4\n",
       "\\item <NA>\n",
       "\\item CMS4\n",
       "\\item CMS3\n",
       "\\item CMS4\n",
       "\\item CMS4\n",
       "\\item CMS2\n",
       "\\item CMS1\n",
       "\\item CMS3\n",
       "\\item CMS4\n",
       "\\item <NA>\n",
       "\\item <NA>\n",
       "\\item CMS3\n",
       "\\item CMS3\n",
       "\\item CMS1\n",
       "\\item CMS4\n",
       "\\item <NA>\n",
       "\\item CMS2\n",
       "\\item <NA>\n",
       "\\item <NA>\n",
       "\\item CMS2\n",
       "\\item <NA>\n",
       "\\item CMS4\n",
       "\\item CMS4\n",
       "\\item CMS4\n",
       "\\item CMS1\n",
       "\\item CMS4\n",
       "\\item <NA>\n",
       "\\item <NA>\n",
       "\\item CMS2\n",
       "\\item CMS4\n",
       "\\item CMS3\n",
       "\\item <NA>\n",
       "\\item CMS2\n",
       "\\item CMS4\n",
       "\\item <NA>\n",
       "\\item CMS2\n",
       "\\item CMS2\n",
       "\\item <NA>\n",
       "\\item <NA>\n",
       "\\item <NA>\n",
       "\\item CMS4\n",
       "\\item <NA>\n",
       "\\item CMS4\n",
       "\\item CMS2\n",
       "\\item CMS4\n",
       "\\item CMS1\n",
       "\\item CMS1\n",
       "\\item CMS2\n",
       "\\item CMS2\n",
       "\\item CMS1\n",
       "\\item <NA>\n",
       "\\item CMS4\n",
       "\\item <NA>\n",
       "\\item CMS4\n",
       "\\item CMS4\n",
       "\\item <NA>\n",
       "\\item CMS2\n",
       "\\item CMS2\n",
       "\\item CMS2\n",
       "\\item CMS4\n",
       "\\item CMS4\n",
       "\\item <NA>\n",
       "\\item CMS3\n",
       "\\item CMS3\n",
       "\\item CMS4\n",
       "\\item <NA>\n",
       "\\item CMS2\n",
       "\\item CMS1\n",
       "\\item <NA>\n",
       "\\item CMS4\n",
       "\\item CMS2\n",
       "\\item CMS2\n",
       "\\item CMS4\n",
       "\\item CMS3\n",
       "\\end{enumerate*}\n",
       "\n",
       "\\emph{Levels}: \\begin{enumerate*}\n",
       "\\item 'CMS1'\n",
       "\\item 'CMS2'\n",
       "\\item 'CMS3'\n",
       "\\item 'CMS4'\n",
       "\\end{enumerate*}\n"
      ],
      "text/markdown": [
       "1. CMS4\n",
       "2. &lt;NA&gt;\n",
       "3. CMS3\n",
       "4. CMS4\n",
       "5. CMS4\n",
       "6. CMS4\n",
       "7. &lt;NA&gt;\n",
       "8. CMS4\n",
       "9. CMS3\n",
       "10. CMS4\n",
       "11. CMS4\n",
       "12. CMS2\n",
       "13. CMS1\n",
       "14. CMS3\n",
       "15. CMS4\n",
       "16. &lt;NA&gt;\n",
       "17. &lt;NA&gt;\n",
       "18. CMS3\n",
       "19. CMS3\n",
       "20. CMS1\n",
       "21. CMS4\n",
       "22. &lt;NA&gt;\n",
       "23. CMS2\n",
       "24. &lt;NA&gt;\n",
       "25. &lt;NA&gt;\n",
       "26. CMS2\n",
       "27. &lt;NA&gt;\n",
       "28. CMS4\n",
       "29. CMS4\n",
       "30. CMS4\n",
       "31. CMS1\n",
       "32. CMS4\n",
       "33. &lt;NA&gt;\n",
       "34. &lt;NA&gt;\n",
       "35. CMS2\n",
       "36. CMS4\n",
       "37. CMS3\n",
       "38. &lt;NA&gt;\n",
       "39. CMS2\n",
       "40. CMS4\n",
       "41. &lt;NA&gt;\n",
       "42. CMS2\n",
       "43. CMS2\n",
       "44. &lt;NA&gt;\n",
       "45. &lt;NA&gt;\n",
       "46. &lt;NA&gt;\n",
       "47. CMS4\n",
       "48. &lt;NA&gt;\n",
       "49. CMS4\n",
       "50. CMS2\n",
       "51. CMS4\n",
       "52. CMS1\n",
       "53. CMS1\n",
       "54. CMS2\n",
       "55. CMS2\n",
       "56. CMS1\n",
       "57. &lt;NA&gt;\n",
       "58. CMS4\n",
       "59. &lt;NA&gt;\n",
       "60. CMS4\n",
       "61. CMS4\n",
       "62. &lt;NA&gt;\n",
       "63. CMS2\n",
       "64. CMS2\n",
       "65. CMS2\n",
       "66. CMS4\n",
       "67. CMS4\n",
       "68. &lt;NA&gt;\n",
       "69. CMS3\n",
       "70. CMS3\n",
       "71. CMS4\n",
       "72. &lt;NA&gt;\n",
       "73. CMS2\n",
       "74. CMS1\n",
       "75. &lt;NA&gt;\n",
       "76. CMS4\n",
       "77. CMS2\n",
       "78. CMS2\n",
       "79. CMS4\n",
       "80. CMS3\n",
       "\n",
       "\n",
       "\n",
       "**Levels**: 1. 'CMS1'\n",
       "2. 'CMS2'\n",
       "3. 'CMS3'\n",
       "4. 'CMS4'\n",
       "\n",
       "\n"
      ],
      "text/plain": [
       " [1] CMS4 <NA> CMS3 CMS4 CMS4 CMS4 <NA> CMS4 CMS3 CMS4 CMS4 CMS2 CMS1 CMS3 CMS4\n",
       "[16] <NA> <NA> CMS3 CMS3 CMS1 CMS4 <NA> CMS2 <NA> <NA> CMS2 <NA> CMS4 CMS4 CMS4\n",
       "[31] CMS1 CMS4 <NA> <NA> CMS2 CMS4 CMS3 <NA> CMS2 CMS4 <NA> CMS2 CMS2 <NA> <NA>\n",
       "[46] <NA> CMS4 <NA> CMS4 CMS2 CMS4 CMS1 CMS1 CMS2 CMS2 CMS1 <NA> CMS4 <NA> CMS4\n",
       "[61] CMS4 <NA> CMS2 CMS2 CMS2 CMS4 CMS4 <NA> CMS3 CMS3 CMS4 <NA> CMS2 CMS1 <NA>\n",
       "[76] CMS4 CMS2 CMS2 CMS4 CMS3\n",
       "Levels: CMS1 CMS2 CMS3 CMS4"
      ]
     },
     "metadata": {},
     "output_type": "display_data"
    },
    {
     "data": {
      "text/html": [
       "80"
      ],
      "text/latex": [
       "80"
      ],
      "text/markdown": [
       "80"
      ],
      "text/plain": [
       "[1] 80"
      ]
     },
     "metadata": {},
     "output_type": "display_data"
    },
    {
     "data": {
      "text/plain": [
       "NULL"
      ]
     },
     "metadata": {},
     "output_type": "display_data"
    }
   ],
   "source": [
    "cms_results$prediction\n",
    "length(cms_results$prediction)\n",
    "names(cms_results$prediction)"
   ]
  },
  {
   "cell_type": "code",
   "execution_count": 6,
   "id": "40593812",
   "metadata": {
    "vscode": {
     "languageId": "r"
    }
   },
   "outputs": [],
   "source": [
    "# 1. Extract CMS predictions\n",
    "cms_calls <- data.frame(\n",
    "  sample_id = colnames(expr_mat),  # Use your known sample IDs\n",
    "  CMS = as.character(cms_results$prediction)\n",
    ")\n",
    "\n",
    "cms_calls$CMS[is.na(cms_calls$CMS)] <- \"unclassified\"\n",
    "\n",
    "# 2. Load original annotation (if not already loaded)\n",
    "ann <- read.table(\"../../data/ann.csv\", sep = \",\", header = TRUE)\n",
    "\n",
    "# 3. Merge CMS calls with annotation by sample_id\n",
    "ann_with_cms <- merge(ann, cms_calls, by = \"sample_id\", all.x = TRUE)\n",
    "\n",
    "# 4. Save merged data\n",
    "write.csv(ann_with_cms, \"../../data/ann_with_cms.csv\", row.names = FALSE)"
   ]
  }
 ],
 "metadata": {
  "kernelspec": {
   "display_name": "R",
   "language": "R",
   "name": "ir"
  },
  "language_info": {
   "codemirror_mode": "r",
   "file_extension": ".r",
   "mimetype": "text/x-r-source",
   "name": "R",
   "pygments_lexer": "r",
   "version": "4.5.0"
  }
 },
 "nbformat": 4,
 "nbformat_minor": 5
}
