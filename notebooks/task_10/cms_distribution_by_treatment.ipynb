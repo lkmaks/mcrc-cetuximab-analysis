{
 "cells": [
  {
   "cell_type": "markdown",
   "id": "04117640",
   "metadata": {},
   "source": [
    "# CMS Subtype Distribution by Treatment Status (Pre vs Post)\n",
    "This notebook visualizes the distribution of CMS subtypes in pretreated and posttreated samples using stacked bar plots."
   ]
  },
  {
   "cell_type": "code",
   "execution_count": 1,
   "id": "76515d55",
   "metadata": {},
   "outputs": [
    {
     "data": {
      "text/plain": [
       "'d:\\\\Work\\\\Non PT\\\\Data Science\\\\BG\\\\mcrc-cetuximab-analysis'"
      ]
     },
     "execution_count": 1,
     "metadata": {},
     "output_type": "execute_result"
    }
   ],
   "source": [
    "import pandas as pd\n",
    "import matplotlib.pyplot as plt\n",
    "import numpy as np\n",
    "import os\n",
    "from scipy.stats import chi2_contingency\n",
    "\n",
    "os.chdir('../../')\n",
    "os.getcwd()\n"
   ]
  },
  {
   "cell_type": "markdown",
   "id": "41f98343",
   "metadata": {},
   "source": [
    "Load the data"
   ]
  },
  {
   "cell_type": "code",
   "execution_count": 2,
   "id": "75bf0da7",
   "metadata": {},
   "outputs": [],
   "source": [
    "df = pd.read_csv(\"data/ann_with_cms.csv\")"
   ]
  },
  {
   "cell_type": "markdown",
   "id": "7610d99a",
   "metadata": {},
   "source": [
    "## Preprocessing\n",
    "We ensure time point values are usable for grouping."
   ]
  },
  {
   "cell_type": "code",
   "execution_count": 3,
   "id": "c3aada0a",
   "metadata": {},
   "outputs": [
    {
     "data": {
      "text/plain": [
       "array(['pre-treatment', 'post-treatment'], dtype=object)"
      ]
     },
     "execution_count": 3,
     "metadata": {},
     "output_type": "execute_result"
    }
   ],
   "source": [
    "# Standardize time point labels\n",
    "df['time.point'] = df['time.point'].str.lower()\n",
    "\n",
    "# Check unique time points\n",
    "df['time.point'].unique()"
   ]
  },
  {
   "cell_type": "markdown",
   "id": "298a3f6c",
   "metadata": {},
   "source": [
    "## Calculate CMS subtype distributions for each treatment group"
   ]
  },
  {
   "cell_type": "code",
   "execution_count": null,
   "id": "26d83b42",
   "metadata": {},
   "outputs": [
    {
     "name": "stdout",
     "output_type": "stream",
     "text": [
      "Counts Table:\n",
      "CMS             CMS1  CMS2  CMS3  CMS4\n",
      "time.point                            \n",
      "pre-treatment      6    15     7    20\n",
      "post-treatment     0     1     2     6\n",
      "\n",
      "Percentages Table:\n",
      "CMS             CMS1  CMS2  CMS3  CMS4\n",
      "time.point                            \n",
      "pre-treatment   12.5  31.2  14.6  41.7\n",
      "post-treatment   0.0  11.1  22.2  66.7\n",
      "\n",
      "Statistical Results:\n",
      "χ²(3) = 3.54, p = 0.316\n",
      "Effect size (Cramer's V) = 0.25\n",
      "Significance: ns\n"
     ]
    }
   ],
   "source": [
    "def analyze_cms_distribution(df, group_col='time.point', cms_col='CMS'):\n",
    "    \"\"\"\n",
    "    Analyzes CMS distribution between time points with statistical testing\n",
    "    \n",
    "    Returns:\n",
    "        tuple: (counts_df, percentages_df, stats_dict)\n",
    "    \"\"\"\n",
    "    # Ensure correct ordering\n",
    "    df[group_col] = pd.Categorical(\n",
    "        df[group_col],\n",
    "        categories=['pre-treatment', 'post-treatment'],\n",
    "        ordered=True\n",
    "    )\n",
    "\n",
    "    # Generate counts table\n",
    "    counts = (\n",
    "        df.groupby([group_col, cms_col], observed=True)\n",
    "        .size()\n",
    "        .unstack(fill_value=0)\n",
    "    )\n",
    "    \n",
    "    # Clean data - drop unclassified if exists\n",
    "    counts = counts.drop(columns='unclassified', errors='ignore')\n",
    "    \n",
    "    # Calculate percentages\n",
    "    percentages = counts.div(counts.sum(axis=1), axis=0) * 100\n",
    "    \n",
    "    # Statistical testing\n",
    "    chi2, pval, dof, expected = chi2_contingency(counts)\n",
    "    n = counts.sum().sum()\n",
    "    cramers_v = np.sqrt(chi2 / (n * (min(counts.shape) - 1)))\n",
    "    \n",
    "    # Prepare results\n",
    "    stats = {\n",
    "        'chi2': chi2,\n",
    "        'p_value': pval,\n",
    "        'degrees_of_freedom': dof,\n",
    "        'cramers_v': cramers_v,\n",
    "        'test_used': 'chi-square',\n",
    "        'significance': ('*' if pval < 0.05 else 'ns') + \n",
    "                       ('*' if pval < 0.01 else '') + \n",
    "                       ('*' if pval < 0.001 else '')\n",
    "    }\n",
    "    \n",
    "    # Add Fisher's exact test if needed\n",
    "    if counts.size == 4 and (counts < 5).any().any():\n",
    "        from scipy.stats import fisher_exact\n",
    "        _, pval_fisher = fisher_exact(counts)\n",
    "        stats.update({\n",
    "            'fisher_p_value': pval_fisher,\n",
    "            'test_used': \"Fisher's exact\"\n",
    "        })\n",
    "    \n",
    "    return counts, percentages.round(1), stats\n",
    "\n",
    "\n",
    "counts_df, percentages_df, stats = analyze_cms_distribution(df)\n",
    "\n",
    "print(\"Counts Table:\")\n",
    "print(counts_df)\n",
    "print(\"\\nPercentages Table:\")\n",
    "print(percentages_df)\n",
    "print(\"\\nStatistical Results:\")\n",
    "print(f\"χ²({stats['degrees_of_freedom']}) = {stats['chi2']:.2f}, p = {stats['p_value']:.3f}\")\n",
    "print(f\"Effect size (Cramer's V) = {stats['cramers_v']:.2f}\")\n",
    "print(f\"Significance: {stats['significance']}\")"
   ]
  },
  {
   "cell_type": "markdown",
   "id": "f35865a2",
   "metadata": {},
   "source": [
    "## Plot CMS distribution\n",
    "We create a horizontal stacked barplot with counts and percentages labeled inside the bars."
   ]
  },
  {
   "cell_type": "code",
   "execution_count": 5,
   "id": "3f979d01",
   "metadata": {},
   "outputs": [
    {
     "data": {
      "image/png": "[encoded data removed]",
      "text/plain": [
       "<Figure size 500x600 with 1 Axes>"
      ]
     },
     "metadata": {},
     "output_type": "display_data"
    }
   ],
   "source": [
    "# Define CMS colors\n",
    "colors = {\n",
    "    \"CMS1\": \"#FCAF2F\",\n",
    "    \"CMS2\": \"#00B0B6\",\n",
    "    \"CMS3\": \"#C964FF\",\n",
    "    \"CMS4\": \"#00C4F6\"\n",
    "}\n",
    "\n",
    "# Plot\n",
    "fig, ax = plt.subplots(figsize=(5, 6))\n",
    "bottom = pd.Series([0] * len(percentages_df), index=percentages_df.index)\n",
    "\n",
    "for subtype in percentages_df.columns:\n",
    "    vals = percentages_df[subtype]\n",
    "    bar = ax.bar(percentages_df.index, vals, bottom=bottom, label=subtype, color=colors.get(subtype, '#cccccc'))\n",
    "\n",
    "    for i, (val, btm) in enumerate(zip(vals, bottom)):\n",
    "        if val > 0:\n",
    "            count_val = counts_df[subtype].iloc[i]\n",
    "            ax.text(i, btm + val / 2, f\"{count_val}\\n({val:.0f}%)\", \n",
    "                   ha='center', va='center', fontsize=9, color='white')\n",
    "    bottom += vals\n",
    "\n",
    "# Add statistical annotation\n",
    "pval_text = f\"p = {stats['p_value']:.3f}{stats['significance']}\"\n",
    "ax.text(0.5, 1.05, pval_text, \n",
    "        transform=ax.transAxes, \n",
    "        ha='center', \n",
    "        bbox=dict(facecolor='white', alpha=0.8, edgecolor='none'),\n",
    "        fontsize=10)\n",
    "\n",
    "ax.set_ylabel(\"Patients percentage\")\n",
    "ax.set_title(\"CMS subtype distribution by treatment status\\n\", y=1.05)  # Adjusted title position\n",
    "ax.set_ylim(0, 100)\n",
    "ax.legend(title=\"CMS\", bbox_to_anchor=(1.05, 1))\n",
    "plt.tight_layout()\n",
    "plt.show()"
   ]
  }
 ],
 "metadata": {
  "kernelspec": {
   "display_name": ".venv",
   "language": "python",
   "name": "python3"
  },
  "language_info": {
   "codemirror_mode": {
    "name": "ipython",
    "version": 3
   },
   "file_extension": ".py",
   "mimetype": "text/x-python",
   "name": "python",
   "nbconvert_exporter": "python",
   "pygments_lexer": "ipython3",
   "version": "3.12.0"
  }
 },
 "nbformat": 4,
 "nbformat_minor": 5
}
