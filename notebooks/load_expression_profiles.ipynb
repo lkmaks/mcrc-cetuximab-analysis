{
 "cells": [
  {
   "cell_type": "markdown",
   "id": "b163afe1",
   "metadata": {},
   "source": [
    "# Save Individual Expression Profile Plots"
   ]
  },
  {
   "cell_type": "code",
   "execution_count": 1,
   "id": "7255e2b6",
   "metadata": {},
   "outputs": [
    {
     "name": "stdout",
     "output_type": "stream",
     "text": [
      "Saved expression plots for 113 samples to ../figures/sample_profiles/\n"
     ]
    }
   ],
   "source": [
    "import pandas as pd\n",
    "import matplotlib.pyplot as plt\n",
    "import os\n",
    "\n",
    "# Load matrix\n",
    "df = pd.read_csv(\"../data/log2_tpm_hgnc_matrix.csv\")\n",
    "df = df.set_index(\"gene\")\n",
    "\n",
    "# Transpose so that rows = samples, columns = genes\n",
    "df_t = df.T\n",
    "\n",
    "# Create output directory if it doesn't exist\n",
    "output_dir = \"../figures/sample_profiles/\"\n",
    "os.makedirs(output_dir, exist_ok=True)\n",
    "\n",
    "# Plot and save for each sample\n",
    "for sample_id in df_t.index:\n",
    "    plt.figure(figsize=(10, 4))\n",
    "    plt.plot(df_t.columns, df_t.loc[sample_id], linewidth=1.0)\n",
    "    plt.title(f\"Expression Profile: {sample_id}\")\n",
    "    plt.xlabel(\"Genes\")\n",
    "    plt.ylabel(\"log2(TPM + 1)\")\n",
    "    plt.xticks([], [])  # Hide x-axis gene labels to reduce clutter\n",
    "    plt.tight_layout()\n",
    "    \n",
    "    # Save plot\n",
    "    filename = f\"{output_dir}/{sample_id}_profile.png\"\n",
    "    plt.savefig(filename, dpi=150)\n",
    "    plt.close()\n",
    "\n",
    "print(f\"Saved expression plots for {len(df_t)} samples to {output_dir}\")\n"
   ]
  }
 ],
 "metadata": {
  "kernelspec": {
   "display_name": ".venv",
   "language": "python",
   "name": "python3"
  },
  "language_info": {
   "codemirror_mode": {
    "name": "ipython",
    "version": 3
   },
   "file_extension": ".py",
   "mimetype": "text/x-python",
   "name": "python",
   "nbconvert_exporter": "python",
   "pygments_lexer": "ipython3",
   "version": "3.12.0"
  }
 },
 "nbformat": 4,
 "nbformat_minor": 5
}
