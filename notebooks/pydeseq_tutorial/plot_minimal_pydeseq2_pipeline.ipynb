{
 "cells": [
  {
   "cell_type": "code",
   "execution_count": null,
   "metadata": {
    "collapsed": false
   },
   "outputs": [],
   "source": [
    "%matplotlib inline"
   ]
  },
  {
   "cell_type": "markdown",
   "metadata": {},
   "source": [
    "\n# A simple PyDESeq2 workflow\n\nIn this example, we show how to perform a simple differential expression analysis on bulk\nRNAseq data, using PyDESeq2.\n    :depth: 3\n\nWe start by importing required packages and setting up an optional path to save results.\n"
   ]
  },
  {
   "cell_type": "code",
   "metadata": {
    "collapsed": false,
    "ExecuteTime": {
     "end_time": "2025-05-08T15:40:32.433558Z",
     "start_time": "2025-05-08T15:40:32.061241Z"
    }
   },
   "source": [
    "import os\n",
    "import pickle as pkl\n",
    "\n",
    "from pydeseq2.dds import DeseqDataSet\n",
    "from pydeseq2.default_inference import DefaultInference\n",
    "from pydeseq2.ds import DeseqStats\n",
    "from pydeseq2.utils import load_example_data\n",
    "\n",
    "SAVE = False  # whether to save the outputs of this notebook\n",
    "\n",
    "if SAVE:\n",
    "    # Replace this with the path to directory where you would like results to be saved\n",
    "    OUTPUT_PATH = \"output_files/synthetic_example\"\n",
    "    os.makedirs(OUTPUT_PATH, exist_ok=True)  # Create path if it doesn't exist"
   ],
   "outputs": [],
   "execution_count": 1
  },
  {
   "cell_type": "markdown",
   "metadata": {},
   "source": [
    "## Data loading\n\nTo perform differential expression analysis (DEA), PyDESeq2 requires two types of\ninputs:\n\n  * A count matrix of shape 'number of samples' x 'number of genes', containing\n    read counts (non-negative integers),\n  * Metadata (or \"column\" data) of shape 'number of samples' x\n    'number of variables', containing sample annotations that will be used\n    to split the data in cohorts.\n\nBoth should be provided as [pandas dataframes](https://pandas.pydata.org/docs/reference/api/pandas.DataFrame.html).\n\n.. currentmodule:: pydeseq2\n\nTo illustrate the required data format, we load a synthetic example dataset that may be\nobtained through PyDESeq2's API using :func:`utils.load_example_data`.\nYou may replace it with your own dataset.\n\n"
   ]
  },
  {
   "cell_type": "code",
   "metadata": {
    "collapsed": false,
    "ExecuteTime": {
     "end_time": "2025-05-08T15:40:36.581807Z",
     "start_time": "2025-05-08T15:40:35.329813Z"
    }
   },
   "source": [
    "counts_df = load_example_data(\n    modality=\"raw_counts\",\n    dataset=\"synthetic\",\n    debug=False,\n)\n\nmetadata = load_example_data(\n    modality=\"metadata\",\n    dataset=\"synthetic\",\n    debug=False,\n)\n\nprint(counts_df)"
   ],
   "outputs": [
    {
     "name": "stdout",
     "output_type": "stream",
     "text": [
      "           gene1  gene2  gene3  gene4  gene5  gene6  gene7  gene8  gene9  \\\n",
      "sample1       12     21      4    130     18      0     16     54     49   \n",
      "sample2        1     44      2     63     11     10     70     32     57   \n",
      "sample3        4      4     11    180     21      3     28     34     65   \n",
      "sample4        1     10      2    100     44      9     28     16     33   \n",
      "sample5        1     11      6    135     16      2     32     29     31   \n",
      "...          ...    ...    ...    ...    ...    ...    ...    ...    ...   \n",
      "sample96       7     26      3     67     11      4     41     44     54   \n",
      "sample97       1     14      3     71     33      5     19     42     25   \n",
      "sample98      10     36      2     72     11      2     66     27     16   \n",
      "sample99      18     14      3     66     53     11     32     19     79   \n",
      "sample100     21      9      3     42     13     13     19     78     30   \n",
      "\n",
      "           gene10  \n",
      "sample1         3  \n",
      "sample2         9  \n",
      "sample3         2  \n",
      "sample4         9  \n",
      "sample5         5  \n",
      "...           ...  \n",
      "sample96        1  \n",
      "sample97        4  \n",
      "sample98        9  \n",
      "sample99       11  \n",
      "sample100       5  \n",
      "\n",
      "[100 rows x 10 columns]\n"
     ]
    }
   ],
   "execution_count": 2
  },
  {
   "cell_type": "code",
   "metadata": {
    "collapsed": false,
    "ExecuteTime": {
     "end_time": "2025-05-08T15:42:01.296316Z",
     "start_time": "2025-05-08T15:42:01.287961Z"
    }
   },
   "source": [
    "print(metadata)"
   ],
   "outputs": [
    {
     "name": "stdout",
     "output_type": "stream",
     "text": [
      "          condition group\n",
      "sample1           A     X\n",
      "sample2           A     Y\n",
      "sample3           A     X\n",
      "sample4           A     Y\n",
      "sample5           A     X\n",
      "...             ...   ...\n",
      "sample96          B     Y\n",
      "sample97          B     X\n",
      "sample98          B     Y\n",
      "sample99          B     X\n",
      "sample100         B     Y\n",
      "\n",
      "[100 rows x 2 columns]\n"
     ]
    }
   ],
   "execution_count": 5
  },
  {
   "cell_type": "markdown",
   "metadata": {},
   "source": [
    "In this example, the metadata data contains two columns, ``condition`` and ``group``,\nrepresenting two types of bi-level annotations. In the first part, we will only use the\n``condition`` factor. Later on, we'll see how to use both the `condition` and the\n``group`` factors in our analysis (see `multifactor_ref`).\n\n"
   ]
  },
  {
   "cell_type": "markdown",
   "metadata": {},
   "source": [
    "### Data filtering\n\nBefore proceeding with DEA, it is good practice to preprocess your data, e.g. to remove\nsamples for which annotations are missing and exclude genes with very low levels of\nexpression. This is not necessary in the case of our synthetic data, but don't forget\nthis step if you are using real data. To this end you can use the code below.\n\nWe start by removing samples for which ``condition`` is ``NaN``. If you are using\nanother dataset, do not forget to change \"condition\" for the column of ``metadata``\nyou wish to use as a design factor in your analysis.\n\n"
   ]
  },
  {
   "cell_type": "code",
   "metadata": {
    "collapsed": false,
    "ExecuteTime": {
     "end_time": "2025-05-08T15:40:41.644964Z",
     "start_time": "2025-05-08T15:40:41.634010Z"
    }
   },
   "source": [
    "samples_to_keep = ~metadata.condition.isna()\ncounts_df = counts_df.loc[samples_to_keep]\nmetadata = metadata.loc[samples_to_keep]"
   ],
   "outputs": [],
   "execution_count": 3
  },
  {
   "cell_type": "markdown",
   "metadata": {},
   "source": [
    "<div class=\"alert alert-info\"><h4>Note</h4><p>In the case where the design factor contains ``NaN`` entries, PyDESeq2 will throw an\n  error when intializing a :class:`DeseqDataSet <dds.DeseqDataSet>`.</p></div>\n\n"
   ]
  },
  {
   "cell_type": "markdown",
   "metadata": {},
   "source": [
    "Next, we filter out genes that have less than 10 read counts in total. Note again that\nthere are no such genes in this synthetic dataset.\n\n"
   ]
  },
  {
   "cell_type": "code",
   "metadata": {
    "collapsed": false,
    "ExecuteTime": {
     "end_time": "2025-05-08T15:40:55.233969Z",
     "start_time": "2025-05-08T15:40:55.226384Z"
    }
   },
   "source": [
    "genes_to_keep = counts_df.columns[counts_df.sum(axis=0) >= 10]\n",
    "counts_df = counts_df[genes_to_keep]"
   ],
   "outputs": [],
   "execution_count": 4
  },
  {
   "cell_type": "markdown",
   "metadata": {},
   "source": [
    "Now that we have loaded and filtered our data, we may proceed with the differential\nanalysis.\n\n"
   ]
  },
  {
   "cell_type": "markdown",
   "metadata": {},
   "source": [
    "## Single factor analysis\n\nIn this first analysis, we ignore the ``group`` variable and use the ``condition``\ncolumn as our design factor. That is, we compare gene expressions of samples that have\n``condition B`` to those that have ``condition A``.\n\n\n"
   ]
  },
  {
   "cell_type": "markdown",
   "metadata": {},
   "source": [
    ".. currentmodule:: pydeseq2.dds\n\n### Read counts modeling with the :class:`DeseqDataSet` class\n\nWe start by creating a :class:`DeseqDataSet`\nobject from the count and metadata data.\nA :class:`DeseqDataSet` fits dispersion and\nlog-fold change (LFC) parameters from the data, and stores them.\n\n\n"
   ]
  },
  {
   "cell_type": "code",
   "metadata": {
    "collapsed": false,
    "ExecuteTime": {
     "end_time": "2025-05-08T15:43:53.993711Z",
     "start_time": "2025-05-08T15:43:53.866065Z"
    }
   },
   "source": [
    "inference = DefaultInference(n_cpus=8)\ndds = DeseqDataSet(\n    counts=counts_df,\n    metadata=metadata,\n    design=\"~condition\",\n    refit_cooks=True,\n    inference=inference,\n    # n_cpus=8, # n_cpus can be specified here or in the inference object\n)"
   ],
   "outputs": [],
   "execution_count": 6
  },
  {
   "cell_type": "markdown",
   "metadata": {},
   "source": [
    "A :class:`DeseqDataSet` has two mandatory\narguments: a ``counts`` and a ``metadata`` dataframe, like the ones we've loaded in the\nfirst part of this tutorial.\n\nNext, we should specify a ``design``, i.e. a Wilkinson formula that describes the\ndesign, or directly a design matrix. Here we provide a formula, which is a string\nthat [formulaic](https://github.com/matthewwardrop/formulaic) should be able to\nparse.\n\n<div class=\"alert alert-info\"><h4>Note</h4><p>The ``\"condition\"`` factor in ``design`` corresponds to a column\n  from the ``metadata`` dataframe we loaded earlier.\n  You might need to change it according to your own dataset.</p></div>\n\nSeveral other arguments may be optionally specified (see the :doc:`API documentation\n</api/docstrings/pydeseq2.dds.DeseqDataSet>`).\nAmong those, the ``refit_cooks`` argument (set to ``True`` by default), controls\nwhether Cooks outlier should be refitted (which is advised, in general) and ``n_cpus``\nsets the number of CPUs to use for computation. Here, we use 8 threads. Feel free to\nadapt this to your setup or to set to ``None`` to use all available CPUs.\n\n<div class=\"alert alert-info\"><h4>Note</h4><p>In the case of the provided synthetic data, there won't be any Cooks outliers.</p></div>\n\nOnce a :class:`DeseqDataSet` was initialized,\nwe may run the :meth:`deseq2() <DeseqDataSet.deseq2>` method\nto fit dispersions and LFCs.\n\n\n\n"
   ]
  },
  {
   "cell_type": "code",
   "metadata": {
    "collapsed": false,
    "ExecuteTime": {
     "end_time": "2025-05-08T15:45:43.875124Z",
     "start_time": "2025-05-08T15:45:41.233255Z"
    }
   },
   "source": [
    "dds.deseq2()\n\n\nif SAVE:\n    with open(os.path.join(OUTPUT_PATH, \"dds.pkl\"), \"wb\") as f:\n        pkl.dump(dds, f)"
   ],
   "outputs": [
    {
     "name": "stdout",
     "output_type": "stream",
     "text": [
      "Using None as control genes, passed at DeseqDataSet initialization\n"
     ]
    },
    {
     "name": "stderr",
     "output_type": "stream",
     "text": [
      "Fitting size factors...\n",
      "... done in 0.00 seconds.\n",
      "\n",
      "Fitting dispersions...\n",
      "... done in 0.05 seconds.\n",
      "\n",
      "Fitting dispersion trend curve...\n",
      "... done in 0.02 seconds.\n",
      "\n",
      "Fitting MAP dispersions...\n",
      "... done in 0.07 seconds.\n",
      "\n",
      "Fitting LFCs...\n",
      "... done in 0.02 seconds.\n",
      "\n",
      "Calculating cook's distance...\n",
      "... done in 0.01 seconds.\n",
      "\n",
      "Replacing 0 outlier genes.\n",
      "\n"
     ]
    }
   ],
   "execution_count": 7
  },
  {
   "cell_type": "markdown",
   "metadata": {},
   "source": [
    "The :class:`DeseqDataSet` class extends the\n:class:`AnnData <anndata.AnnData>`\nclass.\n\n"
   ]
  },
  {
   "cell_type": "code",
   "metadata": {
    "collapsed": false,
    "ExecuteTime": {
     "end_time": "2025-05-08T15:46:58.232858Z",
     "start_time": "2025-05-08T15:46:58.226749Z"
    }
   },
   "source": [
    "print(dds)"
   ],
   "outputs": [
    {
     "name": "stdout",
     "output_type": "stream",
     "text": [
      "AnnData object with n_obs × n_vars = 100 × 10\n",
      "    obs: 'condition', 'group'\n",
      "    uns: 'trend_coeffs', 'disp_function_type', '_squared_logres', 'prior_disp_var'\n",
      "    obsm: 'design_matrix', 'size_factors', '_mu_LFC', '_hat_diagonals', 'replaceable'\n",
      "    varm: '_normed_means', 'non_zero', '_MoM_dispersions', 'genewise_dispersions', '_genewise_converged', 'fitted_dispersions', 'MAP_dispersions', '_MAP_converged', 'dispersions', '_outlier_genes', 'LFC', '_LFC_converged', 'replaced', 'refitted', '_pvalue_cooks_outlier'\n",
      "    layers: 'normed_counts', '_mu_hat', 'cooks'\n"
     ]
    }
   ],
   "execution_count": 9
  },
  {
   "cell_type": "markdown",
   "metadata": {},
   "source": [
    "Hence, parameters are stored according to the :class:`AnnData <anndata.AnnData>` data\nstructure, with key-based data fields. In particular,\n\n- ``X`` stores the count data,\n- ``obs`` stores design factors,\n- ``obsm`` stores sample-level data, such as ``\"design_matrix\"`` and\n  ``\"size_factors\"``,\n- ``varm`` stores gene-level data, such as ``\"dispersions\"`` and ``\"LFC\"``.\n\n\nAs an example, here is how we would access dispersions and LFCs\n(in natural log scale):\n\n"
   ]
  },
  {
   "cell_type": "code",
   "metadata": {
    "collapsed": false,
    "ExecuteTime": {
     "end_time": "2025-05-08T15:47:00.262572Z",
     "start_time": "2025-05-08T15:47:00.254817Z"
    }
   },
   "source": [
    "print(dds.varm[\"dispersions\"])"
   ],
   "outputs": [
    {
     "name": "stdout",
     "output_type": "stream",
     "text": [
      "[0.90859762 0.21372942 0.83725482 0.1612233  0.24840696 0.97365193\n",
      " 0.23259225 0.19876404 0.1865093  0.63189179]\n"
     ]
    }
   ],
   "execution_count": 10
  },
  {
   "cell_type": "code",
   "metadata": {
    "collapsed": false,
    "ExecuteTime": {
     "end_time": "2025-05-08T15:47:01.619515Z",
     "start_time": "2025-05-08T15:47:01.611506Z"
    }
   },
   "source": [
    "print(dds.varm[\"LFC\"])"
   ],
   "outputs": [
    {
     "name": "stdout",
     "output_type": "stream",
     "text": [
      "        Intercept  condition[T.B]\n",
      "gene1    1.891808        0.438450\n",
      "gene2    2.851521        0.373414\n",
      "gene3    1.787780       -0.438644\n",
      "gene4    4.741958       -0.285614\n",
      "gene5    3.077797        0.403446\n",
      "gene6    1.678536        0.001010\n",
      "gene7    3.290975        0.093142\n",
      "gene8    3.785129       -0.187605\n",
      "gene9    3.682882       -0.147442\n",
      "gene10   2.300515        0.267562\n"
     ]
    }
   ],
   "execution_count": 11
  },
  {
   "cell_type": "markdown",
   "metadata": {},
   "source": [
    ".. currentmodule:: pydeseq2.ds\n\n### Statistical analysis with the :class:`DeseqStats` class\n\nNow that dispersions and LFCs were fitted, we may proceed with statistical tests to\ncompute p-values and adjusted p-values for differential expresion. This is the role of\nthe :class:`DeseqStats` class. It has two mandatory arguments:\n\n- ``dds``, which should be a *fitted* :class:`DeseqDataSet <pydeseq2.dds.DeseqDataSet>`\n  object,\n- ``contrast``, which is a list of three strings of the form\n  ``[\"variable\", \"tested_level\", \"control_level\"]``, or directly a contrast vector.\n\n\n"
   ]
  },
  {
   "cell_type": "code",
   "execution_count": null,
   "metadata": {
    "collapsed": false
   },
   "outputs": [],
   "source": [
    "ds = DeseqStats(dds, contrast=[\"condition\", \"B\", \"A\"], inference=inference)"
   ]
  },
  {
   "cell_type": "markdown",
   "metadata": {},
   "source": [
    "It also has a set of optional keyword arguments (see the :doc:`API documentation\n</api/docstrings/pydeseq2.ds.DeseqStats>`), among which:\n\n- ``alpha``: the p-value and adjusted p-value significance threshold (``0.05``\n  by default),\n- ``cooks_filter``: whether to filter p-values based on cooks outliers\n  (``True`` by default),\n- ``independent_filter``: whether to perform independent filtering to correct\n  p-value trends (``True`` by default).\n\nIn the `section on multifactor analysis<multifactor_ref>`, we will also see how\nto use the ``contrast`` argument to specify according to which variable samples should\nbe compared.\n\n"
   ]
  },
  {
   "cell_type": "markdown",
   "metadata": {},
   "source": [
    "\n#### Wald test\n\nPyDESeq2 computes p-values using Wald tests. This can be done using the\n:meth:`summary() <DeseqStats.summary>` method, which runs the whole statistical\nanalysis, cooks filtering and multiple testing adjustement included.\n\n"
   ]
  },
  {
   "cell_type": "code",
   "execution_count": null,
   "metadata": {
    "collapsed": false
   },
   "outputs": [],
   "source": [
    "ds.summary()\n\nif SAVE:\n    with open(os.path.join(OUTPUT_PATH, \"ds.pkl\"), \"wb\") as f:\n        pkl.dump(ds, f)"
   ]
  },
  {
   "cell_type": "markdown",
   "metadata": {},
   "source": [
    "The results are then stored in the ``results_df`` attribute (``ds.results_df``).\n\n"
   ]
  },
  {
   "cell_type": "markdown",
   "metadata": {},
   "source": [
    "#### Optional: threshold-based tests\n\nThe user can specify a (log2) log fold change under the null hypothesis and an\nalternative hypothesis to re-compute Wald statistics and p-values.\nThe alternative hypothesis corresponds to what the user wants to find rather than the\nnull hypothesis. It can take one of the values\n``[\"greaterAbs\", \"lessAbs\", \"greater\", \"less\"]``.\n\n"
   ]
  },
  {
   "cell_type": "code",
   "execution_count": null,
   "metadata": {
    "collapsed": false
   },
   "outputs": [],
   "source": [
    "ds.summary(lfc_null=0.1, alt_hypothesis=\"greaterAbs\")\nds.plot_MA(s=20)"
   ]
  },
  {
   "cell_type": "markdown",
   "metadata": {},
   "source": [
    "#### LFC shrinkage\n\nFor visualization or post-processing purposes, it might be suitable to perform\nLFC shrinkage. This is implemented by the :meth:`lfc_shrink() <DeseqStats.lfc_shrink>`\nmethod, which takes as argument the name of the coefficient to shrink (i.e., the name\nof one of the columns of the design matrix ``dds.obsm[\"design_matrix\"]``).\nFor instance, to shrink the LFCs of the ``condition B`` samples, we would run:\n\n"
   ]
  },
  {
   "cell_type": "code",
   "execution_count": null,
   "metadata": {
    "collapsed": false
   },
   "outputs": [],
   "source": [
    "ds.lfc_shrink(coeff=\"condition[T.B]\")\n\nif SAVE:\n    with open(os.path.join(OUTPUT_PATH, \"shrunk_results.pkl\"), \"wb\") as f:\n        pkl.dump(ds, f)"
   ]
  },
  {
   "cell_type": "markdown",
   "metadata": {},
   "source": [
    "<div class=\"alert alert-info\"><h4>Note</h4><p>Running :meth:`lfc_shrink() <DeseqStats.lfc_shrink>` will overwrite a\n  :class:`DeseqStats`' log fold changes (and standard errors) with shrunk values.\n  This can be checked using the ``shrunk_LFCs`` flag.</p></div>\n\n\n"
   ]
  },
  {
   "cell_type": "code",
   "execution_count": null,
   "metadata": {
    "collapsed": false
   },
   "outputs": [],
   "source": [
    "print(ds.shrunk_LFCs)  # Will be True only if lfc_shrink() was run."
   ]
  },
  {
   "cell_type": "markdown",
   "metadata": {},
   "source": [
    "\n## Multifactor analysis\n\n.. currentmodule:: pydeseq2.dds\n\nSo far, we have only used the ``condition`` column of ``metadata``, which divides\nsamples between conditions ``A`` and ``B``. Yet, ``metadata`` contains second\ncolumn, which separates samples according to ``group`` ``X`` and ``Y``.\n\n"
   ]
  },
  {
   "cell_type": "code",
   "execution_count": null,
   "metadata": {
    "collapsed": false
   },
   "outputs": [],
   "source": [
    "print(metadata)"
   ]
  },
  {
   "cell_type": "markdown",
   "metadata": {},
   "source": [
    "The goal of multifactor analysis is to use *both* variables to fit LFCs.\n\n### Read counts modeling\n\nTo perform multifactor analysis with PyDESeq2, we start by inializing a\n:class:`DeseqDataSet` as previously, but we provide several variables we would like\nto use in the ``design`` argument.\n\n\n"
   ]
  },
  {
   "cell_type": "code",
   "execution_count": null,
   "metadata": {
    "collapsed": false
   },
   "outputs": [],
   "source": [
    "dds = DeseqDataSet(\n    counts=counts_df,\n    metadata=metadata,\n    design=\"~group + condition\",\n    refit_cooks=True,\n    inference=inference,\n)"
   ]
  },
  {
   "cell_type": "markdown",
   "metadata": {},
   "source": [
    "As for the single-factor analysis, we fit dispersions and LFCs using the\n:meth:`deseq2() <DeseqDataSet.deseq2>` method.\n\n"
   ]
  },
  {
   "cell_type": "code",
   "execution_count": null,
   "metadata": {
    "collapsed": false
   },
   "outputs": [],
   "source": [
    "dds.deseq2()"
   ]
  },
  {
   "cell_type": "markdown",
   "metadata": {},
   "source": [
    "Now, if we print log fold changes, we will have two columns in addition to the\nintercept: one corresponding to the ``group`` variable, and the other to ``condition``.\n\n"
   ]
  },
  {
   "cell_type": "code",
   "execution_count": null,
   "metadata": {
    "collapsed": false
   },
   "outputs": [],
   "source": [
    "print(dds.varm[\"LFC\"])"
   ]
  },
  {
   "cell_type": "markdown",
   "metadata": {},
   "source": [
    ".. currentmodule:: pydeseq2.ds\n\n### Statistical analysis\n\nP-values are computed as earlier from a :class:`DeseqStats` object with the\n:meth:`summary() <DeseqStats.summary>` method. The ``contrast`` argument will allow us\nto determines which variable we want to obtain LFCs and pvalues for.\nIt is a list of three strings of the form\n``[\"variable\", \"tested level\", \"reference level\"]``\nAs an example, to compare the condition B to the condition A, we set\n``contrast=[\"condition\", \"B\", \"A\"]``.\n\n\n"
   ]
  },
  {
   "cell_type": "code",
   "execution_count": null,
   "metadata": {
    "collapsed": false
   },
   "outputs": [],
   "source": [
    "ds_B_vs_A = DeseqStats(dds, contrast=[\"condition\", \"B\", \"A\"], inference=inference)"
   ]
  },
  {
   "cell_type": "markdown",
   "metadata": {},
   "source": [
    "Let us fit p-values:\n\n\n"
   ]
  },
  {
   "cell_type": "code",
   "execution_count": null,
   "metadata": {
    "collapsed": false
   },
   "outputs": [],
   "source": [
    "ds_B_vs_A.summary()"
   ]
  },
  {
   "cell_type": "markdown",
   "metadata": {},
   "source": [
    "As we can see, although we are comparing the same cohorts (condition B vs A), the\nresults differ from the `single-factor analysis <wald_ref>`. This is because the\nmodel uses information from both the ``condition`` and ``group`` variables.\n\nLet us now evaluate differential expression according to group Y vs X. To do so,\nwe create a new :class:`DeseqStats` from the same\n:class:`DeseqDataSet <pydeseq2.dds.DeseqDataSet>`\nwith ``contrast=[\"group\", \"Y\", \"X\"]``, and run the analysis again.\n\n"
   ]
  },
  {
   "cell_type": "code",
   "execution_count": null,
   "metadata": {
    "collapsed": false
   },
   "outputs": [],
   "source": [
    "ds_Y_vs_X = DeseqStats(dds, contrast=[\"group\", \"Y\", \"X\"], inference=inference)\nds_Y_vs_X.summary()"
   ]
  },
  {
   "cell_type": "markdown",
   "metadata": {},
   "source": [
    "#### LFC shrinkage (multifactor)\n\nIn a multifactor setting, LFC shrinkage works as in the single-factor case, but will\nonly shrink the LFCs of a :class:`DeseqStats` object based on its\n``contrast`` argument.\n\n"
   ]
  },
  {
   "cell_type": "code",
   "execution_count": null,
   "metadata": {
    "collapsed": false
   },
   "outputs": [],
   "source": [
    "ds_B_vs_A.lfc_shrink(coeff=\"condition[T.B]\")"
   ]
  }
 ],
 "metadata": {
  "kernelspec": {
   "display_name": "Python 3",
   "language": "python",
   "name": "python3"
  },
  "language_info": {
   "codemirror_mode": {
    "name": "ipython",
    "version": 3
   },
   "file_extension": ".py",
   "mimetype": "text/x-python",
   "name": "python",
   "nbconvert_exporter": "python",
   "pygments_lexer": "ipython3",
   "version": "3.10.15"
  }
 },
 "nbformat": 4,
 "nbformat_minor": 0
}
