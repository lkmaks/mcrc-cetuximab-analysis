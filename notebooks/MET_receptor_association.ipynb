{
 "cells": [
  {
   "cell_type": "code",
   "execution_count": null,
   "id": "ba8a53ab-3516-4d89-95cd-d66111f589f4",
   "metadata": {},
   "outputs": [],
   "source": [
    "import pandas as pd\n",
    "from scipy import stats\n",
    "import matplotlib.pyplot as plt\n",
    "import seaborn as sns\n",
    "import numpy as np"
   ]
  },
  {
   "cell_type": "code",
   "execution_count": null,
   "id": "c22c716c-1aca-4d88-9a45-d72ed714d0bf",
   "metadata": {},
   "outputs": [],
   "source": [
    "log_tpms = pd.read_csv('../data/log_tpms.csv')"
   ]
  },
  {
   "cell_type": "code",
   "execution_count": null,
   "id": "9bc535d1-7f2d-44cc-843a-2c20bd9697bc",
   "metadata": {},
   "outputs": [],
   "source": [
    "mapk_genes = open('../data/mapk_genes.txt', 'r').read().strip().split(', ')\n",
    "print('MAPK genes in total: ', len(mapk_genes))\n",
    "mapk_genes = list(filter(lambda gene: gene in log_tpms.columns, mapk_genes))\n",
    "print('MAPK genes in our data: ', len(mapk_genes))\n",
    "corrs = [stats.pearsonr(log_tpms['MET'], log_tpms[gene])[0] for gene in mapk_genes]\n",
    "ps = [stats.pearsonr(log_tpms['MET'], log_tpms[gene])[1] for gene in mapk_genes]\n",
    "neg_log_ps = [-np.log10(p) for p in ps]\n",
    "\n",
    "\n",
    "\n",
    "plt.figure(figsize=(16,9))\n",
    "\n",
    "sns.scatterplot(x=corrs, y=neg_log_ps)\n",
    "for i, gene in enumerate(mapk_genes):\n",
    "    plt.text(corrs[i]+0.01, neg_log_ps[i]+0.01, gene, fontsize=12)\n",
    "\n",
    "plt.xticks(np.linspace(-0.5, 0.5, 21))\n",
    "\n",
    "plt.title('Correlation of MAPK pathway genes with MET')\n",
    "plt.xlabel('Pearson correlation')\n",
    "plt.ylabel('-log10 P-value')\n",
    "plt.show()"
   ]
  },
  {
   "cell_type": "code",
   "execution_count": null,
   "id": "b90002b7-2b55-41cb-ac7c-5d069fbd3e0a",
   "metadata": {},
   "outputs": [],
   "source": [
    "pi3k_genes = open('../data/pi3k_genes.txt', 'r').read().strip().split(', ')\n",
    "print('PI3K genes in total: ', len(pi3k_genes))\n",
    "pi3k_genes = list(filter(lambda gene: gene in log_tpms.columns, pi3k_genes))\n",
    "print('PI3K genes in our data: ', len(pi3k_genes))\n",
    "corrs = [stats.pearsonr(log_tpms['MET'], log_tpms[gene])[0] for gene in pi3k_genes]\n",
    "ps = [stats.pearsonr(log_tpms['MET'], log_tpms[gene])[1] for gene in pi3k_genes]\n",
    "neg_log_ps = [-np.log10(p) for p in ps]\n",
    "\n",
    "plt.figure(figsize=(16,9))\n",
    "\n",
    "sns.scatterplot(x=corrs, y=neg_log_ps)\n",
    "for i, gene in enumerate(pi3k_genes):\n",
    "    plt.text(corrs[i]+0.01, neg_log_ps[i]+0.01, gene, fontsize=12)\n",
    "\n",
    "plt.xticks(np.linspace(-0.5, 0.5, 21))\n",
    "\n",
    "plt.title('Correlation of PI3K pathway genes with MET')\n",
    "plt.xlabel('Pearson correlation')\n",
    "plt.ylabel('-log10 P-value')\n",
    "plt.show()"
   ]
  }
 ],
 "metadata": {
  "kernelspec": {
   "display_name": "Python 3 (ipykernel)",
   "language": "python",
   "name": "python3"
  },
  "language_info": {
   "codemirror_mode": {
    "name": "ipython",
    "version": 3
   },
   "file_extension": ".py",
   "mimetype": "text/x-python",
   "name": "python",
   "nbconvert_exporter": "python",
   "pygments_lexer": "ipython3",
   "version": "3.12.0"
  }
 },
 "nbformat": 4,
 "nbformat_minor": 5
}
