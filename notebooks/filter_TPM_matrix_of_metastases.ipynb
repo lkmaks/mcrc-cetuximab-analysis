{
 "cells": [
  {
   "cell_type": "markdown",
   "id": "ac5b110e",
   "metadata": {},
   "source": [
    "Load annotation and counts"
   ]
  },
  {
   "cell_type": "code",
   "execution_count": 2,
   "id": "419ee815",
   "metadata": {},
   "outputs": [
    {
     "name": "stdout",
     "output_type": "stream",
     "text": [
      "Filtered count matrix shape: (19457, 85)\n"
     ]
    }
   ],
   "source": [
    "import pandas as pd\n",
    "\n",
    "# Load annotation\n",
    "ann = pd.read_csv(\"../data/annotation_no_metastases.csv\")\n",
    "\n",
    "# Load raw counts\n",
    "tpm = pd.read_csv(\"../data/log2_tpm_hgnc_matrix.csv\")\n",
    "\n",
    "ann[\"some_id\"] = ann[\"some_id\"].astype(str).str.strip()\n",
    "tpm.columns = tpm.columns.str.strip()\n",
    "\n",
    "# Ensure only sample columns that are present in tpm\n",
    "sample_ids = [col for col in ann[\"some_id\"] if col in raw_counts.columns]\n",
    "\n",
    "# Filter tpm to 85 samples\n",
    "filtered_counts = tpm[[\"gene\"] + sample_ids]\n",
    "\n",
    "# Save filtered matrix (optional)\n",
    "filtered_counts.to_csv(\"../data/log2_tpm_hgnc_matrix_no_metastases.csv\", index=False)\n",
    "\n",
    "print(f\"Filtered count matrix shape: {filtered_counts.shape}\")\n"
   ]
  }
 ],
 "metadata": {
  "kernelspec": {
   "display_name": ".venv",
   "language": "python",
   "name": "python3"
  },
  "language_info": {
   "codemirror_mode": {
    "name": "ipython",
    "version": 3
   },
   "file_extension": ".py",
   "mimetype": "text/x-python",
   "name": "python",
   "nbconvert_exporter": "python",
   "pygments_lexer": "ipython3",
   "version": "3.12.0"
  }
 },
 "nbformat": 4,
 "nbformat_minor": 5
}
