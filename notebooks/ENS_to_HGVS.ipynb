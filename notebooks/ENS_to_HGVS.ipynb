{
 "cells": [
  {
   "cell_type": "markdown",
   "id": "298615ee",
   "metadata": {},
   "source": []
  },
  {
   "cell_type": "code",
   "execution_count": 1,
   "id": "42b7347b",
   "metadata": {},
   "outputs": [
    {
     "name": "stderr",
     "output_type": "stream",
     "text": [
      "Input sequence provided is already in string format. No operation performed\n",
      "Input sequence provided is already in string format. No operation performed\n",
      "5 input query terms found dup hits:\t[('ENSG00000188660', 4), ('ENSG00000215156', 4), ('ENSG00000243620', 4), ('ENSG00000268674', 9), ('E\n"
     ]
    },
    {
     "name": "stdout",
     "output_type": "stream",
     "text": [
      "Gene symbol matrix saved. Shape: (19457, 114)\n"
     ]
    }
   ],
   "source": [
    "import pandas as pd\n",
    "from mygene import MyGeneInfo\n",
    "\n",
    "# Step 1: Load the log2 TPM matrix\n",
    "df = pd.read_csv(\"../data/log2_tpm_matrix_samples.csv\")\n",
    "\n",
    "# Step 2: Query MyGene for Ensembl → gene symbol mapping\n",
    "mg = MyGeneInfo()\n",
    "ensembl_ids = df[\"name\"].tolist()\n",
    "\n",
    "results = mg.querymany(\n",
    "    ensembl_ids,\n",
    "    scopes=\"ensembl.gene\",\n",
    "    fields=\"symbol\",\n",
    "    species=\"human\",\n",
    "    as_dataframe=True\n",
    ")\n",
    "\n",
    "# Step 3: Prepare mapping DataFrame\n",
    "symbol_map = results[[\"symbol\"]].reset_index().rename(columns={\"query\": \"name\"})\n",
    "\n",
    "# Step 4: Merge symbol names into TPM matrix\n",
    "df_merged = pd.merge(df, symbol_map, on=\"name\", how=\"left\")\n",
    "\n",
    "# Step 5: Drop rows with no gene symbol (optional)\n",
    "df_merged = df_merged.dropna(subset=[\"symbol\"])\n",
    "\n",
    "# Step 6: Replace Ensembl ID with gene symbol\n",
    "df_merged = df_merged.drop(columns=[\"name\"])\n",
    "df_merged = df_merged.rename(columns={\"symbol\": \"gene\"})\n",
    "df_merged = df_merged[[\"gene\"] + [col for col in df_merged.columns if col != \"gene\"]]\n",
    "\n",
    "# Step 7: Save final matrix\n",
    "df_merged.to_csv(\"../data/log2_tpm_hgnc_matrix.csv\", index=False)\n",
    "print(f\"Gene symbol matrix saved. Shape: {df_merged.shape}\")"
   ]
  }
 ],
 "metadata": {
  "kernelspec": {
   "display_name": ".venv",
   "language": "python",
   "name": "python3"
  },
  "language_info": {
   "codemirror_mode": {
    "name": "ipython",
    "version": 3
   },
   "file_extension": ".py",
   "mimetype": "text/x-python",
   "name": "python",
   "nbconvert_exporter": "python",
   "pygments_lexer": "ipython3",
   "version": "3.12.0"
  }
 },
 "nbformat": 4,
 "nbformat_minor": 5
}
