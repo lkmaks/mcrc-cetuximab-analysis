{
 "cells": [
  {
   "cell_type": "code",
   "execution_count": 2,
   "id": "42a3c816",
   "metadata": {},
   "outputs": [
    {
     "name": "stderr",
     "output_type": "stream",
     "text": [
      "Input sequence provided is already in string format. No operation performed\n",
      "Input sequence provided is already in string format. No operation performed\n"
     ]
    },
    {
     "name": "stdout",
     "output_type": "stream",
     "text": [
      "Original shape: (58735, 85)\n"
     ]
    },
    {
     "name": "stderr",
     "output_type": "stream",
     "text": [
      "31 input query terms found dup hits:\t[('ENSG00000188660', 2), ('ENSG00000215156', 2), ('ENSG00000226506', 2), ('ENSG00000226519', 2), ('E\n",
      "1383 input query terms found no hit:\t['ENSG00000112096', 'ENSG00000116883', 'ENSG00000130489', 'ENSG00000130723', 'ENSG00000131484', 'ENS\n"
     ]
    },
    {
     "name": "stdout",
     "output_type": "stream",
     "text": [
      "Filtered shape (protein-coding only): (19407, 85)\n"
     ]
    }
   ],
   "source": [
    "import pandas as pd\n",
    "from mygene import MyGeneInfo\n",
    "\n",
    "# Step 1: Load the raw counts\n",
    "raw_counts = pd.read_csv(\"../data/raw_counts_no_metastases.csv\")\n",
    "print(f\"Original shape: {raw_counts.shape}\")\n",
    "\n",
    "# Step 2: Extract Ensembl IDs (assuming first column is 'name')\n",
    "ensembl_ids = raw_counts[\"name\"].tolist()\n",
    "\n",
    "# Step 3: Query MyGene for biotypes\n",
    "mg = MyGeneInfo()\n",
    "results = mg.querymany(\n",
    "    ensembl_ids,\n",
    "    scopes=\"ensembl.gene\",\n",
    "    fields=\"type_of_gene\",\n",
    "    species=\"human\",\n",
    "    as_dataframe=True\n",
    ")\n",
    "\n",
    "# Step 4: Prepare biotype DataFrame\n",
    "biotypes = results[[\"type_of_gene\"]].reset_index().rename(columns={\"query\": \"name\", \"type_of_gene\": \"biotype\"})\n",
    "\n",
    "# Step 5: Merge biotype info with raw counts\n",
    "merged = pd.merge(raw_counts, biotypes, on=\"name\", how=\"left\")\n",
    "\n",
    "# Step 6: Filter for protein-coding genes\n",
    "protein_coding = merged[merged[\"biotype\"] == \"protein-coding\"].drop(columns=[\"biotype\"])\n",
    "\n",
    "# Step 7: Save result\n",
    "protein_coding.to_csv(\"../data/raw_counts_protein_coding.csv\", index=False)\n",
    "\n",
    "print(f\"Filtered shape (protein-coding only): {protein_coding.shape}\")\n"
   ]
  }
 ],
 "metadata": {
  "kernelspec": {
   "display_name": ".venv",
   "language": "python",
   "name": "python3"
  },
  "language_info": {
   "codemirror_mode": {
    "name": "ipython",
    "version": 3
   },
   "file_extension": ".py",
   "mimetype": "text/x-python",
   "name": "python",
   "nbconvert_exporter": "python",
   "pygments_lexer": "ipython3",
   "version": "3.12.0"
  }
 },
 "nbformat": 4,
 "nbformat_minor": 5
}
