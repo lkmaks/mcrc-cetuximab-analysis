{
 "cells": [
  {
   "cell_type": "code",
   "execution_count": 5,
   "id": "e6485899",
   "metadata": {},
   "outputs": [
    {
     "name": "stdout",
     "output_type": "stream",
     "text": [
      "Filtered annotation saved. Remaining samples: 85\n"
     ]
    }
   ],
   "source": [
    "import pandas as pd\n",
    "\n",
    "# Load the annotation CSV\n",
    "df = pd.read_csv(\"../data/useful_ann.csv\")\n",
    "\n",
    "# Check unique tissue types (optional)\n",
    "# print(df[\"characteristics_ch1\"].unique())\n",
    "\n",
    "# Filter out any row where 'characteristics_ch1' contains 'metastasis' (case-insensitive)\n",
    "filtered_df = df[~df[\"tissue\"].str.contains(\"metastases\", case=False, na=False)]\n",
    "\n",
    "# Save the filtered DataFrame\n",
    "filtered_df.to_csv(\"../data/annotation_no_metastasis.csv\", index=False)\n",
    "\n",
    "# Optional: check how many samples remain\n",
    "print(f\"Filtered annotation saved. Remaining samples: {len(filtered_df)}\")"
   ]
  }
 ],
 "metadata": {
  "kernelspec": {
   "display_name": ".venv",
   "language": "python",
   "name": "python3"
  },
  "language_info": {
   "codemirror_mode": {
    "name": "ipython",
    "version": 3
   },
   "file_extension": ".py",
   "mimetype": "text/x-python",
   "name": "python",
   "nbconvert_exporter": "python",
   "pygments_lexer": "ipython3",
   "version": "3.12.0"
  }
 },
 "nbformat": 4,
 "nbformat_minor": 5
}
