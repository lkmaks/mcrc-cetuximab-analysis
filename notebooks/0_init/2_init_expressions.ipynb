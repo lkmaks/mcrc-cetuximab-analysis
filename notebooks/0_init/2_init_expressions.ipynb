{
 "cells": [
  {
   "metadata": {
    "ExecuteTime": {
     "end_time": "2025-05-19T14:26:06.320328Z",
     "start_time": "2025-05-19T14:26:06.309703Z"
    }
   },
   "cell_type": "code",
   "source": [
    "import os\n",
    "\n",
    "while os.getcwd()[-len('mcrc-cetuximab-analysis'):] != 'mcrc-cetuximab-analysis':\n",
    "    os.chdir('..')\n",
    "os.getcwd() "
   ],
   "id": "70014d65337dcea9",
   "outputs": [
    {
     "data": {
      "text/plain": [
       "'/home/max/mcrc-cetuximab-analysis'"
      ]
     },
     "execution_count": 1,
     "metadata": {},
     "output_type": "execute_result"
    }
   ],
   "execution_count": 1
  },
  {
   "metadata": {
    "ExecuteTime": {
     "end_time": "2025-05-19T14:26:06.388649Z",
     "start_time": "2025-05-19T14:26:06.325909Z"
    }
   },
   "cell_type": "code",
   "source": [
    "import pandas as pd\n",
    "import numpy as np\n",
    "from collections import Counter"
   ],
   "id": "35935b4b",
   "outputs": [],
   "execution_count": 2
  },
  {
   "metadata": {
    "jupyter": {
     "is_executing": true
    },
    "ExecuteTime": {
     "start_time": "2025-05-19T14:26:06.571472Z"
    }
   },
   "cell_type": "code",
   "source": [
    "# Parse info on gene names, lengths from a GTF file\n",
    "# no need to rerun\n",
    "\n",
    "def parse_gtf(gtf_path):\n",
    "    ensemble_gene_id_to_length = Counter()\n",
    "    ensemble_gene_id_to_version = dict()\n",
    "    ensemble_gene_id_to_hgnc = dict()\n",
    "    ensemble_gene_id_to_biotype = dict()\n",
    "    with open(gtf_path, \"r\") as f:\n",
    "        for li, line in enumerate(f):\n",
    "            # print(line)\n",
    "            if line.startswith(\"#\"):\n",
    "                continue\n",
    "            \n",
    "            parts = line.strip().split()\n",
    "            chromosome = parts[0]\n",
    "            entry_source_0 = parts[1]\n",
    "            entry_type = parts[2]\n",
    "            start = int(parts[3])\n",
    "            end = int(parts[4])\n",
    "            info = dict()\n",
    "            for i in range(8, len(parts) - 1, 2):\n",
    "                key = parts[i]\n",
    "                val = parts[i + 1][1:-2]\n",
    "                if key == 'gene_name' and val == 'havana':\n",
    "                    print(key, val, i)\n",
    "                info[key] = val\n",
    "            \n",
    "            if entry_type == 'gene' and 'gene_id' in info and 'gene_name' in info:\n",
    "                ensemble_gene_id_to_hgnc[info['gene_id']] = info['gene_name']\n",
    "                if 'gene_biotype' in info:\n",
    "                    ensemble_gene_id_to_biotype[info['gene_id']] = info['gene_biotype']\n",
    "            elif entry_type == 'exon':\n",
    "                version = info['gene_version']\n",
    "                ensemble_gene_id = info['gene_id']\n",
    "                ensemble_gene_id_to_version[ensemble_gene_id] = version\n",
    "                ensemble_gene_id_to_length[ensemble_gene_id] += end - start + 1\n",
    "                    \n",
    "    return ensemble_gene_id_to_hgnc, ensemble_gene_id_to_length, ensemble_gene_id_to_version, ensemble_gene_id_to_biotype\n",
    "\n",
    "ensemble_gene_id_to_hgnc, ensemble_gene_id_to_length, \\\n",
    " ensemble_gene_id_to_version, ensemble_gene_id_to_biotype = parse_gtf('data/Homo_sapiens.GRCh38.113.gtf')\n",
    "\n",
    "cnt = Counter()\n",
    "hgnc_to_ensemble_set = dict()\n",
    "for key in ensemble_gene_id_to_hgnc:\n",
    "# for key in ensemble_genes_common:\n",
    "    hgnc = ensemble_gene_id_to_hgnc[key]\n",
    "    cnt[hgnc] += 1\n",
    "    if cnt[hgnc] == 1:\n",
    "        hgnc_to_ensemble_set[hgnc] = {key}\n",
    "    else:\n",
    "        hgnc_to_ensemble_set[hgnc].add(key)\n"
   ],
   "id": "8c94674d65747504",
   "outputs": [],
   "execution_count": null
  },
  {
   "cell_type": "code",
   "id": "d5a64e2e-52aa-4468-90eb-dcdaa34c5632",
   "metadata": {
    "ExecuteTime": {
     "end_time": "2025-05-19T13:31:25.284137Z",
     "start_time": "2025-05-19T13:31:23.318264Z"
    }
   },
   "source": [
    "fpkms_df = pd.read_csv(\"raw/GSE183984_ASAN_RNASEQ_FPKM_ensg.csv\", index_col=0).T\n",
    "raw_counts_df = pd.read_csv(\"raw/GSE183984_ASAN_RNASEQ_raw_counts_ensg.csv\", index_col=0).T\n",
    "data_ensemble_genes = list(fpkms_df.columns)\n",
    "\n",
    "tpms_df = fpkms_df.T.div(fpkms_df.sum(axis=1)).T * 10 ** 6"
   ],
   "outputs": [],
   "execution_count": 10
  },
  {
   "cell_type": "code",
   "id": "5b2f8712-f96a-4b8a-a224-023a8b02c627",
   "metadata": {
    "ExecuteTime": {
     "end_time": "2025-05-19T13:31:29.974380Z",
     "start_time": "2025-05-19T13:31:25.993804Z"
    }
   },
   "source": [
    "def process_columns(df, shrink_to_bg=False):\n",
    "    print('Initial df cols: ', len(df.columns))\n",
    "    df = df.drop(columns=list(set(df.columns) - set(ensemble_gene_id_to_hgnc.keys())))\n",
    "    print('After dropping cols not annotated with HGNC name in GTF: ', len(df.columns))\n",
    "    \n",
    "    renamer = dict()\n",
    "    for egene in ensemble_gene_id_to_hgnc:\n",
    "        if ensemble_gene_id_to_biotype[egene] == 'protein_coding':\n",
    "            renamer[egene] = ensemble_gene_id_to_hgnc[egene]\n",
    "\n",
    "    df = df.rename(columns=renamer)\n",
    "    df = df.drop(columns=[col for col in df.columns if col.startswith('ENSG')])\n",
    "    \n",
    "    print('After renaming to HGNC (and deleting non-protein coding egenes): ', len(df.columns))\n",
    "\n",
    "    if shrink_to_bg:\n",
    "        df = df[list(common_hgncs.intersection(df.columns))]\n",
    "        print('After shrinking to BG HGNCs that are in the table: ', len(df.columns))\n",
    "    \n",
    "    mask = df.columns.duplicated()\n",
    "    for i in range(len(mask)):\n",
    "        if mask[i]:\n",
    "            j = 0\n",
    "            while df.columns[j] != df.columns[i]:\n",
    "                j += 1\n",
    "            df[df.columns[j]] += df[df.columns[i]]\n",
    "\n",
    "    df = df.loc[:,~df.columns.duplicated()]\n",
    "\n",
    "    print('After summing columns with the same HGNC name: ', len(df.columns))\n",
    "\n",
    "    return df\n",
    "\n",
    "raw_counts_df = process_columns(raw_counts_df)\n",
    "tpms_df = process_columns(tpms_df)\n",
    "\n",
    "# Rescale TPMs after deleting and summing genes\n",
    "tpms_df = tpms_df.div(tpms_df.sum(axis=1), axis='index') * 10 ** 6\n",
    "print(tpms_df.sum(axis=1))"
   ],
   "outputs": [
    {
     "name": "stdout",
     "output_type": "stream",
     "text": [
      "Initial df cols:  58735\n",
      "After dropping cols not annotated with HGNC name in GTF:  42148\n",
      "After renaming to HGNC (and deleting non-protein coding egenes):  19394\n",
      "After summing columns with the same HGNC name:  19388\n",
      "Initial df cols:  58735\n",
      "After dropping cols not annotated with HGNC name in GTF:  42148\n",
      "After renaming to HGNC (and deleting non-protein coding egenes):  19394\n",
      "After summing columns with the same HGNC name:  19388\n",
      "18R176_0020    1000000.0\n",
      "18R177_0021    1000000.0\n",
      "18R178_0022    1000000.0\n",
      "18R296_0008    1000000.0\n",
      "18R301_0002    1000000.0\n",
      "                 ...    \n",
      "18R309_0015    1000000.0\n",
      "18R310_0016    1000000.0\n",
      "18R311_0018    1000000.0\n",
      "18R318_0005    1000000.0\n",
      "18R319_0014    1000000.0\n",
      "Length: 113, dtype: float64\n"
     ]
    }
   ],
   "execution_count": 11
  },
  {
   "metadata": {
    "ExecuteTime": {
     "end_time": "2025-05-19T13:31:46.875252Z",
     "start_time": "2025-05-19T13:31:30.314722Z"
    }
   },
   "cell_type": "code",
   "source": [
    "import pandas as pd\n",
    "\n",
    "def extend_id(id):\n",
    "    fp, sp = id.split('_')\n",
    "    while len(sp) < 4:\n",
    "        sp = '0' + sp\n",
    "    return fp + '_' + sp\n",
    "\n",
    "# Load annotation\n",
    "ann = pd.read_csv(\"data/ann.csv\", index_col=0)\n",
    "ann_unfiltered = pd.read_csv(\"data/ann_unfiltered.csv\", index_col=0)\n",
    "\n",
    "tpms_df.index = tpms_df.index.map(extend_id)\n",
    "raw_counts_df.index = raw_counts_df.index.map(extend_id)\n",
    "\n",
    "# Leave only samples from annotation\n",
    "\n",
    "tpms_df_unfiltered = tpms_df.loc[ann_unfiltered.index]\n",
    "raw_counts_df_unfiltered = raw_counts_df.loc[ann_unfiltered.index]\n",
    "\n",
    "tpms_df = tpms_df.loc[ann.index]\n",
    "raw_counts_df = raw_counts_df.loc[ann.index]\n",
    "\n",
    "log_tpms_df = tpms_df.apply(lambda x: np.log2(1 + x))\n",
    "log_tpms_df_unfiltered = tpms_df_unfiltered.apply(lambda x: np.log2(1 + x))"
   ],
   "id": "6c6a6f495783575e",
   "outputs": [],
   "execution_count": 12
  },
  {
   "metadata": {
    "ExecuteTime": {
     "end_time": "2025-05-19T13:31:59.225081Z",
     "start_time": "2025-05-19T13:31:47.346718Z"
    }
   },
   "cell_type": "code",
   "source": [
    "log_tpms_df.to_csv('data/log_tpms_from_fpkm_hgnc_filtered_by_ann.csv', index=True)\n",
    "raw_counts_df.to_csv('data/raw_counts_hgnc_filtered_by_ann.csv', index=True)\n",
    "\n",
    "log_tpms_df_unfiltered.to_csv('data/log_tpms_from_fpkm_hgnc_unfiltered.csv', index=True)\n",
    "raw_counts_df_unfiltered.to_csv('data/raw_counts_hgnc_unfiltered.csv', index=True)"
   ],
   "id": "4a8fec5b-7d86-4ad2-95ec-a1b0f0cb529d",
   "outputs": [],
   "execution_count": 13
  },
  {
   "metadata": {
    "ExecuteTime": {
     "end_time": "2025-05-19T13:31:59.843940Z",
     "start_time": "2025-05-19T13:31:59.802623Z"
    }
   },
   "cell_type": "code",
   "source": [
    "our_hgncs = set(log_tpms_df.columns)\n",
    "bg_hgncs = set(open('data/gene_lists/bg_gnames.txt').read().strip().split())\n",
    "\n",
    "print('Excess genes compared to BG list: ', len(our_hgncs - bg_hgncs))\n",
    "print('Missing genes from BG list: ', len(bg_hgncs - our_hgncs))\n",
    "\n",
    "common_hgncs = our_hgncs.intersection(bg_hgncs)\n",
    "print('Common genes: ', len(common_hgncs))\n",
    "\n",
    "for key in our_hgncs:\n",
    "    if len(hgnc_to_ensemble_set[key]) > 1 and key is not None:\n",
    "        print(key)\n",
    "        print([(egene, ensemble_gene_id_to_length[egene], ensemble_gene_id_to_biotype[egene], ensemble_gene_id_to_version[egene]) for egene in hgnc_to_ensemble_set[key]])"
   ],
   "id": "e40a4196799e425c",
   "outputs": [
    {
     "name": "stdout",
     "output_type": "stream",
     "text": [
      "Excess genes compared to BG list:  1444\n",
      "Missing genes from BG list:  2118\n",
      "Common genes:  17944\n",
      "DHRSX\n",
      "[('ENSG00000169084', 6400, 'protein_coding', '15'), ('ENSG00000292338', 6400, 'protein_coding', '1')]\n",
      "ASMT\n",
      "[('ENSG00000196433', 4358, 'protein_coding', '13'), ('ENSG00000292336', 4358, 'protein_coding', '1')]\n",
      "IL9R\n",
      "[('ENSG00000124334', 6876, 'protein_coding', '19'), ('ENSG00000292373', 6876, 'protein_coding', '2')]\n",
      "SPATA13\n",
      "[('ENSG00000182957', 41488, 'protein_coding', '16'), ('ENSG00000228741', 1721, 'lncRNA', '2')]\n",
      "CSF2RA\n",
      "[('ENSG00000292357', 28693, 'protein_coding', '2'), ('ENSG00000198223', 28693, 'protein_coding', '19')]\n",
      "SIGLEC5\n",
      "[('ENSG00000268500', 5713, 'protein_coding', '8'), ('ENSG00000105501', 553, 'lncRNA', '13')]\n",
      "PINX1\n",
      "[('ENSG00000258724', 1753, 'protein_coding', '1'), ('ENSG00000254093', 6770, 'protein_coding', '9')]\n",
      "PDE4C\n",
      "[('ENSG00000285188', 5979, 'protein_coding', '1'), ('ENSG00000105650', 27984, 'protein_coding', '23')]\n",
      "GTPBP6\n",
      "[('ENSG00000292358', 7181, 'protein_coding', '2'), ('ENSG00000178605', 7181, 'protein_coding', '15')]\n",
      "IL3RA\n",
      "[('ENSG00000292332', 3679, 'protein_coding', '1'), ('ENSG00000185291', 3679, 'protein_coding', '12')]\n",
      "POLR2J3\n",
      "[('ENSG00000168255', 14603, 'protein_coding', '20'), ('ENSG00000285437', 10662, 'protein_coding', '2')]\n",
      "PLCXD1\n",
      "[('ENSG00000292344', 15034, 'protein_coding', '1'), ('ENSG00000182378', 15034, 'protein_coding', '15')]\n",
      "AKAP17A\n",
      "[('ENSG00000292343', 8618, 'protein_coding', '1'), ('ENSG00000197976', 8618, 'protein_coding', '12')]\n",
      "SFTA3\n",
      "[('ENSG00000257520', 2780, 'protein_coding', '2'), ('ENSG00000229415', 12669, 'lncRNA', '11')]\n",
      "SLC25A6\n",
      "[('ENSG00000169100', 3205, 'protein_coding', '14'), ('ENSG00000292334', 3205, 'protein_coding', '1')]\n",
      "PDE8B\n",
      "[('ENSG00000113231', 21876, 'protein_coding', '14'), ('ENSG00000284762', 3397, 'protein_coding', '1')]\n",
      "CRLF2\n",
      "[('ENSG00000205755', 4340, 'protein_coding', '13'), ('ENSG00000292363', 4340, 'protein_coding', '1')]\n",
      "KYAT1\n",
      "[('ENSG00000286112', 6970, 'protein_coding', '1'), ('ENSG00000171097', 13096, 'protein_coding', '14')]\n",
      "GOLGA8M\n",
      "[('ENSG00000188626', 5932, 'protein_coding', '7'), ('ENSG00000261480', 557, 'lncRNA', '1')]\n",
      "MATR3\n",
      "[('ENSG00000280987', 23097, 'protein_coding', '4'), ('ENSG00000015479', 41180, 'protein_coding', '20')]\n",
      "ZBED1\n",
      "[('ENSG00000214717', 18199, 'protein_coding', '12'), ('ENSG00000292345', 18199, 'protein_coding', '1')]\n",
      "P2RY8\n",
      "[('ENSG00000182162', 4674, 'protein_coding', '11'), ('ENSG00000292333', 4674, 'protein_coding', '1')]\n",
      "LINC02203\n",
      "[('ENSG00000280709', 3923, 'protein_coding', '2'), ('ENSG00000284988', 532, 'lncRNA', '1')]\n",
      "SHOX\n",
      "[('ENSG00000292354', 14993, 'protein_coding', '1'), ('ENSG00000185960', 14993, 'protein_coding', '15')]\n",
      "WASH6P\n",
      "[('ENSG00000292372', 22765, 'protein_coding', '1'), ('ENSG00000182484', 22765, 'protein_coding', '15')]\n",
      "VAMP7\n",
      "[('ENSG00000292366', 7859, 'protein_coding', '1'), ('ENSG00000124333', 7859, 'protein_coding', '16')]\n",
      "CD99\n",
      "[('ENSG00000292348', 12218, 'protein_coding', '1'), ('ENSG00000002586', 12218, 'protein_coding', '20')]\n",
      "KBTBD11-OT1\n",
      "[('ENSG00000283239', 14052, 'protein_coding', '1'), ('ENSG00000253696', 11478, 'lncRNA', '3')]\n",
      "HERC3\n",
      "[('ENSG00000287542', 4967, 'protein_coding', '1'), ('ENSG00000138641', 11239, 'protein_coding', '19')]\n",
      "DUSP13B\n",
      "[('ENSG00000079393', 6217, 'protein_coding', '22'), ('ENSG00000293542', 2570, 'protein_coding', '1')]\n",
      "ASMTL\n",
      "[('ENSG00000169093', 8446, 'protein_coding', '16'), ('ENSG00000292339', 8446, 'protein_coding', '1')]\n",
      "C4orf36\n",
      "[('ENSG00000285458', 3014, 'protein_coding', '1'), ('ENSG00000163633', 4881, 'protein_coding', '12')]\n",
      "ELFN2\n",
      "[('ENSG00000243902', 5718, 'lncRNA', '7'), ('ENSG00000166897', 11037, 'protein_coding', '16')]\n",
      "PPP2R3B\n",
      "[('ENSG00000167393', 14880, 'protein_coding', '18'), ('ENSG00000292327', 14880, 'protein_coding', '1')]\n"
     ]
    }
   ],
   "execution_count": 14
  },
  {
   "metadata": {
    "ExecuteTime": {
     "end_time": "2025-05-19T13:32:02.581156Z",
     "start_time": "2025-05-19T13:32:00.414360Z"
    }
   },
   "cell_type": "code",
   "source": [
    "print('ENS genes with known HGNC name: ', len(ensemble_gene_id_to_hgnc.keys()))\n",
    "print('ENS genes in raw data: ', len(data_ensemble_genes))\n",
    "print('ENS genes with known HGNC that are not in raw data: ', len(set(ensemble_gene_id_to_hgnc.keys()) - set(data_ensemble_genes)))\n",
    "print('ENS genes in raw data for which we don\\'t know HGNC: ', len(set(data_ensemble_genes) - set(ensemble_gene_id_to_hgnc.keys())))\n",
    "\n",
    "ensemble_genes_common = list(set(data_ensemble_genes).intersection(ensemble_gene_id_to_hgnc.keys()))\n",
    "print('ENS genes from data with known HGNC: ', len(ensemble_genes_common))"
   ],
   "id": "6b715b80480028f0",
   "outputs": [
    {
     "name": "stdout",
     "output_type": "stream",
     "text": [
      "ENS genes with known HGNC name:  42745\n",
      "ENS genes in raw data:  58735\n",
      "ENS genes with known HGNC that are not in raw data:  597\n",
      "ENS genes in raw data for which we don't know HGNC:  16587\n",
      "ENS genes from data with known HGNC:  42148\n"
     ]
    }
   ],
   "execution_count": 15
  },
  {
   "metadata": {
    "ExecuteTime": {
     "end_time": "2025-05-19T13:32:05.250448Z",
     "start_time": "2025-05-19T13:32:03.121677Z"
    }
   },
   "cell_type": "code",
   "source": "log_tpms_df.max(axis=1).max()",
   "id": "63790043d78ff7d",
   "outputs": [
    {
     "data": {
      "text/plain": [
       "15.321326451111348"
      ]
     },
     "execution_count": 16,
     "metadata": {},
     "output_type": "execute_result"
    }
   ],
   "execution_count": 16
  }
 ],
 "metadata": {
  "kernelspec": {
   "display_name": "Python 3 (ipykernel)",
   "language": "python",
   "name": "python3"
  },
  "language_info": {
   "codemirror_mode": {
    "name": "ipython",
    "version": 3
   },
   "file_extension": ".py",
   "mimetype": "text/x-python",
   "name": "python",
   "nbconvert_exporter": "python",
   "pygments_lexer": "ipython3",
   "version": "3.12.0"
  }
 },
 "nbformat": 4,
 "nbformat_minor": 5
}
