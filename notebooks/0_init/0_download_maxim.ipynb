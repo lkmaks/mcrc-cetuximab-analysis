{
 "cells": [
  {
   "cell_type": "code",
   "id": "4fba8e22d373d30f",
   "metadata": {
    "ExecuteTime": {
     "end_time": "2025-05-19T14:21:24.668499Z",
     "start_time": "2025-05-19T14:21:24.418074Z"
    }
   },
   "source": [
    "!mkdir ../../raw\n",
    "!mkdir ../../data"
   ],
   "outputs": [
    {
     "name": "stdout",
     "output_type": "stream",
     "text": [
      "mkdir: cannot create directory ‘../../raw’: File exists\r\n",
      "mkdir: cannot create directory ‘../../data’: File exists\r\n"
     ]
    }
   ],
   "execution_count": 1
  },
  {
   "cell_type": "markdown",
   "id": "1175763b7ba99b2a",
   "metadata": {},
   "source": [
    "Files from https://www.ncbi.nlm.nih.gov/geo/download/?acc=GSE183984:\n",
    "\n",
    "(using only .soft and two expression files supplied by publisher)"
   ]
  },
  {
   "cell_type": "code",
   "id": "20f400b98d68d9c9",
   "metadata": {
    "ExecuteTime": {
     "end_time": "2025-05-19T14:21:37.270002Z",
     "start_time": "2025-05-19T14:21:24.679100Z"
    }
   },
   "source": [
    "!wget https://ftp.ncbi.nlm.nih.gov/geo/series/GSE183nnn/GSE183984/soft/GSE183984_family.soft.gz\n",
    "# !wget https://ftp.ncbi.nlm.nih.gov/geo/series/GSE183nnn/GSE183984/miniml/GSE183984_family.xml.tgz\n",
    "# !wget https://ftp.ncbi.nlm.nih.gov/geo/series/GSE183nnn/GSE183984/matrix/GSE183984_series_matrix.txt.gz\n",
    "!wget https://ftp.ncbi.nlm.nih.gov/geo/series/GSE183nnn/GSE183984/suppl/GSE183984_ASAN_RNASEQ_FPKM_ensg.csv.gz\n",
    "!wget https://ftp.ncbi.nlm.nih.gov/geo/series/GSE183nnn/GSE183984/suppl/GSE183984_ASAN_RNASEQ_raw_counts_ensg.csv.gz\n",
    "# !wget https://www.ncbi.nlm.nih.gov/geo/download/?type=rnaseq_counts&acc=GSE183984&format=file&file=GSE183984_raw_counts_GRCh38.p13_NCBI.tsv.gz\n",
    "# !wget https://www.ncbi.nlm.nih.gov/geo/download/?type=rnaseq_counts&acc=GSE183984&format=file&file=GSE183984_norm_counts_FPKM_GRCh38.p13_NCBI.tsv.gz\n",
    "# !wget https://www.ncbi.nlm.nih.gov/geo/download/?type=rnaseq_counts&acc=GSE183984&format=file&file=GSE183984_norm_counts_TPM_GRCh38.p13_NCBI.tsv.gz\n",
    "# !wget https://www.ncbi.nlm.nih.gov/geo/download/?format=file&type=rnaseq_counts&file=Human.GRCh38.p13.annot.tsv.gz\n",
    "\n",
    "!gunzip *.gz\n",
    "!mv *.csv ../../raw\n",
    "!mv *.soft ../../raw\n",
    "# !tar -xzf GSE183984_family.xml.tgz -C ../raw && rm GSE183984_family.xml.tgz \n",
    "# !mv *.xml ../raw\n",
    "# !mv *.txt ../raw\n",
    "# !mv *.tsv ../raw"
   ],
   "outputs": [
    {
     "name": "stdout",
     "output_type": "stream",
     "text": [
      "--2025-05-19 18:21:24--  https://ftp.ncbi.nlm.nih.gov/geo/series/GSE183nnn/GSE183984/soft/GSE183984_family.soft.gz\r\n",
      "Resolving ftp.ncbi.nlm.nih.gov (ftp.ncbi.nlm.nih.gov)... 130.14.250.31, 130.14.250.7, 130.14.250.10, ...\r\n",
      "Connecting to ftp.ncbi.nlm.nih.gov (ftp.ncbi.nlm.nih.gov)|130.14.250.31|:443... connected.\r\n",
      "HTTP request sent, awaiting response... 200 OK\r\n",
      "Length: 7650 (7.5K) [application/x-gzip]\r\n",
      "Saving to: ‘GSE183984_family.soft.gz’\r\n",
      "\r\n",
      "GSE183984_family.so 100%[===================>]   7.47K  --.-KB/s    in 0s      \r\n",
      "\r\n",
      "2025-05-19 18:21:25 (72.6 MB/s) - ‘GSE183984_family.soft.gz’ saved [7650/7650]\r\n",
      "\r\n",
      "--2025-05-19 18:21:25--  https://ftp.ncbi.nlm.nih.gov/geo/series/GSE183nnn/GSE183984/suppl/GSE183984_ASAN_RNASEQ_FPKM_ensg.csv.gz\r\n",
      "Resolving ftp.ncbi.nlm.nih.gov (ftp.ncbi.nlm.nih.gov)... 130.14.250.7, 130.14.250.10, 130.14.250.12, ...\r\n",
      "Connecting to ftp.ncbi.nlm.nih.gov (ftp.ncbi.nlm.nih.gov)|130.14.250.7|:443... connected.\r\n",
      "HTTP request sent, awaiting response... 200 OK\r\n",
      "Length: 24577585 (23M) [application/x-gzip]\r\n",
      "Saving to: ‘GSE183984_ASAN_RNASEQ_FPKM_ensg.csv.gz’\r\n",
      "\r\n",
      "GSE183984_ASAN_RNAS 100%[===================>]  23.44M  5.42MB/s    in 5.1s    \r\n",
      "\r\n",
      "2025-05-19 18:21:31 (4.57 MB/s) - ‘GSE183984_ASAN_RNASEQ_FPKM_ensg.csv.gz’ saved [24577585/24577585]\r\n",
      "\r\n",
      "--2025-05-19 18:21:31--  https://ftp.ncbi.nlm.nih.gov/geo/series/GSE183nnn/GSE183984/suppl/GSE183984_ASAN_RNASEQ_raw_counts_ensg.csv.gz\r\n",
      "Resolving ftp.ncbi.nlm.nih.gov (ftp.ncbi.nlm.nih.gov)... 130.14.250.7, 130.14.250.10, 130.14.250.13, ...\r\n",
      "Connecting to ftp.ncbi.nlm.nih.gov (ftp.ncbi.nlm.nih.gov)|130.14.250.7|:443... connected.\r\n",
      "HTTP request sent, awaiting response... 200 OK\r\n",
      "Length: 6256134 (6.0M) [application/x-gzip]\r\n",
      "Saving to: ‘GSE183984_ASAN_RNASEQ_raw_counts_ensg.csv.gz’\r\n",
      "\r\n",
      "GSE183984_ASAN_RNAS 100%[===================>]   5.97M  3.58MB/s    in 1.7s    \r\n",
      "\r\n",
      "2025-05-19 18:21:33 (3.58 MB/s) - ‘GSE183984_ASAN_RNASEQ_raw_counts_ensg.csv.gz’ saved [6256134/6256134]\r\n",
      "\r\n"
     ]
    }
   ],
   "execution_count": 2
  },
  {
   "cell_type": "markdown",
   "id": "f15672a712acebbe",
   "metadata": {},
   "source": [
    "Genome information (maybe should use another file, for now this):"
   ]
  },
  {
   "cell_type": "code",
   "id": "3bd2ce5faad1d1b9",
   "metadata": {
    "ExecuteTime": {
     "end_time": "2025-05-19T14:22:41.955958Z",
     "start_time": "2025-05-19T14:21:37.491237Z"
    }
   },
   "source": [
    "!wget ftp://ftp.ensembl.org/pub/release-113/gtf/homo_sapiens/Homo_sapiens.GRCh38.113.gtf.gz\n",
    "!gzip -d Homo_sapiens.GRCh38.113.gtf.gz\n",
    "!mv Homo_sapiens.GRCh38.113.gtf ../../data/Homo_sapiens.GRCh38.113.gtf"
   ],
   "outputs": [
    {
     "name": "stdout",
     "output_type": "stream",
     "text": [
      "--2025-05-19 18:21:37--  ftp://ftp.ensembl.org/pub/release-113/gtf/homo_sapiens/Homo_sapiens.GRCh38.113.gtf.gz\r\n",
      "           => ‘Homo_sapiens.GRCh38.113.gtf.gz’\r\n",
      "Resolving ftp.ensembl.org (ftp.ensembl.org)... 193.62.193.169\r\n",
      "Connecting to ftp.ensembl.org (ftp.ensembl.org)|193.62.193.169|:21... connected.\r\n",
      "Logging in as anonymous ... Logged in!\r\n",
      "==> SYST ... done.    ==> PWD ... done.\r\n",
      "==> TYPE I ... done.  ==> CWD (1) /pub/release-113/gtf/homo_sapiens ... done.\r\n",
      "==> SIZE Homo_sapiens.GRCh38.113.gtf.gz ... 64141785\r\n",
      "==> PASV ... done.    ==> RETR Homo_sapiens.GRCh38.113.gtf.gz ... done.\r\n",
      "Length: 64141785 (61M) (unauthoritative)\r\n",
      "\r\n",
      "Homo_sapiens.GRCh38 100%[===================>]  61.17M  6.53MB/s    in 9.2s    \r\n",
      "\r\n",
      "2025-05-19 18:21:47 (6.68 MB/s) - ‘Homo_sapiens.GRCh38.113.gtf.gz’ saved [64141785]\r\n",
      "\r\n"
     ]
    }
   ],
   "execution_count": 3
  }
 ],
 "metadata": {
  "kernelspec": {
   "display_name": "Python 3 (ipykernel)",
   "language": "python",
   "name": "python3"
  },
  "language_info": {
   "codemirror_mode": {
    "name": "ipython",
    "version": 3
   },
   "file_extension": ".py",
   "mimetype": "text/x-python",
   "name": "python",
   "nbconvert_exporter": "python",
   "pygments_lexer": "ipython3",
   "version": "3.12.0"
  }
 },
 "nbformat": 4,
 "nbformat_minor": 5
}
