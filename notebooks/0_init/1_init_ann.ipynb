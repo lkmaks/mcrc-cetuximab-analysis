{
 "cells": [
  {
   "metadata": {
    "ExecuteTime": {
     "end_time": "2025-05-19T13:19:39.987791Z",
     "start_time": "2025-05-19T13:19:39.980376Z"
    }
   },
   "cell_type": "code",
   "source": [
    "import os\n",
    "\n",
    "while os.getcwd()[-len('mcrc-cetuximab-analysis'):] != 'mcrc-cetuximab-analysis':\n",
    "    os.chdir('..')\n",
    "os.getcwd() "
   ],
   "id": "b1011cd2abf601d1",
   "outputs": [
    {
     "data": {
      "text/plain": [
       "'/home/max/mcrc-cetuximab-analysis'"
      ]
     },
     "execution_count": 13,
     "metadata": {},
     "output_type": "execute_result"
    }
   ],
   "execution_count": 13
  },
  {
   "metadata": {
    "ExecuteTime": {
     "end_time": "2025-05-19T13:19:40.148666Z",
     "start_time": "2025-05-19T13:19:40.144433Z"
    }
   },
   "cell_type": "code",
   "source": [
    "import os\n",
    "import GEOparse as Geo"
   ],
   "id": "initial_id",
   "outputs": [],
   "execution_count": 14
  },
  {
   "cell_type": "code",
   "id": "9022226f34d5053d",
   "metadata": {
    "ExecuteTime": {
     "end_time": "2025-05-19T13:19:41.010040Z",
     "start_time": "2025-05-19T13:19:40.198869Z"
    }
   },
   "source": [
    "import pandas as pd\n",
    "\n",
    "def decouple(s):\n",
    "    ls = list(s.split(\"', '\"))\n",
    "    if len(ls) == 3:\n",
    "        ls[0] = ls[0][2:]\n",
    "        ls[2] = ls[2][:-2]\n",
    "    elif len(ls) == 2:\n",
    "        ls[0] = ls[0][2:]\n",
    "        ls[1] = ls[1][:-2]\n",
    "    dc = {s.split(': ')[0]: s.split(': ')[1] for s in ls}\n",
    "    return dc\n",
    "\n",
    "def extend_id(id):\n",
    "    fp, sp = id.split('_')\n",
    "    while len(sp) < 4:\n",
    "        sp = '0' + sp\n",
    "    return fp + '_' + sp\n",
    "\n",
    "def pad_zeros(s, n):\n",
    "    while len(s) < n:\n",
    "        s = '0' + s\n",
    "    return s\n",
    "\n",
    "gse = Geo.get_GEO(filepath=\"raw/GSE183984_family.soft\", silent=True)\n",
    "print('Platform: ', gse.gpls)\n",
    "for key in gse.gsms:\n",
    "    ann = pd.DataFrame(columns=gse.gsms[key].metadata.keys())\n",
    "    break\n",
    "\n",
    "for key in gse.gsms:\n",
    "    ann = pd.concat([ann, pd.DataFrame([gse.gsms[key].metadata], index=[key], dtype=str)])\n",
    "\n",
    "print('Annotation size after collecting it from .SOFT: ', len(ann))\n",
    "\n",
    "new_ann = pd.DataFrame(columns=['sample_id', 'tissue', 'time point', 'treatment response', 'patient_id', 'gsm_id', 'sample_title']).set_index('gsm_id')\n",
    "for i in range(len(ann)):\n",
    "    new_row = decouple(str(ann.iloc[i]['characteristics_ch1']))\n",
    "    # print(new_row)\n",
    "    title = str(ann.iloc[i]['title'])\n",
    "    new_row['sample_id'] = extend_id(title[title.find('[', 1) + 1 : title.find(']')])\n",
    "    new_row['sample_title'] = title[2:title.find(' ')]\n",
    "    new_row['patient_id'] = (lambda s: pad_zeros(''.join(filter(lambda x: x.isdigit(), s)), 4))(new_row['sample_title'])\n",
    "    new_ann = pd.concat([new_ann, pd.DataFrame([new_row], index=[ann.index[i]])])\n",
    "\n",
    "ann = new_ann\n",
    "ann['gsm_id'] = ann.index\n",
    "ann = ann.set_index('sample_id')\n",
    "\n",
    "print('Annotation size after creating new columns: ', len(ann))\n",
    "\n",
    "ann = ann.loc[~ann[\"tissue\"].str.contains(\"metastases\", case=False, na=False)]\n",
    "print('Annotation size after deleting metastatic samples: ', len(ann))\n",
    "\n",
    "\n",
    "print('Patient 5 indexes: ', ann.loc[ann['patient_id'] == '0005'].index)\n",
    "ann = ann.loc[ann['patient_id'] != '0005']\n",
    "print('Annotation size after deleting patient 0005: ', len(ann))\n",
    "\n",
    "\n",
    "print('Nans: ', ann.isna().sum())\n",
    "\n",
    "# setting NaN to pre because it is known from another column (treatment response)\n",
    "ann.loc[ann['time point'].isna(), 'time point'] = 'pre-treatment'\n",
    "\n",
    "def convert_treatment_response(s):\n",
    "    if 'non-PD' in s:\n",
    "        return 'non-PD'\n",
    "    elif 'PD' in s:\n",
    "        return 'PD'\n",
    "    elif s == 'pre-Tx':\n",
    "        return 'unknown'\n",
    "    else:\n",
    "        raise Exception('unexpected treatment response in annotation row')\n",
    "\n",
    "ann['treatment response'] = ann['treatment response'].apply(convert_treatment_response) \n",
    "\n",
    "treatment_response_for_patient = dict()\n",
    "\n",
    "for i in range(len(ann)):\n",
    "    row = ann.iloc[i]\n",
    "    patient_id = row['patient_id']\n",
    "    response = row['treatment response']\n",
    "    time_point = row['time point']\n",
    "    \n",
    "    if time_point == 'pre-treatment' and response != 'unknown':\n",
    "        raise Exception('known response in pre-treatment')\n",
    "    \n",
    "    if time_point == 'post-treatment' and response == 'unknown':\n",
    "        raise Exception('unknown response in post-treatment')\n",
    "    \n",
    "    if response != 'unknown':\n",
    "        if patient_id in treatment_response_for_patient and response != treatment_response_for_patient[patient_id]:\n",
    "            raise Exception('contradictive post-treatment response for patient')\n",
    "        \n",
    "        treatment_response_for_patient[patient_id] = response\n",
    "\n",
    "for i in range(len(ann)):\n",
    "    row = ann.iloc[i]\n",
    "    patient_id = row['patient_id']\n",
    "    response = row['treatment response']\n",
    "    \n",
    "    if response == 'unknown' and patient_id in treatment_response_for_patient:\n",
    "        ann.loc[ann.index[i],'treatment response'] = treatment_response_for_patient[patient_id]\n",
    "\n"
   ],
   "outputs": [
    {
     "name": "stdout",
     "output_type": "stream",
     "text": [
      "Platform:  {'GPL16791': <d: GPL16791>}\n",
      "Annotation size after collecting it from .SOFT:  113\n",
      "Annotation size after creating new columns:  113\n",
      "Annotation size after deleting metastatic samples:  85\n",
      "Patient 5 indexes:  Index(['18R689_0022', '18R690_0023', '18R697_0005', '18R176_0020'], dtype='object', name='sample_id')\n",
      "Annotation size after deleting patient 0005:  81\n",
      "Nans:  tissue                0\n",
      "time point            1\n",
      "treatment response    0\n",
      "patient_id            0\n",
      "sample_title          0\n",
      "gsm_id                0\n",
      "dtype: int64\n"
     ]
    }
   ],
   "execution_count": 15
  },
  {
   "metadata": {
    "ExecuteTime": {
     "end_time": "2025-05-19T13:19:41.036722Z",
     "start_time": "2025-05-19T13:19:41.031519Z"
    }
   },
   "cell_type": "code",
   "source": "ann.to_csv('data/ann_unfiltered.csv', index=True)",
   "id": "6920b57eef38ab5b",
   "outputs": [],
   "execution_count": 16
  },
  {
   "metadata": {
    "ExecuteTime": {
     "end_time": "2025-05-19T13:19:41.089578Z",
     "start_time": "2025-05-19T13:19:41.082025Z"
    }
   },
   "cell_type": "code",
   "source": [
    "\n",
    "ann = ann.drop(['18R294_0001'])\n",
    "# this is from patient 0005\n",
    "# ann = ann.drop(['18R697_0005',])\n",
    "print('Annotation size after deleting 18R697_0005, 18R294_0001: ', len(ann))\n"
   ],
   "id": "28a224eef50ffe40",
   "outputs": [
    {
     "name": "stdout",
     "output_type": "stream",
     "text": [
      "Annotation size after deleting 18R697_0005, 18R294_0001:  80\n"
     ]
    }
   ],
   "execution_count": 17
  },
  {
   "metadata": {
    "ExecuteTime": {
     "end_time": "2025-05-19T13:19:41.149222Z",
     "start_time": "2025-05-19T13:19:41.142471Z"
    }
   },
   "cell_type": "code",
   "source": "ann.to_csv('data/ann.csv', index=True)",
   "id": "43800b0778add8c6",
   "outputs": [],
   "execution_count": 18
  },
  {
   "metadata": {
    "ExecuteTime": {
     "end_time": "2025-05-19T13:19:41.200116Z",
     "start_time": "2025-05-19T13:19:41.192742Z"
    }
   },
   "cell_type": "code",
   "source": "ann.index",
   "id": "7a132a200a470228",
   "outputs": [
    {
     "data": {
      "text/plain": [
       "Index(['18R649_0010', '18R654_0015', '18R669_0001', '18R670_0002',\n",
       "       '18R674_0006', '18R678_0010', '18R683_0015', '18R694_0002',\n",
       "       '18R699_0007', '18R700_0008', '18R429_0009', '18R298_0010',\n",
       "       '18R647_0008', '18R648_0009', '18R295_0003', '18R296_0008',\n",
       "       '18R178_0022', '18R177_0021', '18R299_0025', '18R300_0027',\n",
       "       '18R659_0020', '18R661_0021', '18R301_0002', '18R302_0004',\n",
       "       '18R663_0027', '18R664_0001', '18R307_0013', '18R319_0014',\n",
       "       '18R685_0018', '18R642_0003', '18R645_0006', '18R653_0014',\n",
       "       '18R432_0012', '18R434_0014', '18R460_0001', '18R695_0003',\n",
       "       '18R473_0014', '18R443_0022', '18R436_0016', '18R421_0001',\n",
       "       '18R463_0004', '18R472_0013', '18R426_0006', '18R427_0007',\n",
       "       '18R508_0011', '18R433_0013', '18R435_0015', '18R437_0018',\n",
       "       '18R449_0023', '18R438_0019', '18R440_0020', '18R456_0002',\n",
       "       '18R457_0023', '18R458_0025', '18R459_0027', '18R461_0002',\n",
       "       '18R462_0003', '18R464_0005', '18R468_0009', '18R469_0010',\n",
       "       '18R470_0011', '18R471_0012', '18R474_0015', '18R475_0016',\n",
       "       '18R476_0018', '18R640_0001', '18R701_0009', '18R478_0020',\n",
       "       '18R479_0021', '18R480_0022', '18R702_0010', '18R656_0018',\n",
       "       '18R657_0019', '18R673_0005', '18R465_0006', '18R454_0027',\n",
       "       '18R477_0019', '18R507_0004', '18R428_0008', '18R705_0013'],\n",
       "      dtype='object', name='sample_id')"
      ]
     },
     "execution_count": 19,
     "metadata": {},
     "output_type": "execute_result"
    }
   ],
   "execution_count": 19
  },
  {
   "metadata": {
    "ExecuteTime": {
     "end_time": "2025-05-19T13:19:41.268805Z",
     "start_time": "2025-05-19T13:19:41.261002Z"
    }
   },
   "cell_type": "code",
   "source": "ann['tissue'].value_counts()",
   "id": "430ce6af-0b28-4b3d-b563-c68afa156056",
   "outputs": [
    {
     "data": {
      "text/plain": [
       "tissue\n",
       "primary tumor (colorectum)    80\n",
       "Name: count, dtype: int64"
      ]
     },
     "execution_count": 20,
     "metadata": {},
     "output_type": "execute_result"
    }
   ],
   "execution_count": 20
  },
  {
   "metadata": {
    "ExecuteTime": {
     "end_time": "2025-05-19T13:19:41.534142Z",
     "start_time": "2025-05-19T13:19:41.522036Z"
    }
   },
   "cell_type": "code",
   "source": "ann['time point'].value_counts()",
   "id": "02dafb53-4e85-4cac-aa37-740da19e4609",
   "outputs": [
    {
     "data": {
      "text/plain": [
       "time point\n",
       "pre-treatment     67\n",
       "post-treatment    13\n",
       "Name: count, dtype: int64"
      ]
     },
     "execution_count": 21,
     "metadata": {},
     "output_type": "execute_result"
    }
   ],
   "execution_count": 21
  },
  {
   "metadata": {
    "ExecuteTime": {
     "end_time": "2025-05-19T13:19:41.627448Z",
     "start_time": "2025-05-19T13:19:41.619197Z"
    }
   },
   "cell_type": "code",
   "source": "ann['treatment response'].value_counts()",
   "id": "2a989014-3c99-43bf-ad9f-4d83065a9b81",
   "outputs": [
    {
     "data": {
      "text/plain": [
       "treatment response\n",
       "unknown    42\n",
       "non-PD     27\n",
       "PD         11\n",
       "Name: count, dtype: int64"
      ]
     },
     "execution_count": 22,
     "metadata": {},
     "output_type": "execute_result"
    }
   ],
   "execution_count": 22
  },
  {
   "metadata": {
    "ExecuteTime": {
     "end_time": "2025-05-19T13:19:41.758674Z",
     "start_time": "2025-05-19T13:19:41.747872Z"
    }
   },
   "cell_type": "code",
   "source": "ann['patient_id'].value_counts().sort_index()",
   "id": "e8f36d69-733d-45c1-924c-f1218af74753",
   "outputs": [
    {
     "data": {
      "text/plain": [
       "patient_id\n",
       "0001    3\n",
       "0002    3\n",
       "0003    1\n",
       "0004    3\n",
       "0006    3\n",
       "0007    1\n",
       "0008    3\n",
       "0009    1\n",
       "0010    3\n",
       "0011    2\n",
       "0012    3\n",
       "0013    3\n",
       "0014    3\n",
       "0015    4\n",
       "0016    2\n",
       "0017    1\n",
       "0018    1\n",
       "0019    1\n",
       "0020    2\n",
       "0021    3\n",
       "0022    1\n",
       "0023    1\n",
       "0024    1\n",
       "0026    1\n",
       "0027    1\n",
       "0028    1\n",
       "0029    2\n",
       "0030    1\n",
       "0031    1\n",
       "0032    2\n",
       "0033    1\n",
       "0034    1\n",
       "0035    1\n",
       "0036    1\n",
       "0037    1\n",
       "0038    1\n",
       "0040    1\n",
       "0041    1\n",
       "0042    1\n",
       "0043    1\n",
       "0044    1\n",
       "0045    1\n",
       "0046    1\n",
       "0047    1\n",
       "0048    1\n",
       "0049    1\n",
       "0050    1\n",
       "0051    1\n",
       "0052    1\n",
       "0054    1\n",
       "0055    1\n",
       "0061    1\n",
       "Name: count, dtype: int64"
      ]
     },
     "execution_count": 23,
     "metadata": {},
     "output_type": "execute_result"
    }
   ],
   "execution_count": 23
  },
  {
   "metadata": {
    "ExecuteTime": {
     "end_time": "2025-05-19T13:19:41.917186Z",
     "start_time": "2025-05-19T13:19:41.908041Z"
    }
   },
   "cell_type": "code",
   "source": "ann[ann['time point'] == 'post-treatment']['treatment response'].value_counts()",
   "id": "6a23df2fc1ed1d28",
   "outputs": [
    {
     "data": {
      "text/plain": [
       "treatment response\n",
       "non-PD    9\n",
       "PD        4\n",
       "Name: count, dtype: int64"
      ]
     },
     "execution_count": 24,
     "metadata": {},
     "output_type": "execute_result"
    }
   ],
   "execution_count": 24
  },
  {
   "metadata": {
    "ExecuteTime": {
     "end_time": "2025-05-19T13:19:42.337710Z",
     "start_time": "2025-05-19T13:19:42.326729Z"
    }
   },
   "cell_type": "code",
   "source": "ann[ann['time point'] == 'pre-treatment']['treatment response'].value_counts()",
   "id": "c61ecc687477b54a",
   "outputs": [
    {
     "data": {
      "text/plain": [
       "treatment response\n",
       "unknown    42\n",
       "non-PD     18\n",
       "PD          7\n",
       "Name: count, dtype: int64"
      ]
     },
     "execution_count": 25,
     "metadata": {},
     "output_type": "execute_result"
    }
   ],
   "execution_count": 25
  }
 ],
 "metadata": {
  "kernelspec": {
   "display_name": "Python 3 (ipykernel)",
   "language": "python",
   "name": "python3"
  },
  "language_info": {
   "codemirror_mode": {
    "name": "ipython",
    "version": 3
   },
   "file_extension": ".py",
   "mimetype": "text/x-python",
   "name": "python",
   "nbconvert_exporter": "python",
   "pygments_lexer": "ipython3",
   "version": "3.12.0"
  }
 },
 "nbformat": 4,
 "nbformat_minor": 5
}
