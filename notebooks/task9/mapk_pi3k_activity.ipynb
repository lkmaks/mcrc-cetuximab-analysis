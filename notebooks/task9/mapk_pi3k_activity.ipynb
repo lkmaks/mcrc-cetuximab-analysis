{
 "cells": [
  {
   "metadata": {},
   "cell_type": "code",
   "outputs": [],
   "execution_count": null,
   "source": "import decoupler",
   "id": "f9ef435ca5915d7b"
  },
  {
   "metadata": {},
   "cell_type": "code",
   "outputs": [],
   "execution_count": null,
   "source": "pydeseq_results = ",
   "id": "5853f5d3a1f6494e"
  },
  {
   "metadata": {
    "collapsed": true
   },
   "cell_type": "code",
   "outputs": [],
   "execution_count": null,
   "source": [
    "\n",
    "progeny = decoupler.get_progeny(top=300)\n",
    "mat = pydeseq_results[[\"stat\"]].T.rename(index={\"stat\": 'pydeseq_result'})\n",
    "\n",
    "pathway_acts, pathway_pvals = decoupler.run_consensus(mat=mat, net=progeny)\n",
    "decoupler.plot_barplot(pathway_acts, 'pydeseq_result', top=25, vertical=False)\n",
    "\n",
    "print(pathway_acts, pathway_pvals)"
   ],
   "id": "initial_id"
  }
 ],
 "metadata": {
  "kernelspec": {
   "display_name": "Python 3",
   "language": "python",
   "name": "python3"
  },
  "language_info": {
   "codemirror_mode": {
    "name": "ipython",
    "version": 2
   },
   "file_extension": ".py",
   "mimetype": "text/x-python",
   "name": "python",
   "nbconvert_exporter": "python",
   "pygments_lexer": "ipython2",
   "version": "2.7.6"
  }
 },
 "nbformat": 4,
 "nbformat_minor": 5
}
