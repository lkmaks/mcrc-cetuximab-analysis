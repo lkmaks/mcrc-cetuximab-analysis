{
 "cells": [
  {
   "metadata": {
    "ExecuteTime": {
     "end_time": "2025-05-08T17:16:22.866043Z",
     "start_time": "2025-05-08T17:16:22.853371Z"
    }
   },
   "cell_type": "code",
   "source": [
    "import os\n",
    "while os.getcwd()[-len('mcrc-cetuximab-analysis'):] != 'mcrc-cetuximab-analysis':\n",
    "    os.chdir('..')\n",
    "os.getcwd() "
   ],
   "id": "3db9c258f3b02a5f",
   "outputs": [
    {
     "data": {
      "text/plain": [
       "'/home/max/mcrc-cetuximab-analysis'"
      ]
     },
     "execution_count": 1,
     "metadata": {},
     "output_type": "execute_result"
    }
   ],
   "execution_count": 1
  },
  {
   "metadata": {
    "ExecuteTime": {
     "end_time": "2025-05-08T17:16:24.860598Z",
     "start_time": "2025-05-08T17:16:22.904139Z"
    }
   },
   "cell_type": "code",
   "source": [
    "import numpy as np\n",
    "import pickle as pkl\n",
    "import pandas as pd\n",
    "\n",
    "from pydeseq2.dds import DeseqDataSet\n",
    "from pydeseq2.default_inference import DefaultInference\n",
    "from pydeseq2.ds import DeseqStats\n",
    "from pydeseq2.utils import load_example_data\n",
    "\n",
    "import decoupler"
   ],
   "id": "f9ef435ca5915d7b",
   "outputs": [
    {
     "name": "stderr",
     "output_type": "stream",
     "text": [
      "/home/max/mcrc-cetuximab-analysis/.venv/lib/python3.12/site-packages/tqdm/auto.py:21: TqdmWarning: IProgress not found. Please update jupyter and ipywidgets. See https://ipywidgets.readthedocs.io/en/stable/user_install.html\n",
      "  from .autonotebook import tqdm as notebook_tqdm\n",
      "/home/max/mcrc-cetuximab-analysis/.venv/lib/python3.12/site-packages/numba/np/ufunc/parallel.py:371: NumbaWarning: The TBB threading layer requires TBB version 2021 update 6 or later i.e., TBB_INTERFACE_VERSION >= 12060. Found TBB_INTERFACE_VERSION = 12050. The TBB threading layer is disabled.\n",
      "  warnings.warn(problem)\n"
     ]
    }
   ],
   "execution_count": 2
  },
  {
   "metadata": {
    "ExecuteTime": {
     "end_time": "2025-05-08T17:16:26.731444Z",
     "start_time": "2025-05-08T17:16:25.039067Z"
    }
   },
   "cell_type": "code",
   "source": [
    "counts = pd.read_csv('data/raw_counts_hgnc_filtered_by_ann.csv', index_col=0)\n",
    "ann = pd.read_csv('data/ann.csv', index_col=0).rename(columns={'treatment response': 'treatment_response'})"
   ],
   "id": "bac6038c30d4385a",
   "outputs": [],
   "execution_count": 3
  },
  {
   "metadata": {
    "ExecuteTime": {
     "end_time": "2025-05-08T17:16:26.797667Z",
     "start_time": "2025-05-08T17:16:26.776298Z"
    }
   },
   "cell_type": "code",
   "source": "counts = counts.loc[:,counts.max() > 10].astype(int)",
   "id": "4935d550ffc259d1",
   "outputs": [],
   "execution_count": 4
  },
  {
   "metadata": {
    "ExecuteTime": {
     "end_time": "2025-05-08T17:16:26.851592Z",
     "start_time": "2025-05-08T17:16:26.837098Z"
    }
   },
   "cell_type": "code",
   "source": "ann",
   "id": "4d1246f70c10c42a",
   "outputs": [
    {
     "data": {
      "text/plain": [
       "                                 tissue      time point treatment_response  \\\n",
       "sample_id                                                                    \n",
       "18R649_0010  primary tumor (colorectum)  post-treatment             non-PD   \n",
       "18R654_0015  primary tumor (colorectum)   pre-treatment             non-PD   \n",
       "18R669_0001  primary tumor (colorectum)  post-treatment             non-PD   \n",
       "18R670_0002  primary tumor (colorectum)   pre-treatment             non-PD   \n",
       "18R674_0006  primary tumor (colorectum)   pre-treatment            unknown   \n",
       "...                                 ...             ...                ...   \n",
       "18R454_0027  primary tumor (colorectum)   pre-treatment            unknown   \n",
       "18R477_0019  primary tumor (colorectum)   pre-treatment            unknown   \n",
       "18R507_0004  primary tumor (colorectum)   pre-treatment             non-PD   \n",
       "18R428_0008  primary tumor (colorectum)   pre-treatment            unknown   \n",
       "18R705_0013  primary tumor (colorectum)   pre-treatment            unknown   \n",
       "\n",
       "             patient_id    sample_title      gsm_id  \n",
       "sample_id                                            \n",
       "18R649_0010           1      POST-R-001  GSM5575333  \n",
       "18R654_0015           1  PAIR-R-001-pre  GSM5575334  \n",
       "18R669_0001           2      POST-R-002  GSM5575336  \n",
       "18R670_0002           2      PAIR-R-002  GSM5575337  \n",
       "18R674_0006           3      PAIR-R-003  GSM5575339  \n",
       "...                 ...             ...         ...  \n",
       "18R454_0027          51       PRE-R-051  GSM5575441  \n",
       "18R477_0019          52       PRE-R-052  GSM5575442  \n",
       "18R507_0004          10          PRE-10  GSM5575443  \n",
       "18R428_0008          54       PRE-R-054  GSM5575444  \n",
       "18R705_0013          55       PRE-R-055  GSM5575445  \n",
       "\n",
       "[80 rows x 6 columns]"
      ],
      "text/html": [
       "<div>\n",
       "<style scoped>\n",
       "    .dataframe tbody tr th:only-of-type {\n",
       "        vertical-align: middle;\n",
       "    }\n",
       "\n",
       "    .dataframe tbody tr th {\n",
       "        vertical-align: top;\n",
       "    }\n",
       "\n",
       "    .dataframe thead th {\n",
       "        text-align: right;\n",
       "    }\n",
       "</style>\n",
       "<table border=\"1\" class=\"dataframe\">\n",
       "  <thead>\n",
       "    <tr style=\"text-align: right;\">\n",
       "      <th></th>\n",
       "      <th>tissue</th>\n",
       "      <th>time point</th>\n",
       "      <th>treatment_response</th>\n",
       "      <th>patient_id</th>\n",
       "      <th>sample_title</th>\n",
       "      <th>gsm_id</th>\n",
       "    </tr>\n",
       "    <tr>\n",
       "      <th>sample_id</th>\n",
       "      <th></th>\n",
       "      <th></th>\n",
       "      <th></th>\n",
       "      <th></th>\n",
       "      <th></th>\n",
       "      <th></th>\n",
       "    </tr>\n",
       "  </thead>\n",
       "  <tbody>\n",
       "    <tr>\n",
       "      <th>18R649_0010</th>\n",
       "      <td>primary tumor (colorectum)</td>\n",
       "      <td>post-treatment</td>\n",
       "      <td>non-PD</td>\n",
       "      <td>1</td>\n",
       "      <td>POST-R-001</td>\n",
       "      <td>GSM5575333</td>\n",
       "    </tr>\n",
       "    <tr>\n",
       "      <th>18R654_0015</th>\n",
       "      <td>primary tumor (colorectum)</td>\n",
       "      <td>pre-treatment</td>\n",
       "      <td>non-PD</td>\n",
       "      <td>1</td>\n",
       "      <td>PAIR-R-001-pre</td>\n",
       "      <td>GSM5575334</td>\n",
       "    </tr>\n",
       "    <tr>\n",
       "      <th>18R669_0001</th>\n",
       "      <td>primary tumor (colorectum)</td>\n",
       "      <td>post-treatment</td>\n",
       "      <td>non-PD</td>\n",
       "      <td>2</td>\n",
       "      <td>POST-R-002</td>\n",
       "      <td>GSM5575336</td>\n",
       "    </tr>\n",
       "    <tr>\n",
       "      <th>18R670_0002</th>\n",
       "      <td>primary tumor (colorectum)</td>\n",
       "      <td>pre-treatment</td>\n",
       "      <td>non-PD</td>\n",
       "      <td>2</td>\n",
       "      <td>PAIR-R-002</td>\n",
       "      <td>GSM5575337</td>\n",
       "    </tr>\n",
       "    <tr>\n",
       "      <th>18R674_0006</th>\n",
       "      <td>primary tumor (colorectum)</td>\n",
       "      <td>pre-treatment</td>\n",
       "      <td>unknown</td>\n",
       "      <td>3</td>\n",
       "      <td>PAIR-R-003</td>\n",
       "      <td>GSM5575339</td>\n",
       "    </tr>\n",
       "    <tr>\n",
       "      <th>...</th>\n",
       "      <td>...</td>\n",
       "      <td>...</td>\n",
       "      <td>...</td>\n",
       "      <td>...</td>\n",
       "      <td>...</td>\n",
       "      <td>...</td>\n",
       "    </tr>\n",
       "    <tr>\n",
       "      <th>18R454_0027</th>\n",
       "      <td>primary tumor (colorectum)</td>\n",
       "      <td>pre-treatment</td>\n",
       "      <td>unknown</td>\n",
       "      <td>51</td>\n",
       "      <td>PRE-R-051</td>\n",
       "      <td>GSM5575441</td>\n",
       "    </tr>\n",
       "    <tr>\n",
       "      <th>18R477_0019</th>\n",
       "      <td>primary tumor (colorectum)</td>\n",
       "      <td>pre-treatment</td>\n",
       "      <td>unknown</td>\n",
       "      <td>52</td>\n",
       "      <td>PRE-R-052</td>\n",
       "      <td>GSM5575442</td>\n",
       "    </tr>\n",
       "    <tr>\n",
       "      <th>18R507_0004</th>\n",
       "      <td>primary tumor (colorectum)</td>\n",
       "      <td>pre-treatment</td>\n",
       "      <td>non-PD</td>\n",
       "      <td>10</td>\n",
       "      <td>PRE-10</td>\n",
       "      <td>GSM5575443</td>\n",
       "    </tr>\n",
       "    <tr>\n",
       "      <th>18R428_0008</th>\n",
       "      <td>primary tumor (colorectum)</td>\n",
       "      <td>pre-treatment</td>\n",
       "      <td>unknown</td>\n",
       "      <td>54</td>\n",
       "      <td>PRE-R-054</td>\n",
       "      <td>GSM5575444</td>\n",
       "    </tr>\n",
       "    <tr>\n",
       "      <th>18R705_0013</th>\n",
       "      <td>primary tumor (colorectum)</td>\n",
       "      <td>pre-treatment</td>\n",
       "      <td>unknown</td>\n",
       "      <td>55</td>\n",
       "      <td>PRE-R-055</td>\n",
       "      <td>GSM5575445</td>\n",
       "    </tr>\n",
       "  </tbody>\n",
       "</table>\n",
       "<p>80 rows × 6 columns</p>\n",
       "</div>"
      ]
     },
     "execution_count": 5,
     "metadata": {},
     "output_type": "execute_result"
    }
   ],
   "execution_count": 5
  },
  {
   "metadata": {
    "ExecuteTime": {
     "end_time": "2025-05-08T17:18:33.394396Z",
     "start_time": "2025-05-08T17:16:26.961528Z"
    }
   },
   "cell_type": "code",
   "source": [
    "inference = DefaultInference(n_cpus=8)\n",
    "dds = DeseqDataSet(\n",
    "    counts=counts,\n",
    "    metadata=ann,\n",
    "    design=\"~treatment_response\",\n",
    "    refit_cooks=True,\n",
    "    inference=inference,\n",
    "    n_cpus=8, # n_cpus can be specified here or in the inference object\n",
    ")\n",
    "\n",
    "dds.deseq2()\n",
    "\n",
    "with open(os.path.join('results', \"deseq_on_all_by_resopnse.pkl\"), \"wb\") as f:\n",
    "    pkl.dump(dds, f)"
   ],
   "id": "5853f5d3a1f6494e",
   "outputs": [
    {
     "name": "stderr",
     "output_type": "stream",
     "text": [
      "Fitting size factors...\n",
      "... done in 0.05 seconds.\n",
      "\n"
     ]
    },
    {
     "name": "stdout",
     "output_type": "stream",
     "text": [
      "Using None as control genes, passed at DeseqDataSet initialization\n"
     ]
    },
    {
     "name": "stderr",
     "output_type": "stream",
     "text": [
      "Fitting dispersions...\n",
      "... done in 51.54 seconds.\n",
      "\n",
      "Fitting dispersion trend curve...\n",
      "... done in 3.53 seconds.\n",
      "\n",
      "Fitting MAP dispersions...\n",
      "... done in 48.82 seconds.\n",
      "\n",
      "Fitting LFCs...\n",
      "... done in 5.40 seconds.\n",
      "\n",
      "Calculating cook's distance...\n",
      "... done in 0.13 seconds.\n",
      "\n",
      "Replacing 1156 outlier genes.\n",
      "\n",
      "Fitting dispersions...\n",
      "... done in 1.93 seconds.\n",
      "\n",
      "Fitting MAP dispersions...\n",
      "... done in 2.07 seconds.\n",
      "\n",
      "Fitting LFCs...\n",
      "... done in 0.59 seconds.\n",
      "\n"
     ]
    }
   ],
   "execution_count": 6
  },
  {
   "metadata": {
    "ExecuteTime": {
     "end_time": "2025-05-08T17:18:33.514434Z",
     "start_time": "2025-05-08T17:18:33.508780Z"
    }
   },
   "cell_type": "code",
   "source": "dds",
   "id": "7609f31c5bbe79f",
   "outputs": [
    {
     "data": {
      "text/plain": [
       "AnnData object with n_obs × n_vars = 80 × 18309\n",
       "    obs: 'tissue', 'time point', 'treatment_response', 'patient_id', 'sample_title', 'gsm_id'\n",
       "    uns: 'trend_coeffs', 'disp_function_type', '_squared_logres', 'prior_disp_var'\n",
       "    obsm: 'design_matrix', 'size_factors', '_mu_LFC', '_hat_diagonals', 'replaceable'\n",
       "    varm: '_normed_means', 'non_zero', '_MoM_dispersions', 'genewise_dispersions', '_genewise_converged', 'fitted_dispersions', 'MAP_dispersions', '_MAP_converged', 'dispersions', '_outlier_genes', 'LFC', '_LFC_converged', 'replaced', 'refitted', '_pvalue_cooks_outlier'\n",
       "    layers: 'normed_counts', '_mu_hat', 'cooks', 'replace_cooks'"
      ]
     },
     "execution_count": 7,
     "metadata": {},
     "output_type": "execute_result"
    }
   ],
   "execution_count": 7
  },
  {
   "metadata": {
    "ExecuteTime": {
     "end_time": "2025-05-08T17:22:05.073196Z",
     "start_time": "2025-05-08T17:21:59.511615Z"
    }
   },
   "cell_type": "code",
   "source": [
    "ds = DeseqStats(dds, contrast=[\"treatment_response\", \"PD\", \"non-PD\"], inference=inference)\n",
    "ds.summary(lfc_null=1.3, alt_hypothesis=\"greaterAbs\")\n",
    "with open(os.path.join('results', \"ds.pkl\"), \"wb\") as f:\n",
    "    pkl.dump(ds, f)"
   ],
   "id": "fb94147959b65257",
   "outputs": [
    {
     "name": "stderr",
     "output_type": "stream",
     "text": [
      "Running Wald tests...\n",
      "... done in 4.87 seconds.\n",
      "\n"
     ]
    },
    {
     "name": "stdout",
     "output_type": "stream",
     "text": [
      "Log2 fold change & Wald test p-value: treatment_response PD vs non-PD\n",
      "                baseMean  log2FoldChange     lfcSE     stat    pvalue  padj\n",
      "TSPAN6       4425.250977       -0.144219  0.308184  0.00000  1.000000   1.0\n",
      "TNMD           38.584133       -0.109776  0.615318  0.00000  1.000000   1.0\n",
      "DPM1         9724.985352        0.189719  0.241356  0.00000  1.000000   1.0\n",
      "SCYL3         685.285522       -0.053223  0.116830  0.00000  1.000000   1.0\n",
      "FIRRM        1652.466431       -0.273897  0.180548  0.00000  1.000000   1.0\n",
      "...                  ...             ...       ...      ...       ...   ...\n",
      "FAM90A23        0.234090       -1.196269  4.754845  0.00000  1.000000   1.0\n",
      "FAM90A14        3.834275       -0.559328  1.884864  0.00000  1.000000   1.0\n",
      "GET1-SH3BGR    22.956362       -1.248974  1.067709  0.00000  1.000000   1.0\n",
      "FAM90A10        6.808951        2.940674  1.923687  0.85288  0.393726   1.0\n",
      "FAM90A7         0.198694       -1.067749  4.733834  0.00000  1.000000   1.0\n",
      "\n",
      "[18309 rows x 6 columns]\n"
     ]
    }
   ],
   "execution_count": 16
  },
  {
   "metadata": {
    "ExecuteTime": {
     "end_time": "2025-05-08T17:22:05.093536Z",
     "start_time": "2025-05-08T17:22:05.089895Z"
    }
   },
   "cell_type": "code",
   "source": "deseq_results = ds.results_df",
   "id": "ebe890f7bb696ca5",
   "outputs": [],
   "execution_count": 17
  },
  {
   "metadata": {
    "collapsed": true,
    "ExecuteTime": {
     "end_time": "2025-05-08T17:31:48.873504Z",
     "start_time": "2025-05-08T17:31:45.981878Z"
    }
   },
   "cell_type": "code",
   "source": [
    "\n",
    "progeny = decoupler.get_progeny(top=300)\n",
    "mat = deseq_results[[\"stat\"]].T.rename(index={\"stat\": 'pydeseq_result'})\n",
    "\n",
    "pathway_acts, pathway_pvals = decoupler.run_consensus(mat=mat, net=progeny)\n",
    "decoupler.plot_barplot(pathway_acts, 'pydeseq_result', top=50, vertical=False)\n",
    "\n",
    "print(pathway_acts)\n",
    "print(pathway_pvals)"
   ],
   "id": "initial_id",
   "outputs": [
    {
     "name": "stdout",
     "output_type": "stream",
     "text": [
      "                Androgen  Estrogen      NFkB      TGFb      TNFa     Trail  \\\n",
      "pydeseq_result  0.547446  -0.86294 -0.368491 -0.982133  0.073252 -0.522721   \n",
      "\n",
      "                    VEGF       WNT       p53  \n",
      "pydeseq_result -0.660914  1.478925 -1.713737  \n",
      "                Androgen  Estrogen      NFkB      TGFb      TNFa     Trail  \\\n",
      "pydeseq_result  0.584072   0.38817  0.712507  0.326034  0.941606  0.601169   \n",
      "\n",
      "                    VEGF      WNT       p53  \n",
      "pydeseq_result  0.508667  0.13916  0.086577  \n"
     ]
    },
    {
     "data": {
      "text/plain": [
       "<Figure size 700x500 with 2 Axes>"
      ],
      "image/png": "[encoded data removed]"
     },
     "metadata": {},
     "output_type": "display_data"
    }
   ],
   "execution_count": 21
  }
 ],
 "metadata": {
  "kernelspec": {
   "display_name": "Python 3",
   "language": "python",
   "name": "python3"
  },
  "language_info": {
   "codemirror_mode": {
    "name": "ipython",
    "version": 2
   },
   "file_extension": ".py",
   "mimetype": "text/x-python",
   "name": "python",
   "nbconvert_exporter": "python",
   "pygments_lexer": "ipython2",
   "version": "2.7.6"
  }
 },
 "nbformat": 4,
 "nbformat_minor": 5
}
