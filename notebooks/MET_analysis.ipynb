{
 "cells": [
  {
   "cell_type": "code",
   "execution_count": 1,
   "id": "00875a06",
   "metadata": {},
   "outputs": [],
   "source": [
    "import os\n",
    "os.chdir('../')\n"
   ]
  },
  {
   "cell_type": "code",
   "execution_count": null,
   "id": "0f62b0c5",
   "metadata": {},
   "outputs": [],
   "source": [
    "#import pandas as pd\n",
    "#import matplotlib.pyplot as plt\n",
    "#import seaborn as sns\n",
    "#from scipy.stats import f_oneway"
   ]
  },
  {
   "cell_type": "code",
   "execution_count": null,
   "id": "3253b846",
   "metadata": {},
   "outputs": [
    {
     "data": {
      "text/plain": [
       "'/mnt/c/Users/PC/Desktop/mcrc-cetuximab-analysis'"
      ]
     },
     "execution_count": 9,
     "metadata": {},
     "output_type": "execute_result"
    }
   ],
   "source": [
    "#import os\n",
    "#os.getcwd()"
   ]
  },
  {
   "cell_type": "code",
   "execution_count": null,
   "id": "9fc7f933",
   "metadata": {},
   "outputs": [],
   "source": [
    "#ann_all = pd.read_csv(\"/mnt/c/Users/PC/Desktop/mcrc-cetuximab-analysis/data/annotation_no_metastases.csv\", sep=',', index_col=0)"
   ]
  },
  {
   "cell_type": "code",
   "execution_count": null,
   "id": "29eaf9fe",
   "metadata": {},
   "outputs": [],
   "source": [
    "#ann_all"
   ]
  },
  {
   "cell_type": "code",
   "execution_count": null,
   "id": "16ab8091",
   "metadata": {},
   "outputs": [],
   "source": [
    "#ann_all = ann_all.reset_index()"
   ]
  },
  {
   "cell_type": "code",
   "execution_count": null,
   "id": "3f95fa25",
   "metadata": {},
   "outputs": [],
   "source": [
    "#ann_all.title = ann_all.title.str.extract(r'\\[([A-Z0-9_]+)\\]')\n",
    "#ann_all = ann_all.set_index('title')\n",
    "#mapper = ann_all.sample_id.to_dict()\n",
    "# df_dict = df.set_index('key')['value'].to_dict()"
   ]
  },
  {
   "cell_type": "code",
   "execution_count": null,
   "id": "98f3629a",
   "metadata": {},
   "outputs": [],
   "source": [
    "#ann_all"
   ]
  },
  {
   "cell_type": "code",
   "execution_count": null,
   "id": "a5ebb3a6",
   "metadata": {},
   "outputs": [],
   "source": [
    "#mapper"
   ]
  },
  {
   "cell_type": "code",
   "execution_count": null,
   "id": "a0e37b28",
   "metadata": {},
   "outputs": [],
   "source": [
    "#exp_data = pd.read_csv(\"/mnt/c/Users/PC/Desktop/mcrc-cetuximab-analysis/notebooks/log2_tpm_hgnc_matrix_no_metastases.csv\", sep=',')"
   ]
  },
  {
   "cell_type": "code",
   "execution_count": null,
   "id": "8bea7585",
   "metadata": {},
   "outputs": [],
   "source": [
    "#cols = exp_data.columns.tolist()\n",
    "#cols[0] = 'GSM_id'"
   ]
  },
  {
   "cell_type": "code",
   "execution_count": null,
   "id": "2ad34bdc",
   "metadata": {},
   "outputs": [],
   "source": [
    "#exp_data.columns = cols"
   ]
  },
  {
   "cell_type": "code",
   "execution_count": null,
   "id": "47417802",
   "metadata": {},
   "outputs": [],
   "source": [
    "#exp_data['GSM_id'] = exp_data.GSM_id.map(mapper)"
   ]
  },
  {
   "cell_type": "code",
   "execution_count": null,
   "id": "216bebcb",
   "metadata": {},
   "outputs": [],
   "source": [
    "#exp_data.to_csv(\"../data/expressions.csv\", sep=',')"
   ]
  },
  {
   "cell_type": "code",
   "execution_count": null,
   "id": "f53dbf1d",
   "metadata": {},
   "outputs": [],
   "source": [
    "# 1. Загрузим данные\n",
    "#patients_df = pd.read_csv('/mnt/c/Users/PC/Desktop/mcrc-cetuximab-analysis/data/useful_ann.csv', sep=',',index_col = 0)\n",
    "#patients_df.columns = ['some_id', 'sample_title', 'tissue', 'time_point', 'treatment_response','patient_id']"
   ]
  },
  {
   "cell_type": "code",
   "execution_count": null,
   "id": "035cf5e3",
   "metadata": {},
   "outputs": [],
   "source": [
    "#patients_df"
   ]
  },
  {
   "cell_type": "code",
   "execution_count": null,
   "id": "01ec259b",
   "metadata": {},
   "outputs": [
    {
     "data": {
      "text/plain": [
       "treatment_response\n",
       "pre-Tx            76\n",
       "post-tx PD        21\n",
       "post-Tx non-PD    16\n",
       "Name: count, dtype: int64"
      ]
     },
     "execution_count": 17,
     "metadata": {},
     "output_type": "execute_result"
    }
   ],
   "source": [
    "#patients_df.treatment_response.value_counts()"
   ]
  },
  {
   "cell_type": "code",
   "execution_count": null,
   "id": "7afd5646",
   "metadata": {},
   "outputs": [],
   "source": [
    "#PD = patients_df.query(\"treatment_response == 'post-tx PD'\")\n",
    "#non_PD = patients_df.query(\"treatment_response == 'post-Tx non-PD'\")"
   ]
  },
  {
   "cell_type": "code",
   "execution_count": null,
   "id": "ed52a0c7",
   "metadata": {},
   "outputs": [],
   "source": [
    "#exp_data"
   ]
  },
  {
   "cell_type": "code",
   "execution_count": null,
   "id": "0c0cf815",
   "metadata": {},
   "outputs": [],
   "source": [
    "#PD_samples = PD.index.to_list()\n",
    "#PD_exp = exp_data.query(\"GSM_id in @PD_samples\")"
   ]
  },
  {
   "cell_type": "code",
   "execution_count": null,
   "id": "4d7b2824",
   "metadata": {},
   "outputs": [],
   "source": [
    "#non_PD_samples = PD.index.to_list()\n",
    "#non_PD_exp = exp_data.query(\"GSM_id in @non_PD_samples\")"
   ]
  },
  {
   "cell_type": "code",
   "execution_count": null,
   "id": "a28986c5",
   "metadata": {},
   "outputs": [],
   "source": [
    "#pip install statsmodels\n"
   ]
  },
  {
   "cell_type": "code",
   "execution_count": 8,
   "id": "ca5eb19a",
   "metadata": {},
   "outputs": [],
   "source": [
    "import pandas as pd\n",
    "import numpy as np\n",
    "from scipy import stats"
   ]
  },
  {
   "cell_type": "code",
   "execution_count": null,
   "id": "4adb194e",
   "metadata": {},
   "outputs": [],
   "source": [
    "file_path = \"/mnt/c/Users/PC/Desktop/mcrc-cetuximab-analysis/data/log2_tpm_hgnc_matrix_no_metastases.csv\"\n",
    "\n",
    "# Read the data with proper decimal handling\n",
    "gene_expr = pd.read_csv(file_path, sep=',', decimal='.')\n"
   ]
  },
  {
   "cell_type": "code",
   "execution_count": 10,
   "id": "f72e5826",
   "metadata": {},
   "outputs": [
    {
     "name": "stdout",
     "output_type": "stream",
     "text": [
      "Original columns: ['gene', '18R649_010', '18R669_01', '18R670_02', '18R674_06', '18R678_010', '18R683_015', '18R689_022', '18R690_023', '18R694_02', '18R697_05', '18R699_07', '18R700_08', '18R429_009', '18R298_0010', '18R647_08', '18R648_09', '18R294_0001', '18R295_0003', '18R296_0008', '18R176_0020', '18R178_0022', '18R177_0021', '18R299_0025', '18R300_0027', '18R659_020', '18R661_021', '18R301_0002', '18R302_0004', '18R663_027', '18R664_01', '18R307_0013', '18R319_0014', '18R685_018', '18R642_003', '18R645_006', '18R653_014', '18R432_012', '18R434_014', '18R460_001', '18R695_03', '18R473_014', '18R443_022', '18R436_016', '18R421_001', '18R463_004', '18R472_013', '18R426_006', '18R427_007', '18R508_011', '18R433_013', '18R435_015', '18R437_018', '18R449_023', '18R438_019', '18R440_020', '18R456_002', '18R457_023', '18R458_025', '18R459_027', '18R461_002', '18R462_003', '18R464_005', '18R468_009', '18R469_010', '18R470_011', '18R471_012', '18R474_015', '18R475_016', '18R476_018', '18R640_001', '18R701_09', '18R478_020', '18R479_021', '18R480_022', '18R702_010', '18R656_018', '18R657_019', '18R673_05', '18R465_006', '18R454_027', '18R477_019', '18R507_004', '18R428_008', '18R705_013']\n",
      "Data after cleaning:\n",
      "        18R649_010  18R669_01  18R670_02  18R674_06  18R678_010  18R683_015  \\\n",
      "gene                                                                          \n",
      "TSPAN6    4.915061   6.960488   6.822044   6.476123    7.001439    5.979740   \n",
      "TNMD      0.384840   0.797997   1.669769   1.295722    0.555135    0.296034   \n",
      "DPM1      4.840414   6.777641   6.197991   6.317775    6.464409    6.650423   \n",
      "SCYL3     2.604751   2.808040   2.260861   2.898430    2.351833    2.717201   \n",
      "FIRRM     1.389172   2.503991   1.464436   1.953881    2.354043    1.959017   \n",
      "\n",
      "        18R689_022  18R690_023  18R694_02  18R697_05  ...  18R702_010  \\\n",
      "gene                                                  ...               \n",
      "TSPAN6    5.012969    5.464352   4.026421   6.178695  ...    6.549435   \n",
      "TNMD      0.000000    0.354330   0.592227   0.722573  ...    0.225956   \n",
      "DPM1      5.208876    5.451409   4.846793   6.202013  ...    6.331933   \n",
      "SCYL3     2.542211    2.481304   1.710404   2.771202  ...    2.495859   \n",
      "FIRRM     1.819476    1.769135   0.989802   1.626912  ...    1.530562   \n",
      "\n",
      "        18R656_018  18R657_019  18R673_05  18R465_006  18R454_027  18R477_019  \\\n",
      "gene                                                                            \n",
      "TSPAN6    7.265678    7.556717   7.148274    5.092725    6.876043    7.975755   \n",
      "TNMD      1.124204    1.063758   0.118022    0.267286    0.537797    2.013335   \n",
      "DPM1      7.158524    7.260243   7.085872    5.635827    7.239904    7.678208   \n",
      "SCYL3     2.757291    2.360323   2.107795    2.820362    2.678120    2.930845   \n",
      "FIRRM     1.884272    1.662369   1.925506    1.826833    2.519411    2.122102   \n",
      "\n",
      "        18R507_004  18R428_008  18R705_013  \n",
      "gene                                        \n",
      "TSPAN6    8.091057    5.093825    6.036070  \n",
      "TNMD      1.743997    0.059718    0.827143  \n",
      "DPM1      7.805770    5.089112    6.584128  \n",
      "SCYL3     2.767079    2.639453    2.364625  \n",
      "FIRRM     2.212239    1.514346    1.649746  \n",
      "\n",
      "[5 rows x 84 columns]\n"
     ]
    }
   ],
   "source": [
    "# Check current column names\n",
    "print(\"Original columns:\", gene_expr.columns.tolist())\n",
    "\n",
    "# If the first column has a combined name like \"gene,sample1,sample2\":\n",
    "if len(gene_expr.columns) == 1:\n",
    "    # Split the combined column\n",
    "    gene_expr = gene_expr.iloc[:, 0].str.split(',', expand=True)\n",
    "    # Set first row as header\n",
    "    gene_expr.columns = gene_expr.iloc[0]\n",
    "    gene_expr = gene_expr.iloc[1:]\n",
    "    \n",
    "# Set gene as index\n",
    "gene_expr = gene_expr.set_index('gene')\n",
    "\n",
    "# Convert all values to numeric\n",
    "gene_expr = gene_expr.apply(pd.to_numeric)\n",
    "\n",
    "print(\"Data after cleaning:\")\n",
    "print(gene_expr.head())"
   ]
  },
  {
   "cell_type": "code",
   "execution_count": 11,
   "id": "ab75819f",
   "metadata": {},
   "outputs": [
    {
     "name": "stdout",
     "output_type": "stream",
     "text": [
      "Filtered data shape: (19457, 37)\n"
     ]
    }
   ],
   "source": [
    "# PD samples (n=21)\n",
    "pd_samples = [\n",
    "    '18R649_010', '18R669_01', '18R670_02', '18R674_06', '18R678_010',\n",
    "    '18R683_015', '18R689_022', '18R690_023', '18R694_02', '18R697_05',\n",
    "    '18R699_07', '18R700_08', '18R429_009', '18R298_0010', '18R647_08',\n",
    "    '18R648_09', '18R294_0001', '18R295_0003', '18R296_0008', '18R176_0020',\n",
    "    '18R178_0022'\n",
    "]\n",
    "\n",
    "# nonPD samples (n=16)\n",
    "nonpd_samples = [\n",
    "    '18R177_0021', '18R299_0025', '18R300_0027', '18R659_020', '18R661_021',\n",
    "    '18R301_0002', '18R302_0004', '18R663_027', '18R664_01', '18R307_0013',\n",
    "    '18R319_0014', '18R685_018', '18R642_003', '18R645_006', '18R653_014',\n",
    "    '18R432_012'\n",
    "]\n",
    "\n",
    "# Filter samples and verify\n",
    "gene_expr_filtered = gene_expr[pd_samples + nonpd_samples]\n",
    "print(\"Filtered data shape:\", gene_expr_filtered.shape)"
   ]
  },
  {
   "cell_type": "code",
   "execution_count": 6,
   "id": "dfa6e974",
   "metadata": {},
   "outputs": [
    {
     "name": "stdout",
     "output_type": "stream",
     "text": [
      "Successfully read with tab separator\n",
      "\n",
      "First 5 rows after proper reading:\n",
      "  gene,18R649_010,18R669_01,18R670_02,18R674_06,18R678_010,18R683_015,18R689_022,18R690_023,18R694_02,18R697_05,18R699_07,18R700_08,18R429_009,18R298_0010,18R647_08,18R648_09,18R294_0001,18R295_0003,18R296_0008,18R176_0020,18R178_0022,18R177_0021,18R299_0025,18R300_0027,18R659_020,18R661_021,18R301_0002,18R302_0004,18R663_027,18R664_01,18R307_0013,18R319_0014,18R685_018,18R642_003,18R645_006,18R653_014,18R432_012,18R434_014,18R460_001,18R695_03,18R473_014,18R443_022,18R436_016,18R421_001,18R463_004,18R472_013,18R426_006,18R427_007,18R508_011,18R433_013,18R435_015,18R437_018,18R449_023,18R438_019,18R440_020,18R456_002,18R457_023,18R458_025,18R459_027,18R461_002,18R462_003,18R464_005,18R468_009,18R469_010,18R470_011,18R471_012,18R474_015,18R475_016,18R476_018,18R640_001,18R701_09,18R478_020,18R479_021,18R480_022,18R702_010,18R656_018,18R657_019,18R673_05,18R465_006,18R454_027,18R477_019,18R507_004,18R428_008,18R705_013\n",
      "0  TSPAN6,4.915060846466939,6.960487754797395,6.8...                                                                                                                                                                                                                                                                                                                                                                                                                                                                                                                                                                                                                                                                                                                                                                                                                                                                                                              \n",
      "1  TNMD,0.3848404004281067,0.7979968656879316,1.6...                                                                                                                                                                                                                                                                                                                                                                                                                                                                                                                                                                                                                                                                                                                                                                                                                                                                                                              \n",
      "2  DPM1,4.840413562566353,6.7776406126412,6.19799...                                                                                                                                                                                                                                                                                                                                                                                                                                                                                                                                                                                                                                                                                                                                                                                                                                                                                                              \n",
      "3  SCYL3,2.604751187904078,2.808040273706052,2.26...                                                                                                                                                                                                                                                                                                                                                                                                                                                                                                                                                                                                                                                                                                                                                                                                                                                                                                              \n",
      "4  FIRRM,1.3891721806311073,2.503991149196526,1.4...                                                                                                                                                                                                                                                                                                                                                                                                                                                                                                                                                                                                                                                                                                                                                                                                                                                                                                              \n",
      "\n",
      "Column names:\n",
      "['gene,18R649_010,18R669_01,18R670_02,18R674_06,18R678_010,18R683_015,18R689_022,18R690_023,18R694_02,18R697_05,18R699_07,18R700_08,18R429_009,18R298_0010,18R647_08,18R648_09,18R294_0001,18R295_0003,18R296_0008,18R176_0020,18R178_0022,18R177_0021,18R299_0025,18R300_0027,18R659_020,18R661_021,18R301_0002,18R302_0004,18R663_027,18R664_01,18R307_0013,18R319_0014,18R685_018,18R642_003,18R645_006,18R653_014,18R432_012,18R434_014,18R460_001,18R695_03,18R473_014,18R443_022,18R436_016,18R421_001,18R463_004,18R472_013,18R426_006,18R427_007,18R508_011,18R433_013,18R435_015,18R437_018,18R449_023,18R438_019,18R440_020,18R456_002,18R457_023,18R458_025,18R459_027,18R461_002,18R462_003,18R464_005,18R468_009,18R469_010,18R470_011,18R471_012,18R474_015,18R475_016,18R476_018,18R640_001,18R701_09,18R478_020,18R479_021,18R480_022,18R702_010,18R656_018,18R657_019,18R673_05,18R465_006,18R454_027,18R477_019,18R507_004,18R428_008,18R705_013']\n"
     ]
    }
   ],
   "source": [
    "# First, let's try reading with different separators\n",
    "try:\n",
    "    # Try tab separator first\n",
    "    gene_expr = pd.read_csv(file_path, sep='\\t')\n",
    "    print(\"Successfully read with tab separator\")\n",
    "except pd.errors.ParserError:\n",
    "    try:\n",
    "        # Try semicolon if tab fails\n",
    "        gene_expr = pd.read_csv(file_path, sep=';')\n",
    "        print(\"Successfully read with semicolon separator\")\n",
    "    except:\n",
    "        # As last resort, handle the decimal comma issue\n",
    "        gene_expr = pd.read_csv(file_path, sep=',', decimal=',')\n",
    "        print(\"Read with comma separator and decimal comma handling\")\n",
    "\n",
    "# Now check the structure\n",
    "print(\"\\nFirst 5 rows after proper reading:\")\n",
    "print(gene_expr.head())\n",
    "\n",
    "print(\"\\nColumn names:\")\n",
    "print(gene_expr.columns.tolist())"
   ]
  },
  {
   "cell_type": "code",
   "execution_count": null,
   "id": "b6975b7f",
   "metadata": {},
   "outputs": [
    {
     "name": "stdout",
     "output_type": "stream",
     "text": [
      "\n",
      "Values for MATR3:\n",
      "PD: [[7.30175858 8.41376827 7.51059218 7.70145969 7.96306857 8.01451486\n",
      "  7.16195847 7.29388365 7.01147854 7.10575358 6.43467809 7.4784656\n",
      "  7.41272578 7.43079739 7.91463646 7.41153212 7.89320689 7.31864006\n",
      "  7.7196748  7.91428848 8.07541172]\n",
      " [2.00642996 2.66333274 1.95347453 1.31349892 0.5465758  2.96518805\n",
      "  3.33040231 0.73815561 1.15575194 4.48116771 2.17351268 1.49574255\n",
      "  1.48966435 0.80494158 4.59705578 0.         3.73731831 2.90908703\n",
      "  1.17103405 2.79905376 3.55024622]]\n",
      "nonPD: [[7.3723864  7.68282567 7.6128475  7.20771869 7.74868785 7.65595317\n",
      "  7.82078083 7.95889367 7.77519827 7.72400335 7.80601665 8.16916058\n",
      "  8.13148749 7.99809881 6.76101115 7.66968994]\n",
      " [4.61553848 4.01559393 1.06793241 3.04514041 1.65223847 2.83735061\n",
      "  1.94494232 1.98073988 1.20807675 2.95054614 0.         5.52757387\n",
      "  2.33081157 1.74772668 0.832731   2.22571023]]\n",
      "\n",
      "Values for PDE4C:\n",
      "PD: [[1.24067521 0.66495958 0.05594755 1.07205958 0.46845137 0.\n",
      "  1.05647428 0.38979422 0.44577103 1.30951177 1.12044802 0.19256681\n",
      "  0.68860103 1.00677115 0.7052784  1.38752668 0.38047482 0.55587383\n",
      "  1.05890033 1.63813429 0.        ]\n",
      " [0.         0.         0.         0.         0.         0.\n",
      "  0.         0.05410911 0.02954433 0.17678334 0.10448351 0.02371586\n",
      "  0.02746821 0.05714081 0.         0.03312567 0.         0.\n",
      "  0.         0.18519078 0.        ]]\n",
      "nonPD: [[1.29658959 0.69807366 0.32935661 0.55223261 0.20104639 0.77822708\n",
      "  0.07335734 0.06296835 0.22332285 0.88930845 0.22048943 0.0115552\n",
      "  0.51541098 0.17797924 0.43774382 0.17375044]\n",
      " [0.09589679 0.01447608 0.         0.05878989 0.03592397 0.03893637\n",
      "  0.         0.         0.         0.         0.         0.\n",
      "  0.         0.         0.         0.        ]]\n"
     ]
    }
   ],
   "source": [
    "problem_genes = ['MATR3', 'PDE4C']  \n",
    "for gene in problem_genes:\n",
    "    if gene in gene_expr_filtered.index:\n",
    "        print(f\"\\nValues for {gene}:\")\n",
    "        print(\"PD:\", gene_expr_filtered.loc[gene, pd_samples].values)\n",
    "        print(\"nonPD:\", gene_expr_filtered.loc[gene, nonpd_samples].values)"
   ]
  },
  {
   "cell_type": "code",
   "execution_count": 15,
   "id": "b77db268",
   "metadata": {},
   "outputs": [
    {
     "name": "stdout",
     "output_type": "stream",
     "text": [
      "\n",
      "Data quality summary:\n",
      "Total genes: 19457\n",
      "Missing values per gene:\n",
      "0    19457\n",
      "Name: count, dtype: int64\n"
     ]
    }
   ],
   "source": [
    "print(\"\\nData quality summary:\")\n",
    "print(\"Total genes:\", len(gene_expr_filtered))\n",
    "print(\"Missing values per gene:\")\n",
    "print(gene_expr_filtered.isna().sum(axis=1).value_counts())"
   ]
  },
  {
   "cell_type": "code",
   "execution_count": null,
   "id": "6cb99c0c",
   "metadata": {},
   "outputs": [
    {
     "name": "stdout",
     "output_type": "stream",
     "text": [
      "\n",
      "Final results: 19457 genes processed\n",
      "Genes with identical values in both groups: 131\n",
      "Raw significant (p<0.05): 1163\n",
      "FDR-corrected significant: 0\n"
     ]
    }
   ],
   "source": [
    "from statsmodels.stats.multitest import fdrcorrection  \n",
    "\n",
    "results = []\n",
    "\n",
    "for gene in gene_expr_filtered.index:\n",
    "    try:\n",
    "        # Extract values - handling both single values and arrays\n",
    "        pd_vals = []\n",
    "        for sample in pd_samples:\n",
    "            val = gene_expr_filtered.at[gene, sample]\n",
    "            if isinstance(val, (list, np.ndarray, pd.Series)):\n",
    "                pd_vals.extend([float(x) for x in val if pd.notna(x)])\n",
    "            elif pd.notna(val):\n",
    "                pd_vals.append(float(val))\n",
    "        \n",
    "        nonpd_vals = []\n",
    "        for sample in nonpd_samples:\n",
    "            val = gene_expr_filtered.at[gene, sample]\n",
    "            if isinstance(val, (list, np.ndarray, pd.Series)):\n",
    "                nonpd_vals.extend([float(x) for x in val if pd.notna(x)])\n",
    "            elif pd.notna(val):\n",
    "                nonpd_vals.append(float(val))\n",
    "        \n",
    "        # Include ALL genes regardless of variance\n",
    "        # Calculate basic statistics\n",
    "        mean_pd = np.mean(pd_vals) if pd_vals else np.nan\n",
    "        mean_nonpd = np.mean(nonpd_vals) if nonpd_vals else np.nan\n",
    "        \n",
    "        # Handle cases for t-test\n",
    "        if len(pd_vals) > 1 and len(nonpd_vals) > 1:\n",
    "            # Regular case with variance\n",
    "            t_stat, p_value = stats.ttest_ind(pd_vals, nonpd_vals, equal_var=False, nan_policy='omit')\n",
    "        elif len(pd_vals) >= 1 and len(nonpd_vals) >= 1:\n",
    "            # Fallback for small sample sizes - use difference in means\n",
    "            p_value = 0.5  # Neutral p-value\n",
    "            t_stat = (mean_pd - mean_nonpd) / (np.std(pd_vals + nonpd_vals, ddof=1) + 1e-10)\n",
    "        else:\n",
    "            # Missing data case\n",
    "            p_value = 1.0\n",
    "            t_stat = 0\n",
    "        \n",
    "        # Store all results\n",
    "        results.append({\n",
    "            'gene': gene,\n",
    "            'mean_PD': mean_pd,\n",
    "            'mean_nonPD': mean_nonpd,\n",
    "            'log2FC': mean_pd - mean_nonpd,\n",
    "            'p_value': p_value,\n",
    "            'significant': p_value < 0.05,\n",
    "            'n_PD': len(pd_vals),\n",
    "            'n_nonPD': len(nonpd_vals),\n",
    "            'PD_std': np.std(pd_vals, ddof=1) if len(pd_vals) > 1 else 0,\n",
    "            'nonPD_std': np.std(nonpd_vals, ddof=1) if len(nonpd_vals) > 1 else 0,\n",
    "            'all_identical': len(set(pd_vals + nonpd_vals)) == 1\n",
    "        })\n",
    "        \n",
    "    except Exception as e:\n",
    "        print(f\"Error processing {gene}: {str(e)}\")\n",
    "        results.append({\n",
    "            'gene': gene,\n",
    "            'mean_PD': np.nan,\n",
    "            'mean_nonPD': np.nan,\n",
    "            'log2FC': np.nan,\n",
    "            'p_value': 1.0,\n",
    "            'significant': False,\n",
    "            'n_PD': 0,\n",
    "            'n_nonPD': 0,\n",
    "            'PD_std': 0,\n",
    "            'nonPD_std': 0,\n",
    "            'all_identical': False\n",
    "        })\n",
    "        continue\n",
    "\n",
    "# Convert to DataFrame\n",
    "results_df = pd.DataFrame(results)\n",
    "\n",
    "# Multiple testing correction\n",
    "results_df['p_adj'] = fdrcorrection(results_df['p_value'])[1]\n",
    "results_df['significant_adj'] = results_df['p_adj'] < 0.05\n",
    "\n",
    "print(f\"\\nFinal results: {len(results_df)} genes processed\")\n",
    "print(f\"Genes with identical values in both groups: {results_df['all_identical'].sum()}\")\n",
    "print(f\"Raw significant (p<0.05): {results_df['significant'].sum()}\")\n",
    "print(f\"FDR-corrected significant: {results_df['significant_adj'].sum()}\")"
   ]
  },
  {
   "cell_type": "code",
   "execution_count": 24,
   "id": "426e7cc9",
   "metadata": {},
   "outputs": [
    {
     "name": "stdout",
     "output_type": "stream",
     "text": [
      "Genes with q<0.05: 0\n",
      "Empty DataFrame\n",
      "Columns: [gene, mean_PD, mean_nonPD, log2FC, p_value, n_PD, n_nonPD, q_value]\n",
      "Index: []\n"
     ]
    }
   ],
   "source": [
    "from statsmodels.stats.multitest import multipletests\n",
    "import numpy as np\n",
    "\n",
    "results = []\n",
    "\n",
    "for gene in gene_expr_filtered.index:\n",
    "    try:\n",
    "        # Extract values\n",
    "        pd_vals = [float(gene_expr_filtered.at[gene, s]) for s in pd_samples if pd.notna(gene_expr_filtered.at[gene, s])]\n",
    "        nonpd_vals = [float(gene_expr_filtered.at[gene, s]) for s in nonpd_samples if pd.notna(gene_expr_filtered.at[gene, s])]\n",
    "        \n",
    "        # Calculate statistics\n",
    "        mean_pd, mean_nonpd = np.mean(pd_vals), np.mean(nonpd_vals)\n",
    "        if len(pd_vals) > 1 and len(nonpd_vals) > 1:\n",
    "            _, p_value = stats.ttest_ind(pd_vals, nonpd_vals, equal_var=False)\n",
    "        else:\n",
    "            p_value = 1.0  # Conservative for small samples\n",
    "            \n",
    "        results.append({\n",
    "            'gene': gene,\n",
    "            'mean_PD': mean_pd,\n",
    "            'mean_nonPD': mean_nonpd,\n",
    "            'log2FC': mean_pd - mean_nonpd,\n",
    "            'p_value': p_value,\n",
    "            'n_PD': len(pd_vals),\n",
    "            'n_nonPD': len(nonpd_vals)\n",
    "        })\n",
    "    except:\n",
    "        continue\n",
    "\n",
    "# Convert to DataFrame\n",
    "results_df = pd.DataFrame(results).sort_values('p_value')\n",
    "\n",
    "# Apply Storey's q-value method (more powerful than BH)\n",
    "lambda_ = 0.5  # Tuning parameter\n",
    "pi0 = min(1, np.mean(np.array(results_df['p_value']) > lambda_) / (1 - lambda_))\n",
    "m = len(results_df)\n",
    "results_df['q_value'] = pi0 * m * results_df['p_value'] / np.arange(1, m+1)\n",
    "\n",
    "# Filter significant at q<0.05\n",
    "sig_genes = results_df[results_df['q_value'] < 0.05]\n",
    "\n",
    "print(f\"Genes with q<0.05: {len(sig_genes)}\")\n",
    "print(sig_genes.sort_values('p_value').head(10))"
   ]
  },
  {
   "cell_type": "code",
   "execution_count": 25,
   "id": "d4153bb3",
   "metadata": {},
   "outputs": [
    {
     "name": "stdout",
     "output_type": "stream",
     "text": [
      "Genes with p<0.05 and |log2FC|>1.0: 30\n",
      "           gene    log2FC   p_value  abs_log2FC   mean_PD  mean_nonPD\n",
      "14977  GOLGA6L4  1.154518  0.000268    1.154518  5.644915    4.490397\n",
      "17029    OR13C3  1.245539  0.001094    1.245539  1.339915    0.094376\n",
      "1902    SLC26A3  2.470223  0.001542    2.470223  6.578734    4.108511\n",
      "13610     HOXD8  1.111475  0.002476    1.111475  4.834633    3.723159\n",
      "19020     H2BC6 -1.003091  0.003010    1.003091  5.128004    6.131095\n",
      "17958      ORM1  1.653168  0.004339    1.653168  3.013909    1.360741\n",
      "14918     FAM3B -1.338454  0.004967    1.338454  1.008899    2.347353\n",
      "15357      CCIN  1.087430  0.005256    1.087430  1.782289    0.694859\n",
      "16367     H3C12 -1.351553  0.007475    1.351553  4.413766    5.765320\n",
      "12300     ADRB2  1.130277  0.008051    1.130277  5.166180    4.035903\n",
      "2785       AQP8  1.027191  0.009964    1.027191  1.525120    0.497929\n",
      "12247     VCX3A  1.613948  0.013661    1.613948  2.059873    0.445925\n",
      "5974     HOXD11  1.468986  0.014234    1.468986  4.214990    2.746005\n",
      "9704     MAGEC1  1.488530  0.014382    1.488530  1.643776    0.155246\n",
      "16099     HRCT1  1.074873  0.019739    1.074873  3.089913    2.015040\n",
      "4662     TSPAN1  1.134367  0.021163    1.134367  6.438916    5.304548\n",
      "14463     OR6T1  1.125582  0.024846    1.125582  1.527580    0.401999\n",
      "18125    PNMA6A  1.215894  0.028587    1.215894  2.032151    0.816257\n",
      "2000      NXPE1  1.355104  0.029141    1.355104  4.158001    2.802896\n",
      "18417     ADH1C  1.442916  0.030462    1.442916  5.967393    4.524477\n"
     ]
    }
   ],
   "source": [
    "results = []\n",
    "\n",
    "for gene in gene_expr_filtered.index:\n",
    "    try:\n",
    "        # Extract values\n",
    "        pd_vals = [float(gene_expr_filtered.at[gene, s]) for s in pd_samples if pd.notna(gene_expr_filtered.at[gene, s])]\n",
    "        nonpd_vals = [float(gene_expr_filtered.at[gene, s]) for s in nonpd_samples if pd.notna(gene_expr_filtered.at[gene, s])]\n",
    "        \n",
    "        # Calculate statistics\n",
    "        mean_pd, mean_nonpd = np.mean(pd_vals), np.mean(nonpd_vals)\n",
    "        log2fc = mean_pd - mean_nonpd\n",
    "        \n",
    "        if len(pd_vals) > 1 and len(nonpd_vals) > 1:\n",
    "            _, p_value = stats.ttest_ind(pd_vals, nonpd_vals, equal_var=False)\n",
    "        else:\n",
    "            p_value = 1.0  # Conservative for small samples\n",
    "            \n",
    "        results.append({\n",
    "            'gene': gene,\n",
    "            'log2FC': log2fc,\n",
    "            'p_value': p_value,\n",
    "            'abs_log2FC': abs(log2fc),\n",
    "            'mean_PD': mean_pd,\n",
    "            'mean_nonPD': mean_nonpd\n",
    "        })\n",
    "    except:\n",
    "        continue\n",
    "\n",
    "# Create DataFrame\n",
    "results_df = pd.DataFrame(results)\n",
    "\n",
    "# Filter significant genes (p<0.05 AND |log2FC|>threshold)\n",
    "fc_threshold = 1.0  # 2-fold change\n",
    "sig_genes = results_df[\n",
    "    (results_df['p_value'] < 0.05) & \n",
    "    (abs(results_df['log2FC']) > fc_threshold)\n",
    "].sort_values('p_value')\n",
    "\n",
    "print(f\"Genes with p<0.05 and |log2FC|>{fc_threshold}: {len(sig_genes)}\")\n",
    "print(sig_genes.head(20))"
   ]
  },
  {
   "cell_type": "code",
   "execution_count": 31,
   "id": "f0ca9304",
   "metadata": {},
   "outputs": [
    {
     "name": "stdout",
     "output_type": "stream",
     "text": [
      "\n",
      "MET Gene Expression:\n",
      "Log2FC (PD vs nonPD): -0.171\n",
      "p-value: 0.6644\n",
      "Mean Expression - PD: 5.144\n",
      "Mean Expression - nonPD: 5.314\n"
     ]
    },
    {
     "data": {
      "image/png": "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",
      "text/plain": [
       "<Figure size 1000x400 with 1 Axes>"
      ]
     },
     "metadata": {},
     "output_type": "display_data"
    }
   ],
   "source": [
    "# Check MET expression specifically\n",
    "met_data = results_df[results_df['gene'] == 'MET']\n",
    "\n",
    "if not met_data.empty:\n",
    "    print(\"\\nMET Gene Expression:\")\n",
    "    print(f\"Log2FC (PD vs nonPD): {met_data['log2FC'].values[0]:.3f}\")\n",
    "    print(f\"p-value: {met_data['p_value'].values[0]:.4f}\")\n",
    "    print(f\"Mean Expression - PD: {met_data['mean_PD'].values[0]:.3f}\")\n",
    "    print(f\"Mean Expression - nonPD: {met_data['mean_nonPD'].values[0]:.3f}\")\n",
    "    \n",
    "    # Plot MET expression across samples\n",
    "    plt.figure(figsize=(10, 4))\n",
    "    pd_vals = [gene_expr_filtered.at['MET', s] for s in pd_samples if pd.notna(gene_expr_filtered.at['MET', s])]\n",
    "    nonpd_vals = [gene_expr_filtered.at['MET', s] for s in nonpd_samples if pd.notna(gene_expr_filtered.at['MET', s])]\n",
    "    \n",
    "    plt.scatter(['PD']*len(pd_vals), pd_vals, color='red', label='PD')\n",
    "    plt.scatter(['nonPD']*len(nonpd_vals), nonpd_vals, color='blue', label='nonPD')\n",
    "    plt.title(\"MET Expression Distribution\")\n",
    "    plt.ylabel(\"Expression Level\")\n",
    "    plt.legend()\n",
    "    plt.show()\n",
    "else:\n",
    "    print(\"MET gene not found in results\")"
   ]
  },
  {
   "cell_type": "code",
<<<<<<< HEAD
   "execution_count": 1,
=======
   "execution_count": null,
>>>>>>> f91c2b21db64f3dbf2fb1e8622010c0d60e0792e
   "id": "75d729ec",
   "metadata": {},
   "outputs": [
    {
     "name": "stdout",
     "output_type": "stream",
     "text": [
      "Analyzing MET expression\n",
      "\n",
      "PD samples found: 2\n",
      "non-PD samples found: 10\n",
      "\n",
      "PD values: [4.526724621389289, 6.087231528514239]\n",
      "non-PD values: [3.5966455894203304, 6.994058928233741, 1.910435361782452, 5.079514066783047, 4.3147441735713565, 3.354517922603482, 4.90147411270508, 5.649138460855997, 4.343969487001159, 5.927288441508407]\n",
      "\n",
      "Mann-Whitney U test results:\n",
      "U statistic: 14.0\n",
      "P-value: 0.4848\n",
      "Median - PD: 5.307\n",
      "Median - non-PD: 4.623\n",
      "Mean - PD: 5.307\n",
      "Mean - non-PD: 4.607\n"
     ]
    },
    {
     "name": "stderr",
     "output_type": "stream",
     "text": [
      "/tmp/ipykernel_803/1104690584.py:88: FutureWarning: \n",
      "\n",
      "Passing `palette` without assigning `hue` is deprecated and will be removed in v0.14.0. Assign the `x` variable to `hue` and set `legend=False` for the same effect.\n",
      "\n",
      "  sns.boxplot(x='Group', y='Expression', data=plot_data, width=0.4,\n"
     ]
    },
    {
     "data": {
      "image/png": "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",
      "text/plain": [
       "<Figure size 500x300 with 1 Axes>"
      ]
     },
     "metadata": {},
     "output_type": "display_data"
    }
   ],
   "source": [
    "import pandas as pd\n",
    "import numpy as np\n",
    "from scipy import stats\n",
    "import matplotlib.pyplot as plt\n",
    "import seaborn as sns\n",
    "\n",
    "# Manually defined sample groups based on your annotation\n",
    "pd_samples = [\n",
    "    '18R690_023',  # From 18R690_0023\n",
    "    '18R700_08',   # From 18R700_0008 \n",
    "    '18R653_14',   # From 18R653_0014\n",
    "    '18R657_19',   # From 18R657_0019\n",
    "    '18R465_06'    # From 18R465_0006\n",
    "]\n",
    "\n",
    "nonpd_samples = [\n",
    "    '18R649_010',\n",
    "    '18R669_01',\n",
    "    '18R694_02',\n",
    "    '18R697_05',\n",
    "    '18R648_09',\n",
    "    '18R659_020',\n",
    "    '18R661_021',\n",
    "    '18R663_027',\n",
    "    '18R702_010',\n",
    "    '18R673_05'\n",
    "]\n",
    "\n",
    "# Load expression data\n",
    "expr_path = \"/mnt/c/Users/PC/Desktop/mcrc-cetuximab-analysis/data/log2_tpm_hgnc_matrix_no_metastases.csv\"\n",
    "expr_df = pd.read_csv(expr_path)\n",
    "\n",
    "# Handle merged header if needed\n",
    "if len(expr_df.columns) == 1:\n",
    "    expr_df = expr_df.iloc[:, 0].str.split(',', expand=True)\n",
    "    expr_df.columns = expr_df.iloc[0]\n",
    "    expr_df = expr_df.iloc[1:]\n",
    "\n",
    "expr_df = expr_df.set_index('gene')\n",
    "\n",
    "# MET gene analysis\n",
    "met_gene = 'MET'\n",
    "if met_gene in expr_df.index:\n",
    "    print(f\"Analyzing {met_gene} expression\")\n",
    "    \n",
    "    # Get expression values for manually defined samples\n",
    "    pd_vals = []\n",
    "    nonpd_vals = []\n",
    "    \n",
    "    for sample in pd_samples:\n",
    "        if sample in expr_df.columns:\n",
    "            val = expr_df.loc[met_gene, sample]\n",
    "            if pd.notna(val):\n",
    "                pd_vals.append(float(val))\n",
    "    \n",
    "    for sample in nonpd_samples:\n",
    "        if sample in expr_df.columns:\n",
    "            val = expr_df.loc[met_gene, sample]\n",
    "            if pd.notna(val):\n",
    "                nonpd_vals.append(float(val))\n",
    "    \n",
    "    print(f\"\\nPD samples found: {len(pd_vals)}\")\n",
    "    print(f\"non-PD samples found: {len(nonpd_vals)}\")\n",
    "    \n",
    "    if len(pd_vals) > 0 and len(nonpd_vals) > 0:\n",
    "        print(f\"\\nPD values: {pd_vals}\")\n",
    "        print(f\"non-PD values: {nonpd_vals}\")\n",
    "        \n",
    "        # Mann-Whitney U test\n",
    "        stat, pval = stats.mannwhitneyu(pd_vals, nonpd_vals, alternative='two-sided')\n",
    "        \n",
    "        print(f\"\\nMann-Whitney U test results:\")\n",
    "        print(f\"U statistic: {stat}\")\n",
    "        print(f\"P-value: {pval:.4f}\")\n",
    "        print(f\"Median - PD: {np.median(pd_vals):.3f}\")\n",
    "        print(f\"Median - non-PD: {np.median(nonpd_vals):.3f}\")\n",
    "        print(f\"Mean - PD: {np.mean(pd_vals):.3f}\")\n",
    "        print(f\"Mean - non-PD: {np.mean(nonpd_vals):.3f}\")\n",
    "        \n",
    "        # Create plot\n",
    "        plt.figure(figsize=(5, 3))\n",
    "        plot_data = pd.DataFrame({\n",
    "            'Expression': pd_vals + nonpd_vals,\n",
    "            'Group': ['PD']*len(pd_vals) + ['non-PD']*len(nonpd_vals)\n",
    "        })\n",
    "        \n",
    "        # Boxplot\n",
    "        sns.boxplot(x='Group', y='Expression', data=plot_data, width=0.4,\n",
    "                   palette={'PD': 'lightcoral', 'non-PD': 'lightblue'},\n",
    "                   showfliers=False)\n",
    "        \n",
    "        # Individual points\n",
    "        sns.stripplot(x='Group', y='Expression', data=plot_data,\n",
    "                     color='black', size=8, jitter=True)\n",
    "        \n",
    "        # Add p-value\n",
    "        y_max = max(max(pd_vals), max(nonpd_vals)) + 0.5\n",
    "        plt.plot([0, 0, 1, 1], [y_max-0.3, y_max, y_max, y_max-0.3], color='black')\n",
    "        plt.text(0.5, y_max, f'p = {pval:.3f}', ha='center', va='bottom')\n",
    "        \n",
    "        plt.title(f\"MET Expression\\n(PD n={len(pd_vals)}, non-PD n={len(nonpd_vals)})\")\n",
    "        plt.ylabel(\"log2 TPM\")\n",
    "        plt.xlabel(\"Response Group\")\n",
    "        plt.tight_layout()\n",
    "        plt.show()\n",
    "        \n",
    "    else:\n",
    "        print(\"\\nInsufficient data for comparison\")\n",
    "        if len(pd_vals) == 0:\n",
    "            print(\"No PD samples found in expression data\")\n",
    "        if len(nonpd_vals) == 0:\n",
    "            print(\"No non-PD samples found in expression data\")\n",
    "        \n",
    "else:\n",
    "    print(f\"\\n{met_gene} not found in expression data. Similar genes:\")\n",
    "    print([g for g in expr_df.index if 'MET' in str(g)][:10])"
   ]
  },
  {
   "cell_type": "code",
<<<<<<< HEAD
   "execution_count": 8,
=======
   "execution_count": null,
>>>>>>> f91c2b21db64f3dbf2fb1e8622010c0d60e0792e
   "id": "c53547e9",
   "metadata": {},
   "outputs": [
    {
     "name": "stdout",
     "output_type": "stream",
     "text": [
      "Analyzing MET expression with available samples\n",
      "PD samples: ['18R690_023', '18R700_08', '18R653_014', '18R657_019', '18R465_006']\n",
      "non-PD samples: ['18R649_010', '18R669_01', '18R694_02', '18R697_05', '18R648_09', '18R659_020', '18R661_021', '18R663_027', '18R702_010', '18R673_05']\n",
      "\n",
      "PD values (n=5): [4.52672462 6.08723153 3.76876448 6.25590184 4.76518729]\n",
      "non-PD values (n=10): [3.59664559 6.99405893 1.91043536 5.07951407 4.31474417 3.35451792\n",
      " 4.90147411 5.64913846 4.34396949 5.92728844]\n",
      "\n",
      "Mann-Whitney U test results:\n",
      "U statistic: 31.0\n",
      "P-value: 0.5135\n",
      "Median - PD: 4.765\n",
      "Median - non-PD: 4.623\n"
     ]
    },
    {
     "data": {
      "image/png": "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",
      "text/plain": [
       "<Figure size 500x300 with 1 Axes>"
      ]
     },
     "metadata": {},
     "output_type": "display_data"
    }
   ],
   "source": [
    "import pandas as pd\n",
    "import numpy as np\n",
    "from scipy import stats\n",
    "import matplotlib.pyplot as plt\n",
    "import seaborn as sns\n",
    "\n",
    "# Confirmed available samples from expression data\n",
    "pd_samples = ['18R690_023', '18R700_08','18R653_014', '18R657_019', '18R465_006']\n",
    "nonpd_samples = ['18R649_010', '18R669_01', '18R694_02', '18R697_05', '18R648_09', \n",
    "                '18R659_020', '18R661_021', '18R663_027', '18R702_010', '18R673_05']\n",
    "\n",
    "# Load expression data\n",
    "expr_path = \"/mnt/c/Users/PC/Desktop/mcrc-cetuximab-analysis/data/log2_tpm_hgnc_matrix_no_metastases.csv\"\n",
    "expr_df = pd.read_csv(expr_path)\n",
    "\n",
    "# Handle merged header if needed\n",
    "if len(expr_df.columns) == 1:\n",
    "    expr_df = expr_df.iloc[:, 0].str.split(',', expand=True)\n",
    "    expr_df.columns = expr_df.iloc[0]\n",
    "    expr_df = expr_df.iloc[1:]\n",
    "\n",
    "expr_df = expr_df.set_index('gene')\n",
    "\n",
    "# MET gene analysis\n",
    "met_gene = 'MET'\n",
    "if met_gene in expr_df.index:\n",
    "    print(f\"Analyzing {met_gene} expression with available samples\")\n",
    "    print(f\"PD samples: {pd_samples}\")\n",
    "    print(f\"non-PD samples: {nonpd_samples}\")\n",
    "    \n",
    "    # Get expression values\n",
    "    pd_vals = expr_df.loc[met_gene, pd_samples].dropna().astype(float).values\n",
    "    nonpd_vals = expr_df.loc[met_gene, nonpd_samples].dropna().astype(float).values\n",
    "    \n",
    "    print(f\"\\nPD values (n={len(pd_vals)}): {pd_vals}\")\n",
    "    print(f\"non-PD values (n={len(nonpd_vals)}): {nonpd_vals}\")\n",
    "    \n",
    "    # Note about missing samples\n",
    "    if len(pd_vals) < 5:\n",
    "        print(\"\\nNote: Only found\", len(pd_vals), \"of 5 PD samples in expression data\")\n",
    "        print(\"Missing PD samples: 18R653_0014, 18R657_0019, 18R465_0006\")\n",
    "    \n",
    "    # Mann-Whitney U test\n",
    "    if len(pd_vals) >= 2 and len(nonpd_vals) >= 2:\n",
    "        stat, pval = stats.mannwhitneyu(pd_vals, nonpd_vals, alternative='two-sided')\n",
    "        \n",
    "        print(f\"\\nMann-Whitney U test results:\")\n",
    "        print(f\"U statistic: {stat}\")\n",
    "        print(f\"P-value: {pval:.4f}\")\n",
    "        print(f\"Median - PD: {np.median(pd_vals):.3f}\")\n",
    "        print(f\"Median - non-PD: {np.median(nonpd_vals):.3f}\")\n",
    "        \n",
    "        # Create plot\n",
    "        plt.figure(figsize=(5, 3))\n",
    "        plot_data = pd.DataFrame({\n",
    "            'Expression': np.concatenate([pd_vals, nonpd_vals]),\n",
    "            'Group': ['PD']*len(pd_vals) + ['non-PD']*len(nonpd_vals)\n",
    "        })\n",
    "        \n",
    "        # Boxplot with hue to avoid warning\n",
    "        sns.boxplot(x='Group', y='Expression', hue='Group', data=plot_data, width=0.4,\n",
    "                   palette={'PD': 'lightcoral', 'non-PD': 'lightblue'},\n",
    "                   showfliers=False, legend=False)\n",
    "        \n",
    "        # Individual points\n",
    "        sns.stripplot(x='Group', y='Expression', hue='Group', data=plot_data,\n",
    "                     palette={'PD': 'red', 'non-PD': 'blue'}, \n",
    "                     size=6, jitter=True, legend=False)\n",
    "        \n",
    "        # Add p-value\n",
    "        y_max = max(np.max(pd_vals), np.max(nonpd_vals)) + 0.5\n",
    "        plt.plot([0, 0, 1, 1], [y_max-0.3, y_max, y_max, y_max-0.3], color='black')\n",
    "        plt.text(0.5, y_max, f'p = {pval:.4f}', ha='center', va='bottom')\n",
    "        \n",
    "        plt.title(f\"MET Expression\\n(PD n={len(pd_vals)}, non-PD n={len(nonpd_vals)})\")\n",
    "        plt.ylabel(\"log2 TPM\")\n",
    "        plt.xlabel(\"Response Group\")\n",
    "        plt.tight_layout()\n",
    "        plt.show()\n",
    "        \n",
    "    else:\n",
    "        print(\"\\nInsufficient data for statistical comparison\")\n",
    "        \n",
    "else:\n",
    "    print(f\"{met_gene} not found in expression data\")"
   ]
  },
  {
   "cell_type": "code",
   "execution_count": 11,
   "id": "6733cb6f",
   "metadata": {},
   "outputs": [
    {
     "name": "stdout",
     "output_type": "stream",
     "text": [
      "Analyzing MET expression in pre-treatment samples\n",
      "\n",
      "Found 7/7 PD samples:\n",
      "['18R699_07', '18R178_0022', '18R300_0027', '18R307_0013', '18R460_001', '18R463_004', '18R656_018']\n",
      "\n",
      "Found 16/16 non-PD samples:\n",
      "['18R678_010', '18R683_015', '18R429_009', '18R298_0010', '18R647_08', '18R299_0025', '18R301_0002', '18R302_0004', '18R664_01', '18R642_003', '18R645_006', '18R432_012', '18R473_014', '18R443_022', '18R508_011', '18R507_004']\n",
      "\n",
      "Pre-PD values (n=7):\n",
      "18R699_07: 4.807\n",
      "18R178_0022: 9.555\n",
      "18R300_0027: 5.930\n",
      "18R307_0013: 5.336\n",
      "18R460_001: 4.631\n",
      "18R463_004: 4.762\n",
      "18R656_018: 7.021\n",
      "\n",
      "Pre-non-PD values (n=16):\n",
      "18R678_010: 6.086\n",
      "18R683_015: 3.852\n",
      "18R429_009: 4.232\n",
      "18R298_0010: 5.047\n",
      "18R647_08: 6.695\n",
      "18R299_0025: 4.614\n",
      "18R301_0002: 5.850\n",
      "18R302_0004: 6.365\n",
      "18R664_01: 6.028\n",
      "18R642_003: 5.270\n",
      "18R645_006: 6.278\n",
      "18R432_012: 5.761\n",
      "18R473_014: 4.660\n",
      "18R443_022: 5.473\n",
      "18R508_011: 3.957\n",
      "18R507_004: 5.282\n",
      "\n",
      "Mann-Whitney U test results:\n",
      "U statistic: 65.0\n",
      "P-value: 0.5787\n",
      "Median - Pre-PD: 5.336\n",
      "Median - Pre-non-PD: 5.377\n"
     ]
    },
    {
     "name": "stderr",
     "output_type": "stream",
     "text": [
      "/tmp/ipykernel_803/2041921720.py:78: FutureWarning: \n",
      "\n",
      "Passing `palette` without assigning `hue` is deprecated and will be removed in v0.14.0. Assign the `x` variable to `hue` and set `legend=False` for the same effect.\n",
      "\n",
      "  box = sns.boxplot(x='Group', y='Expression', data=plot_data,\n",
      "/tmp/ipykernel_803/2041921720.py:83: FutureWarning: \n",
      "\n",
      "Passing `palette` without assigning `hue` is deprecated and will be removed in v0.14.0. Assign the `x` variable to `hue` and set `legend=False` for the same effect.\n",
      "\n",
      "  stripplot = sns.stripplot(x='Group', y='Expression', data=plot_data,\n"
     ]
    },
    {
     "data": {
      "image/png": "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",
      "text/plain": [
       "<Figure size 500x300 with 1 Axes>"
      ]
     },
     "metadata": {},
     "output_type": "display_data"
    }
   ],
   "source": [
    "import pandas as pd\n",
    "import numpy as np\n",
    "from scipy import stats\n",
    "import matplotlib.pyplot as plt\n",
    "import seaborn as sns\n",
    "\n",
    "# Corrected pre-treatment samples\n",
    "pre_pd_samples = [\n",
    "    '18R699_07', '18R178_0022', '18R300_0027', \n",
    "    '18R307_0013', '18R460_001', '18R463_004', '18R656_018'\n",
    "]\n",
    "pre_nonpd_samples = [\n",
    "    '18R678_010', '18R683_015', '18R429_009', '18R298_0010',\n",
    "    '18R647_08', '18R299_0025', '18R301_0002', '18R302_0004',\n",
    "    '18R664_01', '18R642_003', '18R645_006', '18R432_012',\n",
    "    '18R473_014', '18R443_022', '18R508_011', '18R507_004'\n",
    "]\n",
    "\n",
    "# Load expression data\n",
    "expr_path = \"/mnt/c/Users/PC/Desktop/mcrc-cetuximab-analysis/notebooks/log2_tpm_hgnc_matrix_no_metastases.csv\"\n",
    "expr_df = pd.read_csv(expr_path)\n",
    "\n",
    "# Handle merged header if needed\n",
    "if len(expr_df.columns) == 1:\n",
    "    expr_df = expr_df.iloc[:, 0].str.split(',', expand=True)\n",
    "    expr_df.columns = expr_df.iloc[0]\n",
    "    expr_df = expr_df.iloc[1:]\n",
    "\n",
    "expr_df = expr_df.set_index('gene')\n",
    "\n",
    "# MET gene analysis\n",
    "met_gene = 'MET'\n",
    "if met_gene in expr_df.index:\n",
    "    print(f\"Analyzing {met_gene} expression in pre-treatment samples\")\n",
    "    \n",
    "    # Find which samples actually exist in the data\n",
    "    available_pd = [s for s in pre_pd_samples if s in expr_df.columns]\n",
    "    available_nonpd = [s for s in pre_nonpd_samples if s in expr_df.columns]\n",
    "    \n",
    "    print(f\"\\nFound {len(available_pd)}/{len(pre_pd_samples)} PD samples:\")\n",
    "    print(available_pd)\n",
    "    print(f\"\\nFound {len(available_nonpd)}/{len(pre_nonpd_samples)} non-PD samples:\")\n",
    "    print(available_nonpd)\n",
    "    \n",
    "    # Get expression values\n",
    "    pd_vals = expr_df.loc[met_gene, available_pd].astype(float).values\n",
    "    nonpd_vals = expr_df.loc[met_gene, available_nonpd].astype(float).values\n",
    "    \n",
    "    print(f\"\\nPre-PD values (n={len(pd_vals)}):\")\n",
    "    for sample, val in zip(available_pd, pd_vals):\n",
    "        print(f\"{sample}: {val:.3f}\")\n",
    "    \n",
    "    print(f\"\\nPre-non-PD values (n={len(nonpd_vals)}):\")\n",
    "    for sample, val in zip(available_nonpd, nonpd_vals):\n",
    "        print(f\"{sample}: {val:.3f}\")\n",
    "    \n",
    "    # Statistical test if we have enough samples\n",
    "    if len(pd_vals) >= 2 and len(nonpd_vals) >= 2:\n",
    "        stat, pval = stats.mannwhitneyu(pd_vals, nonpd_vals, alternative='two-sided')\n",
    "        \n",
    "        print(f\"\\nMann-Whitney U test results:\")\n",
    "        print(f\"U statistic: {stat}\")\n",
    "        print(f\"P-value: {pval:.4f}\")\n",
    "        print(f\"Median - Pre-PD: {np.median(pd_vals):.3f}\")\n",
    "        print(f\"Median - Pre-non-PD: {np.median(nonpd_vals):.3f}\")\n",
    "        \n",
    "        # Create enhanced plot\n",
    "        plt.figure(figsize=(5, 3))\n",
    "        \n",
    "        # Prepare plot data with sample info\n",
    "        plot_data = pd.DataFrame({\n",
    "            'Expression': np.concatenate([pd_vals, nonpd_vals]),\n",
    "            'Group': ['Pre-PD']*len(pd_vals) + ['Pre-non-PD']*len(nonpd_vals),\n",
    "            'Sample': available_pd + available_nonpd\n",
    "        })\n",
    "        \n",
    "        # Create boxplot\n",
    "        box = sns.boxplot(x='Group', y='Expression', data=plot_data, \n",
    "                         width=0.4, palette={'Pre-PD': 'lightcoral', 'Pre-non-PD': 'lightblue'},\n",
    "                         showfliers=False)\n",
    "        \n",
    "        # Add stripplot with sample labels\n",
    "        stripplot = sns.stripplot(x='Group', y='Expression', data=plot_data,\n",
    "                                 palette={'Pre-PD': 'red', 'Pre-non-PD': 'blue'},\n",
    "                                 size=6, jitter=0.1)\n",
    "        \n",
    "                \n",
    "        # Add p-value and stats\n",
    "        y_max = max(plot_data.Expression) + 1\n",
    "        plt.plot([0, 0, 1, 1], [y_max-0.5, y_max, y_max, y_max-0.5], color='black')\n",
    "        plt.text(0.5, y_max, f'p = {pval:.4f}\\nU = {stat}', ha='center', va='bottom')\n",
    "        \n",
    "        plt.title(f\"Pre-treatment MET Expression\\n(PD n={len(pd_vals)}, non-PD n={len(nonpd_vals)})\",\n",
    "                fontsize=10, pad=18)\n",
    "        plt.ylabel(\"log2 TPM\", fontsize=12)\n",
    "        plt.xlabel(\"Response Group\", fontsize=12)\n",
    "        plt.xticks(fontsize=12)\n",
    "        plt.yticks(fontsize=12)\n",
    "        plt.tight_layout()\n",
    "        plt.show()\n",
    "        \n",
    "    else:\n",
    "        print(\"\\nInsufficient data for statistical comparison (need ≥2 samples per group)\")\n",
    "        \n",
    "else:\n",
    "    print(f\"{met_gene} not found in expression data\")"
   ]
  },
  {
   "cell_type": "code",
   "execution_count": 15,
   "id": "de00e9aa",
   "metadata": {},
   "outputs": [
    {
     "name": "stdout",
     "output_type": "stream",
     "text": [
      "Analyzing MET expression in post-treatment samples\n",
      "\n",
      "Found 5/5 PD samples:\n",
      "['18R690_023', '18R700_08', '18R653_014', '18R657_019', '18R465_006']\n",
      "\n",
      "Found 10/10 non-PD samples:\n",
      "['18R649_010', '18R669_01', '18R694_02', '18R697_05', '18R648_09', '18R659_020', '18R661_021', '18R663_027', '18R702_010', '18R673_05']\n",
      "\n",
      "Post-PD values (n=5):\n",
      "18R690_023: 4.527\n",
      "18R700_08: 6.087\n",
      "18R653_014: 3.769\n",
      "18R657_019: 6.256\n",
      "18R465_006: 4.765\n",
      "\n",
      "Post-non-PD values (n=10):\n",
      "18R649_010: 3.597\n",
      "18R669_01: 6.994\n",
      "18R694_02: 1.910\n",
      "18R697_05: 5.080\n",
      "18R648_09: 4.315\n",
      "18R659_020: 3.355\n",
      "18R661_021: 4.901\n",
      "18R663_027: 5.649\n",
      "18R702_010: 4.344\n",
      "18R673_05: 5.927\n",
      "\n",
      "Mann-Whitney U test results:\n",
      "U statistic: 31.0\n",
      "P-value: 0.5135\n",
      "Median - Post-PD: 4.765\n",
      "Median - Post-non-PD: 4.623\n"
     ]
    },
    {
     "name": "stderr",
     "output_type": "stream",
     "text": [
      "/tmp/ipykernel_803/1684182452.py:81: FutureWarning: \n",
      "\n",
      "Passing `palette` without assigning `hue` is deprecated and will be removed in v0.14.0. Assign the `x` variable to `hue` and set `legend=False` for the same effect.\n",
      "\n",
      "  box = sns.boxplot(x='Group', y='Expression', data=plot_data,\n",
      "/tmp/ipykernel_803/1684182452.py:86: FutureWarning: \n",
      "\n",
      "Passing `palette` without assigning `hue` is deprecated and will be removed in v0.14.0. Assign the `x` variable to `hue` and set `legend=False` for the same effect.\n",
      "\n",
      "  stripplot = sns.stripplot(x='Group', y='Expression', data=plot_data,\n"
     ]
    },
    {
     "data": {
      "image/png": "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",
      "text/plain": [
       "<Figure size 500x300 with 1 Axes>"
      ]
     },
     "metadata": {},
     "output_type": "display_data"
    }
   ],
   "source": [
    "import pandas as pd\n",
    "import numpy as np\n",
    "from scipy import stats\n",
    "import matplotlib.pyplot as plt\n",
    "import seaborn as sns\n",
    "import os\n",
    "\n",
    "# Confirmed available samples from expression data\n",
    "pd_samples = ['18R690_023', '18R700_08','18R653_014', '18R657_019', '18R465_006']\n",
    "nonpd_samples = ['18R649_010', '18R669_01', '18R694_02', '18R697_05', '18R648_09', \n",
    "                '18R659_020', '18R661_021', '18R663_027', '18R702_010', '18R673_05']\n",
    "\n",
    "# Load expression data\n",
    "expr_path = \"/mnt/c/Users/PC/Desktop/mcrc-cetuximab-analysis/notebooks/log2_tpm_hgnc_matrix_no_metastases.csv\"\n",
    "expr_df = pd.read_csv(expr_path)\n",
    "\n",
    "# Handle merged header if needed\n",
    "if len(expr_df.columns) == 1:\n",
    "    expr_df = expr_df.iloc[:, 0].str.split(',', expand=True)\n",
    "    expr_df.columns = expr_df.iloc[0]\n",
    "    expr_df = expr_df.iloc[1:]\n",
    "\n",
    "expr_df = expr_df.set_index('gene')\n",
    "\n",
    "# MET gene analysis\n",
    "met_gene = 'MET'\n",
    "if met_gene in expr_df.index:\n",
    "    print(f\"Analyzing {met_gene} expression in post-treatment samples\")\n",
    "    \n",
    "    # Find which samples actually exist in the data\n",
    "    available_pd = [s for s in pd_samples if s in expr_df.columns]\n",
    "    available_nonpd = [s for s in nonpd_samples if s in expr_df.columns]\n",
    "    \n",
    "    print(f\"\\nFound {len(available_pd)}/{len(pd_samples)} PD samples:\")\n",
    "    print(available_pd)\n",
    "    print(f\"\\nFound {len(available_nonpd)}/{len(nonpd_samples)} non-PD samples:\")\n",
    "    print(available_nonpd)\n",
    "    \n",
    "    # Get expression values\n",
    "    pd_vals = expr_df.loc[met_gene, available_pd].astype(float).values\n",
    "    nonpd_vals = expr_df.loc[met_gene, available_nonpd].astype(float).values\n",
    "    \n",
    "    print(f\"\\nPost-PD values (n={len(pd_vals)}):\")\n",
    "    for sample, val in zip(available_pd, pd_vals):\n",
    "        print(f\"{sample}: {val:.3f}\")\n",
    "    \n",
    "    print(f\"\\nPost-non-PD values (n={len(nonpd_vals)}):\")\n",
    "    for sample, val in zip(available_nonpd, nonpd_vals):\n",
    "        print(f\"{sample}: {val:.3f}\")\n",
    "    \n",
    "    # Note about missing samples\n",
    "    missing_pd = [s for s in pd_samples if s not in expr_df.columns]\n",
    "    missing_nonpd = [s for s in nonpd_samples if s not in expr_df.columns]\n",
    "    \n",
    "    if missing_pd:\n",
    "        print(f\"\\nMissing post-PD samples: {missing_pd}\")\n",
    "    if missing_nonpd:\n",
    "        print(f\"Missing post-non-PD samples: {missing_nonpd}\")\n",
    "    \n",
    "    # Mann-Whitney U test\n",
    "    if len(pd_vals) >= 2 and len(nonpd_vals) >= 2:\n",
    "        stat, pval = stats.mannwhitneyu(pd_vals, nonpd_vals, alternative='two-sided')\n",
    "        \n",
    "        print(f\"\\nMann-Whitney U test results:\")\n",
    "        print(f\"U statistic: {stat}\")\n",
    "        print(f\"P-value: {pval:.4f}\")\n",
    "        print(f\"Median - Post-PD: {np.median(pd_vals):.3f}\")\n",
    "        print(f\"Median - Post-non-PD: {np.median(nonpd_vals):.3f}\")\n",
    "        \n",
    "        # Create enhanced plot matching pre-treatment style\n",
    "        plt.figure(figsize=(5, 3))\n",
    "        \n",
    "        # Prepare plot data with sample info\n",
    "        plot_data = pd.DataFrame({\n",
    "            'Expression': np.concatenate([pd_vals, nonpd_vals]),\n",
    "            'Group': ['Post-PD']*len(pd_vals) + ['Post-non-PD']*len(nonpd_vals),\n",
    "            'Sample': available_pd + available_nonpd\n",
    "        })\n",
    "        \n",
    "        # Create boxplot\n",
    "        box = sns.boxplot(x='Group', y='Expression', data=plot_data, \n",
    "                         width=0.4, palette={'Post-PD': 'lightcoral', 'Post-non-PD': 'lightblue'},\n",
    "                         showfliers=False)\n",
    "        \n",
    "        # Add stripplot with sample labels\n",
    "        stripplot = sns.stripplot(x='Group', y='Expression', data=plot_data,\n",
    "                                 palette={'Post-PD': 'red', 'Post-non-PD': 'blue'},\n",
    "                                 size=6, jitter=0.1)\n",
    "        \n",
    "               \n",
    "        # Add p-value and stats\n",
    "        y_max = max(plot_data.Expression) + 1\n",
    "        plt.plot([0, 0, 1, 1], [y_max-0.5, y_max, y_max, y_max-0.5], color='black')\n",
    "        plt.text(0.5, y_max, f'p = {pval:.4f}\\nU = {stat}', ha='center', va='bottom')\n",
    "        \n",
    "        plt.title(f\"Post-treatment MET Expression\\n(PD n={len(pd_vals)}, non-PD n={len(nonpd_vals)})\",\n",
    "                fontsize=10, pad=18)\n",
    "        plt.ylabel(\"log2 TPM\", fontsize=12)\n",
    "        plt.xlabel(\"Response Group\", fontsize=12)\n",
    "        plt.xticks(fontsize=12)\n",
    "        plt.yticks(fontsize=12)\n",
    "        plt.tight_layout()\n",
    "        plt.show()\n",
    "                \n",
    "    else:\n",
    "        print(\"\\nInsufficient data for statistical comparison (need ≥2 samples per group)\")\n",
    "        \n",
    "else:\n",
    "    print(f\"{met_gene} not found in expression data\")"
   ]
  },
  {
   "cell_type": "code",
   "execution_count": null,
   "id": "d7453578",
   "metadata": {},
   "outputs": [],
   "source": []
  }
 ],
 "metadata": {
  "kernelspec": {
   "display_name": "venv",
   "language": "python",
   "name": "python3"
  },
  "language_info": {
   "codemirror_mode": {
    "name": "ipython",
    "version": 3
   },
   "file_extension": ".py",
   "mimetype": "text/x-python",
   "name": "python",
   "nbconvert_exporter": "python",
   "pygments_lexer": "ipython3",
   "version": "3.12.9"
  }
 },
 "nbformat": 4,
 "nbformat_minor": 5
}
