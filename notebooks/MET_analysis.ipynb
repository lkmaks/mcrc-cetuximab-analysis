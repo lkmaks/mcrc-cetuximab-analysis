{
 "cells": [
  {
   "cell_type": "code",
   "execution_count": 1,
   "id": "00875a06",
   "metadata": {},
   "outputs": [],
   "source": [
    "import os\n",
    "os.chdir('../')\n"
   ]
  },
  {
   "cell_type": "code",
   "execution_count": null,
   "id": "0f62b0c5",
   "metadata": {},
   "outputs": [],
   "source": [
    "#import pandas as pd\n",
    "#import matplotlib.pyplot as plt\n",
    "#import seaborn as sns\n",
    "#from scipy.stats import f_oneway"
   ]
  },
  {
   "cell_type": "code",
   "execution_count": null,
   "id": "3253b846",
   "metadata": {},
   "outputs": [
    {
     "data": {
      "text/plain": [
       "'/mnt/c/Users/PC/Desktop/mcrc-cetuximab-analysis'"
      ]
     },
     "execution_count": 9,
     "metadata": {},
     "output_type": "execute_result"
    }
   ],
   "source": [
    "#import os\n",
    "#os.getcwd()"
   ]
  },
  {
   "cell_type": "code",
   "execution_count": null,
   "id": "9fc7f933",
   "metadata": {},
   "outputs": [],
   "source": [
    "#ann_all = pd.read_csv(\"/mnt/c/Users/PC/Desktop/mcrc-cetuximab-analysis/data/annotation_no_metastases.csv\", sep=',', index_col=0)"
   ]
  },
  {
   "cell_type": "code",
   "execution_count": null,
   "id": "29eaf9fe",
   "metadata": {},
   "outputs": [],
   "source": [
    "#ann_all"
   ]
  },
  {
   "cell_type": "code",
   "execution_count": null,
   "id": "16ab8091",
   "metadata": {},
   "outputs": [],
   "source": [
    "#ann_all = ann_all.reset_index()"
   ]
  },
  {
   "cell_type": "code",
   "execution_count": null,
   "id": "3f95fa25",
   "metadata": {},
   "outputs": [],
   "source": [
    "#ann_all.title = ann_all.title.str.extract(r'\\[([A-Z0-9_]+)\\]')\n",
    "#ann_all = ann_all.set_index('title')\n",
    "#mapper = ann_all.sample_id.to_dict()\n",
    "# df_dict = df.set_index('key')['value'].to_dict()"
   ]
  },
  {
   "cell_type": "code",
   "execution_count": null,
   "id": "98f3629a",
   "metadata": {},
   "outputs": [],
   "source": [
    "#ann_all"
   ]
  },
  {
   "cell_type": "code",
   "execution_count": null,
   "id": "a5ebb3a6",
   "metadata": {},
   "outputs": [],
   "source": [
    "#mapper"
   ]
  },
  {
   "cell_type": "code",
   "execution_count": null,
   "id": "a0e37b28",
   "metadata": {},
   "outputs": [],
   "source": [
    "#exp_data = pd.read_csv(\"/mnt/c/Users/PC/Desktop/mcrc-cetuximab-analysis/notebooks/log2_tpm_hgnc_matrix_no_metastases.csv\", sep=',')"
   ]
  },
  {
   "cell_type": "code",
   "execution_count": null,
   "id": "8bea7585",
   "metadata": {},
   "outputs": [],
   "source": [
    "#cols = exp_data.columns.tolist()\n",
    "#cols[0] = 'GSM_id'"
   ]
  },
  {
   "cell_type": "code",
   "execution_count": null,
   "id": "2ad34bdc",
   "metadata": {},
   "outputs": [],
   "source": [
    "#exp_data.columns = cols"
   ]
  },
  {
   "cell_type": "code",
   "execution_count": null,
   "id": "47417802",
   "metadata": {},
   "outputs": [],
   "source": [
    "#exp_data['GSM_id'] = exp_data.GSM_id.map(mapper)"
   ]
  },
  {
   "cell_type": "code",
   "execution_count": null,
   "id": "216bebcb",
   "metadata": {},
   "outputs": [],
   "source": [
    "#exp_data.to_csv(\"../data/expressions.csv\", sep=',')"
   ]
  },
  {
   "cell_type": "code",
   "execution_count": null,
   "id": "f53dbf1d",
   "metadata": {},
   "outputs": [],
   "source": [
    "# 1. Загрузим данные\n",
    "#patients_df = pd.read_csv('/mnt/c/Users/PC/Desktop/mcrc-cetuximab-analysis/data/useful_ann.csv', sep=',',index_col = 0)\n",
    "#patients_df.columns = ['some_id', 'sample_title', 'tissue', 'time_point', 'treatment_response','patient_id']"
   ]
  },
  {
   "cell_type": "code",
   "execution_count": null,
   "id": "035cf5e3",
   "metadata": {},
   "outputs": [],
   "source": [
    "#patients_df"
   ]
  },
  {
   "cell_type": "code",
   "execution_count": null,
   "id": "01ec259b",
   "metadata": {},
   "outputs": [
    {
     "data": {
      "text/plain": [
       "treatment_response\n",
       "pre-Tx            76\n",
       "post-tx PD        21\n",
       "post-Tx non-PD    16\n",
       "Name: count, dtype: int64"
      ]
     },
     "execution_count": 17,
     "metadata": {},
     "output_type": "execute_result"
    }
   ],
   "source": [
    "#patients_df.treatment_response.value_counts()"
   ]
  },
  {
   "cell_type": "code",
   "execution_count": null,
   "id": "7afd5646",
   "metadata": {},
   "outputs": [],
   "source": [
    "#PD = patients_df.query(\"treatment_response == 'post-tx PD'\")\n",
    "#non_PD = patients_df.query(\"treatment_response == 'post-Tx non-PD'\")"
   ]
  },
  {
   "cell_type": "code",
   "execution_count": null,
   "id": "ed52a0c7",
   "metadata": {},
   "outputs": [],
   "source": [
    "#exp_data"
   ]
  },
  {
   "cell_type": "code",
   "execution_count": null,
   "id": "0c0cf815",
   "metadata": {},
   "outputs": [],
   "source": [
    "#PD_samples = PD.index.to_list()\n",
    "#PD_exp = exp_data.query(\"GSM_id in @PD_samples\")"
   ]
  },
  {
   "cell_type": "code",
   "execution_count": null,
   "id": "4d7b2824",
   "metadata": {},
   "outputs": [],
   "source": [
    "#non_PD_samples = PD.index.to_list()\n",
    "#non_PD_exp = exp_data.query(\"GSM_id in @non_PD_samples\")"
   ]
  },
  {
   "cell_type": "code",
   "execution_count": null,
   "id": "a28986c5",
   "metadata": {},
   "outputs": [],
   "source": [
    "#pip install statsmodels\n"
   ]
  },
  {
   "cell_type": "code",
   "execution_count": 8,
   "id": "ca5eb19a",
   "metadata": {},
   "outputs": [],
   "source": [
    "import pandas as pd\n",
    "import numpy as np\n",
    "from scipy import stats"
   ]
  },
  {
   "cell_type": "code",
   "execution_count": null,
   "id": "4adb194e",
   "metadata": {},
   "outputs": [],
   "source": [
    "file_path = \"/mnt/c/Users/PC/Desktop/mcrc-cetuximab-analysis/notebooks/log2_tpm_hgnc_matrix_no_metastases.csv\"\n",
    "\n",
    "# Read the data with proper decimal handling\n",
    "gene_expr = pd.read_csv(file_path, sep=',', decimal='.')\n"
   ]
  },
  {
   "cell_type": "code",
   "execution_count": 10,
   "id": "f72e5826",
   "metadata": {},
   "outputs": [
    {
     "name": "stdout",
     "output_type": "stream",
     "text": [
      "Original columns: ['gene', '18R649_010', '18R669_01', '18R670_02', '18R674_06', '18R678_010', '18R683_015', '18R689_022', '18R690_023', '18R694_02', '18R697_05', '18R699_07', '18R700_08', '18R429_009', '18R298_0010', '18R647_08', '18R648_09', '18R294_0001', '18R295_0003', '18R296_0008', '18R176_0020', '18R178_0022', '18R177_0021', '18R299_0025', '18R300_0027', '18R659_020', '18R661_021', '18R301_0002', '18R302_0004', '18R663_027', '18R664_01', '18R307_0013', '18R319_0014', '18R685_018', '18R642_003', '18R645_006', '18R653_014', '18R432_012', '18R434_014', '18R460_001', '18R695_03', '18R473_014', '18R443_022', '18R436_016', '18R421_001', '18R463_004', '18R472_013', '18R426_006', '18R427_007', '18R508_011', '18R433_013', '18R435_015', '18R437_018', '18R449_023', '18R438_019', '18R440_020', '18R456_002', '18R457_023', '18R458_025', '18R459_027', '18R461_002', '18R462_003', '18R464_005', '18R468_009', '18R469_010', '18R470_011', '18R471_012', '18R474_015', '18R475_016', '18R476_018', '18R640_001', '18R701_09', '18R478_020', '18R479_021', '18R480_022', '18R702_010', '18R656_018', '18R657_019', '18R673_05', '18R465_006', '18R454_027', '18R477_019', '18R507_004', '18R428_008', '18R705_013']\n",
      "Data after cleaning:\n",
      "        18R649_010  18R669_01  18R670_02  18R674_06  18R678_010  18R683_015  \\\n",
      "gene                                                                          \n",
      "TSPAN6    4.915061   6.960488   6.822044   6.476123    7.001439    5.979740   \n",
      "TNMD      0.384840   0.797997   1.669769   1.295722    0.555135    0.296034   \n",
      "DPM1      4.840414   6.777641   6.197991   6.317775    6.464409    6.650423   \n",
      "SCYL3     2.604751   2.808040   2.260861   2.898430    2.351833    2.717201   \n",
      "FIRRM     1.389172   2.503991   1.464436   1.953881    2.354043    1.959017   \n",
      "\n",
      "        18R689_022  18R690_023  18R694_02  18R697_05  ...  18R702_010  \\\n",
      "gene                                                  ...               \n",
      "TSPAN6    5.012969    5.464352   4.026421   6.178695  ...    6.549435   \n",
      "TNMD      0.000000    0.354330   0.592227   0.722573  ...    0.225956   \n",
      "DPM1      5.208876    5.451409   4.846793   6.202013  ...    6.331933   \n",
      "SCYL3     2.542211    2.481304   1.710404   2.771202  ...    2.495859   \n",
      "FIRRM     1.819476    1.769135   0.989802   1.626912  ...    1.530562   \n",
      "\n",
      "        18R656_018  18R657_019  18R673_05  18R465_006  18R454_027  18R477_019  \\\n",
      "gene                                                                            \n",
      "TSPAN6    7.265678    7.556717   7.148274    5.092725    6.876043    7.975755   \n",
      "TNMD      1.124204    1.063758   0.118022    0.267286    0.537797    2.013335   \n",
      "DPM1      7.158524    7.260243   7.085872    5.635827    7.239904    7.678208   \n",
      "SCYL3     2.757291    2.360323   2.107795    2.820362    2.678120    2.930845   \n",
      "FIRRM     1.884272    1.662369   1.925506    1.826833    2.519411    2.122102   \n",
      "\n",
      "        18R507_004  18R428_008  18R705_013  \n",
      "gene                                        \n",
      "TSPAN6    8.091057    5.093825    6.036070  \n",
      "TNMD      1.743997    0.059718    0.827143  \n",
      "DPM1      7.805770    5.089112    6.584128  \n",
      "SCYL3     2.767079    2.639453    2.364625  \n",
      "FIRRM     2.212239    1.514346    1.649746  \n",
      "\n",
      "[5 rows x 84 columns]\n"
     ]
    }
   ],
   "source": [
    "# Check current column names\n",
    "print(\"Original columns:\", gene_expr.columns.tolist())\n",
    "\n",
    "# If the first column has a combined name like \"gene,sample1,sample2\":\n",
    "if len(gene_expr.columns) == 1:\n",
    "    # Split the combined column\n",
    "    gene_expr = gene_expr.iloc[:, 0].str.split(',', expand=True)\n",
    "    # Set first row as header\n",
    "    gene_expr.columns = gene_expr.iloc[0]\n",
    "    gene_expr = gene_expr.iloc[1:]\n",
    "    \n",
    "# Set gene as index\n",
    "gene_expr = gene_expr.set_index('gene')\n",
    "\n",
    "# Convert all values to numeric\n",
    "gene_expr = gene_expr.apply(pd.to_numeric)\n",
    "\n",
    "print(\"Data after cleaning:\")\n",
    "print(gene_expr.head())"
   ]
  },
  {
   "cell_type": "code",
   "execution_count": 11,
   "id": "ab75819f",
   "metadata": {},
   "outputs": [
    {
     "name": "stdout",
     "output_type": "stream",
     "text": [
      "Filtered data shape: (19457, 37)\n"
     ]
    }
   ],
   "source": [
    "# PD samples (n=21)\n",
    "pd_samples = [\n",
    "    '18R649_010', '18R669_01', '18R670_02', '18R674_06', '18R678_010',\n",
    "    '18R683_015', '18R689_022', '18R690_023', '18R694_02', '18R697_05',\n",
    "    '18R699_07', '18R700_08', '18R429_009', '18R298_0010', '18R647_08',\n",
    "    '18R648_09', '18R294_0001', '18R295_0003', '18R296_0008', '18R176_0020',\n",
    "    '18R178_0022'\n",
    "]\n",
    "\n",
    "# nonPD samples (n=16)\n",
    "nonpd_samples = [\n",
    "    '18R177_0021', '18R299_0025', '18R300_0027', '18R659_020', '18R661_021',\n",
    "    '18R301_0002', '18R302_0004', '18R663_027', '18R664_01', '18R307_0013',\n",
    "    '18R319_0014', '18R685_018', '18R642_003', '18R645_006', '18R653_014',\n",
    "    '18R432_012'\n",
    "]\n",
    "\n",
    "# Filter samples and verify\n",
    "gene_expr_filtered = gene_expr[pd_samples + nonpd_samples]\n",
    "print(\"Filtered data shape:\", gene_expr_filtered.shape)"
   ]
  },
  {
   "cell_type": "code",
   "execution_count": 6,
   "id": "dfa6e974",
   "metadata": {},
   "outputs": [
    {
     "name": "stdout",
     "output_type": "stream",
     "text": [
      "Successfully read with tab separator\n",
      "\n",
      "First 5 rows after proper reading:\n",
      "  gene,18R649_010,18R669_01,18R670_02,18R674_06,18R678_010,18R683_015,18R689_022,18R690_023,18R694_02,18R697_05,18R699_07,18R700_08,18R429_009,18R298_0010,18R647_08,18R648_09,18R294_0001,18R295_0003,18R296_0008,18R176_0020,18R178_0022,18R177_0021,18R299_0025,18R300_0027,18R659_020,18R661_021,18R301_0002,18R302_0004,18R663_027,18R664_01,18R307_0013,18R319_0014,18R685_018,18R642_003,18R645_006,18R653_014,18R432_012,18R434_014,18R460_001,18R695_03,18R473_014,18R443_022,18R436_016,18R421_001,18R463_004,18R472_013,18R426_006,18R427_007,18R508_011,18R433_013,18R435_015,18R437_018,18R449_023,18R438_019,18R440_020,18R456_002,18R457_023,18R458_025,18R459_027,18R461_002,18R462_003,18R464_005,18R468_009,18R469_010,18R470_011,18R471_012,18R474_015,18R475_016,18R476_018,18R640_001,18R701_09,18R478_020,18R479_021,18R480_022,18R702_010,18R656_018,18R657_019,18R673_05,18R465_006,18R454_027,18R477_019,18R507_004,18R428_008,18R705_013\n",
      "0  TSPAN6,4.915060846466939,6.960487754797395,6.8...                                                                                                                                                                                                                                                                                                                                                                                                                                                                                                                                                                                                                                                                                                                                                                                                                                                                                                              \n",
      "1  TNMD,0.3848404004281067,0.7979968656879316,1.6...                                                                                                                                                                                                                                                                                                                                                                                                                                                                                                                                                                                                                                                                                                                                                                                                                                                                                                              \n",
      "2  DPM1,4.840413562566353,6.7776406126412,6.19799...                                                                                                                                                                                                                                                                                                                                                                                                                                                                                                                                                                                                                                                                                                                                                                                                                                                                                                              \n",
      "3  SCYL3,2.604751187904078,2.808040273706052,2.26...                                                                                                                                                                                                                                                                                                                                                                                                                                                                                                                                                                                                                                                                                                                                                                                                                                                                                                              \n",
      "4  FIRRM,1.3891721806311073,2.503991149196526,1.4...                                                                                                                                                                                                                                                                                                                                                                                                                                                                                                                                                                                                                                                                                                                                                                                                                                                                                                              \n",
      "\n",
      "Column names:\n",
      "['gene,18R649_010,18R669_01,18R670_02,18R674_06,18R678_010,18R683_015,18R689_022,18R690_023,18R694_02,18R697_05,18R699_07,18R700_08,18R429_009,18R298_0010,18R647_08,18R648_09,18R294_0001,18R295_0003,18R296_0008,18R176_0020,18R178_0022,18R177_0021,18R299_0025,18R300_0027,18R659_020,18R661_021,18R301_0002,18R302_0004,18R663_027,18R664_01,18R307_0013,18R319_0014,18R685_018,18R642_003,18R645_006,18R653_014,18R432_012,18R434_014,18R460_001,18R695_03,18R473_014,18R443_022,18R436_016,18R421_001,18R463_004,18R472_013,18R426_006,18R427_007,18R508_011,18R433_013,18R435_015,18R437_018,18R449_023,18R438_019,18R440_020,18R456_002,18R457_023,18R458_025,18R459_027,18R461_002,18R462_003,18R464_005,18R468_009,18R469_010,18R470_011,18R471_012,18R474_015,18R475_016,18R476_018,18R640_001,18R701_09,18R478_020,18R479_021,18R480_022,18R702_010,18R656_018,18R657_019,18R673_05,18R465_006,18R454_027,18R477_019,18R507_004,18R428_008,18R705_013']\n"
     ]
    }
   ],
   "source": [
    "# First, let's try reading with different separators\n",
    "try:\n",
    "    # Try tab separator first\n",
    "    gene_expr = pd.read_csv(file_path, sep='\\t')\n",
    "    print(\"Successfully read with tab separator\")\n",
    "except pd.errors.ParserError:\n",
    "    try:\n",
    "        # Try semicolon if tab fails\n",
    "        gene_expr = pd.read_csv(file_path, sep=';')\n",
    "        print(\"Successfully read with semicolon separator\")\n",
    "    except:\n",
    "        # As last resort, handle the decimal comma issue\n",
    "        gene_expr = pd.read_csv(file_path, sep=',', decimal=',')\n",
    "        print(\"Read with comma separator and decimal comma handling\")\n",
    "\n",
    "# Now check the structure\n",
    "print(\"\\nFirst 5 rows after proper reading:\")\n",
    "print(gene_expr.head())\n",
    "\n",
    "print(\"\\nColumn names:\")\n",
    "print(gene_expr.columns.tolist())"
   ]
  },
  {
   "cell_type": "code",
   "execution_count": null,
   "id": "b6975b7f",
   "metadata": {},
   "outputs": [
    {
     "name": "stdout",
     "output_type": "stream",
     "text": [
      "\n",
      "Values for MATR3:\n",
      "PD: [[7.30175858 8.41376827 7.51059218 7.70145969 7.96306857 8.01451486\n",
      "  7.16195847 7.29388365 7.01147854 7.10575358 6.43467809 7.4784656\n",
      "  7.41272578 7.43079739 7.91463646 7.41153212 7.89320689 7.31864006\n",
      "  7.7196748  7.91428848 8.07541172]\n",
      " [2.00642996 2.66333274 1.95347453 1.31349892 0.5465758  2.96518805\n",
      "  3.33040231 0.73815561 1.15575194 4.48116771 2.17351268 1.49574255\n",
      "  1.48966435 0.80494158 4.59705578 0.         3.73731831 2.90908703\n",
      "  1.17103405 2.79905376 3.55024622]]\n",
      "nonPD: [[7.3723864  7.68282567 7.6128475  7.20771869 7.74868785 7.65595317\n",
      "  7.82078083 7.95889367 7.77519827 7.72400335 7.80601665 8.16916058\n",
      "  8.13148749 7.99809881 6.76101115 7.66968994]\n",
      " [4.61553848 4.01559393 1.06793241 3.04514041 1.65223847 2.83735061\n",
      "  1.94494232 1.98073988 1.20807675 2.95054614 0.         5.52757387\n",
      "  2.33081157 1.74772668 0.832731   2.22571023]]\n",
      "\n",
      "Values for PDE4C:\n",
      "PD: [[1.24067521 0.66495958 0.05594755 1.07205958 0.46845137 0.\n",
      "  1.05647428 0.38979422 0.44577103 1.30951177 1.12044802 0.19256681\n",
      "  0.68860103 1.00677115 0.7052784  1.38752668 0.38047482 0.55587383\n",
      "  1.05890033 1.63813429 0.        ]\n",
      " [0.         0.         0.         0.         0.         0.\n",
      "  0.         0.05410911 0.02954433 0.17678334 0.10448351 0.02371586\n",
      "  0.02746821 0.05714081 0.         0.03312567 0.         0.\n",
      "  0.         0.18519078 0.        ]]\n",
      "nonPD: [[1.29658959 0.69807366 0.32935661 0.55223261 0.20104639 0.77822708\n",
      "  0.07335734 0.06296835 0.22332285 0.88930845 0.22048943 0.0115552\n",
      "  0.51541098 0.17797924 0.43774382 0.17375044]\n",
      " [0.09589679 0.01447608 0.         0.05878989 0.03592397 0.03893637\n",
      "  0.         0.         0.         0.         0.         0.\n",
      "  0.         0.         0.         0.        ]]\n"
     ]
    }
   ],
   "source": [
    "problem_genes = ['MATR3', 'PDE4C']  \n",
    "for gene in problem_genes:\n",
    "    if gene in gene_expr_filtered.index:\n",
    "        print(f\"\\nValues for {gene}:\")\n",
    "        print(\"PD:\", gene_expr_filtered.loc[gene, pd_samples].values)\n",
    "        print(\"nonPD:\", gene_expr_filtered.loc[gene, nonpd_samples].values)"
   ]
  },
  {
   "cell_type": "code",
   "execution_count": 15,
   "id": "b77db268",
   "metadata": {},
   "outputs": [
    {
     "name": "stdout",
     "output_type": "stream",
     "text": [
      "\n",
      "Data quality summary:\n",
      "Total genes: 19457\n",
      "Missing values per gene:\n",
      "0    19457\n",
      "Name: count, dtype: int64\n"
     ]
    }
   ],
   "source": [
    "print(\"\\nData quality summary:\")\n",
    "print(\"Total genes:\", len(gene_expr_filtered))\n",
    "print(\"Missing values per gene:\")\n",
    "print(gene_expr_filtered.isna().sum(axis=1).value_counts())"
   ]
  },
  {
   "cell_type": "code",
   "execution_count": null,
   "id": "6cb99c0c",
   "metadata": {},
   "outputs": [
    {
     "name": "stdout",
     "output_type": "stream",
     "text": [
      "\n",
      "Final results: 19457 genes processed\n",
      "Genes with identical values in both groups: 131\n",
      "Raw significant (p<0.05): 1163\n",
      "FDR-corrected significant: 0\n"
     ]
    }
   ],
   "source": [
    "from statsmodels.stats.multitest import fdrcorrection  \n",
    "\n",
    "results = []\n",
    "\n",
    "for gene in gene_expr_filtered.index:\n",
    "    try:\n",
    "        # Extract values - handling both single values and arrays\n",
    "        pd_vals = []\n",
    "        for sample in pd_samples:\n",
    "            val = gene_expr_filtered.at[gene, sample]\n",
    "            if isinstance(val, (list, np.ndarray, pd.Series)):\n",
    "                pd_vals.extend([float(x) for x in val if pd.notna(x)])\n",
    "            elif pd.notna(val):\n",
    "                pd_vals.append(float(val))\n",
    "        \n",
    "        nonpd_vals = []\n",
    "        for sample in nonpd_samples:\n",
    "            val = gene_expr_filtered.at[gene, sample]\n",
    "            if isinstance(val, (list, np.ndarray, pd.Series)):\n",
    "                nonpd_vals.extend([float(x) for x in val if pd.notna(x)])\n",
    "            elif pd.notna(val):\n",
    "                nonpd_vals.append(float(val))\n",
    "        \n",
    "        # Include ALL genes regardless of variance\n",
    "        # Calculate basic statistics\n",
    "        mean_pd = np.mean(pd_vals) if pd_vals else np.nan\n",
    "        mean_nonpd = np.mean(nonpd_vals) if nonpd_vals else np.nan\n",
    "        \n",
    "        # Handle cases for t-test\n",
    "        if len(pd_vals) > 1 and len(nonpd_vals) > 1:\n",
    "            # Regular case with variance\n",
    "            t_stat, p_value = stats.ttest_ind(pd_vals, nonpd_vals, equal_var=False, nan_policy='omit')\n",
    "        elif len(pd_vals) >= 1 and len(nonpd_vals) >= 1:\n",
    "            # Fallback for small sample sizes - use difference in means\n",
    "            p_value = 0.5  # Neutral p-value\n",
    "            t_stat = (mean_pd - mean_nonpd) / (np.std(pd_vals + nonpd_vals, ddof=1) + 1e-10)\n",
    "        else:\n",
    "            # Missing data case\n",
    "            p_value = 1.0\n",
    "            t_stat = 0\n",
    "        \n",
    "        # Store all results\n",
    "        results.append({\n",
    "            'gene': gene,\n",
    "            'mean_PD': mean_pd,\n",
    "            'mean_nonPD': mean_nonpd,\n",
    "            'log2FC': mean_pd - mean_nonpd,\n",
    "            'p_value': p_value,\n",
    "            'significant': p_value < 0.05,\n",
    "            'n_PD': len(pd_vals),\n",
    "            'n_nonPD': len(nonpd_vals),\n",
    "            'PD_std': np.std(pd_vals, ddof=1) if len(pd_vals) > 1 else 0,\n",
    "            'nonPD_std': np.std(nonpd_vals, ddof=1) if len(nonpd_vals) > 1 else 0,\n",
    "            'all_identical': len(set(pd_vals + nonpd_vals)) == 1\n",
    "        })\n",
    "        \n",
    "    except Exception as e:\n",
    "        print(f\"Error processing {gene}: {str(e)}\")\n",
    "        results.append({\n",
    "            'gene': gene,\n",
    "            'mean_PD': np.nan,\n",
    "            'mean_nonPD': np.nan,\n",
    "            'log2FC': np.nan,\n",
    "            'p_value': 1.0,\n",
    "            'significant': False,\n",
    "            'n_PD': 0,\n",
    "            'n_nonPD': 0,\n",
    "            'PD_std': 0,\n",
    "            'nonPD_std': 0,\n",
    "            'all_identical': False\n",
    "        })\n",
    "        continue\n",
    "\n",
    "# Convert to DataFrame\n",
    "results_df = pd.DataFrame(results)\n",
    "\n",
    "# Multiple testing correction\n",
    "results_df['p_adj'] = fdrcorrection(results_df['p_value'])[1]\n",
    "results_df['significant_adj'] = results_df['p_adj'] < 0.05\n",
    "\n",
    "print(f\"\\nFinal results: {len(results_df)} genes processed\")\n",
    "print(f\"Genes with identical values in both groups: {results_df['all_identical'].sum()}\")\n",
    "print(f\"Raw significant (p<0.05): {results_df['significant'].sum()}\")\n",
    "print(f\"FDR-corrected significant: {results_df['significant_adj'].sum()}\")"
   ]
  },
  {
   "cell_type": "code",
   "execution_count": 24,
   "id": "426e7cc9",
   "metadata": {},
   "outputs": [
    {
     "name": "stdout",
     "output_type": "stream",
     "text": [
      "Genes with q<0.05: 0\n",
      "Empty DataFrame\n",
      "Columns: [gene, mean_PD, mean_nonPD, log2FC, p_value, n_PD, n_nonPD, q_value]\n",
      "Index: []\n"
     ]
    }
   ],
   "source": [
    "from statsmodels.stats.multitest import multipletests\n",
    "import numpy as np\n",
    "\n",
    "results = []\n",
    "\n",
    "for gene in gene_expr_filtered.index:\n",
    "    try:\n",
    "        # Extract values\n",
    "        pd_vals = [float(gene_expr_filtered.at[gene, s]) for s in pd_samples if pd.notna(gene_expr_filtered.at[gene, s])]\n",
    "        nonpd_vals = [float(gene_expr_filtered.at[gene, s]) for s in nonpd_samples if pd.notna(gene_expr_filtered.at[gene, s])]\n",
    "        \n",
    "        # Calculate statistics\n",
    "        mean_pd, mean_nonpd = np.mean(pd_vals), np.mean(nonpd_vals)\n",
    "        if len(pd_vals) > 1 and len(nonpd_vals) > 1:\n",
    "            _, p_value = stats.ttest_ind(pd_vals, nonpd_vals, equal_var=False)\n",
    "        else:\n",
    "            p_value = 1.0  # Conservative for small samples\n",
    "            \n",
    "        results.append({\n",
    "            'gene': gene,\n",
    "            'mean_PD': mean_pd,\n",
    "            'mean_nonPD': mean_nonpd,\n",
    "            'log2FC': mean_pd - mean_nonpd,\n",
    "            'p_value': p_value,\n",
    "            'n_PD': len(pd_vals),\n",
    "            'n_nonPD': len(nonpd_vals)\n",
    "        })\n",
    "    except:\n",
    "        continue\n",
    "\n",
    "# Convert to DataFrame\n",
    "results_df = pd.DataFrame(results).sort_values('p_value')\n",
    "\n",
    "# Apply Storey's q-value method (more powerful than BH)\n",
    "lambda_ = 0.5  # Tuning parameter\n",
    "pi0 = min(1, np.mean(np.array(results_df['p_value']) > lambda_) / (1 - lambda_))\n",
    "m = len(results_df)\n",
    "results_df['q_value'] = pi0 * m * results_df['p_value'] / np.arange(1, m+1)\n",
    "\n",
    "# Filter significant at q<0.05\n",
    "sig_genes = results_df[results_df['q_value'] < 0.05]\n",
    "\n",
    "print(f\"Genes with q<0.05: {len(sig_genes)}\")\n",
    "print(sig_genes.sort_values('p_value').head(10))"
   ]
  },
  {
   "cell_type": "code",
   "execution_count": 25,
   "id": "d4153bb3",
   "metadata": {},
   "outputs": [
    {
     "name": "stdout",
     "output_type": "stream",
     "text": [
      "Genes with p<0.05 and |log2FC|>1.0: 30\n",
      "           gene    log2FC   p_value  abs_log2FC   mean_PD  mean_nonPD\n",
      "14977  GOLGA6L4  1.154518  0.000268    1.154518  5.644915    4.490397\n",
      "17029    OR13C3  1.245539  0.001094    1.245539  1.339915    0.094376\n",
      "1902    SLC26A3  2.470223  0.001542    2.470223  6.578734    4.108511\n",
      "13610     HOXD8  1.111475  0.002476    1.111475  4.834633    3.723159\n",
      "19020     H2BC6 -1.003091  0.003010    1.003091  5.128004    6.131095\n",
      "17958      ORM1  1.653168  0.004339    1.653168  3.013909    1.360741\n",
      "14918     FAM3B -1.338454  0.004967    1.338454  1.008899    2.347353\n",
      "15357      CCIN  1.087430  0.005256    1.087430  1.782289    0.694859\n",
      "16367     H3C12 -1.351553  0.007475    1.351553  4.413766    5.765320\n",
      "12300     ADRB2  1.130277  0.008051    1.130277  5.166180    4.035903\n",
      "2785       AQP8  1.027191  0.009964    1.027191  1.525120    0.497929\n",
      "12247     VCX3A  1.613948  0.013661    1.613948  2.059873    0.445925\n",
      "5974     HOXD11  1.468986  0.014234    1.468986  4.214990    2.746005\n",
      "9704     MAGEC1  1.488530  0.014382    1.488530  1.643776    0.155246\n",
      "16099     HRCT1  1.074873  0.019739    1.074873  3.089913    2.015040\n",
      "4662     TSPAN1  1.134367  0.021163    1.134367  6.438916    5.304548\n",
      "14463     OR6T1  1.125582  0.024846    1.125582  1.527580    0.401999\n",
      "18125    PNMA6A  1.215894  0.028587    1.215894  2.032151    0.816257\n",
      "2000      NXPE1  1.355104  0.029141    1.355104  4.158001    2.802896\n",
      "18417     ADH1C  1.442916  0.030462    1.442916  5.967393    4.524477\n"
     ]
    }
   ],
   "source": [
    "results = []\n",
    "\n",
    "for gene in gene_expr_filtered.index:\n",
    "    try:\n",
    "        # Extract values\n",
    "        pd_vals = [float(gene_expr_filtered.at[gene, s]) for s in pd_samples if pd.notna(gene_expr_filtered.at[gene, s])]\n",
    "        nonpd_vals = [float(gene_expr_filtered.at[gene, s]) for s in nonpd_samples if pd.notna(gene_expr_filtered.at[gene, s])]\n",
    "        \n",
    "        # Calculate statistics\n",
    "        mean_pd, mean_nonpd = np.mean(pd_vals), np.mean(nonpd_vals)\n",
    "        log2fc = mean_pd - mean_nonpd\n",
    "        \n",
    "        if len(pd_vals) > 1 and len(nonpd_vals) > 1:\n",
    "            _, p_value = stats.ttest_ind(pd_vals, nonpd_vals, equal_var=False)\n",
    "        else:\n",
    "            p_value = 1.0  # Conservative for small samples\n",
    "            \n",
    "        results.append({\n",
    "            'gene': gene,\n",
    "            'log2FC': log2fc,\n",
    "            'p_value': p_value,\n",
    "            'abs_log2FC': abs(log2fc),\n",
    "            'mean_PD': mean_pd,\n",
    "            'mean_nonPD': mean_nonpd\n",
    "        })\n",
    "    except:\n",
    "        continue\n",
    "\n",
    "# Create DataFrame\n",
    "results_df = pd.DataFrame(results)\n",
    "\n",
    "# Filter significant genes (p<0.05 AND |log2FC|>threshold)\n",
    "fc_threshold = 1.0  # 2-fold change\n",
    "sig_genes = results_df[\n",
    "    (results_df['p_value'] < 0.05) & \n",
    "    (abs(results_df['log2FC']) > fc_threshold)\n",
    "].sort_values('p_value')\n",
    "\n",
    "print(f\"Genes with p<0.05 and |log2FC|>{fc_threshold}: {len(sig_genes)}\")\n",
    "print(sig_genes.head(20))"
   ]
  },
  {
   "cell_type": "code",
   "execution_count": 31,
   "id": "f0ca9304",
   "metadata": {},
   "outputs": [
    {
     "name": "stdout",
     "output_type": "stream",
     "text": [
      "\n",
      "MET Gene Expression:\n",
      "Log2FC (PD vs nonPD): -0.171\n",
      "p-value: 0.6644\n",
      "Mean Expression - PD: 5.144\n",
      "Mean Expression - nonPD: 5.314\n"
     ]
    },
    {
     "data": {
      "image/png": "[encoded data removed]",
      "text/plain": [
       "<Figure size 1000x400 with 1 Axes>"
      ]
     },
     "metadata": {},
     "output_type": "display_data"
    }
   ],
   "source": [
    "# Check MET expression specifically\n",
    "met_data = results_df[results_df['gene'] == 'MET']\n",
    "\n",
    "if not met_data.empty:\n",
    "    print(\"\\nMET Gene Expression:\")\n",
    "    print(f\"Log2FC (PD vs nonPD): {met_data['log2FC'].values[0]:.3f}\")\n",
    "    print(f\"p-value: {met_data['p_value'].values[0]:.4f}\")\n",
    "    print(f\"Mean Expression - PD: {met_data['mean_PD'].values[0]:.3f}\")\n",
    "    print(f\"Mean Expression - nonPD: {met_data['mean_nonPD'].values[0]:.3f}\")\n",
    "    \n",
    "    # Plot MET expression across samples\n",
    "    plt.figure(figsize=(10, 4))\n",
    "    pd_vals = [gene_expr_filtered.at['MET', s] for s in pd_samples if pd.notna(gene_expr_filtered.at['MET', s])]\n",
    "    nonpd_vals = [gene_expr_filtered.at['MET', s] for s in nonpd_samples if pd.notna(gene_expr_filtered.at['MET', s])]\n",
    "    \n",
    "    plt.scatter(['PD']*len(pd_vals), pd_vals, color='red', label='PD')\n",
    "    plt.scatter(['nonPD']*len(nonpd_vals), nonpd_vals, color='blue', label='nonPD')\n",
    "    plt.title(\"MET Expression Distribution\")\n",
    "    plt.ylabel(\"Expression Level\")\n",
    "    plt.legend()\n",
    "    plt.show()\n",
    "else:\n",
    "    print(\"MET gene not found in results\")"
   ]
  }
 ],
 "metadata": {
  "kernelspec": {
   "display_name": "venv",
   "language": "python",
   "name": "python3"
  },
  "language_info": {
   "codemirror_mode": {
    "name": "ipython",
    "version": 3
   },
   "file_extension": ".py",
   "mimetype": "text/x-python",
   "name": "python",
   "nbconvert_exporter": "python",
   "pygments_lexer": "ipython3",
   "version": "3.12.9"
  }
 },
 "nbformat": 4,
 "nbformat_minor": 5
}
