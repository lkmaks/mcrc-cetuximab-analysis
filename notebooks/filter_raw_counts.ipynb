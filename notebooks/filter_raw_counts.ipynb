{
 "cells": [
  {
   "cell_type": "markdown",
   "id": "ac5b110e",
   "metadata": {},
   "source": [
    "Load annotation and counts"
   ]
  },
  {
   "cell_type": "code",
   "execution_count": 6,
   "id": "419ee815",
   "metadata": {},
   "outputs": [
    {
     "name": "stdout",
     "output_type": "stream",
     "text": [
      "Filtered count matrix shape: (58735, 85)\n"
     ]
    }
   ],
   "source": [
    "import pandas as pd\n",
    "\n",
    "# Load annotation\n",
    "ann = pd.read_csv(\"../data/annotation_no_metastases.csv\")\n",
    "\n",
    "# Load raw counts\n",
    "raw_counts = pd.read_csv(\"../raw/GSE183984_ASAN_RNASEQ_raw_counts_ensg.csv\")\n",
    "\n",
    "ann[\"some_id\"] = ann[\"some_id\"].astype(str).str.strip()\n",
    "raw_counts.columns = raw_counts.columns.str.strip()\n",
    "\n",
    "# Ensure only sample columns that are present in raw_counts\n",
    "sample_ids = [col for col in ann[\"some_id\"] if col in raw_counts.columns]\n",
    "\n",
    "# Filter raw_counts to 85 samples\n",
    "filtered_counts = raw_counts[[\"name\"] + sample_ids]\n",
    "\n",
    "# Save filtered matrix (optional)\n",
    "filtered_counts.to_csv(\"../data/raw_counts_no_metastases.csv\", index=False)\n",
    "\n",
    "print(f\"Filtered count matrix shape: {filtered_counts.shape}\")\n"
   ]
  }
 ],
 "metadata": {
  "kernelspec": {
   "display_name": ".venv",
   "language": "python",
   "name": "python3"
  },
  "language_info": {
   "codemirror_mode": {
    "name": "ipython",
    "version": 3
   },
   "file_extension": ".py",
   "mimetype": "text/x-python",
   "name": "python",
   "nbconvert_exporter": "python",
   "pygments_lexer": "ipython3",
   "version": "3.12.0"
  }
 },
 "nbformat": 4,
 "nbformat_minor": 5
}
