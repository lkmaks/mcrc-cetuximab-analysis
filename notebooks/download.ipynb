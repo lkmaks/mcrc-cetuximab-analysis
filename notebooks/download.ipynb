{
 "cells": [
  {
   "metadata": {},
   "cell_type": "code",
   "outputs": [],
   "execution_count": null,
   "source": [
    "!mkdir ../raw\n",
    "!mkdir ../data"
   ],
   "id": "8a584f5f266f6a8d"
  },
  {
   "metadata": {},
   "cell_type": "markdown",
   "source": [
    "Files from https://www.ncbi.nlm.nih.gov/geo/download/?acc=GSE183984:\n",
    "\n",
    "(using only .soft and two expression files supplied by publisher)"
   ],
   "id": "1175763b7ba99b2a"
  },
  {
   "metadata": {
    "ExecuteTime": {
     "end_time": "2025-04-26T15:20:21.183170Z",
     "start_time": "2025-04-26T15:20:10.936705Z"
    }
   },
   "cell_type": "code",
   "source": [
    "!wget https://ftp.ncbi.nlm.nih.gov/geo/series/GSE183nnn/GSE183984/soft/GSE183984_family.soft.gz\n",
    "# !wget https://ftp.ncbi.nlm.nih.gov/geo/series/GSE183nnn/GSE183984/miniml/GSE183984_family.xml.tgz\n",
    "# !wget https://ftp.ncbi.nlm.nih.gov/geo/series/GSE183nnn/GSE183984/matrix/GSE183984_series_matrix.txt.gz\n",
    "!wget https://ftp.ncbi.nlm.nih.gov/geo/series/GSE183nnn/GSE183984/suppl/GSE183984_ASAN_RNASEQ_FPKM_ensg.csv.gz\n",
    "!wget https://ftp.ncbi.nlm.nih.gov/geo/series/GSE183nnn/GSE183984/suppl/GSE183984_ASAN_RNASEQ_raw_counts_ensg.csv.gz\n",
    "# !wget https://www.ncbi.nlm.nih.gov/geo/download/?type=rnaseq_counts&acc=GSE183984&format=file&file=GSE183984_raw_counts_GRCh38.p13_NCBI.tsv.gz\n",
    "# !wget https://www.ncbi.nlm.nih.gov/geo/download/?type=rnaseq_counts&acc=GSE183984&format=file&file=GSE183984_norm_counts_FPKM_GRCh38.p13_NCBI.tsv.gz\n",
    "# !wget https://www.ncbi.nlm.nih.gov/geo/download/?type=rnaseq_counts&acc=GSE183984&format=file&file=GSE183984_norm_counts_TPM_GRCh38.p13_NCBI.tsv.gz\n",
    "# !wget https://www.ncbi.nlm.nih.gov/geo/download/?format=file&type=rnaseq_counts&file=Human.GRCh38.p13.annot.tsv.gz\n",
    "\n",
    "!gunzip *.gz\n",
    "!mv *.csv ../raw\n",
    "!mv *.soft ../raw\n",
    "# !tar -xzf GSE183984_family.xml.tgz -C ../raw && rm GSE183984_family.xml.tgz \n",
    "# !mv *.xml ../raw\n",
    "# !mv *.txt ../raw\n",
    "# !mv *.tsv ../raw"
   ],
   "id": "20f400b98d68d9c9",
   "outputs": [
    {
     "name": "stdout",
     "output_type": "stream",
     "text": [
      "--2025-04-26 19:20:10--  https://ftp.ncbi.nlm.nih.gov/geo/series/GSE183nnn/GSE183984/soft/GSE183984_family.soft.gz\r\n",
      "Resolving ftp.ncbi.nlm.nih.gov (ftp.ncbi.nlm.nih.gov)... 130.14.250.13, 130.14.250.31, 130.14.250.7, ...\r\n",
      "Connecting to ftp.ncbi.nlm.nih.gov (ftp.ncbi.nlm.nih.gov)|130.14.250.13|:443... connected.\r\n",
      "HTTP request sent, awaiting response... 200 OK\r\n",
      "Length: 7650 (7.5K) [application/x-gzip]\r\n",
      "Saving to: ‘GSE183984_family.soft.gz’\r\n",
      "\r\n",
      "GSE183984_family.so 100%[===================>]   7.47K  --.-KB/s    in 0s      \r\n",
      "\r\n",
      "2025-04-26 19:20:11 (52.4 MB/s) - ‘GSE183984_family.soft.gz’ saved [7650/7650]\r\n",
      "\r\n",
      "--2025-04-26 19:20:12--  https://ftp.ncbi.nlm.nih.gov/geo/series/GSE183nnn/GSE183984/suppl/GSE183984_ASAN_RNASEQ_FPKM_ensg.csv.gz\r\n",
      "Resolving ftp.ncbi.nlm.nih.gov (ftp.ncbi.nlm.nih.gov)... 130.14.250.7, 130.14.250.10, 130.14.250.12, ...\r\n",
      "Connecting to ftp.ncbi.nlm.nih.gov (ftp.ncbi.nlm.nih.gov)|130.14.250.7|:443... connected.\r\n",
      "HTTP request sent, awaiting response... 200 OK\r\n",
      "Length: 24577585 (23M) [application/x-gzip]\r\n",
      "Saving to: ‘GSE183984_ASAN_RNASEQ_FPKM_ensg.csv.gz’\r\n",
      "\r\n",
      "GSE183984_ASAN_RNAS 100%[===================>]  23.44M  4.69MB/s    in 5.4s    \r\n",
      "\r\n",
      "2025-04-26 19:20:18 (4.38 MB/s) - ‘GSE183984_ASAN_RNASEQ_FPKM_ensg.csv.gz’ saved [24577585/24577585]\r\n",
      "\r\n",
      "--2025-04-26 19:20:18--  https://ftp.ncbi.nlm.nih.gov/geo/series/GSE183nnn/GSE183984/suppl/GSE183984_ASAN_RNASEQ_raw_counts_ensg.csv.gz\r\n",
      "Resolving ftp.ncbi.nlm.nih.gov (ftp.ncbi.nlm.nih.gov)... 130.14.250.12, 130.14.250.31, 130.14.250.11, ...\r\n",
      "Connecting to ftp.ncbi.nlm.nih.gov (ftp.ncbi.nlm.nih.gov)|130.14.250.12|:443... connected.\r\n",
      "HTTP request sent, awaiting response... 200 OK\r\n",
      "Length: 6256134 (6.0M) [application/x-gzip]\r\n",
      "Saving to: ‘GSE183984_ASAN_RNASEQ_raw_counts_ensg.csv.gz’\r\n",
      "\r\n",
      "GSE183984_ASAN_RNAS 100%[===================>]   5.97M  4.66MB/s    in 1.3s    \r\n",
      "\r\n",
      "2025-04-26 19:20:19 (4.66 MB/s) - ‘GSE183984_ASAN_RNASEQ_raw_counts_ensg.csv.gz’ saved [6256134/6256134]\r\n",
      "\r\n"
     ]
    }
   ],
   "execution_count": 3
  },
  {
   "metadata": {},
   "cell_type": "markdown",
   "source": "Genome information (maybe should use another file, for now this):",
   "id": "f15672a712acebbe"
  },
  {
   "metadata": {
    "ExecuteTime": {
     "end_time": "2025-04-26T15:31:49.126999Z",
     "start_time": "2025-04-26T15:31:33.659362Z"
    }
   },
   "cell_type": "code",
   "source": [
    "!wget https://ftp.ensembl.org/pub/current_gtf/homo_sapiens/Homo_sapiens.GRCh38.113.gtf.gz\n",
    "!gzip -d Homo_sapiens.GRCh38.113.gtf.gz\n",
    "!mv Homo_sapiens.GRCh38.113.gtf ../data/Homo_sapiens.GRCh38.113.gtf"
   ],
   "id": "3bd2ce5faad1d1b9",
   "outputs": [
    {
     "name": "stdout",
     "output_type": "stream",
     "text": [
      "--2025-04-26 19:31:33--  https://ftp.ensembl.org/pub/current_gtf/homo_sapiens/Homo_sapiens.GRCh38.113.gtf.gz\r\n",
      "Resolving ftp.ensembl.org (ftp.ensembl.org)... 193.62.193.169\r\n",
      "Connecting to ftp.ensembl.org (ftp.ensembl.org)|193.62.193.169|:443... connected.\r\n",
      "HTTP request sent, awaiting response... 200 OK\r\n",
      "Length: 64141785 (61M) [application/x-gzip]\r\n",
      "Saving to: ‘Homo_sapiens.GRCh38.113.gtf.gz’\r\n",
      "\r\n",
      "Homo_sapiens.GRCh38 100%[===================>]  61.17M  7.34MB/s    in 7.6s    \r\n",
      "\r\n",
      "2025-04-26 19:31:41 (8.10 MB/s) - ‘Homo_sapiens.GRCh38.113.gtf.gz’ saved [64141785/64141785]\r\n",
      "\r\n"
     ]
    }
   ],
   "execution_count": 5
  },
  {
   "metadata": {},
   "cell_type": "code",
   "outputs": [],
   "execution_count": null,
   "source": [
    "\n",
    "\n",
    "\n"
   ],
   "id": "885800a10aef0fa8"
  }
 ],
 "metadata": {
  "kernelspec": {
   "display_name": "Python 3",
   "language": "python",
   "name": "python3"
  },
  "language_info": {
   "codemirror_mode": {
    "name": "ipython",
    "version": 2
   },
   "file_extension": ".py",
   "mimetype": "text/x-python",
   "name": "python",
   "nbconvert_exporter": "python",
   "pygments_lexer": "ipython2",
   "version": "2.7.6"
  }
 },
 "nbformat": 4,
 "nbformat_minor": 5
}
