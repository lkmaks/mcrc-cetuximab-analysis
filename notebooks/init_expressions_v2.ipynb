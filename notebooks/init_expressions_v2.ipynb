{
 "cells": [
  {
   "cell_type": "markdown",
   "id": "ca3ebd1aa600a30b",
   "metadata": {},
   "source": [
    "# Imports"
   ]
  },
  {
   "cell_type": "code",
   "execution_count": 1,
   "id": "35935b4b",
   "metadata": {
    "ExecuteTime": {
     "end_time": "2025-04-26T16:24:53.382822Z",
     "start_time": "2025-04-26T16:24:53.199502Z"
    }
   },
   "outputs": [
    {
     "data": {
      "text/plain": [
       "'/home/max/mcrc-cetuximab-analysis/notebooks'"
      ]
     },
     "execution_count": 1,
     "metadata": {},
     "output_type": "execute_result"
    }
   ],
   "source": [
    "import pandas as pd\n",
    "import matplotlib.pyplot as plt\n",
    "import numpy as np\n",
    "import os\n",
    "import GEOparse as Geo\n",
    "import seaborn as sns\n",
    "from pandas.core.ops import comp_method_OBJECT_ARRAY\n",
    "from collections import Counter\n",
    "\n",
    "# from sanbomics import annotate\n",
    "os.getcwd()"
   ]
  },
  {
   "cell_type": "code",
   "execution_count": 2,
   "id": "d5a64e2e-52aa-4468-90eb-dcdaa34c5632",
   "metadata": {},
   "outputs": [
    {
     "name": "stdout",
     "output_type": "stream",
     "text": [
      "(113, 58735)\n",
      "(113, 58735)\n",
      "set()\n",
      "set()\n",
      "58735 58735\n",
      "58735 58735\n"
     ]
    },
    {
     "data": {
      "text/plain": [
       "Counter({'G': 58735})"
      ]
     },
     "execution_count": 2,
     "metadata": {},
     "output_type": "execute_result"
    }
   ],
   "source": [
    "fpkms_df = pd.read_csv(\"../raw/GSE183984_ASAN_RNASEQ_FPKM_ensg.csv\", index_col=0).T\n",
    "raw_counts_df = pd.read_csv(\"../raw/GSE183984_ASAN_RNASEQ_raw_counts_ensg.csv\", index_col=0).T\n",
    "\n",
    "print(fpkms_df.shape)\n",
    "print(raw_counts_df.shape)\n",
    "\n",
    "# columns are the same in TPM and FPKM\n",
    "print(set(fpkms_df.columns) - set(raw_counts_df.columns))\n",
    "print(set(raw_counts_df.columns) - set(fpkms_df.columns))\n",
    "\n",
    "# no duplicate column names\n",
    "print(len(fpkms_df.columns), len(set(fpkms_df.columns)))\n",
    "print(len(raw_counts_df.columns), len(set(raw_counts_df.columns)))\n",
    "\n",
    "data_ensemble_genes = list(fpkms_df.columns)\n",
    "\n",
    "# no transcript level distinction\n",
    "cnt = Counter()\n",
    "for gene in data_ensemble_genes:\n",
    "    cnt[gene[3]] += 1\n",
    "cnt"
   ]
  },
  {
   "cell_type": "code",
   "execution_count": 3,
   "id": "2817a12d-9527-48bf-97b4-45af8b14a2bf",
   "metadata": {},
   "outputs": [
    {
     "data": {
      "text/plain": [
       "18R176_0020    1000000.0\n",
       "18R177_0021    1000000.0\n",
       "18R178_0022    1000000.0\n",
       "18R296_0008    1000000.0\n",
       "18R301_0002    1000000.0\n",
       "                 ...    \n",
       "18R309_0015    1000000.0\n",
       "18R310_0016    1000000.0\n",
       "18R311_0018    1000000.0\n",
       "18R318_0005    1000000.0\n",
       "18R319_0014    1000000.0\n",
       "Length: 113, dtype: float64"
      ]
     },
     "execution_count": 3,
     "metadata": {},
     "output_type": "execute_result"
    }
   ],
   "source": [
    "tpms_df = fpkms_df.T.div(fpkms_df.sum(axis=1)).T * 10 ** 6\n",
    "tpms_df.sum(axis=1)"
   ]
  },
  {
   "cell_type": "code",
   "execution_count": 4,
   "id": "76ba48eb-84a9-4866-80e6-4d2fd8a232f4",
   "metadata": {},
   "outputs": [],
   "source": [
    "def parse_gtf(gtf_path):\n",
    "    ensemble_gene_id_to_length = Counter()\n",
    "    ensemble_gene_id_to_version = dict()\n",
    "    ensemble_gene_id_to_hgnc = dict()\n",
    "    ensemble_gene_id_to_biotype = dict()\n",
    "    with open(gtf_path, \"r\") as f:\n",
    "        for li, line in enumerate(f):\n",
    "            # print(line)\n",
    "            if line.startswith(\"#\"):\n",
    "                continue\n",
    "            \n",
    "            parts = line.strip().split()\n",
    "            chromosome = parts[0]\n",
    "            entry_source_0 = parts[1]\n",
    "            entry_type = parts[2]\n",
    "            start = int(parts[3])\n",
    "            end = int(parts[4])\n",
    "            info = dict()\n",
    "            for i in range(8, len(parts) - 1, 2):\n",
    "                key = parts[i]\n",
    "                val = parts[i + 1][1:-2]\n",
    "                if key == 'gene_name' and val == 'havana':\n",
    "                    print(key, val, i)\n",
    "                info[key] = val\n",
    "            \n",
    "            if entry_type == 'gene' and 'gene_id' in info and 'gene_name' in info:\n",
    "                ensemble_gene_id_to_hgnc[info['gene_id']] = info['gene_name']\n",
    "                if 'gene_biotype' in info:\n",
    "                    ensemble_gene_id_to_biotype[info['gene_id']] = info['gene_biotype']\n",
    "            elif entry_type == 'exon':\n",
    "                version = info['gene_version']\n",
    "                ensemble_gene_id = info['gene_id']\n",
    "                ensemble_gene_id_to_version[ensemble_gene_id] = version\n",
    "                ensemble_gene_id_to_length[ensemble_gene_id] += int(parts[4]) - int(parts[3]) + 1\n",
    "                    \n",
    "    return ensemble_gene_id_to_hgnc, ensemble_gene_id_to_length, ensemble_gene_id_to_version, ensemble_gene_id_to_biotype\n",
    "\n",
    "ensemble_gene_id_to_hgnc, ensemble_gene_id_to_length, \\\n",
    " ensemble_gene_id_to_version, ensemble_gene_id_to_biotype = parse_gtf('../data/Homo_sapiens.GRCh38.113.gtf')"
   ]
  },
  {
   "cell_type": "code",
   "execution_count": 5,
   "id": "af8740c8-958a-43fb-aab5-9ffaf9ea1bfc",
   "metadata": {},
   "outputs": [
    {
     "name": "stdout",
     "output_type": "stream",
     "text": [
      "42745\n",
      "42745\n",
      "58735\n",
      "597\n",
      "16587\n"
     ]
    },
    {
     "data": {
      "text/plain": [
       "42148"
      ]
     },
     "execution_count": 5,
     "metadata": {},
     "output_type": "execute_result"
    }
   ],
   "source": [
    "print(len(ensemble_gene_id_to_hgnc.keys()))\n",
    "print(len(ensemble_gene_id_to_biotype))\n",
    "print(len(data_ensemble_genes))\n",
    "print(len(set(ensemble_gene_id_to_hgnc.keys()) - set(data_ensemble_genes)))\n",
    "print(len(set(data_ensemble_genes) - set(ensemble_gene_id_to_hgnc.keys())))\n",
    "\n",
    "ensemble_genes_common = list(set(data_ensemble_genes).intersection(ensemble_gene_id_to_hgnc.keys()))\n",
    "len(ensemble_genes_common)"
   ]
  },
  {
   "cell_type": "code",
   "execution_count": 6,
   "id": "d063a795-f897-4c0a-8a6b-05f0a7e5fa5d",
   "metadata": {},
   "outputs": [],
   "source": [
    "from collections import Counter\n",
    "\n",
    "cnt = Counter()\n",
    "hgnc_to_ensemble_set = dict()\n",
    "# for key in ensemble_gene_id_to_hgnc:\n",
    "for key in ensemble_genes_common:\n",
    "    hgnc = ensemble_gene_id_to_hgnc[key]\n",
    "    cnt[hgnc] += 1\n",
    "    if cnt[hgnc] == 1:\n",
    "        hgnc_to_ensemble_set[hgnc] = {key}\n",
    "    else:\n",
    "        hgnc_to_ensemble_set[hgnc].add(key)\n"
   ]
  },
  {
   "cell_type": "code",
   "execution_count": 7,
   "id": "dad76ab0-a335-487e-9351-828e5063f524",
   "metadata": {},
   "outputs": [
    {
     "name": "stdout",
     "output_type": "stream",
     "text": [
      "Excess genes:  22540\n",
      "Missing genes from BG list:  1657\n",
      "Common genes:  18405\n"
     ]
    }
   ],
   "source": [
    "parsed_hgncs = set(hgnc_to_ensemble_set.keys())\n",
    "bg_hgncs = set(open('../data/gnames.txt').read().strip().split())\n",
    "\n",
    "print('Excess genes: ', len(parsed_hgncs - bg_hgncs))\n",
    "print('Missing genes from BG list: ', len(bg_hgncs - parsed_hgncs))\n",
    "\n",
    "common_hgncs = parsed_hgncs.intersection(bg_hgncs)\n",
    "print('Common genes: ', len(common_hgncs))"
   ]
  },
  {
   "cell_type": "code",
   "execution_count": 8,
   "id": "2a2615cf-4b1e-4c59-90e1-264d4123a8af",
   "metadata": {},
   "outputs": [
    {
     "name": "stdout",
     "output_type": "stream",
     "text": [
      "ELFN2\n",
      "[('ENSG00000243902', 5718, 'lncRNA', '7'), ('ENSG00000166897', 11037, 'protein_coding', '16')]\n",
      "SFTA3\n",
      "[('ENSG00000257520', 2780, 'protein_coding', '2'), ('ENSG00000229415', 12669, 'lncRNA', '11')]\n",
      "GOLGA8M\n",
      "[('ENSG00000261480', 557, 'lncRNA', '1'), ('ENSG00000188626', 5932, 'protein_coding', '7')]\n",
      "C4orf36\n",
      "[('ENSG00000163633', 4881, 'protein_coding', '12'), ('ENSG00000285458', 3014, 'protein_coding', '1')]\n",
      "PINX1\n",
      "[('ENSG00000254093', 6770, 'protein_coding', '9'), ('ENSG00000258724', 1753, 'protein_coding', '1')]\n",
      "POLR2J3\n",
      "[('ENSG00000168255', 14603, 'protein_coding', '20'), ('ENSG00000285437', 10662, 'protein_coding', '2')]\n",
      "PDE4C\n",
      "[('ENSG00000105650', 27984, 'protein_coding', '23'), ('ENSG00000285188', 5979, 'protein_coding', '1')]\n",
      "MATR3\n",
      "[('ENSG00000015479', 41180, 'protein_coding', '20'), ('ENSG00000280987', 23097, 'protein_coding', '4')]\n",
      "PDE8B\n",
      "[('ENSG00000284762', 3397, 'protein_coding', '1'), ('ENSG00000113231', 21876, 'protein_coding', '14')]\n",
      "SIGLEC5\n",
      "[('ENSG00000268500', 5713, 'protein_coding', '8'), ('ENSG00000105501', 553, 'lncRNA', '13')]\n",
      "SPATA13\n",
      "[('ENSG00000182957', 41488, 'protein_coding', '16'), ('ENSG00000228741', 1721, 'lncRNA', '2')]\n"
     ]
    }
   ],
   "source": [
    "for key in common_hgncs:\n",
    "    if len(hgnc_to_ensemble_set[key]) > 1 and key is not None:\n",
    "        print(key)\n",
    "        print([(egene, ensemble_gene_id_to_length[egene], ensemble_gene_id_to_biotype[egene], ensemble_gene_id_to_version[egene]) for egene in hgnc_to_ensemble_set[key]])"
   ]
  },
  {
   "cell_type": "code",
   "execution_count": 9,
   "id": "5b2f8712-f96a-4b8a-a224-023a8b02c627",
   "metadata": {},
   "outputs": [
    {
     "name": "stdout",
     "output_type": "stream",
     "text": [
      "Initial df cols:  58735\n",
      "After dropping cols not annotated with HGNC name in GTF:  42148\n",
      "After renaming to HGNC (and deleting non-protein coding egenes):  19394\n",
      "After summing columns with the same HGNC name:  19388\n",
      "Initial df cols:  58735\n",
      "After dropping cols not annotated with HGNC name in GTF:  42148\n",
      "After renaming to HGNC (and deleting non-protein coding egenes):  19394\n",
      "After summing columns with the same HGNC name:  19388\n",
      "Initial df cols:  58735\n",
      "After dropping cols not annotated with HGNC name in GTF:  42148\n",
      "After renaming to HGNC (and deleting non-protein coding egenes):  19394\n",
      "After summing columns with the same HGNC name:  19388\n"
     ]
    }
   ],
   "source": [
    "def process_columns(df, shrink_to_bg=False):\n",
    "    print('Initial df cols: ', len(df.columns))\n",
    "    df = df.drop(columns=list(set(df.columns) - set(ensemble_gene_id_to_hgnc.keys())))\n",
    "    print('After dropping cols not annotated with HGNC name in GTF: ', len(df.columns))\n",
    "    \n",
    "    renamer = dict()\n",
    "    for egene in ensemble_gene_id_to_hgnc:\n",
    "        if ensemble_gene_id_to_biotype[egene] == 'protein_coding':\n",
    "            renamer[egene] = ensemble_gene_id_to_hgnc[egene]\n",
    "\n",
    "    df = df.rename(columns=renamer)\n",
    "    df = df.drop(columns=[col for col in df.columns if col.startswith('ENSG')])\n",
    "    \n",
    "    print('After renaming to HGNC (and deleting non-protein coding egenes): ', len(df.columns))\n",
    "\n",
    "    if shrink_to_bg:\n",
    "        df = df[list(common_hgncs.intersection(df.columns))]\n",
    "        print('After shrinking to BG HGNCs that are in the table: ', len(df.columns))\n",
    "    \n",
    "    mask = df.columns.duplicated()\n",
    "    for i in range(len(mask)):\n",
    "        if mask[i]:\n",
    "            j = 0ghbx\n",
    "            while df.columns[j] != df.columns[i]:\n",
    "                j += 1\n",
    "            df[df.columns[j]] += df[df.columns[i]]\n",
    "\n",
    "    df = df.loc[:,~df.columns.duplicated()]\n",
    "\n",
    "    print('After summing columns with the same HGNC name: ', len(df.columns))\n",
    "\n",
    "    return df\n",
    "\n",
    "raw_counts_df = process_columns(raw_counts_df)\n",
    "fpkms_df = process_columns(fpkms_df)\n",
    "tpms_df = process_columns(tpms_df)"
   ]
  },
  {
   "cell_type": "code",
   "execution_count": 10,
   "id": "e85ca1ad",
   "metadata": {
    "ExecuteTime": {
     "end_time": "2025-04-26T16:24:55.403183Z",
     "start_time": "2025-04-26T16:24:53.649993Z"
    }
   },
   "outputs": [
    {
     "name": "stdout",
     "output_type": "stream",
     "text": [
      "18R176_0020    299464.863171\n",
      "18R177_0021    572690.867613\n",
      "18R178_0022    588543.720858\n",
      "18R296_0008    400006.551821\n",
      "18R301_0002    361552.019798\n",
      "                   ...      \n",
      "18R309_0015    687089.826225\n",
      "18R310_0016    334029.803449\n",
      "18R311_0018    509640.971874\n",
      "18R318_0005    257000.331800\n",
      "18R319_0014    286719.825996\n",
      "Length: 113, dtype: float64\n",
      "18R176_0020    1000000.0\n",
      "18R177_0021    1000000.0\n",
      "18R178_0022    1000000.0\n",
      "18R296_0008    1000000.0\n",
      "18R301_0002    1000000.0\n",
      "                 ...    \n",
      "18R309_0015    1000000.0\n",
      "18R310_0016    1000000.0\n",
      "18R311_0018    1000000.0\n",
      "18R318_0005    1000000.0\n",
      "18R319_0014    1000000.0\n",
      "Length: 113, dtype: float64\n"
     ]
    }
   ],
   "source": [
    "print(tpms_df.sum(axis=1))\n",
    "tpms_df = tpms_df.T.div(tpms_df.sum(axis=1)).T * 10 ** 6\n",
    "print(tpms_df.sum(axis=1))"
   ]
  },
  {
   "cell_type": "code",
   "execution_count": 11,
   "id": "ca09fb03-d36c-4afa-a70d-69d9b1ea24b6",
   "metadata": {},
   "outputs": [
    {
     "data": {
      "text/plain": [
       "(0.0, 1000.0)"
      ]
     },
     "execution_count": 11,
     "metadata": {},
     "output_type": "execute_result"
    },
    {
     "data": {
      "image/png": "[encoded data removed]",
      "text/plain": [
       "<Figure size 1600x900 with 1 Axes>"
      ]
     },
     "metadata": {},
     "output_type": "display_data"
    }
   ],
   "source": [
    "log_tpms_df = tpms_df.apply(lambda x: np.log(1 + x))\n",
    "plt.figure(figsize=(16, 9))\n",
    "sns.histplot(log_tpms_df.iloc[1])\n",
    "plt.ylim(0, 1000)"
   ]
  },
  {
   "cell_type": "code",
   "execution_count": 12,
   "id": "0553eb35-6a2a-46cd-b0ae-55f11f70a88e",
   "metadata": {},
   "outputs": [
    {
     "data": {
      "text/plain": [
       "(0.0, 1000.0)"
      ]
     },
     "execution_count": 12,
     "metadata": {},
     "output_type": "execute_result"
    },
    {
     "data": {
      "image/png": "[encoded data removed]",
      "text/plain": [
       "<Figure size 1600x900 with 1 Axes>"
      ]
     },
     "metadata": {},
     "output_type": "display_data"
    }
   ],
   "source": [
    "plt.figure(figsize=(16, 9))\n",
    "sns.histplot(log_tpms_df.mean())\n",
    "plt.ylim(0, 1000)"
   ]
  },
  {
   "cell_type": "code",
   "execution_count": null,
   "id": "4a8fec5b-7d86-4ad2-95ec-a1b0f0cb529d",
   "metadata": {},
   "outputs": [],
   "source": []
  },
  {
   "cell_type": "code",
   "execution_count": null,
   "id": "0c46a367-811c-4531-8a92-4e6094f225ed",
   "metadata": {},
   "outputs": [],
   "source": []
  }
 ],
 "metadata": {
  "kernelspec": {
   "display_name": "Python 3 (ipykernel)",
   "language": "python",
   "name": "python3"
  },
  "language_info": {
   "codemirror_mode": {
    "name": "ipython",
    "version": 3
   },
   "file_extension": ".py",
   "mimetype": "text/x-python",
   "name": "python",
   "nbconvert_exporter": "python",
   "pygments_lexer": "ipython3",
   "version": "3.12.0"
  }
 },
 "nbformat": 4,
 "nbformat_minor": 5
}
