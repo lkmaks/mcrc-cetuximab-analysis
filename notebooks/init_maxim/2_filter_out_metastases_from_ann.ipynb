{
 "cells": [
  {
   "cell_type": "markdown",
   "id": "b391c7af",
   "metadata": {},
   "source": [
    "## Filtering out all samples marked as metastases from annotation"
   ]
  },
  {
   "metadata": {
    "ExecuteTime": {
     "end_time": "2025-05-01T18:57:41.199884Z",
     "start_time": "2025-05-01T18:57:41.180552Z"
    }
   },
   "cell_type": "code",
   "source": [
    "import os\n",
    "os.chdir('../../')\n",
    "os.getcwd()"
   ],
   "id": "c75329ab94742051",
   "outputs": [
    {
     "data": {
      "text/plain": [
       "'/home/max/mcrc-cetuximab-analysis'"
      ]
     },
     "execution_count": 1,
     "metadata": {},
     "output_type": "execute_result"
    }
   ],
   "execution_count": 1
  },
  {
   "cell_type": "code",
   "id": "e6485899",
   "metadata": {
    "ExecuteTime": {
     "end_time": "2025-05-01T18:57:55.628702Z",
     "start_time": "2025-05-01T18:57:55.614012Z"
    }
   },
   "source": [
    "import pandas as pd\n",
    "\n",
    "# Load the annotation CSV\n",
    "df = pd.read_csv(\"data/useful_ann.csv\")\n",
    "\n",
    "# Check unique tissue types (optional)\n",
    "# print(df[\"characteristics_ch1\"].unique())\n",
    "\n",
    "# Filter out any row where 'characteristics_ch1' contains 'metastasis' (case-insensitive)\n",
    "filtered_df = df[~df[\"tissue\"].str.contains(\"metastases\", case=False, na=False)]\n",
    "\n",
    "# Save the filtered DataFrame\n",
    "filtered_df.to_csv(\"data/annotation_no_metastases.csv\", index=False)\n",
    "\n",
    "# Optional: check how many samples remain\n",
    "print(f\"Filtered annotation saved. Remaining samples: {len(filtered_df)}\")"
   ],
   "outputs": [
    {
     "name": "stdout",
     "output_type": "stream",
     "text": [
      "Filtered annotation saved. Remaining samples: 85\n"
     ]
    }
   ],
   "execution_count": 4
  },
  {
   "metadata": {
    "ExecuteTime": {
     "end_time": "2025-05-01T18:58:02.798425Z",
     "start_time": "2025-05-01T18:58:02.778624Z"
    }
   },
   "cell_type": "code",
   "source": "filtered_df['patient_id'].value_counts().sort_index()",
   "id": "39bcf889a5fca294",
   "outputs": [
    {
     "data": {
      "text/plain": [
       "patient_id\n",
       "1     3\n",
       "2     3\n",
       "3     1\n",
       "4     3\n",
       "5     4\n",
       "6     3\n",
       "7     1\n",
       "8     3\n",
       "9     1\n",
       "10    3\n",
       "11    2\n",
       "12    3\n",
       "13    3\n",
       "14    3\n",
       "15    4\n",
       "16    2\n",
       "17    1\n",
       "18    1\n",
       "19    1\n",
       "20    2\n",
       "21    3\n",
       "22    1\n",
       "23    1\n",
       "24    1\n",
       "26    1\n",
       "27    1\n",
       "28    2\n",
       "29    2\n",
       "30    1\n",
       "31    1\n",
       "32    2\n",
       "33    1\n",
       "34    1\n",
       "35    1\n",
       "36    1\n",
       "37    1\n",
       "38    1\n",
       "40    1\n",
       "41    1\n",
       "42    1\n",
       "43    1\n",
       "44    1\n",
       "45    1\n",
       "46    1\n",
       "47    1\n",
       "48    1\n",
       "49    1\n",
       "50    1\n",
       "51    1\n",
       "52    1\n",
       "54    1\n",
       "55    1\n",
       "61    1\n",
       "Name: count, dtype: int64"
      ]
     },
     "execution_count": 6,
     "metadata": {},
     "output_type": "execute_result"
    }
   ],
   "execution_count": 6
  },
  {
   "metadata": {},
   "cell_type": "code",
   "outputs": [],
   "execution_count": null,
   "source": "",
   "id": "6e5a3aa8a78e0f22"
  }
 ],
 "metadata": {
  "kernelspec": {
   "display_name": ".venv",
   "language": "python",
   "name": "python3"
  },
  "language_info": {
   "codemirror_mode": {
    "name": "ipython",
    "version": 3
   },
   "file_extension": ".py",
   "mimetype": "text/x-python",
   "name": "python",
   "nbconvert_exporter": "python",
   "pygments_lexer": "ipython3",
   "version": "3.12.0"
  }
 },
 "nbformat": 4,
 "nbformat_minor": 5
}
