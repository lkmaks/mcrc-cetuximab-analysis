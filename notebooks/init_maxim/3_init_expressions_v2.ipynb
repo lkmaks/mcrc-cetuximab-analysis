{
 "cells": [
  {
   "cell_type": "markdown",
   "id": "ca3ebd1aa600a30b",
   "metadata": {},
   "source": [
    "# Imports"
   ]
  },
  {
   "cell_type": "code",
   "id": "35935b4b",
   "metadata": {
    "ExecuteTime": {
     "end_time": "2025-05-02T09:56:54.955650Z",
     "start_time": "2025-05-02T09:56:54.792493Z"
    }
   },
   "source": [
    "import pandas as pd\n",
    "import matplotlib.pyplot as plt\n",
    "import numpy as np\n",
    "import os\n",
    "import GEOparse as Geo\n",
    "import seaborn as sns\n",
    "from pandas.core.ops import comp_method_OBJECT_ARRAY\n",
    "from collections import Counter\n",
    "\n",
    "os.chdir('../../')\n",
    "os.getcwd()"
   ],
   "outputs": [
    {
     "data": {
      "text/plain": [
       "'/home/max/mcrc-cetuximab-analysis'"
      ]
     },
     "execution_count": 1,
     "metadata": {},
     "output_type": "execute_result"
    }
   ],
   "execution_count": 1
  },
  {
   "cell_type": "code",
   "id": "d5a64e2e-52aa-4468-90eb-dcdaa34c5632",
   "metadata": {
    "ExecuteTime": {
     "end_time": "2025-05-02T09:56:56.796739Z",
     "start_time": "2025-05-02T09:56:55.223144Z"
    }
   },
   "source": [
    "fpkms_df = pd.read_csv(\"raw/GSE183984_ASAN_RNASEQ_FPKM_ensg.csv\", index_col=0).T\n",
    "raw_counts_df = pd.read_csv(\"raw/GSE183984_ASAN_RNASEQ_raw_counts_ensg.csv\", index_col=0).T\n",
    "\n",
    "print(fpkms_df.shape)\n",
    "print(raw_counts_df.shape)\n",
    "\n",
    "# columns are the same in TPM and FPKM\n",
    "print(set(fpkms_df.columns) - set(raw_counts_df.columns))\n",
    "print(set(raw_counts_df.columns) - set(fpkms_df.columns))\n",
    "\n",
    "# no duplicate column names\n",
    "print(len(fpkms_df.columns), len(set(fpkms_df.columns)))\n",
    "print(len(raw_counts_df.columns), len(set(raw_counts_df.columns)))\n",
    "\n",
    "data_ensemble_genes = list(fpkms_df.columns)\n",
    "\n",
    "# no transcript level distinction\n",
    "cnt = Counter()\n",
    "for gene in data_ensemble_genes:\n",
    "    cnt[gene[3]] += 1\n",
    "cnt"
   ],
   "outputs": [
    {
     "name": "stdout",
     "output_type": "stream",
     "text": [
      "(113, 58735)\n",
      "(113, 58735)\n",
      "set()\n",
      "set()\n",
      "58735 58735\n",
      "58735 58735\n"
     ]
    },
    {
     "data": {
      "text/plain": [
       "Counter({'G': 58735})"
      ]
     },
     "execution_count": 2,
     "metadata": {},
     "output_type": "execute_result"
    }
   ],
   "execution_count": 2
  },
  {
   "cell_type": "code",
   "id": "2817a12d-9527-48bf-97b4-45af8b14a2bf",
   "metadata": {
    "ExecuteTime": {
     "end_time": "2025-05-02T09:57:53.815813Z",
     "start_time": "2025-05-02T09:57:53.671844Z"
    }
   },
   "source": [
    "tpms_df = fpkms_df.T.div(fpkms_df.sum(axis=1)).T * 10 ** 6\n",
    "tpms_df.sum(axis=1)"
   ],
   "outputs": [
    {
     "data": {
      "text/plain": [
       "18R176_0020    1000000.0\n",
       "18R177_0021    1000000.0\n",
       "18R178_0022    1000000.0\n",
       "18R296_0008    1000000.0\n",
       "18R301_0002    1000000.0\n",
       "                 ...    \n",
       "18R309_0015    1000000.0\n",
       "18R310_0016    1000000.0\n",
       "18R311_0018    1000000.0\n",
       "18R318_0005    1000000.0\n",
       "18R319_0014    1000000.0\n",
       "Length: 113, dtype: float64"
      ]
     },
     "execution_count": 5,
     "metadata": {},
     "output_type": "execute_result"
    }
   ],
   "execution_count": 5
  },
  {
   "cell_type": "code",
   "id": "76ba48eb-84a9-4866-80e6-4d2fd8a232f4",
   "metadata": {
    "ExecuteTime": {
     "end_time": "2025-05-02T09:58:53.850651Z",
     "start_time": "2025-05-02T09:57:53.873230Z"
    }
   },
   "source": [
    "def parse_gtf(gtf_path):\n",
    "    ensemble_gene_id_to_length = Counter()\n",
    "    ensemble_gene_id_to_version = dict()\n",
    "    ensemble_gene_id_to_hgnc = dict()\n",
    "    ensemble_gene_id_to_biotype = dict()\n",
    "    with open(gtf_path, \"r\") as f:\n",
    "        for li, line in enumerate(f):\n",
    "            # print(line)\n",
    "            if line.startswith(\"#\"):\n",
    "                continue\n",
    "            \n",
    "            parts = line.strip().split()\n",
    "            chromosome = parts[0]\n",
    "            entry_source_0 = parts[1]\n",
    "            entry_type = parts[2]\n",
    "            start = int(parts[3])\n",
    "            end = int(parts[4])\n",
    "            info = dict()\n",
    "            for i in range(8, len(parts) - 1, 2):\n",
    "                key = parts[i]\n",
    "                val = parts[i + 1][1:-2]\n",
    "                if key == 'gene_name' and val == 'havana':\n",
    "                    print(key, val, i)\n",
    "                info[key] = val\n",
    "            \n",
    "            if entry_type == 'gene' and 'gene_id' in info and 'gene_name' in info:\n",
    "                ensemble_gene_id_to_hgnc[info['gene_id']] = info['gene_name']\n",
    "                if 'gene_biotype' in info:\n",
    "                    ensemble_gene_id_to_biotype[info['gene_id']] = info['gene_biotype']\n",
    "            elif entry_type == 'exon':\n",
    "                version = info['gene_version']\n",
    "                ensemble_gene_id = info['gene_id']\n",
    "                ensemble_gene_id_to_version[ensemble_gene_id] = version\n",
    "                ensemble_gene_id_to_length[ensemble_gene_id] += int(parts[4]) - int(parts[3]) + 1\n",
    "                    \n",
    "    return ensemble_gene_id_to_hgnc, ensemble_gene_id_to_length, ensemble_gene_id_to_version, ensemble_gene_id_to_biotype\n",
    "\n",
    "ensemble_gene_id_to_hgnc, ensemble_gene_id_to_length, \\\n",
    " ensemble_gene_id_to_version, ensemble_gene_id_to_biotype = parse_gtf('data/Homo_sapiens.GRCh38.113.gtf')"
   ],
   "outputs": [],
   "execution_count": 6
  },
  {
   "cell_type": "code",
   "id": "af8740c8-958a-43fb-aab5-9ffaf9ea1bfc",
   "metadata": {
    "ExecuteTime": {
     "end_time": "2025-05-02T09:58:54.049480Z",
     "start_time": "2025-05-02T09:58:54.000025Z"
    }
   },
   "source": [
    "print(len(ensemble_gene_id_to_hgnc.keys()))\n",
    "print(len(ensemble_gene_id_to_biotype))\n",
    "print(len(data_ensemble_genes))\n",
    "print(len(set(ensemble_gene_id_to_hgnc.keys()) - set(data_ensemble_genes)))\n",
    "print(len(set(data_ensemble_genes) - set(ensemble_gene_id_to_hgnc.keys())))\n",
    "\n",
    "ensemble_genes_common = list(set(data_ensemble_genes).intersection(ensemble_gene_id_to_hgnc.keys()))\n",
    "len(ensemble_genes_common)"
   ],
   "outputs": [
    {
     "name": "stdout",
     "output_type": "stream",
     "text": [
      "42745\n",
      "42745\n",
      "58735\n",
      "597\n",
      "16587\n"
     ]
    },
    {
     "data": {
      "text/plain": [
       "42148"
      ]
     },
     "execution_count": 7,
     "metadata": {},
     "output_type": "execute_result"
    }
   ],
   "execution_count": 7
  },
  {
   "cell_type": "code",
   "id": "d063a795-f897-4c0a-8a6b-05f0a7e5fa5d",
   "metadata": {
    "ExecuteTime": {
     "end_time": "2025-05-02T09:58:54.372113Z",
     "start_time": "2025-05-02T09:58:54.242356Z"
    }
   },
   "source": [
    "from collections import Counter\n",
    "\n",
    "cnt = Counter()\n",
    "hgnc_to_ensemble_set = dict()\n",
    "# for key in ensemble_gene_id_to_hgnc:\n",
    "for key in ensemble_genes_common:\n",
    "    hgnc = ensemble_gene_id_to_hgnc[key]\n",
    "    cnt[hgnc] += 1\n",
    "    if cnt[hgnc] == 1:\n",
    "        hgnc_to_ensemble_set[hgnc] = {key}\n",
    "    else:\n",
    "        hgnc_to_ensemble_set[hgnc].add(key)\n"
   ],
   "outputs": [],
   "execution_count": 8
  },
  {
   "cell_type": "code",
   "id": "dad76ab0-a335-487e-9351-828e5063f524",
   "metadata": {
    "ExecuteTime": {
     "end_time": "2025-05-02T09:58:54.809945Z",
     "start_time": "2025-05-02T09:58:54.784910Z"
    }
   },
   "source": [
    "parsed_hgncs = set(hgnc_to_ensemble_set.keys())\n",
    "bg_hgncs = set(open('data/gene_lists/gnames.txt').read().strip().split())\n",
    "\n",
    "print('Excess genes compared to BG list: ', len(parsed_hgncs - bg_hgncs))\n",
    "print('Missing genes from BG list: ', len(bg_hgncs - parsed_hgncs))\n",
    "\n",
    "common_hgncs = parsed_hgncs.intersection(bg_hgncs)\n",
    "print('Common genes: ', len(common_hgncs))"
   ],
   "outputs": [
    {
     "name": "stdout",
     "output_type": "stream",
     "text": [
      "Excess genes compared to BG list:  22540\n",
      "Missing genes from BG list:  1657\n",
      "Common genes:  18405\n"
     ]
    }
   ],
   "execution_count": 9
  },
  {
   "cell_type": "code",
   "id": "2a2615cf-4b1e-4c59-90e1-264d4123a8af",
   "metadata": {
    "ExecuteTime": {
     "end_time": "2025-05-02T09:58:55.277770Z",
     "start_time": "2025-05-02T09:58:55.259123Z"
    }
   },
   "source": [
    "for key in common_hgncs:\n",
    "    if len(hgnc_to_ensemble_set[key]) > 1 and key is not None:\n",
    "        print(key)\n",
    "        print([(egene, ensemble_gene_id_to_length[egene], ensemble_gene_id_to_biotype[egene], ensemble_gene_id_to_version[egene]) for egene in hgnc_to_ensemble_set[key]])"
   ],
   "outputs": [
    {
     "name": "stdout",
     "output_type": "stream",
     "text": [
      "C4orf36\n",
      "[('ENSG00000285458', 3014, 'protein_coding', '1'), ('ENSG00000163633', 4881, 'protein_coding', '12')]\n",
      "PDE8B\n",
      "[('ENSG00000113231', 21876, 'protein_coding', '14'), ('ENSG00000284762', 3397, 'protein_coding', '1')]\n",
      "MATR3\n",
      "[('ENSG00000015479', 41180, 'protein_coding', '20'), ('ENSG00000280987', 23097, 'protein_coding', '4')]\n",
      "ELFN2\n",
      "[('ENSG00000243902', 5718, 'lncRNA', '7'), ('ENSG00000166897', 11037, 'protein_coding', '16')]\n",
      "SPATA13\n",
      "[('ENSG00000182957', 41488, 'protein_coding', '16'), ('ENSG00000228741', 1721, 'lncRNA', '2')]\n",
      "SFTA3\n",
      "[('ENSG00000257520', 2780, 'protein_coding', '2'), ('ENSG00000229415', 12669, 'lncRNA', '11')]\n",
      "GOLGA8M\n",
      "[('ENSG00000188626', 5932, 'protein_coding', '7'), ('ENSG00000261480', 557, 'lncRNA', '1')]\n",
      "PINX1\n",
      "[('ENSG00000254093', 6770, 'protein_coding', '9'), ('ENSG00000258724', 1753, 'protein_coding', '1')]\n",
      "PDE4C\n",
      "[('ENSG00000285188', 5979, 'protein_coding', '1'), ('ENSG00000105650', 27984, 'protein_coding', '23')]\n",
      "SIGLEC5\n",
      "[('ENSG00000105501', 553, 'lncRNA', '13'), ('ENSG00000268500', 5713, 'protein_coding', '8')]\n",
      "POLR2J3\n",
      "[('ENSG00000168255', 14603, 'protein_coding', '20'), ('ENSG00000285437', 10662, 'protein_coding', '2')]\n"
     ]
    }
   ],
   "execution_count": 10
  },
  {
   "cell_type": "code",
   "id": "5b2f8712-f96a-4b8a-a224-023a8b02c627",
   "metadata": {
    "ExecuteTime": {
     "end_time": "2025-05-02T09:58:56.951987Z",
     "start_time": "2025-05-02T09:58:55.727604Z"
    }
   },
   "source": [
    "def process_columns(df, shrink_to_bg=False):\n",
    "    print('Initial df cols: ', len(df.columns))\n",
    "    df = df.drop(columns=list(set(df.columns) - set(ensemble_gene_id_to_hgnc.keys())))\n",
    "    print('After dropping cols not annotated with HGNC name in GTF: ', len(df.columns))\n",
    "    \n",
    "    renamer = dict()\n",
    "    for egene in ensemble_gene_id_to_hgnc:\n",
    "        if ensemble_gene_id_to_biotype[egene] == 'protein_coding':\n",
    "            renamer[egene] = ensemble_gene_id_to_hgnc[egene]\n",
    "\n",
    "    df = df.rename(columns=renamer)\n",
    "    df = df.drop(columns=[col for col in df.columns if col.startswith('ENSG')])\n",
    "    \n",
    "    print('After renaming to HGNC (and deleting non-protein coding egenes): ', len(df.columns))\n",
    "\n",
    "    if shrink_to_bg:\n",
    "        df = df[list(common_hgncs.intersection(df.columns))]\n",
    "        print('After shrinking to BG HGNCs that are in the table: ', len(df.columns))\n",
    "    \n",
    "    mask = df.columns.duplicated()\n",
    "    for i in range(len(mask)):\n",
    "        if mask[i]:\n",
    "            j = 0\n",
    "            while df.columns[j] != df.columns[i]:\n",
    "                j += 1\n",
    "            df[df.columns[j]] += df[df.columns[i]]\n",
    "\n",
    "    df = df.loc[:,~df.columns.duplicated()]\n",
    "\n",
    "    print('After summing columns with the same HGNC name: ', len(df.columns))\n",
    "\n",
    "    return df\n",
    "\n",
    "raw_counts_df = process_columns(raw_counts_df)\n",
    "fpkms_df = process_columns(fpkms_df)\n",
    "tpms_df = process_columns(tpms_df)"
   ],
   "outputs": [
    {
     "name": "stdout",
     "output_type": "stream",
     "text": [
      "Initial df cols:  58735\n",
      "After dropping cols not annotated with HGNC name in GTF:  42148\n",
      "After renaming to HGNC (and deleting non-protein coding egenes):  19394\n",
      "After summing columns with the same HGNC name:  19388\n",
      "Initial df cols:  58735\n",
      "After dropping cols not annotated with HGNC name in GTF:  42148\n",
      "After renaming to HGNC (and deleting non-protein coding egenes):  19394\n",
      "After summing columns with the same HGNC name:  19388\n",
      "Initial df cols:  58735\n",
      "After dropping cols not annotated with HGNC name in GTF:  42148\n",
      "After renaming to HGNC (and deleting non-protein coding egenes):  19394\n",
      "After summing columns with the same HGNC name:  19388\n"
     ]
    }
   ],
   "execution_count": 11
  },
  {
   "cell_type": "code",
   "id": "e85ca1ad",
   "metadata": {
    "ExecuteTime": {
     "end_time": "2025-05-02T09:58:57.445583Z",
     "start_time": "2025-05-02T09:58:57.358013Z"
    }
   },
   "source": [
    "print(tpms_df.sum(axis=1))\n",
    "tpms_df = tpms_df.T.div(tpms_df.sum(axis=1)).T * 10 ** 6\n",
    "print(tpms_df.sum(axis=1))"
   ],
   "outputs": [
    {
     "name": "stdout",
     "output_type": "stream",
     "text": [
      "18R176_0020    299464.863171\n",
      "18R177_0021    572690.867613\n",
      "18R178_0022    588543.720858\n",
      "18R296_0008    400006.551821\n",
      "18R301_0002    361552.019798\n",
      "                   ...      \n",
      "18R309_0015    687089.826225\n",
      "18R310_0016    334029.803449\n",
      "18R311_0018    509640.971874\n",
      "18R318_0005    257000.331800\n",
      "18R319_0014    286719.825996\n",
      "Length: 113, dtype: float64\n",
      "18R176_0020    1000000.0\n",
      "18R177_0021    1000000.0\n",
      "18R178_0022    1000000.0\n",
      "18R296_0008    1000000.0\n",
      "18R301_0002    1000000.0\n",
      "                 ...    \n",
      "18R309_0015    1000000.0\n",
      "18R310_0016    1000000.0\n",
      "18R311_0018    1000000.0\n",
      "18R318_0005    1000000.0\n",
      "18R319_0014    1000000.0\n",
      "Length: 113, dtype: float64\n"
     ]
    }
   ],
   "execution_count": 12
  },
  {
   "cell_type": "code",
   "id": "ca09fb03-d36c-4afa-a70d-69d9b1ea24b6",
   "metadata": {
    "ExecuteTime": {
     "end_time": "2025-05-02T09:59:06.384859Z",
     "start_time": "2025-05-02T09:58:57.839607Z"
    }
   },
   "source": [
    "log_tpms_df = tpms_df.apply(lambda x: np.log2(1 + x))\n",
    "plt.figure(figsize=(16, 9))\n",
    "sns.histplot(log_tpms_df.iloc[1])"
   ],
   "outputs": [
    {
     "data": {
      "text/plain": [
       "<Axes: xlabel='18R177_0021', ylabel='Count'>"
      ]
     },
     "execution_count": 13,
     "metadata": {},
     "output_type": "execute_result"
    },
    {
     "data": {
      "text/plain": [
       "<Figure size 1600x900 with 1 Axes>"
      ],
      "image/png": "[encoded data removed]"
     },
     "metadata": {},
     "output_type": "display_data"
    }
   ],
   "execution_count": 13
  },
  {
   "cell_type": "code",
   "id": "0553eb35-6a2a-46cd-b0ae-55f11f70a88e",
   "metadata": {
    "ExecuteTime": {
     "end_time": "2025-05-02T09:59:07.251841Z",
     "start_time": "2025-05-02T09:59:06.789218Z"
    }
   },
   "source": [
    "plt.figure(figsize=(16, 9))\n",
    "sns.histplot(log_tpms_df.mean())"
   ],
   "outputs": [
    {
     "data": {
      "text/plain": [
       "<Axes: ylabel='Count'>"
      ]
     },
     "execution_count": 14,
     "metadata": {},
     "output_type": "execute_result"
    },
    {
     "data": {
      "text/plain": [
       "<Figure size 1600x900 with 1 Axes>"
      ],
      "image/png": "[encoded data removed]"
     },
     "metadata": {},
     "output_type": "display_data"
    }
   ],
   "execution_count": 14
  },
  {
   "metadata": {
    "ExecuteTime": {
     "end_time": "2025-05-02T09:59:07.739644Z",
     "start_time": "2025-05-02T09:59:07.675418Z"
    }
   },
   "cell_type": "code",
   "source": [
    "import pandas as pd\n",
    "\n",
    "def extend_id(id):\n",
    "    fp, sp = id.split('_')\n",
    "    while len(sp) < 4:\n",
    "        sp = '0' + sp\n",
    "    return fp + '_' + sp\n",
    "\n",
    "# Load annotation\n",
    "ann = pd.read_csv(\"data/useful_ann_no_metastases_maxim.csv\")\n",
    "\n",
    "log_tpms_df['sample_id'] = log_tpms_df.index\n",
    "log_tpms_df.loc[:,'sample_id'] = log_tpms_df['sample_id'].apply(extend_id)\n",
    "merged = log_tpms_df.merge(ann, on='sample_id', how='inner')\n",
    "log_tpms_df = merged[log_tpms_df.columns]\n",
    "print(log_tpms_df)"
   ],
   "id": "6c6a6f495783575e",
   "outputs": [
    {
     "name": "stdout",
     "output_type": "stream",
     "text": [
      "      TSPAN6      TNMD      DPM1     SCYL3     FIRRM       FGR       CFH  \\\n",
      "0   6.316215  0.896452  9.221124  2.541121  4.224788  2.676499  5.378327   \n",
      "1   5.672374  0.000000  7.893859  3.436497  4.016985  1.061024  5.464971   \n",
      "2   5.674291  0.360345  8.864981  3.459952  5.127833  1.333578  5.479336   \n",
      "3   7.606478  0.502548  8.949938  2.945925  3.997846  2.127446  5.718449   \n",
      "4   6.804048  2.781194  8.366144  2.738390  4.675337  1.072083  5.625562   \n",
      "..       ...       ...       ...       ...       ...       ...       ...   \n",
      "80  5.826797  0.245345  8.543566  3.406724  4.605106  1.638539  5.373508   \n",
      "81  6.010276  1.360005  9.144012  2.642160  4.045131  1.411634  5.899354   \n",
      "82  7.224287  0.493080  9.016678  2.605669  4.270374  2.048614  6.498189   \n",
      "83  4.231267  0.000000  8.674503  3.044790  5.025915  1.606929  5.103568   \n",
      "84  6.236280  0.696230  8.763755  2.980564  4.958362  2.231243  6.598009   \n",
      "\n",
      "       FUCA2      GCLC      NFYA  ...  FAM90A23  FAM90A14  GET1-SH3BGR  \\\n",
      "0   5.165704  6.966770  3.626792  ...  0.000000  0.000000     0.000000   \n",
      "1   5.005462  6.616661  4.511973  ...  0.149639  0.000000     1.449737   \n",
      "2   5.518125  6.684637  4.339141  ...  0.000000  0.000000     0.000000   \n",
      "3   5.033901  6.493254  4.272012  ...  0.000000  0.000000     1.070290   \n",
      "4   5.008174  6.897100  3.967913  ...  0.000000  0.000000     0.000000   \n",
      "..       ...       ...       ...  ...       ...       ...          ...   \n",
      "80  5.002043  6.725416  3.989550  ...  0.000000  0.000000     2.528763   \n",
      "81  4.646930  6.749096  5.013906  ...  0.000000  0.000000     0.000000   \n",
      "82  5.551379  6.817707  4.143490  ...  0.000000  0.656778     0.000000   \n",
      "83  5.394718  8.059738  4.181427  ...  0.000000  0.000000     0.147310   \n",
      "84  5.732718  7.126612  5.016946  ...  0.000000  0.000000     1.250428   \n",
      "\n",
      "    MSANTD5  FAM90A18  FAM90A8  LCE7A  FAM90A10  FAM90A7    sample_id  \n",
      "0       0.0       0.0      0.0    0.0       0.0      0.0  18R176_0020  \n",
      "1       0.0       0.0      0.0    0.0       0.0      0.0  18R177_0021  \n",
      "2       0.0       0.0      0.0    0.0       0.0      0.0  18R178_0022  \n",
      "3       0.0       0.0      0.0    0.0       0.0      0.0  18R296_0008  \n",
      "4       0.0       0.0      0.0    0.0       0.0      0.0  18R301_0002  \n",
      "..      ...       ...      ...    ...       ...      ...          ...  \n",
      "80      0.0       0.0      0.0    0.0       0.0      0.0  18R299_0025  \n",
      "81      0.0       0.0      0.0    0.0       0.0      0.0  18R300_0027  \n",
      "82      0.0       0.0      0.0    0.0       0.0      0.0  18R302_0004  \n",
      "83      0.0       0.0      0.0    0.0       0.0      0.0  18R307_0013  \n",
      "84      0.0       0.0      0.0    0.0       0.0      0.0  18R319_0014  \n",
      "\n",
      "[85 rows x 19389 columns]\n"
     ]
    }
   ],
   "execution_count": 15
  },
  {
   "metadata": {
    "ExecuteTime": {
     "end_time": "2025-05-02T09:59:11.694800Z",
     "start_time": "2025-05-02T09:59:08.179129Z"
    }
   },
   "cell_type": "code",
   "source": "log_tpms_df.to_csv('data/log_tpms_from_fpkm_hgnc_no_metastases_maxim.csv')",
   "id": "4a8fec5b-7d86-4ad2-95ec-a1b0f0cb529d",
   "outputs": [],
   "execution_count": 16
  }
 ],
 "metadata": {
  "kernelspec": {
   "display_name": "Python 3 (ipykernel)",
   "language": "python",
   "name": "python3"
  },
  "language_info": {
   "codemirror_mode": {
    "name": "ipython",
    "version": 3
   },
   "file_extension": ".py",
   "mimetype": "text/x-python",
   "name": "python",
   "nbconvert_exporter": "python",
   "pygments_lexer": "ipython3",
   "version": "3.12.0"
  }
 },
 "nbformat": 4,
 "nbformat_minor": 5
}
