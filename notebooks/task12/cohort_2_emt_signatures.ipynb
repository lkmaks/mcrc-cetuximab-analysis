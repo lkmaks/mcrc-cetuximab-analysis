{
 "cells": [
  {
   "metadata": {
    "ExecuteTime": {
     "end_time": "2025-05-12T06:57:23.638779Z",
     "start_time": "2025-05-12T06:57:23.455841Z"
    }
   },
   "cell_type": "code",
   "source": [
    "import os\n",
    "\n",
    "import pandas as pd\n",
    "from scipy import stats\n",
    "import matplotlib.pyplot as plt\n",
    "import seaborn as sns\n",
    "import numpy as np\n",
    "import gseapy as gp\n",
    "from notebooks.tasks58.plots import plot_correlations, all_negative, all_positive\n",
    "from notebooks.tasks58.scaling import median_scaling\n",
    "\n",
    "import os\n",
    "\n",
    "while os.getcwd()[-len('mcrc-cetuximab-analysis'):] != 'mcrc-cetuximab-analysis':\n",
    "    os.chdir('..')\n",
    "os.getcwd() "
   ],
   "id": "1623c4d861d6df16",
   "outputs": [
    {
     "data": {
      "text/plain": [
       "'/home/max/mcrc-cetuximab-analysis'"
      ]
     },
     "execution_count": 2,
     "metadata": {},
     "output_type": "execute_result"
    }
   ],
   "execution_count": 2
  },
  {
   "metadata": {
    "ExecuteTime": {
     "end_time": "2025-05-12T06:59:34.053748Z",
     "start_time": "2025-05-12T06:59:31.358714Z"
    }
   },
   "cell_type": "code",
   "source": [
    "tpms = pd.read_csv('raw/exprs_PRJNA805525.csv', index_col=0)\n",
    "ann = pd.read_csv('raw/ann_PRJNA805525.csv', index_col=0)"
   ],
   "id": "b21d3c86aa7e05ee",
   "outputs": [],
   "execution_count": 7
  },
  {
   "metadata": {
    "collapsed": true
   },
   "cell_type": "code",
   "outputs": [],
   "execution_count": null,
   "source": [
    "\n",
    "log_tpms_with_emt_signatures = log_tpms.copy()\n",
    "\n",
    "ssgsea_results = gp.ssgsea(data=log_tpms.T,\n",
    "                           gene_sets=emt_gene_lists,\n",
    "                           outdir=None,\n",
    "                           sample_norm_method='rank',\n",
    "                           permutation_num=0,\n",
    "                           no_plot=True,\n",
    "                           min_size=0)\n",
    "\n",
    "ssgsea_df = ssgsea_results.res2d.rename(columns={'Name': 'sample_id'})\n",
    "\n",
    "for signature in emt_gene_lists:\n",
    "    add = ssgsea_df.loc[ssgsea_df['Term'] == signature, ['sample_id', 'ES']]\n",
    "    log_tpms_with_emt_signatures = log_tpms_with_emt_signatures.merge(add, left_index=True, right_on='sample_id').rename(columns={'ES': signature}).set_index('sample_id').astype({signature: np.float64})\n",
    "\n",
    "print(log_tpms_with_emt_signatures.isna().sum().max())\n",
    "\n",
    "log_tpms_with_emt_signatures_with_ann = log_tpms_with_emt_signatures.merge(ann, left_index=True, right_index=True)\n",
    "\n",
    "df_post = log_tpms_with_emt_signatures_with_ann[log_tpms_with_emt_signatures_with_ann['time point'] == 'post-treatment']\n",
    "df_pre = log_tpms_with_emt_signatures_with_ann[log_tpms_with_emt_signatures_with_ann['time point'] == 'pre-treatment']\n",
    "\n",
    "# Scale separetely\n",
    "for i, signature in enumerate(emt_gene_lists):\n",
    "    df_pre[signature + '_rank'] = df_pre[signature].rank(ascending=False)\n",
    "    df_pre[signature + '_med'] = median_scaling(df_pre[signature])\n",
    "    df_post[signature + '_rank'] = df_post[signature].rank(ascending=False)\n",
    "    df_post[signature + '_med'] = median_scaling(df_post[signature])\n",
    "\n",
    "df_pre_pd = df_pre[df_pre['treatment response'] == 'PD']\n",
    "df_pre_npd = df_pre[df_pre['treatment response'] == 'non-PD']\n",
    "df_post_pd = df_post[df_post['treatment response'] == 'PD']\n",
    "df_post_npd = df_post[df_post['treatment response'] == 'non-PD']\n",
    "\n",
    "df_pre.to_csv('data/pre_ssgsea_expr_ann.csv')\n",
    "df_post.to_csv('data/post_ssgsea_expr_ann.csv')"
   ],
   "id": "initial_id"
  }
 ],
 "metadata": {
  "kernelspec": {
   "display_name": "Python 3",
   "language": "python",
   "name": "python3"
  },
  "language_info": {
   "codemirror_mode": {
    "name": "ipython",
    "version": 2
   },
   "file_extension": ".py",
   "mimetype": "text/x-python",
   "name": "python",
   "nbconvert_exporter": "python",
   "pygments_lexer": "ipython2",
   "version": "2.7.6"
  }
 },
 "nbformat": 4,
 "nbformat_minor": 5
}
