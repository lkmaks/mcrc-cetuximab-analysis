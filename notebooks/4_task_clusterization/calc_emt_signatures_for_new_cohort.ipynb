{
 "cells": [
  {
   "metadata": {
    "ExecuteTime": {
     "end_time": "2025-05-22T06:21:45.861763Z",
     "start_time": "2025-05-22T06:21:45.850343Z"
    }
   },
   "cell_type": "code",
   "source": [
    "import os\n",
    "\n",
    "while os.getcwd()[-len('mcrc-cetuximab-analysis'):] != 'mcrc-cetuximab-analysis':\n",
    "    os.chdir('..')\n",
    "os.getcwd() "
   ],
   "id": "d0551c30d170c340",
   "outputs": [
    {
     "data": {
      "text/plain": [
       "'/home/max/mcrc-cetuximab-analysis'"
      ]
     },
     "execution_count": 1,
     "metadata": {},
     "output_type": "execute_result"
    }
   ],
   "execution_count": 1
  },
  {
   "metadata": {
    "collapsed": true,
    "ExecuteTime": {
     "end_time": "2025-05-22T06:21:46.189445Z",
     "start_time": "2025-05-22T06:21:45.996310Z"
    }
   },
   "cell_type": "code",
   "source": [
    "import pandas as pd\n",
    "import numpy as np\n",
    "import gseapy as gp\n",
    "from src.scaling import median_scaling\n",
    "\n"
   ],
   "id": "initial_id",
   "outputs": [],
   "execution_count": 2
  },
  {
   "metadata": {
    "ExecuteTime": {
     "end_time": "2025-05-22T06:21:46.391499Z",
     "start_time": "2025-05-22T06:21:46.380237Z"
    }
   },
   "cell_type": "code",
   "source": [
    "def parse_emt_signatures():\n",
    "    def parse_emt(file):\n",
    "        res = []\n",
    "        \n",
    "        if 'emt_bg' in file:\n",
    "            for gene in open(file, 'r').read().split():\\\n",
    "                res.append(gene)\n",
    "        else:\n",
    "            for line in open(file, 'r').readlines():\n",
    "                if not line.startswith('(') and not line.startswith('GO') and not line.startswith('Gene'):\n",
    "                    res.append(line.split()[0])\n",
    "        \n",
    "        return res\n",
    "    \n",
    "    emt_raw_files = ['raw/' + file for file in os.listdir('raw') if file.startswith('emt')]\n",
    "    emt_gene_lists = {'EMT_SIGNATURE_' + file[file.find('/') + 1:file.find('.')]: parse_emt(file) for file in emt_raw_files}\n",
    "    \n",
    "    return emt_gene_lists\n",
    "\n",
    "def compute_ssgsea_on_signatures(log_tpm, signatures):\n",
    "    ssgsea_results = gp.ssgsea(data=log_tpm.T,\n",
    "                           gene_sets=signatures,\n",
    "                           outdir=None,\n",
    "                           sample_norm_method='rank',\n",
    "                           permutation_num=0,\n",
    "                           no_plot=True,\n",
    "                           min_size=0)\n",
    "\n",
    "    ssgsea_df = ssgsea_results.res2d.rename(columns={'Name': 'sample_id'})\n",
    "    \n",
    "    log_tpm_with_signatures = log_tpm.copy()\n",
    "    \n",
    "    for signature in signatures:\n",
    "        add = ssgsea_df.loc[ssgsea_df['Term'] == signature, ['sample_id', 'ES']]\n",
    "        log_tpm_with_signatures = log_tpm_with_signatures.merge(add, left_index=True,\n",
    "                                                                          right_on='sample_id').rename(\n",
    "            columns={'ES': signature}).set_index('sample_id').astype({signature: np.float64})\n",
    "    \n",
    "    # Scale separetely\n",
    "    for i, signature in enumerate(signatures):\n",
    "        log_tpm_with_signatures[signature + '_med'] = median_scaling(log_tpm_with_signatures[signature])\n",
    "\n",
    "    return log_tpm_with_signatures\n"
   ],
   "id": "570ada39268d1f67",
   "outputs": [],
   "execution_count": 3
  },
  {
   "metadata": {
    "ExecuteTime": {
     "end_time": "2025-05-22T06:22:18.786641Z",
     "start_time": "2025-05-22T06:21:46.425348Z"
    }
   },
   "cell_type": "code",
   "source": [
    "emt_signatures = parse_emt_signatures()\n",
    "\n",
    "log_tpm = pd.read_csv('raw/exprs_PRJNA805525.csv', index_col=0)\n",
    "ann = pd.read_csv('raw/ann_PRJNA805525.csv', index_col=0)\n",
    "df = compute_ssgsea_on_signatures(log_tpm, emt_signatures)"
   ],
   "id": "46ef5a2926d75df9",
   "outputs": [
    {
     "name": "stderr",
     "output_type": "stream",
     "text": [
      "/tmp/ipykernel_5466/4225916819.py:41: PerformanceWarning: DataFrame is highly fragmented.  This is usually the result of calling `frame.insert` many times, which has poor performance.  Consider joining all columns at once using pd.concat(axis=1) instead. To get a de-fragmented frame, use `newframe = frame.copy()`\n",
      "  log_tpm_with_signatures[signature + '_med'] = median_scaling(log_tpm_with_signatures[signature])\n",
      "/tmp/ipykernel_5466/4225916819.py:41: PerformanceWarning: DataFrame is highly fragmented.  This is usually the result of calling `frame.insert` many times, which has poor performance.  Consider joining all columns at once using pd.concat(axis=1) instead. To get a de-fragmented frame, use `newframe = frame.copy()`\n",
      "  log_tpm_with_signatures[signature + '_med'] = median_scaling(log_tpm_with_signatures[signature])\n",
      "/tmp/ipykernel_5466/4225916819.py:41: PerformanceWarning: DataFrame is highly fragmented.  This is usually the result of calling `frame.insert` many times, which has poor performance.  Consider joining all columns at once using pd.concat(axis=1) instead. To get a de-fragmented frame, use `newframe = frame.copy()`\n",
      "  log_tpm_with_signatures[signature + '_med'] = median_scaling(log_tpm_with_signatures[signature])\n",
      "/tmp/ipykernel_5466/4225916819.py:41: PerformanceWarning: DataFrame is highly fragmented.  This is usually the result of calling `frame.insert` many times, which has poor performance.  Consider joining all columns at once using pd.concat(axis=1) instead. To get a de-fragmented frame, use `newframe = frame.copy()`\n",
      "  log_tpm_with_signatures[signature + '_med'] = median_scaling(log_tpm_with_signatures[signature])\n",
      "/tmp/ipykernel_5466/4225916819.py:41: PerformanceWarning: DataFrame is highly fragmented.  This is usually the result of calling `frame.insert` many times, which has poor performance.  Consider joining all columns at once using pd.concat(axis=1) instead. To get a de-fragmented frame, use `newframe = frame.copy()`\n",
      "  log_tpm_with_signatures[signature + '_med'] = median_scaling(log_tpm_with_signatures[signature])\n",
      "/tmp/ipykernel_5466/4225916819.py:41: PerformanceWarning: DataFrame is highly fragmented.  This is usually the result of calling `frame.insert` many times, which has poor performance.  Consider joining all columns at once using pd.concat(axis=1) instead. To get a de-fragmented frame, use `newframe = frame.copy()`\n",
      "  log_tpm_with_signatures[signature + '_med'] = median_scaling(log_tpm_with_signatures[signature])\n"
     ]
    }
   ],
   "execution_count": 4
  },
  {
   "metadata": {
    "ExecuteTime": {
     "end_time": "2025-05-22T06:22:19.011279Z",
     "start_time": "2025-05-22T06:22:18.923657Z"
    }
   },
   "cell_type": "code",
   "source": "print(df)",
   "id": "d50163b4d02460f1",
   "outputs": [
    {
     "name": "stdout",
     "output_type": "stream",
     "text": [
      "                A1BG      A1CF       A2M     A2ML1   A3GALT2    A4GALT  \\\n",
      "sample_id                                                                \n",
      "GSM5889737  1.559915  4.850911  7.942278  0.638897  0.066639  2.698472   \n",
      "GSM5889743  1.450136  3.875473  9.015265  2.489116  0.985855  5.120251   \n",
      "GSM5889750  0.338123  4.927891  6.760120  0.382481  0.185159  3.395341   \n",
      "GSM5889757  1.332154  4.730954  8.116149  0.873677  0.402757  3.661071   \n",
      "GSM5889760  1.710781  5.000614  7.758387  0.502044  0.160701  1.917028   \n",
      "...              ...       ...       ...       ...       ...       ...   \n",
      "GSM5890186  1.090007  3.646969  7.747969  0.480760  0.058289  3.338732   \n",
      "GSM5890205  1.500115  4.897984  8.066126  0.819012  0.193333  3.702913   \n",
      "GSM5890210  1.462713  1.528432  7.231812  0.849680  0.054286  2.787786   \n",
      "GSM5890228  1.211073  4.067158  7.702073  0.515349  0.212306  3.700164   \n",
      "GSM5890257  1.889419  4.090588  7.690994  0.495112  0.317136  4.060411   \n",
      "\n",
      "               A4GNT      AAAS      AACS     AADAC  ...  \\\n",
      "sample_id                                           ...   \n",
      "GSM5889737  0.000000  5.983667  3.821731  0.720977  ...   \n",
      "GSM5889743  0.615442  5.405465  2.643677  3.574887  ...   \n",
      "GSM5889750  0.290712  6.678408  4.518084  0.096682  ...   \n",
      "GSM5889757  0.764685  5.607837  4.104570  0.218155  ...   \n",
      "GSM5889760  0.398059  5.692843  3.952977  0.706320  ...   \n",
      "...              ...       ...       ...       ...  ...   \n",
      "GSM5890186  0.255305  5.766458  2.954193  2.901467  ...   \n",
      "GSM5890205  0.476834  5.888172  3.808645  1.107380  ...   \n",
      "GSM5890210  0.628665  5.209768  2.957613  1.449389  ...   \n",
      "GSM5890228  0.040882  5.592939  3.730546  0.522812  ...   \n",
      "GSM5890257  0.027412  5.882398  3.448234  0.346807  ...   \n",
      "\n",
      "            EMT_SIGNATURE_emt_budinska  EMT_SIGNATURE_emt_joyce  \\\n",
      "sample_id                                                         \n",
      "GSM5889737                 4577.668241              4978.174329   \n",
      "GSM5889743                 5935.991770              5006.876068   \n",
      "GSM5889750                 3840.194134              5324.086121   \n",
      "GSM5889757                 4841.705651              4829.640643   \n",
      "GSM5889760                 5319.326524              5016.167591   \n",
      "...                                ...                      ...   \n",
      "GSM5890186                 5762.498605              5372.718652   \n",
      "GSM5890205                 4318.923131              5313.425952   \n",
      "GSM5890210                 4409.471234              4901.318921   \n",
      "GSM5890228                 4667.022448              5041.819149   \n",
      "GSM5890257                 5357.229599              5399.307258   \n",
      "\n",
      "            EMT_SIGNATURE_emt_moor  EMT_SIGNATURE_emt_schell  \\\n",
      "sample_id                                                      \n",
      "GSM5889737             3414.899293               3656.751094   \n",
      "GSM5889743             3901.252375               2768.287277   \n",
      "GSM5889750             5023.074115               4056.592089   \n",
      "GSM5889757             3077.504987               3955.595760   \n",
      "GSM5889760             4495.390566               2987.809642   \n",
      "...                            ...                       ...   \n",
      "GSM5890186             4471.860923               2863.719944   \n",
      "GSM5890205             3906.261185               3775.553577   \n",
      "GSM5890210             5058.088296               2786.883316   \n",
      "GSM5890228             3354.534197               3767.332925   \n",
      "GSM5890257             5054.340810               1064.473183   \n",
      "\n",
      "            EMT_SIGNATURE_emt_bg_med  EMT_SIGNATURE_emt_pitts_med  \\\n",
      "sample_id                                                           \n",
      "GSM5889737                 -0.048852                    -0.485754   \n",
      "GSM5889743                  1.534625                     0.241213   \n",
      "GSM5889750                 -0.446148                    -0.099185   \n",
      "GSM5889757                 -0.016297                     0.039458   \n",
      "GSM5889760                  1.473932                     0.720144   \n",
      "...                              ...                          ...   \n",
      "GSM5890186                  2.167730                     0.619090   \n",
      "GSM5890205                 -0.449197                    -0.592574   \n",
      "GSM5890210                 -0.074963                    -0.294013   \n",
      "GSM5890228                  0.110829                     1.737210   \n",
      "GSM5890257                  0.055975                    -0.624464   \n",
      "\n",
      "            EMT_SIGNATURE_emt_budinska_med  EMT_SIGNATURE_emt_joyce_med  \\\n",
      "sample_id                                                                 \n",
      "GSM5889737                       -0.051382                     0.021896   \n",
      "GSM5889743                        1.213392                     0.108270   \n",
      "GSM5889750                       -0.738066                     1.062876   \n",
      "GSM5889757                        0.194471                    -0.425098   \n",
      "GSM5889760                        0.639197                     0.136232   \n",
      "...                                    ...                          ...   \n",
      "GSM5890186                        1.051847                     1.209229   \n",
      "GSM5890205                       -0.292307                     1.030795   \n",
      "GSM5890210                       -0.207995                    -0.209391   \n",
      "GSM5890228                        0.031818                     0.213427   \n",
      "GSM5890257                        0.674490                     1.289244   \n",
      "\n",
      "            EMT_SIGNATURE_emt_moor_med  EMT_SIGNATURE_emt_schell_med  \n",
      "sample_id                                                             \n",
      "GSM5889737                   -0.860346                      0.211091  \n",
      "GSM5889743                   -0.117139                     -1.098465  \n",
      "GSM5889750                    1.597142                      0.800439  \n",
      "GSM5889757                   -1.375926                      0.651575  \n",
      "GSM5889760                    0.790777                     -0.774898  \n",
      "...                                ...                           ...  \n",
      "GSM5890186                    0.754820                     -0.957801  \n",
      "GSM5890205                   -0.109485                      0.386201  \n",
      "GSM5890210                    1.650648                     -1.071055  \n",
      "GSM5890228                   -0.952592                      0.374084  \n",
      "GSM5890257                    1.644921                     -3.609811  \n",
      "\n",
      "[119 rows x 20074 columns]\n"
     ]
    }
   ],
   "execution_count": 5
  },
  {
   "metadata": {
    "ExecuteTime": {
     "end_time": "2025-05-22T06:22:51.842750Z",
     "start_time": "2025-05-22T06:22:19.138799Z"
    }
   },
   "cell_type": "code",
   "source": "df.to_csv('data/cohort_2_expr_emt_signatures.csv')",
   "id": "c6b9e91faa3285a6",
   "outputs": [],
   "execution_count": 6
  }
 ],
 "metadata": {
  "kernelspec": {
   "display_name": "Python 3",
   "language": "python",
   "name": "python3"
  },
  "language_info": {
   "codemirror_mode": {
    "name": "ipython",
    "version": 2
   },
   "file_extension": ".py",
   "mimetype": "text/x-python",
   "name": "python",
   "nbconvert_exporter": "python",
   "pygments_lexer": "ipython2",
   "version": "2.7.6"
  }
 },
 "nbformat": 4,
 "nbformat_minor": 5
}
